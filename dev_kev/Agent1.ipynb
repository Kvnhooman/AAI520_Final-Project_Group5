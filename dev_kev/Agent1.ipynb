{
 "cells": [
  {
   "cell_type": "markdown",
   "id": "d6809556",
   "metadata": {},
   "source": [
    "### Agent #1:\n",
    "##### Goal:\n",
    " a time series fetcher agent\n",
    "##### Output: \n",
    "\n",
    "Normalized df\n",
    "\n",
    "\n",
    "\n"
   ]
  },
  {
   "cell_type": "code",
   "execution_count": null,
   "id": "d687ea85",
   "metadata": {},
   "outputs": [],
   "source": [
    "# Required installs\n",
    "\n",
    "# !pip install yfinance"
   ]
  },
  {
   "cell_type": "code",
   "execution_count": 1,
   "id": "541dcdb4",
   "metadata": {},
   "outputs": [
    {
     "ename": "ModuleNotFoundError",
     "evalue": "No module named 'yfinance'",
     "output_type": "error",
     "traceback": [
      "\u001b[0;31m---------------------------------------------------------------------------\u001b[0m",
      "\u001b[0;31mModuleNotFoundError\u001b[0m                       Traceback (most recent call last)",
      "Cell \u001b[0;32mIn[1], line 4\u001b[0m\n\u001b[1;32m      2\u001b[0m \u001b[38;5;28;01mimport\u001b[39;00m \u001b[38;5;21;01mpandas\u001b[39;00m \u001b[38;5;28;01mas\u001b[39;00m \u001b[38;5;21;01mpd\u001b[39;00m\n\u001b[1;32m      3\u001b[0m \u001b[38;5;28;01mfrom\u001b[39;00m \u001b[38;5;21;01m__future__\u001b[39;00m \u001b[38;5;28;01mimport\u001b[39;00m annotations\n\u001b[0;32m----> 4\u001b[0m \u001b[38;5;28;01mimport\u001b[39;00m \u001b[38;5;21;01myfinance\u001b[39;00m \u001b[38;5;28;01mas\u001b[39;00m \u001b[38;5;21;01myf\u001b[39;00m\n",
      "\u001b[0;31mModuleNotFoundError\u001b[0m: No module named 'yfinance'"
     ]
    }
   ],
   "source": [
    "#Imports\n",
    "import pandas as pd\n",
    "from __future__ import annotations\n",
    "import yfinance as yf\n"
   ]
  },
  {
   "cell_type": "code",
   "execution_count": null,
   "id": "32b4ea85",
   "metadata": {},
   "outputs": [],
   "source": [
    "def fetch_prices_yf (symbol: str, period: str =\"1y\", interval: str = \"1d\") -> pd.DataFrame:\n",
    "    \"\"\"\n",
    "    Fetch OHLCV ('Open', 'High', 'Low', 'Close', 'Volume') time series from Yahoo Finance and return a normalized time series DataFrame.\n",
    "\n",
    "        symbol (str): Stock ticker symbol. (TSLA for Tesla, AAPL for Apple, etc.)\n",
    "        period (str): Data period to download (\"1y\" for 1 year)\n",
    "        interval (str): Data interval (e.g., \"1m\" for one month and \"1h\" for 1 hour).\n",
    "\n",
    "    \"\"\"\n",
    "    if not symbol or not isinstance(symbol,str):\n",
    "        raise ValueError(\"Invalid symbol. Please provide a valid, non-empty stock ticker symbol as a string.\")\n",
    "    \n",
    "    raw=yf.download(symbol, period=period, interval=interval , progress=False) # set progress to False to avoid printing download progress\n",
    "    if raw is None or raw.empty:\n",
    "        raise RuntimeError(f\"Failed to fetch data for symbol: {symbol}\")\n",
    "\n",
    "    #normalize coloumns and index\n",
    "    df = raw.reset_index()\n",
    "    df.columns = [c.lower().replace(\" \", \"_\") for c in df.columns]\n",
    "\n",
    "    ## Ensure timestamp is standardized\n",
    "    ts_col=\"Datetime\" if \"Datetime\" in df.columns else \"Date\"\n",
    "    df=df.rename(columns={ts_col:\"timestamp\"})\n",
    "    df[\"timestamp\"] = pd.to_datetime(df[\"timestamp\"], utc=True)\n",
    "\n",
    "    #Keep the relevant/expected columns only\n",
    "    keep= ['time stamp','open','high', 'low', 'close', 'adj_close', 'volume']\n",
    "    for k in keep:\n",
    "        if k not in df.columns:\n",
    "            df[k] =pd.NA\n",
    "    df['symbol']=symbol.upper()\n",
    "\n",
    "    #Sort + Drop Nulls\n",
    "    df=df[keep+['symbol']].sort_values('timestamp').dropna(subset=['close']).reset_index(drop=True)\n",
    "\n",
    "\n",
    "\n",
    "    return df"
   ]
  }
 ],
 "metadata": {
  "kernelspec": {
   "display_name": "Python 3",
   "language": "python",
   "name": "python3"
  },
  "language_info": {
   "codemirror_mode": {
    "name": "ipython",
    "version": 3
   },
   "file_extension": ".py",
   "mimetype": "text/x-python",
   "name": "python",
   "nbconvert_exporter": "python",
   "pygments_lexer": "ipython3",
   "version": "3.12.4"
  }
 },
 "nbformat": 4,
 "nbformat_minor": 5
}
