{
  "cells": [
    {
      "cell_type": "markdown",
      "metadata": {
        "id": "view-in-github",
        "colab_type": "text"
      },
      "source": [
        "<a href=\"https://colab.research.google.com/github/Kvnhooman/AAI520_Final-Project_Group5/blob/tommy-updated-text/Fina_Resear_Financial_AI_Assistant.ipynb\" target=\"_parent\"><img src=\"https://colab.research.google.com/assets/colab-badge.svg\" alt=\"Open In Colab\"/></a>"
      ]
    },
    {
      "cell_type": "markdown",
      "metadata": {
        "id": "z34tfGYWXK7X"
      },
      "source": [
        "\n",
        "## Group 5\n",
        "\n",
        "**AAI 520 - Final Project**\n",
        "\n",
        "Authors: Kevin Hooman, Spencer Cody, Tommy Poole\n",
        "\n",
        "Fall 2025\n",
        "\n"
      ]
    },
    {
      "cell_type": "markdown",
      "metadata": {
        "id": "pss-SJpmYEdY"
      },
      "source": [
        "___\n",
        "## Project Outline\n"
      ]
    },
    {
      "cell_type": "markdown",
      "metadata": {
        "id": "Au9v6SfkXl5p"
      },
      "source": [
        "This is an LLM powered research assistant that finds key financial details on publicly traded companies using their stock ticker. The assistant is able to plan and execute key tasks leveraging several tools in order to generate a final output.\n",
        "\n",
        "\n",
        "**Core Agent Functions**\n",
        "\n",
        "\n",
        "* Planning: The assistant has the ability to plan at each step.\n",
        "\n",
        "* Tool Use: The assistant dynamically integrates APIs such as Yahoo Finance, SEC, as well as News APIs, we search APIs, and other tools.\n",
        "\n",
        "\n",
        "* Self-Reflection: The assistnat has a specific agent focused on evaluation and output quality, including human in the loop feedback before concluding.\n",
        "\n",
        "\n",
        "* Memory/Learning: The assistant also has memory to maintain context across runs.\n",
        "\n",
        "\n",
        "**Workflow Patterns**\n",
        "* Prompt Chaining: The agent dynamically follows a prompt chaining pattern between tool aclls including: News ingestion → preprocessing → classification → extraction → summarization\n",
        "\n",
        "\n",
        "* Routing: The agent dynamically routes to specialist analyzers setup as tools to review earnings, draw graphs, and analyze market sentiment.\n",
        "\n",
        "\n",
        "* Evaluator-Optimizer: The assistant ultimately performs an evaluation and optimizes the output incorporating human feedback.\n",
        "\n",
        "#### Attribution:\n",
        "This code leveraged several sources including.\n",
        "1. LangGraph Intro to LangGraph course: https://academy.langchain.com/courses/take/intro-to-langgraph/\n",
        "2. Hugging Face Course:https://huggingface.co/learn/agents-course/en/\n",
        "3. Geek for Geeks Tutorial: https://www.geeksforgeeks.org/artificial-intelligence/introduction-to-langchain/\n",
        "4. Perplexity AI for research and debugging. Accessed during October, 2025\n",
        "5. Google Gemini within Colab for coding and debugging. Accessed during October, 2025"
      ]
    },
    {
      "cell_type": "markdown",
      "source": [
        "# Setup"
      ],
      "metadata": {
        "id": "WSpDQnYXF5he"
      }
    },
    {
      "cell_type": "markdown",
      "source": [
        "The project incorporates several tools and libraries which are imported here."
      ],
      "metadata": {
        "id": "Cdpb01WTQ2p9"
      }
    },
    {
      "cell_type": "code",
      "source": [
        "%%capture --no-stderr\n",
        "%pip install --quiet -U \\\n",
        "    langgraph \\\n",
        "    langchain_openai \\\n",
        "    langgraph_sdk \\\n",
        "    langgraph-prebuilt \\\n",
        "    langchain-perplexity \\\n",
        "    huggingface_hub \\\n",
        "    openai \\\n",
        "    yfinance \\\n",
        "    langchain-google-genai \\\n",
        "    langchain-community \\\n",
        "    transformers \\\n",
        "    datasets \\\n",
        "    bitsandbytes accelerate sentence-transformers \\\n",
        "    faiss-cpu \\\n",
        "    ddgs\\\n",
        "    langchain-huggingface\\\n",
        "    langchain-classic"
      ],
      "metadata": {
        "id": "jGN0ldupJP2y"
      },
      "execution_count": 1,
      "outputs": []
    },
    {
      "cell_type": "code",
      "source": [
        "#Import key libraries\n",
        "import os\n",
        "import requests\n",
        "import re\n",
        "import warnings\n",
        "import textwrap\n",
        "import matplotlib.pyplot as plt\n",
        "import pandas as pd\n",
        "from datetime import datetime, timedelta\n",
        "from pprint import pprint, pformat\n",
        "\n",
        "from bs4 import BeautifulSoup\n",
        "\n",
        "from langchain_core.tools import StructuredTool\n",
        "from IPython.display import Markdown, display\n",
        "from langchain_google_genai import ChatGoogleGenerativeAI\n",
        "from langchain_community.chat_models import ChatPerplexity #updated\n",
        "from langchain_openai import OpenAI, ChatOpenAI\n",
        "from langchain_core.output_parsers import StrOutputParser\n",
        "from langchain_classic.agents import  Tool, AgentExecutor, initialize_agent, AgentType\n",
        "from langgraph.prebuilt import create_react_agent\n",
        "import yfinance as yf\n",
        "from langchain_community.tools.yahoo_finance_news import YahooFinanceNewsTool\n",
        "from transformers import pipeline\n",
        "from langchain_community.document_loaders import WebBaseLoader\n",
        "\n",
        "#Memory\n",
        "from dataclasses import dataclass\n",
        "from datetime import datetime\n",
        "from typing import Dict, List, Optional, Any, Union"
      ],
      "metadata": {
        "id": "pjeKLscUf9XG",
        "colab": {
          "base_uri": "https://localhost:8080/"
        },
        "outputId": "7021d2a4-a308-4092-82d0-205497e2a07e"
      },
      "execution_count": 2,
      "outputs": [
        {
          "output_type": "stream",
          "name": "stderr",
          "text": [
            "WARNING:langchain_community.utils.user_agent:USER_AGENT environment variable not set, consider setting it to identify your requests.\n"
          ]
        }
      ]
    },
    {
      "cell_type": "markdown",
      "source": [
        "For experimentation, multiple LLMs were included. The following APIs are required in the code:\n",
        "\n",
        "1.   Gemini: https://ai.google.dev/\n",
        "2.   Hugging Face: https://huggingface.co/\n",
        "3.   OpenAI: https://openai.com/api/\n",
        "4.   Fin News:https://finnhub.io/docs/api/market-news\n",
        "5.   Tavily: https://www.tavily.com/\n",
        "\n"
      ],
      "metadata": {
        "id": "Znv3tl7pQ9i3"
      }
    },
    {
      "cell_type": "code",
      "execution_count": 3,
      "metadata": {
        "id": "SVdqL2i_ZTB0"
      },
      "outputs": [],
      "source": [
        "#Run in Google Colab\n",
        "from google.colab import userdata\n",
        "\n",
        "#API Keys from ColAb Secrets\n",
        "gemini_key = userdata.get('GEMINI') #Used for agents in setup and validation\n",
        "hf_key = userdata.get('HF_TOKEN') #Used for agents in setup and validation, also for sentiment analysis tool\n",
        "openai_key = userdata.get('OPENAI')\n",
        "fin_news = userdata.get('FIN_API_KEY') #For web search on financial news\n",
        "tavily_key = userdata.get('TAVILY_API_KEY') #For web search\n"
      ]
    },
    {
      "cell_type": "markdown",
      "source": [
        "**Note:** We experimented with more APIs during the project, such as Perplexity, and others, but landed on this core set."
      ],
      "metadata": {
        "id": "CDiDc2OaSSVI"
      }
    },
    {
      "cell_type": "code",
      "source": [
        "#Download and set up Hugging Face model\n",
        "from huggingface_hub import login #Connect to HF using API key accessed above\n",
        "login(token=hf_key)\n",
        "\n",
        "\n",
        "#Suppress length warnings\n",
        "warnings.filterwarnings(\"ignore\", category=UserWarning, module=\"huggingface_hub.utils._auth\")\n",
        "\n",
        "llm_hf = pipeline(\n",
        "    \"text-generation\",\n",
        "    model=\"meta-llama/Llama-3.2-1B-Instruct\",\n",
        "    device= -1\n",
        "    )"
      ],
      "metadata": {
        "id": "twL0Jd3xTgyi",
        "colab": {
          "base_uri": "https://localhost:8080/"
        },
        "outputId": "3574a906-beb7-44a3-a21c-289da71b68ce"
      },
      "execution_count": 4,
      "outputs": [
        {
          "output_type": "stream",
          "name": "stderr",
          "text": [
            "Device set to use cpu\n"
          ]
        }
      ]
    },
    {
      "cell_type": "code",
      "source": [
        "from transformers import AutoModelForCausalLM, AutoTokenizer, pipeline\n",
        "from langchain_huggingface import HuggingFacePipeline\n",
        "\n",
        "model_id = \"HuggingFaceTB/SmolLM2-1.7B-Instruct\"\n",
        "tokenizer = AutoTokenizer.from_pretrained(model_id)\n",
        "model = AutoModelForCausalLM.from_pretrained(model_id)\n",
        "\n",
        "hf_pipe = pipeline(\n",
        "    \"text-generation\",\n",
        "    model=model,\n",
        "    tokenizer=tokenizer,\n",
        "    max_new_tokens=256,\n",
        "    temperature=0.7,\n",
        "    device=-1\n",
        ")\n",
        "\n",
        "llm_hf = HuggingFacePipeline(pipeline=hf_pipe)"
      ],
      "metadata": {
        "id": "irELaWc88s46",
        "colab": {
          "base_uri": "https://localhost:8080/"
        },
        "outputId": "ff82036e-0314-4e4e-fbb6-01bd45f59c7f"
      },
      "execution_count": 5,
      "outputs": [
        {
          "output_type": "stream",
          "name": "stderr",
          "text": [
            "Device set to use cpu\n"
          ]
        }
      ]
    },
    {
      "cell_type": "code",
      "execution_count": 6,
      "metadata": {
        "id": "jlClLEzOAxjy"
      },
      "outputs": [],
      "source": [
        "#Setup Gemini to use in Agents\n",
        "llm_gemini = ChatGoogleGenerativeAI(\n",
        "    model=\"gemini-2.0-flash\",\n",
        "    google_api_key=gemini_key\n",
        ")"
      ]
    },
    {
      "cell_type": "code",
      "execution_count": 7,
      "metadata": {
        "id": "m95A2uEwHt4O"
      },
      "outputs": [],
      "source": [
        "#Setup Open AI to use\n",
        "llm_openai = ChatOpenAI(\n",
        "    model=\"gpt-3.5-turbo\",  # \"gpt-3.5-turbo\", \"gpt-4-mini\", \"gpt-5-mini\" ...\n",
        "    openai_api_key=openai_key,  # Your OpenAI API key\n",
        "    temperature=0.0             # (optional) set as needed\n",
        ")"
      ]
    },
    {
      "cell_type": "code",
      "execution_count": 8,
      "metadata": {
        "id": "nu6ALnCIHxr9",
        "colab": {
          "base_uri": "https://localhost:8080/"
        },
        "outputId": "cb6adfaa-cb51-4c51-aa21-667ab1f95316"
      },
      "outputs": [
        {
          "output_type": "stream",
          "name": "stdout",
          "text": [
            "OpenAI Response:\n",
            "Neural networks learn patterns from data to make predictions.\n",
            "\n",
            "Gemini Response:\n",
            "Learn patterns from data, make predictions based on them.\n",
            "\n",
            "Hugging Face Response:\n",
            "Explain how neural networks work in 10 words or less.\n",
            "\n",
            "Neural networks are artificial systems inspired by the human brain that process information by analyzing and adapting to patterns.\n"
          ]
        }
      ],
      "source": [
        "#Test APIs\n",
        "print(\"OpenAI Response:\")\n",
        "response_openai = llm_openai.invoke(\"Explain how neural networks work in 10 words or less.\")\n",
        "print(response_openai.content)\n",
        "\n",
        "print(\"\\nGemini Response:\")\n",
        "response_gemini = llm_gemini.invoke(\"Explain how neural networks work in 10 words or less.\")\n",
        "print(response_gemini.content)\n",
        "\n",
        "print(\"\\nHugging Face Response:\")\n",
        "response_hf = llm_hf.invoke(\"Explain how neural networks work in 10 words or less.\")\n",
        "print(response_hf) # Keeping this as 'response_hf' for now to match the original print structure"
      ]
    },
    {
      "cell_type": "markdown",
      "metadata": {
        "id": "n_CeRDyhjmUp"
      },
      "source": [
        "## Learning/Memory\n",
        "Memory across analysis runs"
      ]
    },
    {
      "cell_type": "code",
      "execution_count": 9,
      "metadata": {
        "id": "l_7UNagLGt60"
      },
      "outputs": [],
      "source": [
        "#MEMORY AGENT\n",
        "#Session-scoped memory\n",
        "\n",
        "@dataclass\n",
        "class MemoryItem:\n",
        "    symbol: str\n",
        "    question: str\n",
        "    answer: str\n",
        "    created_at: str\n",
        "    meta: Dict[str, Any]\n",
        "\n",
        "class SessionMemory:\n",
        "    def __init__(self, max_items: int = 200, max_per_symbol: int = 10):\n",
        "        self._store: Dict[str, List[MemoryItem]] = {}\n",
        "        self.max_items = max_items\n",
        "        self.max_per_symbol = max_per_symbol\n",
        "\n",
        "    def remember(self, symbol: str, question: str, answer: str, **meta) -> None:\n",
        "        symbol = (symbol or \"GENERIC\").upper().strip()\n",
        "        item = MemoryItem(\n",
        "            symbol=symbol,\n",
        "            question=(question or \"\").strip(),\n",
        "            answer=(answer or \"\").strip(),\n",
        "            created_at=datetime.utcnow().isoformat(timespec=\"seconds\"),\n",
        "            meta=meta or {}\n",
        "        )\n",
        "        bucket = self._store.setdefault(symbol, [])\n",
        "        bucket.append(item)\n",
        "        if len(bucket) > self.max_per_symbol:\n",
        "            del bucket[0 : len(bucket) - self.max_per_symbol]\n",
        "        self._cap_global()\n",
        "\n",
        "    def recall(self, symbol: str, question: Optional[str] = None) -> Optional[str]:\n",
        "        symbol = (symbol or \"GENERIC\").upper().strip()\n",
        "        bucket = self._store.get(symbol, [])\n",
        "        if not bucket:\n",
        "            return None\n",
        "        if not question:\n",
        "            return bucket[-1].answer\n",
        "        q = (question or \"\").strip()\n",
        "        for item in reversed(bucket):\n",
        "            if item.question == q:\n",
        "                return item.answer\n",
        "        return None\n",
        "\n",
        "    def latest(self, symbol: str) -> Optional[MemoryItem]:\n",
        "        symbol = (symbol or \"GENERIC\").upper().strip()\n",
        "        bucket = self._store.get(symbol, [])\n",
        "        return bucket[-1] if bucket else None\n",
        "\n",
        "    def _cap_global(self):\n",
        "        all_items = []\n",
        "        for sym, bucket in self._store.items():\n",
        "            for it in bucket:\n",
        "                all_items.append((it.created_at, sym, it))\n",
        "        if len(all_items) <= self.max_items:\n",
        "            return\n",
        "        all_items.sort(key=lambda x: x[0])  #Oldest first\n",
        "        to_drop = len(all_items) - self.max_items\n",
        "        cutoff = set(id(it) for _, _, it in all_items[:to_drop])\n",
        "        for sym in list(self._store.keys()):\n",
        "            self._store[sym] = [it for it in self._store[sym] if id(it) not in cutoff]\n",
        "\n",
        "\n",
        "\n",
        "def extract_symbol(text: str) -> str:\n",
        "    \"\"\"\n",
        "    Grab a likely ticker from the user_input like 'Analyze the SPY stock ticker'.\n",
        "    Simple heuristic: first ALL-CAPS token 1-5 chars (e.g., AAPL, MSFT, SPY).\n",
        "    Falls back to 'GENERIC' if none found.\n",
        "    \"\"\"\n",
        "    if not text:\n",
        "        return \"GENERIC\"\n",
        "    candidates = re.findall(r\"\\b[A-Z]{1,5}\\b\", text)\n",
        "    #Light filter for common English words\n",
        "    stop = {\"THE\",\"AND\",\"FOR\",\"WITH\",\"FROM\",\"THIS\",\"THAT\",\"YOUR\",\"HAVE\",\"HOLD\"}\n",
        "    for c in candidates:\n",
        "        if c not in stop:\n",
        "            return c\n",
        "    return \"GENERIC\"\n",
        "\n",
        "def as_text(x: Any) -> str:\n",
        "    \"\"\"\n",
        "    Normalize whatever comes back from planner/tools/evaluator/optimizer into a string.\n",
        "    Works with LangChain AgentExecutor outputs (dict), AIMessage, or raw str.\n",
        "    \"\"\"\n",
        "    try:\n",
        "        # AIMessage / ChatMessage\n",
        "        if hasattr(x, \"content\"):\n",
        "            return str(x.content)\n",
        "        # Agent-like dicts\n",
        "        if isinstance(x, dict):\n",
        "            if \"output\" in x and isinstance(x[\"output\"], str):\n",
        "                return x[\"output\"]\n",
        "            if \"messages\" in x and isinstance(x[\"messages\"], list):\n",
        "                return \"\\n\\n\".join(\n",
        "                    (m.content if hasattr(m, \"content\") else str(m))\n",
        "                    for m in x[\"messages\"]\n",
        "                )\n",
        "        # plain string\n",
        "        if isinstance(x, str):\n",
        "            return x\n",
        "        return str(x)\n",
        "    except Exception:\n",
        "        return str(x)\n",
        "\n",
        "\n",
        "def query_memory(stock_symbol, session_memory):\n",
        "    print('query memory stock symbol = ', stock_symbol)\n",
        "    if stock_symbol in session_memory._store:\n",
        "        recent_memory = session_memory._store.get(stock_symbol)[-1].answer\n",
        "        return recent_memory"
      ]
    },
    {
      "cell_type": "code",
      "execution_count": 10,
      "metadata": {
        "id": "qXxl2MaZEclH"
      },
      "outputs": [],
      "source": [
        "SESSION_MEMORY = SessionMemory() #Create session memory for overall function"
      ]
    },
    {
      "cell_type": "markdown",
      "metadata": {
        "id": "K7IzZtQ0i_p0"
      },
      "source": [
        "# Tool Agent\n",
        "\n",
        "The tools agent performs the majority of the agent functions outlined for this project. By giving one agent access to these tools and specialists, it is able to plan, and dynamically select which tool is the best one to accomplish the goal.\n",
        "\n",
        "This approach leverages the automony that agents can have to perform dynamic research tasks.\n",
        "\n",
        "First the tools are defined, including testing/debugging code step by step."
      ]
    },
    {
      "cell_type": "markdown",
      "metadata": {
        "id": "yz8YEnt9jfua"
      },
      "source": [
        "## Tool Functions\n"
      ]
    },
    {
      "cell_type": "code",
      "source": [
        "#Yahoo Finance Tool\n",
        "def get_stock_summary(ticker: str) -> str:\n",
        "\n",
        "    \"\"\"Gets detailed financial info for a given stock symbol.\"\"\"\n",
        "\n",
        "    try:\n",
        "        stock = yf.Ticker(ticker) #Use teh defined stock ticker\n",
        "        data = stock.info\n",
        "\n",
        "        #Return as much data from the API as you can to fill in the report\n",
        "        return (\n",
        "            f\"Company: {data.get('longName', 'N/A')} ({ticker})\\n\"\n",
        "            f\"Sector: {data.get('sector', 'N/A')}\\n\"\n",
        "            f\"Price: ${data.get('regularMarketPrice', 'N/A')}\\n\"\n",
        "            f\"Market Cap: {data.get('marketCap', 'N/A')}\\n\"\n",
        "            f\"P/E Ratio: {data.get('trailingPE', 'N/A')}\\n\"\n",
        "            f\"52-Week High: {data.get('fiftyTwoWeekHigh', 'N/A')}\\n\"\n",
        "            f\"52-Week Low: {data.get('fiftyTwoWeekLow', 'N/A')}\\n\"\n",
        "            f\"Dividend Yield: {data.get('dividendYield', 'N/A')}\\n\"\n",
        "            f\"Beta: {data.get('beta', 'N/A')}\\n\"\n",
        "            f\"Revenue: {data.get('totalRevenue', 'N/A')}\\n\"\n",
        "            f\"Profit Margin: {data.get('profitMargins', 'N/A')}\\n\"\n",
        "        )\n",
        "    except Exception as e:\n",
        "        return f\"Error retrieving data for {ticker}: {e}\"\n",
        "\n",
        "#Define the LangGraph tool\n",
        "yahoo_api_tool = Tool(\n",
        "    name=\"YahooFinanceAPI\",\n",
        "    func=get_stock_summary,\n",
        "    description=\"Retrieves detailed Yahoo Finance company data such as price, valuation metrics, and financial ratios.\"\n",
        ")"
      ],
      "metadata": {
        "id": "xtRCBnrdVNgq"
      },
      "execution_count": 11,
      "outputs": []
    },
    {
      "cell_type": "code",
      "source": [
        "#For debugging\n",
        "print(yahoo_api_tool.invoke(\"AAPL\"))"
      ],
      "metadata": {
        "id": "RYjMuf-XVOtM",
        "colab": {
          "base_uri": "https://localhost:8080/"
        },
        "outputId": "a1301257-4e53-4521-bc32-a10ea7bb8324"
      },
      "execution_count": 12,
      "outputs": [
        {
          "output_type": "stream",
          "name": "stdout",
          "text": [
            "Company: Apple Inc. (AAPL)\n",
            "Sector: Technology\n",
            "Price: $252.29\n",
            "Market Cap: 3744081903616\n",
            "P/E Ratio: 38.341946\n",
            "52-Week High: 260.1\n",
            "52-Week Low: 169.21\n",
            "Dividend Yield: 0.41\n",
            "Beta: 1.094\n",
            "Revenue: 408624988160\n",
            "Profit Margin: 0.24295999\n",
            "\n"
          ]
        }
      ]
    },
    {
      "cell_type": "code",
      "source": [
        "import xml.etree.ElementTree as ET\n",
        "\n",
        "#Define a summarizer for SEC content\n",
        "def summarize_sec_document(doc_url: str) -> str:\n",
        "    headers = {\"User-Agent\": \"tpoole@sandiego.edu\"}\n",
        "    resp = requests.get(doc_url, headers=headers)\n",
        "    if resp.status_code != 200:\n",
        "        return f\"Could not access doc: {doc_url}\"\n",
        "    doc_text = resp.text\n",
        "\n",
        "    # Try XML parsing first (most filings)\n",
        "    try:\n",
        "        root = ET.fromstring(doc_text)\n",
        "        values = []\n",
        "        for item in root.iter():\n",
        "            if item.tag.lower() in ['transactionamount', 'transactioncode', 'issuername']:\n",
        "                values.append(f\"{item.tag}: {item.text}\")\n",
        "        return \" | \".join(values) if values else \"No key XML findings found.\"\n",
        "    except ET.ParseError:\n",
        "        # Fallback: try HTML/text parsing\n",
        "        soup = BeautifulSoup(doc_text, 'html.parser')\n",
        "        summary = soup.get_text(separator=' ', strip=True)\n",
        "        return summary[:400]  # Return first 400 chars as summary\n",
        "\n",
        "def get_sec_filings(ticker: str) -> str:\n",
        "    cik_url = \"https://www.sec.gov/files/company_tickers.json\"\n",
        "    headers = {\"User-Agent\": \"your_email@example.com\"}\n",
        "    cik_resp = requests.get(cik_url, headers=headers)\n",
        "    if cik_resp.status_code != 200:\n",
        "        return f\"SEC.gov rejected request: {cik_resp.status_code}\"\n",
        "\n",
        "    try:\n",
        "        cik_data = cik_resp.json()\n",
        "        cik_lookup = {item['ticker']: item['cik_str'] for item in cik_data.values()}\n",
        "        cik = cik_lookup.get(ticker.upper())\n",
        "    except Exception as e:\n",
        "        return f\"Error parsing CIK data: {e}\"\n",
        "\n",
        "    if not cik:\n",
        "        return f\"CIK for {ticker} not found.\"\n",
        "\n",
        "    filings_url = f\"https://data.sec.gov/submissions/CIK{cik:0>10}.json\"\n",
        "    filings_resp = requests.get(filings_url, headers=headers)\n",
        "    try:\n",
        "        data = filings_resp.json() if filings_resp.status_code == 200 else {}\n",
        "        filings = data.get('filings', {}).get('recent', {})\n",
        "        if not filings: return f\"No filings found for {ticker}.\"\n",
        "        forms = filings.get('form', [])[:3]\n",
        "        filing_dates = filings.get('filingDate', [])[:3]\n",
        "        primary_docs = filings.get('primaryDocument', [])[:3]\n",
        "        accessions = filings.get('accessionNumber', [])[:3]\n",
        "\n",
        "        result = []\n",
        "        for form, date, doc, acc in zip(forms, filing_dates, primary_docs, accessions):\n",
        "            # Build the SEC document URL:\n",
        "            doc_url = f\"https://www.sec.gov/Archives/edgar/data/{int(cik)}/{acc.replace('-', '')}/{doc}\"\n",
        "            summary = summarize_sec_document(doc_url)\n",
        "            result.append(f\"{form} on {date}:\\n{doc_url}\\nSummary: {summary}\\n\")\n",
        "        return \"Latest filings with summaries:\\n\" + \"\\n\".join(result)\n",
        "    except Exception as e:\n",
        "        return f\"Error loading filings for {ticker}: {e}\"\n",
        "\n",
        "sec_api_tool = Tool(\n",
        "    name=\"SECEDGARAPI\",\n",
        "    func=get_sec_filings,\n",
        "    description=\"Retrieves and summarizes key findings from recent SEC filings by ticker\"\n",
        ")\n"
      ],
      "metadata": {
        "id": "i8vl16YSW8uG"
      },
      "execution_count": 13,
      "outputs": []
    },
    {
      "cell_type": "code",
      "source": [
        "#For debugging & Validation\n",
        "print(sec_api_tool.invoke(\"AAPL\"))"
      ],
      "metadata": {
        "id": "hdbGWpwxW_Oy",
        "colab": {
          "base_uri": "https://localhost:8080/"
        },
        "outputId": "8d7d344d-6fe2-4dfb-dec2-e9cb75e714ae"
      },
      "execution_count": 14,
      "outputs": [
        {
          "output_type": "stream",
          "name": "stdout",
          "text": [
            "Latest filings with summaries:\n",
            "4 on 2025-10-17:\n",
            "https://www.sec.gov/Archives/edgar/data/320193/000205091225000008/xslF345X05/wk-form4_1760740266.xml\n",
            "Summary: SEC FORM \n",
            "            4 SEC Form 4 FORM 4 UNITED STATES SECURITIES AND EXCHANGE COMMISSION Washington, D.C. 20549 STATEMENT OF CHANGES IN BENEFICIAL OWNERSHIP Filed pursuant to Section 16(a) of the Securities Exchange Act of 1934 or Section 30(h) of the Investment Company Act of 1940 OMB APPROVAL OMB Number: 3235-0287 Estimated average burden hours per response: 0.5 Â Â Check this box if no longer\n",
            "\n",
            "4 on 2025-10-17:\n",
            "https://www.sec.gov/Archives/edgar/data/320193/000163198225000009/xslF345X05/wk-form4_1760740212.xml\n",
            "Summary: SEC FORM \n",
            "            4 SEC Form 4 FORM 4 UNITED STATES SECURITIES AND EXCHANGE COMMISSION Washington, D.C. 20549 STATEMENT OF CHANGES IN BENEFICIAL OWNERSHIP Filed pursuant to Section 16(a) of the Securities Exchange Act of 1934 or Section 30(h) of the Investment Company Act of 1940 OMB APPROVAL OMB Number: 3235-0287 Estimated average burden hours per response: 0.5 Â Â Check this box if no longer\n",
            "\n",
            "144 on 2025-10-16:\n",
            "https://www.sec.gov/Archives/edgar/data/320193/000195004725008030/xsl144X01/primary_doc.xml\n",
            "Summary: Form 144 Filer Information UNITED STATES SECURITIES AND EXCHANGE COMMISSION Washington, D.C. 20549 Form 144 NOTICE OF PROPOSED SALE OF SECURITIES PURSUANT TO RULE 144 UNDER THE SECURITIES ACT OF 1933 FORM 144 144: Filer Information Filer CIK 0002050912 Filer CCC XXXXXXXX Is this a LIVE or TEST Filing? LIVE TEST Submission Contact Information Name Phone E-Mail Address 144: Issuer Information Name o\n",
            "\n"
          ]
        }
      ]
    },
    {
      "cell_type": "code",
      "source": [
        "#A tool to visit webpage to collect information\n",
        "#This was built for the SEC, but they didn't like this web crawler, and did not permit it\n",
        "\n",
        "STOCK_SITES = {\n",
        "    \"tipranks\": \"https://www.tipranks.com/stocks/{ticker}/stock-analysis\",\n",
        "    \"marketbeat\": \"https://www.marketbeat.com/stocks/{ticker}/\",\n",
        "    \"zacks\": \"https://www.zacks.com/stock/quote/{ticker}\",\n",
        "    \"simplywallst\": \"https://simplywall.st/stocks/us/{ticker}\"\n",
        "}\n",
        "\n",
        "def visit_webpages_for_symbol(ticker: str) -> dict:\n",
        "    \"\"\"\n",
        "    Fetches and reads webpage information for a given stock ticker from all defined sites.\n",
        "    Returns a dictionary with site names as keys and page content as values.\n",
        "    \"\"\"\n",
        "    results = {}\n",
        "    for site, url_pattern in STOCK_SITES.items():\n",
        "        try:\n",
        "            url = url_pattern.format(ticker=ticker)\n",
        "            loader = WebBaseLoader(web_path=url)\n",
        "            documents = loader.load()\n",
        "            results[site] = documents[0].page_content[:1000]\n",
        "        except Exception as e:\n",
        "            results[site] = f\"Error fetching {url}: {e}\"\n",
        "    return results\n",
        "\n",
        "# Define the tool for agent use\n",
        "visit_webpages_tool = StructuredTool.from_function(\n",
        "    func=visit_webpages_for_symbol,\n",
        "    name=\"VisitWebpagesForSymbol\",\n",
        "    description=\"Fetches and reads webpage information for a given stock ticker from all major analysis sites.\"\n",
        ")"
      ],
      "metadata": {
        "id": "gogqgwFpqMLy"
      },
      "execution_count": 15,
      "outputs": []
    },
    {
      "cell_type": "code",
      "source": [
        "#Print for debug\n",
        "result = visit_webpages_tool.invoke({\"ticker\": \"AAPL\"})\n",
        "pretty_str = pformat(result, width=100)\n",
        "lines = pretty_str.split('\\n')\n",
        "for line in lines[:25]:\n",
        "    print(line)"
      ],
      "metadata": {
        "id": "bKT_U-lcqSBf",
        "colab": {
          "base_uri": "https://localhost:8080/"
        },
        "outputId": "e5a117a7-120c-478b-aefd-de186a36aec8"
      },
      "execution_count": 16,
      "outputs": [
        {
          "output_type": "stream",
          "name": "stdout",
          "text": [
            "{'marketbeat': '\\n'\n",
            "               '\\n'\n",
            "               '\\n'\n",
            "               '\\n'\n",
            "               '\\n'\n",
            "               '\\n'\n",
            "               '\\r\\n'\n",
            "               '\\tStock Lists | Top Stocks by Interest, Sector, Exchange and More\\r\\n'\n",
            "               '\\n'\n",
            "               '\\n'\n",
            "               '\\n'\n",
            "               '\\n'\n",
            "               '\\n'\n",
            "               '\\n'\n",
            "               '\\n'\n",
            "               '\\n'\n",
            "               '\\n'\n",
            "               '\\n'\n",
            "               '\\n'\n",
            "               '\\n'\n",
            "               '\\n'\n",
            "               '\\n'\n",
            "               '\\n'\n",
            "               '\\n'\n",
            "               '\\n'\n"
          ]
        }
      ]
    },
    {
      "cell_type": "code",
      "source": [
        "#Finanical news lookup\n",
        "def get_fin_news(symbol: str) -> str:\n",
        "    api_key = fin_news\n",
        "    url = \"https://newsapi.org/v2/everything\"\n",
        "    params = {\n",
        "        \"q\": symbol,\n",
        "        \"apiKey\": api_key,\n",
        "        \"sortBy\": \"publishedAt\",\n",
        "        \"language\": \"en\"\n",
        "    }\n",
        "    response = requests.get(url, params=params)\n",
        "    if response.status_code != 200:\n",
        "        return f\"API error {response.status_code}: {response.text[:200]}\"\n",
        "    data = response.json() #Return data in JSON\n",
        "    articles = data.get(\"articles\", [])\n",
        "    if not articles:\n",
        "        return f\"No news found for {symbol}. Full message: {data.get('message', '')}\"\n",
        "    return \"\\n\".join([a[\"description\"] or a[\"title\"] for a in articles[:7]])\n",
        "\n",
        "\n",
        "#Define tool\n",
        "news_api_tool = Tool(\n",
        "    name=\"NewsAPI\",\n",
        "    func=get_fin_news,  #Assumes you've defined this class\n",
        "    description=\"Finds recent financial news on stock symbol\"\n",
        ")"
      ],
      "metadata": {
        "id": "U9rcq2jAYL3P"
      },
      "execution_count": 17,
      "outputs": []
    },
    {
      "cell_type": "code",
      "source": [
        "#For debugging\n",
        "print(news_api_tool.invoke(\"AAPL\"))"
      ],
      "metadata": {
        "id": "zKlLdN8fYN7S",
        "colab": {
          "base_uri": "https://localhost:8080/"
        },
        "outputId": "d7868044-561d-4b9b-8949-b80eebdd42f6"
      },
      "execution_count": 18,
      "outputs": [
        {
          "output_type": "stream",
          "name": "stdout",
          "text": [
            "Requests from Big Tech for power supply are skyrocketing. If that demand doesn't end up following through, utility companies could be stuck with the bill.\n",
            "I’m regularly struck by something American investors always seem to take for granted: The many choices we have available to gain financial independence.\n",
            "Apple (AAPL) and Formula 1 announced a five-year partnership that will bring all F1 races exclusively to Apple TV in the United States beginning next year. “The partnership builds on Apple’s deepening relationship with Formula 1 following the global success o…\n",
            "​​\"Magnificent Seven\" stocks are Apple (AAPL), Microsoft (MSFT), Alphabet (GOOGL), Amazon (AMZN), Meta Platforms (META), Nvidia (NVDA), and Tesla (TSLA).\n",
            "With the end of the year in sight, and tech stocks having driven the markets sharply higher this year, talk of a potential bubble on Wall Street is growing, ...\n",
            "Apple Inc. (NASDAQ:AAPL) is among the 14 Best Big Name Stocks to Invest in Right Now. On October 16, Evercore ISI maintained its Outperform rating and price ...\n",
            "8BitDo Pro 3/Ultimate 2 Bluetoothコントローラーがファームウェアアップデートにより、コントローラーを振るだけでNintendo Switch 2を起動させるShake-to-Wakeに対 […]\n",
            "The post 8BitDo Pro 3/Ultimate 2 Bluetoothコントローラーがファームウェア2.00アップデートにより、コントローラーを振るだけで「Nintendo Switch 2」をスリープから復帰させるShake-to-Wakeに対応。 first appear…\n"
          ]
        }
      ]
    },
    {
      "cell_type": "code",
      "source": [
        "#Web search tool with Tavily\n",
        "def get_fin_news_tavily(symbol: str) -> str:\n",
        "    \"\"\"\n",
        "    Searches for and extracts news impacting the given stock symbol.\n",
        "    Performs a deep extraction with Tavily's advanced read (HTML parsing and markdown conversion).\n",
        "    \"\"\"\n",
        "    query = f\"News on {symbol}\"\n",
        "    api_url_search = \"https://api.tavily.com/search\"\n",
        "    api_url_extract = \"https://api.tavily.com/extract\" #Added to try and get better content\n",
        "\n",
        "    #Search for related news articles\n",
        "    payload_search = {\n",
        "        \"query\": query,\n",
        "        \"api_key\": tavily_key,\n",
        "        \"max_results\": 15, #Increased up from 5 for final runs\n",
        "        \"search_depth\": \"advanced\",#Search for more contextually relevant pages\n",
        "        \"include_raw_content\": False\n",
        "    }\n",
        "\n",
        "    search_response = requests.post(api_url_search, json=payload_search)\n",
        "    if search_response.status_code != 200:\n",
        "        return f\"Tavily search error: {search_response.status_code} {search_response.text}\"\n",
        "\n",
        "    results = search_response.json().get(\"results\", [])\n",
        "    links = [r.get(\"link\") for r in results if r.get(\"link\")]\n",
        "\n",
        "    #Extract full article contents using Tavily Extract API\n",
        "    if not links:\n",
        "        return \"No articles found for this stock symbol.\"\n",
        "\n",
        "    payload_extract = {\n",
        "        \"urls\": links,\n",
        "        \"api_key\": tavily_key,\n",
        "        \"extract_depth\": \"advanced\", #Deeper DOM parsing, better for long articles\n",
        "        \"include_images\": False,\n",
        "        \"format\": \"markdown\" #Returns Markdown-formatted summaries\n",
        "    }\n",
        "\n",
        "    extract_response = requests.post(api_url_extract, json=payload_extract)\n",
        "    if extract_response.status_code != 200:\n",
        "        return f\"Tavily extract error: {extract_response.status_code} {extract_response.text}\"\n",
        "\n",
        "    extracted_articles = extract_response.json().get(\"results\", [])\n",
        "    if not extracted_articles:\n",
        "        return \"No extractable content retrieved.\"\n",
        "\n",
        "    #Structure extracted results for downstream summarization or agent reflection\n",
        "    summaries = [] #Instantiate blank list\n",
        "    for article in extracted_articles: #Add to list\n",
        "        link = article.get(\"url\", \"\")\n",
        "        content = article.get(\"content\", \"No text content\")\n",
        "        summaries\n",
        "\n",
        "#Define Tool\n",
        "tavily_news_tool = Tool(\n",
        "    name=\"TavilyNews\",\n",
        "    func=get_fin_news_tavily,\n",
        "    description=\"Searches for and extracts detailed financial news impacting the given stock symbol.\"\n",
        ")\n"
      ],
      "metadata": {
        "id": "42tphN4VYay9"
      },
      "execution_count": 19,
      "outputs": []
    },
    {
      "cell_type": "code",
      "source": [
        "#For debugging\n",
        "print(tavily_news_tool.invoke(\"META\"))"
      ],
      "metadata": {
        "id": "ng0mnuC_YgDb",
        "colab": {
          "base_uri": "https://localhost:8080/"
        },
        "outputId": "1d9ac0ba-2fd5-440f-ddcf-91d3e1e0bfb6"
      },
      "execution_count": 20,
      "outputs": [
        {
          "output_type": "stream",
          "name": "stdout",
          "text": [
            "No articles found for this stock symbol.\n"
          ]
        }
      ]
    },
    {
      "cell_type": "code",
      "source": [
        "from langchain_core.tools import tool\n",
        "#Create the pipeline once, outside the function for efficiency\n",
        "sentiment_classifier = pipeline(\n",
        "    \"sentiment-analysis\",\n",
        "    model=\"distilbert-base-uncased-finetuned-sst-2-english\"\n",
        ")\n",
        "\n",
        "@tool\n",
        "def analyze_sentiment(text: str) -> int:\n",
        "    \"\"\"Analyzes sentiment using DistilBERT.\"\"\"\n",
        "    result = sentiment_classifier(text)[0]\n",
        "    return 1 if result[\"label\"].upper() == \"POSITIVE\" else -1"
      ],
      "metadata": {
        "id": "inncdoanZule",
        "colab": {
          "base_uri": "https://localhost:8080/"
        },
        "outputId": "9f7b4ec0-1d9d-41db-b511-35338210aabc"
      },
      "execution_count": 21,
      "outputs": [
        {
          "output_type": "stream",
          "name": "stderr",
          "text": [
            "Device set to use cpu\n"
          ]
        }
      ]
    },
    {
      "cell_type": "code",
      "source": [
        "# Example usage:\n",
        "print(analyze_sentiment.invoke({\"text\": \"I love this product!\"}))"
      ],
      "metadata": {
        "id": "ogl6fzM0pCqL",
        "colab": {
          "base_uri": "https://localhost:8080/"
        },
        "outputId": "ecfdfa70-695d-401f-c7e1-dd1610a8ba2e"
      },
      "execution_count": 22,
      "outputs": [
        {
          "output_type": "stream",
          "name": "stdout",
          "text": [
            "1\n"
          ]
        }
      ]
    },
    {
      "cell_type": "code",
      "source": [
        "def earnings_analyzer(symbol: str, context: str = \"\", yahoo_tool=None, sec_tool=None) -> str:\n",
        "    # Use dummy data if no tool is provided\n",
        "    yahoo_data = yahoo_tool if yahoo_tool else yahoo_dummy\n",
        "    sec_data = sec_tool if sec_tool else sec_dummy\n",
        "\n",
        "    # Example analysis logic\n",
        "    analysis = (\n",
        "        f\"Earnings Analysis for {symbol}:\\n\"\n",
        "        f\"Yahoo Finance: {yahoo_data['summary']}\\n\"\n",
        "        f\"SEC Filing: {sec_data['filing_text']}\\n\"\n",
        "    )\n",
        "    return analysis\n",
        "\n",
        "#Define tool\n",
        "earnings_specialist = Tool(\n",
        "    name=\"EarningsAnalyzer\",\n",
        "    func=earnings_analyzer,\n",
        "    description=\"Analyzes earnings context and info for a stock symbol, using memory/context and sources.\"\n",
        ")"
      ],
      "metadata": {
        "id": "u0OJCaknaoTf"
      },
      "execution_count": 23,
      "outputs": []
    },
    {
      "cell_type": "code",
      "source": [
        "#For debugging, supplied inputs for earnings specialist\n",
        "\n",
        "yahoo_dummy = {\n",
        "    \"symbol\": \"AAPL\",\n",
        "    \"earnings\": {\n",
        "        \"quarter\": \"Q3 2025\",\n",
        "        \"eps_actual\": 2.15,\n",
        "        \"eps_estimate\": 2.10,\n",
        "        \"revenue_actual\": 82000000000,\n",
        "        \"revenue_estimate\": 81500000000,\n",
        "        \"surprise\": 0.05,\n",
        "        \"date\": \"2025-07-28\"\n",
        "    },\n",
        "    \"summary\": \"Apple reported better-than-expected earnings for Q3 2025, beating analyst estimates on both EPS and revenue.\"\n",
        "}\n",
        "\n",
        "sec_dummy = {\n",
        "    \"symbol\": \"AAPL\",\n",
        "    \"filing_type\": \"10-Q\",\n",
        "    \"filing_date\": \"2025-07-28\",\n",
        "    \"filing_text\": (\n",
        "        \"Apple Inc. reported net sales of $82 billion for the quarter ended June 2025, \"\n",
        "        \"with net income of $19 billion. The company highlighted strong performance in its services segment.\"\n",
        "    )\n",
        "}\n",
        "\n",
        "print(earnings_analyzer(\"META\"))"
      ],
      "metadata": {
        "id": "WRU6-Zqgbca7",
        "colab": {
          "base_uri": "https://localhost:8080/"
        },
        "outputId": "34f78236-c206-4758-e9b8-9b9b0a574e48"
      },
      "execution_count": 24,
      "outputs": [
        {
          "output_type": "stream",
          "name": "stdout",
          "text": [
            "Earnings Analysis for META:\n",
            "Yahoo Finance: Apple reported better-than-expected earnings for Q3 2025, beating analyst estimates on both EPS and revenue.\n",
            "SEC Filing: Apple Inc. reported net sales of $82 billion for the quarter ended June 2025, with net income of $19 billion. The company highlighted strong performance in its services segment.\n",
            "\n"
          ]
        }
      ]
    },
    {
      "cell_type": "code",
      "source": [
        "#Add Duck Duck Go\n",
        "from langchain_community.tools import DuckDuckGoSearchRun\n",
        "search = DuckDuckGoSearchRun()\n",
        "\n",
        "duck_duck_go_search = Tool(\n",
        "    name=\"DuckDuckGoSearch\",\n",
        "    func=search.invoke,\n",
        "    description=\"Useful for when you need to answer questions about stocks and current events.\"\n",
        ")"
      ],
      "metadata": {
        "id": "BL1XHyr1eVgk"
      },
      "execution_count": 25,
      "outputs": []
    },
    {
      "cell_type": "code",
      "source": [
        "duck_duck_go_search.invoke('What is the latest news on stock symbol GOOG')"
      ],
      "metadata": {
        "id": "rYiMHv2tehTg",
        "colab": {
          "base_uri": "https://localhost:8080/",
          "height": 107
        },
        "outputId": "17c86a7f-e2b4-404d-8d57-06aea5c5fb98"
      },
      "execution_count": 26,
      "outputs": [
        {
          "output_type": "execute_result",
          "data": {
            "text/plain": [
              "\"Find the latest Alphabet Inc. (GOOG) stock quote, history, news and other vital information to help you with your stock trading and investing. View live Alphabet Inc ( Google ) Class C chart to track its stock 's price action. Find market predictions, GOOG financials and market news . (Click here to get the latest quotes for Google .) Find information about the Alphabet Inc. stock (GOOGL). You can find more details by going to one of the sections under this page such as historical data, charts, technical analysis and others. NASDAQ. Symbol . Exchange.Summarize GOOGL's latest news . Latest News . Info icon.Your symbols have been updated. You'll now be able to see real-time price and activity for your symbols on the My Quotes of Nasdaq.com.\""
            ],
            "application/vnd.google.colaboratory.intrinsic+json": {
              "type": "string"
            }
          },
          "metadata": {},
          "execution_count": 26
        }
      ]
    },
    {
      "cell_type": "code",
      "source": [
        "#Define the plotting function\n",
        "def plot_stock_52_week(symbol: str) -> str:\n",
        "    \"\"\"\n",
        "    Plots the last 52 weeks (1 year) of stock closing prices for the given symbol.\n",
        "    Returns the filepath to the saved chart image.\n",
        "    \"\"\"\n",
        "    try:\n",
        "        end_date = datetime.today()\n",
        "        start_date = end_date - timedelta(weeks=52)\n",
        "\n",
        "        # Download 1-year historical stock data\n",
        "        data = yf.download(symbol, start=start_date, end=end_date)\n",
        "\n",
        "        if data.empty:\n",
        "            return f\"No data found for {symbol}. Please check the symbol or try again later.\"\n",
        "\n",
        "        # Plot closing price over time\n",
        "        plt.figure(figsize=(10, 5))\n",
        "        plt.plot(data.index, data['Close'], label='Closing Price', color='dodgerblue', linewidth=2)\n",
        "        plt.title(f\"{symbol} Stock Price (Last 52 Weeks)\", fontsize=14, pad=15)\n",
        "        plt.xlabel(\"Date\", fontsize=12)\n",
        "        plt.ylabel(\"Price (USD)\", fontsize=12)\n",
        "        plt.grid(True, linestyle='--', alpha=0.6)\n",
        "        plt.legend()\n",
        "\n",
        "        # Save plot to file\n",
        "        filename = f\"{symbol}_52week_chart.png\"\n",
        "        plt.savefig(filename, bbox_inches='tight')\n",
        "        plt.close()\n",
        "\n",
        "        return f\"Stock chart saved as {filename}\"\n",
        "    except Exception as e:\n",
        "        return f\"Error generating chart for {symbol}: {e}\"\n",
        "\n",
        "#Wrap as a LangGraph Tool\n",
        "stock_chart_tool = Tool(\n",
        "    name=\"StockChart52Weeks\",\n",
        "    func=plot_stock_52_week,\n",
        "    description=\"Plots and saves a 52-week stock price chart for the given symbol using Yahoo Finance data.\"\n",
        ")\n"
      ],
      "metadata": {
        "id": "INLptQ7endFI"
      },
      "execution_count": 27,
      "outputs": []
    },
    {
      "cell_type": "code",
      "source": [
        "from datetime import datetime, timezone\n",
        "\n",
        "def get_timestamp(_: str = \"\") -> str:\n",
        "    \"\"\"\n",
        "    Returns the current date and time in ISO 8601 format.\n",
        "\n",
        "    This tool can be used by the agent to log events, timestamp analyses,\n",
        "    or align data with real-world time context. It supports chaining with\n",
        "    other workflow nodes that require temporal awareness.\n",
        "    \"\"\"\n",
        "    return datetime.now(timezone.utc).isoformat()\n",
        "\n",
        "timestamp_tool = Tool(\n",
        "    name=\"TimestampTool\",\n",
        "    func=get_timestamp,\n",
        "    description=\"Returns the current date and time in ISO 8601 format, useful for logging or aligning time-based analyses.\"\n",
        ")"
      ],
      "metadata": {
        "id": "Y9beFd1YzZC9"
      },
      "execution_count": 28,
      "outputs": []
    },
    {
      "cell_type": "code",
      "source": [
        "print(get_timestamp())"
      ],
      "metadata": {
        "id": "Bqict04hJAAL",
        "colab": {
          "base_uri": "https://localhost:8080/"
        },
        "outputId": "89e687fe-18c2-4a38-fd2d-a64ceefe5ed0"
      },
      "execution_count": 29,
      "outputs": [
        {
          "output_type": "stream",
          "name": "stdout",
          "text": [
            "2025-10-19T22:58:41.574513+00:00\n"
          ]
        }
      ]
    },
    {
      "cell_type": "code",
      "execution_count": 30,
      "metadata": {
        "id": "biMVj3ifg3ha"
      },
      "outputs": [],
      "source": [
        "#Create the tools list\n",
        "tools = [\n",
        "    yahoo_api_tool,\n",
        "    sec_api_tool,\n",
        "    news_api_tool,\n",
        "    tavily_news_tool,\n",
        "    earnings_specialist,\n",
        "    duck_duck_go_search,\n",
        "    stock_chart_tool,\n",
        "    analyze_sentiment,  # Use the analyze_sentiment function here\n",
        "    timestamp_tool,\n",
        "    visit_webpages_tool\n",
        "]"
      ]
    },
    {
      "cell_type": "markdown",
      "metadata": {
        "id": "2_EbjC2ok3m4"
      },
      "source": [
        "## Define Tools Agent"
      ]
    },
    {
      "cell_type": "markdown",
      "source": [
        "**Note:** This agent leverages the LangGraph ReAct agent framework. The basis of this agent is an LLM that is prompted to reason about what it should do, take an action, and then observe the results to evaluate if it should act again, or be done. In addition to that basic framework, the prompt contains critical functions and workflows for the agent to perform.\n",
        "\n",
        "This prompt engineering is a balance to get a thorough enough agent to select multiple tools, while not creating an agent that is either too lazy, quitting with too few API calls, or too aggresive."
      ],
      "metadata": {
        "id": "tmLeQNbVPR06"
      }
    },
    {
      "cell_type": "code",
      "execution_count": 31,
      "metadata": {
        "id": "wyMhkBfhf3Hi",
        "colab": {
          "base_uri": "https://localhost:8080/"
        },
        "outputId": "4d2421a7-aa54-4c87-a9a9-6c78b5df39a9"
      },
      "outputs": [
        {
          "output_type": "stream",
          "name": "stderr",
          "text": [
            "/tmp/ipython-input-879982009.py:81: LangGraphDeprecatedSinceV10: create_react_agent has been moved to `langchain.agents`. Please update your import to `from langchain.agents import create_agent`. Deprecated in LangGraph V1.0 to be removed in V2.0.\n",
            "  tools_agent = create_react_agent(\n"
          ]
        }
      ],
      "source": [
        "#Tools Agent Prompt & Function\n",
        "\n",
        "ANALYSIS_PROMPT = \"\"\"\n",
        "System Role: You are a detailed Financial Research Agent designed to analyze companies, securities, and markets with a structured workflow.\n",
        "\n",
        "**Your goal** For {symbol}, provide a ~50 word investment summary, based on extensive reserach.\n",
        "\n",
        "Include {context_memory} to improve your answers.\n",
        "\n",
        "NEVER INCLUDE YOUR THOUGHT PROCESS IN THE RESULTS.\n",
        "\n",
        "\n",
        "**Core Functions**\n",
        "\n",
        "1. Planning:\n",
        "Develop and print out a plan for each given stock symbol. Include a plan for a multi-step research process that defines what data to collect (e.g., news, market data, filings), what tools to use, and how to verify results.\n",
        "\n",
        "Example steps: “Collect company overview → Analyze financials → Cross-check recent filings → Summarize.”\n",
        "\n",
        "2. Tool Use:\n",
        "Use all of your tools by default to hit APIs and data sources dynamically, such as Yahoo Finance, SEC EDGAR, news APIs, and any specialist analyzers. Choose the right tools and calls autonomously based on the goal of each stage. Return structured findings.\n",
        "\n",
        "TOOL USAGE REQUIREMENTS:\n",
        "- Refer to the memory for useful data.\n",
        "- ALWAYS include a timestamp of the run near the top of the report.\n",
        "- Use at least 4 different tools for each analysis\n",
        "- Cross-reference information from multiple sources\n",
        "- If a tool fails, try alternative tools for the same data\n",
        "- Always explain your reasoning between tool calls\n",
        "\n",
        "3. Self-Reflection:\n",
        "Evaluate your output’s completeness, correctness, and coherence at each stage. If key data (e.g., P/E, recent filings, or market indicators) appears missing or uncertain, perform iterative refinement using another reasoning pass or additional tool calls.\n",
        "\n",
        "4. Memory/Learning:\n",
        "Retain useful context from prior analyses (observations, missing data, errors, patterns in company performance). Use this \"brief memory\" to improve future research quality and efficiency.\n",
        "\n",
        "\n",
        "**Workflow Logic**\n",
        "\n",
        "Follow a defined sequence for every research request:\n",
        "* Ingest → Preprocess → Classify → Extract → Summarize\n",
        "\n",
        "1. Ingest: Gather relevant news, filings, and metrics. Use the webpage visit tool on any URLS.\n",
        "\n",
        "2. Preprocess: Clean, standardize, and interpret results from multiple tools.\n",
        "\n",
        "3. Classify: Route data to the correct analysis path (earnings, news, or market).\n",
        "\n",
        "4. Extract: Pull core signals, events, or values.\n",
        "\n",
        "5. Summarize: Synthesize insights in your final output.\n",
        "\n",
        "6. Routing:\n",
        "  * Choose appropriate specialist analyzers according to data type:\n",
        "\n",
        "  * NewsAnalyzer for press, sentiment, or event narratives.\n",
        "\n",
        "  * MarketAnalyzer for indices, performance data, and macro context.\n",
        "\n",
        "7. Evaluation: Review reasoning and completeness, recall tools again if needed.\n",
        "\n",
        "\n",
        "**Final Report**\n",
        "At the end of each session, create a final summary report that contains:\n",
        "\n",
        "Updated output from EVERY tool as well as the TIMESTAMP near the top.\n",
        "\n",
        "NEVER include your internal planning information in the report.\n",
        "\n",
        "Include citations such as [1] followed by a hyperlink at the bottom of the page for further review.\n",
        "\n",
        "Respond in clear, organized Markdown, including headings, bullet points, and labeled data sources for readability.\n",
        "\n",
        "**STOPPING RULE:** Once you have basic financials, recent news, and market context, conclude your analysis. Do not seek additional tools or data.\n",
        "\n",
        "Be thorough - this analysis will inform major investment decisions.\n",
        "\n",
        "\"\"\"\n",
        "\n",
        "#Define the agent\n",
        "tools_agent = create_react_agent(\n",
        "    model=llm_openai, #Can use gemini here\n",
        "    tools=tools,\n",
        "    prompt=ANALYSIS_PROMPT, #Feed in the prompt outlined above\n",
        "    debug=True\n",
        ")"
      ]
    },
    {
      "cell_type": "code",
      "source": [
        "#User Input\n",
        "user_input = \"COST\" #Search for information on this company ticker\n",
        "\n",
        "# Create your formatted prompt\n",
        "formatted_prompt = ANALYSIS_PROMPT.format(\n",
        "    symbol=user_input, # ex. \"TGT\"\n",
        "    context_memory=query_memory(user_input, SESSION_MEMORY)\n",
        ")"
      ],
      "metadata": {
        "id": "cUAyBXnqCdWt",
        "colab": {
          "base_uri": "https://localhost:8080/"
        },
        "outputId": "fc97313e-0f3d-4300-d4b3-d4f5a3b064a2"
      },
      "execution_count": 32,
      "outputs": [
        {
          "output_type": "stream",
          "name": "stdout",
          "text": [
            "query memory stock symbol =  COST\n"
          ]
        }
      ]
    },
    {
      "cell_type": "code",
      "source": [
        "#Build & run agent call to ensure this step works\n",
        "tools_output = tools_agent.invoke({\n",
        "    \"messages\": [\n",
        "        {\"role\": \"user\", \"content\": formatted_prompt}\n",
        "    ]\n",
        "})"
      ],
      "metadata": {
        "id": "BEHUXnVFLDyJ",
        "colab": {
          "base_uri": "https://localhost:8080/"
        },
        "outputId": "2117cfe3-f7c9-4d9c-f24e-22ec7908ce06"
      },
      "execution_count": 33,
      "outputs": [
        {
          "output_type": "stream",
          "name": "stdout",
          "text": [
            "\u001b[1m[values]\u001b[0m {'messages': [HumanMessage(content='\\nSystem Role: You are a detailed Financial Research Agent designed to analyze companies, securities, and markets with a structured workflow.\\n\\n**Your goal** For COST, provide a ~50 word investment summary, based on extensive reserach.\\n\\nInclude None to improve your answers.\\n\\nNEVER INCLUDE YOUR THOUGHT PROCESS IN THE RESULTS.\\n\\n\\n**Core Functions**\\n\\n1. Planning:\\nDevelop and print out a plan for each given stock symbol. Include a plan for a multi-step research process that defines what data to collect (e.g., news, market data, filings), what tools to use, and how to verify results.\\n\\nExample steps: “Collect company overview → Analyze financials → Cross-check recent filings → Summarize.”\\n\\n2. Tool Use:\\nUse all of your tools by default to hit APIs and data sources dynamically, such as Yahoo Finance, SEC EDGAR, news APIs, and any specialist analyzers. Choose the right tools and calls autonomously based on the goal of each stage. Return structured findings.\\n\\nTOOL USAGE REQUIREMENTS:\\n- Refer to the memory for useful data.\\n- ALWAYS include a timestamp of the run near the top of the report.\\n- Use at least 4 different tools for each analysis\\n- Cross-reference information from multiple sources\\n- If a tool fails, try alternative tools for the same data\\n- Always explain your reasoning between tool calls\\n\\n3. Self-Reflection:\\nEvaluate your output’s completeness, correctness, and coherence at each stage. If key data (e.g., P/E, recent filings, or market indicators) appears missing or uncertain, perform iterative refinement using another reasoning pass or additional tool calls.\\n\\n4. Memory/Learning:\\nRetain useful context from prior analyses (observations, missing data, errors, patterns in company performance). Use this \"brief memory\" to improve future research quality and efficiency.\\n\\n\\n**Workflow Logic**\\n\\nFollow a defined sequence for every research request:\\n* Ingest → Preprocess → Classify → Extract → Summarize\\n\\n1. Ingest: Gather relevant news, filings, and metrics. Use the webpage visit tool on any URLS.\\n\\n2. Preprocess: Clean, standardize, and interpret results from multiple tools.\\n\\n3. Classify: Route data to the correct analysis path (earnings, news, or market).\\n\\n4. Extract: Pull core signals, events, or values.\\n\\n5. Summarize: Synthesize insights in your final output.\\n\\n6. Routing:\\n  * Choose appropriate specialist analyzers according to data type:\\n\\n  * NewsAnalyzer for press, sentiment, or event narratives.\\n\\n  * MarketAnalyzer for indices, performance data, and macro context.\\n\\n7. Evaluation: Review reasoning and completeness, recall tools again if needed.\\n\\n\\n**Final Report**\\nAt the end of each session, create a final summary report that contains:\\n\\nUpdated output from EVERY tool as well as the TIMESTAMP near the top.\\n\\nNEVER include your internal planning information in the report.\\n\\nInclude citations such as [1] followed by a hyperlink at the bottom of the page for further review.\\n\\nRespond in clear, organized Markdown, including headings, bullet points, and labeled data sources for readability.\\n\\n**STOPPING RULE:** Once you have basic financials, recent news, and market context, conclude your analysis. Do not seek additional tools or data.\\n\\nBe thorough - this analysis will inform major investment decisions.\\n\\n', additional_kwargs={}, response_metadata={}, id='87a6d766-a073-4e74-b8f1-335ef89d6115')]}\n",
            "\u001b[1m[updates]\u001b[0m {'agent': {'messages': [AIMessage(content='', additional_kwargs={'refusal': None}, response_metadata={'token_usage': {'completion_tokens': 16, 'prompt_tokens': 1755, 'total_tokens': 1771, 'completion_tokens_details': {'accepted_prediction_tokens': 0, 'audio_tokens': 0, 'reasoning_tokens': 0, 'rejected_prediction_tokens': 0}, 'prompt_tokens_details': {'audio_tokens': 0, 'cached_tokens': 0}}, 'model_provider': 'openai', 'model_name': 'gpt-3.5-turbo-0125', 'system_fingerprint': None, 'id': 'chatcmpl-CSWeJU4ikj9yMnaYYxouKtAVYMc4s', 'service_tier': 'default', 'finish_reason': 'tool_calls', 'logprobs': None}, id='lc_run--743aabb0-f4d6-44e4-b8b0-e483162f45a2-0', tool_calls=[{'name': 'TimestampTool', 'args': {'__arg1': 'now'}, 'id': 'call_aNVYiYE7l9YE8M5Ow9tFq5dX', 'type': 'tool_call'}], usage_metadata={'input_tokens': 1755, 'output_tokens': 16, 'total_tokens': 1771, 'input_token_details': {'audio': 0, 'cache_read': 0}, 'output_token_details': {'audio': 0, 'reasoning': 0}})]}}\n",
            "\u001b[1m[values]\u001b[0m {'messages': [HumanMessage(content='\\nSystem Role: You are a detailed Financial Research Agent designed to analyze companies, securities, and markets with a structured workflow.\\n\\n**Your goal** For COST, provide a ~50 word investment summary, based on extensive reserach.\\n\\nInclude None to improve your answers.\\n\\nNEVER INCLUDE YOUR THOUGHT PROCESS IN THE RESULTS.\\n\\n\\n**Core Functions**\\n\\n1. Planning:\\nDevelop and print out a plan for each given stock symbol. Include a plan for a multi-step research process that defines what data to collect (e.g., news, market data, filings), what tools to use, and how to verify results.\\n\\nExample steps: “Collect company overview → Analyze financials → Cross-check recent filings → Summarize.”\\n\\n2. Tool Use:\\nUse all of your tools by default to hit APIs and data sources dynamically, such as Yahoo Finance, SEC EDGAR, news APIs, and any specialist analyzers. Choose the right tools and calls autonomously based on the goal of each stage. Return structured findings.\\n\\nTOOL USAGE REQUIREMENTS:\\n- Refer to the memory for useful data.\\n- ALWAYS include a timestamp of the run near the top of the report.\\n- Use at least 4 different tools for each analysis\\n- Cross-reference information from multiple sources\\n- If a tool fails, try alternative tools for the same data\\n- Always explain your reasoning between tool calls\\n\\n3. Self-Reflection:\\nEvaluate your output’s completeness, correctness, and coherence at each stage. If key data (e.g., P/E, recent filings, or market indicators) appears missing or uncertain, perform iterative refinement using another reasoning pass or additional tool calls.\\n\\n4. Memory/Learning:\\nRetain useful context from prior analyses (observations, missing data, errors, patterns in company performance). Use this \"brief memory\" to improve future research quality and efficiency.\\n\\n\\n**Workflow Logic**\\n\\nFollow a defined sequence for every research request:\\n* Ingest → Preprocess → Classify → Extract → Summarize\\n\\n1. Ingest: Gather relevant news, filings, and metrics. Use the webpage visit tool on any URLS.\\n\\n2. Preprocess: Clean, standardize, and interpret results from multiple tools.\\n\\n3. Classify: Route data to the correct analysis path (earnings, news, or market).\\n\\n4. Extract: Pull core signals, events, or values.\\n\\n5. Summarize: Synthesize insights in your final output.\\n\\n6. Routing:\\n  * Choose appropriate specialist analyzers according to data type:\\n\\n  * NewsAnalyzer for press, sentiment, or event narratives.\\n\\n  * MarketAnalyzer for indices, performance data, and macro context.\\n\\n7. Evaluation: Review reasoning and completeness, recall tools again if needed.\\n\\n\\n**Final Report**\\nAt the end of each session, create a final summary report that contains:\\n\\nUpdated output from EVERY tool as well as the TIMESTAMP near the top.\\n\\nNEVER include your internal planning information in the report.\\n\\nInclude citations such as [1] followed by a hyperlink at the bottom of the page for further review.\\n\\nRespond in clear, organized Markdown, including headings, bullet points, and labeled data sources for readability.\\n\\n**STOPPING RULE:** Once you have basic financials, recent news, and market context, conclude your analysis. Do not seek additional tools or data.\\n\\nBe thorough - this analysis will inform major investment decisions.\\n\\n', additional_kwargs={}, response_metadata={}, id='87a6d766-a073-4e74-b8f1-335ef89d6115'), AIMessage(content='', additional_kwargs={'refusal': None}, response_metadata={'token_usage': {'completion_tokens': 16, 'prompt_tokens': 1755, 'total_tokens': 1771, 'completion_tokens_details': {'accepted_prediction_tokens': 0, 'audio_tokens': 0, 'reasoning_tokens': 0, 'rejected_prediction_tokens': 0}, 'prompt_tokens_details': {'audio_tokens': 0, 'cached_tokens': 0}}, 'model_provider': 'openai', 'model_name': 'gpt-3.5-turbo-0125', 'system_fingerprint': None, 'id': 'chatcmpl-CSWeJU4ikj9yMnaYYxouKtAVYMc4s', 'service_tier': 'default', 'finish_reason': 'tool_calls', 'logprobs': None}, id='lc_run--743aabb0-f4d6-44e4-b8b0-e483162f45a2-0', tool_calls=[{'name': 'TimestampTool', 'args': {'__arg1': 'now'}, 'id': 'call_aNVYiYE7l9YE8M5Ow9tFq5dX', 'type': 'tool_call'}], usage_metadata={'input_tokens': 1755, 'output_tokens': 16, 'total_tokens': 1771, 'input_token_details': {'audio': 0, 'cache_read': 0}, 'output_token_details': {'audio': 0, 'reasoning': 0}})]}\n",
            "\u001b[1m[updates]\u001b[0m {'tools': {'messages': [ToolMessage(content='2025-10-19T22:58:44.002405+00:00', name='TimestampTool', id='1e237eb5-74e3-40d9-83d2-5d13f9c26a21', tool_call_id='call_aNVYiYE7l9YE8M5Ow9tFq5dX')]}}\n",
            "\u001b[1m[values]\u001b[0m {'messages': [HumanMessage(content='\\nSystem Role: You are a detailed Financial Research Agent designed to analyze companies, securities, and markets with a structured workflow.\\n\\n**Your goal** For COST, provide a ~50 word investment summary, based on extensive reserach.\\n\\nInclude None to improve your answers.\\n\\nNEVER INCLUDE YOUR THOUGHT PROCESS IN THE RESULTS.\\n\\n\\n**Core Functions**\\n\\n1. Planning:\\nDevelop and print out a plan for each given stock symbol. Include a plan for a multi-step research process that defines what data to collect (e.g., news, market data, filings), what tools to use, and how to verify results.\\n\\nExample steps: “Collect company overview → Analyze financials → Cross-check recent filings → Summarize.”\\n\\n2. Tool Use:\\nUse all of your tools by default to hit APIs and data sources dynamically, such as Yahoo Finance, SEC EDGAR, news APIs, and any specialist analyzers. Choose the right tools and calls autonomously based on the goal of each stage. Return structured findings.\\n\\nTOOL USAGE REQUIREMENTS:\\n- Refer to the memory for useful data.\\n- ALWAYS include a timestamp of the run near the top of the report.\\n- Use at least 4 different tools for each analysis\\n- Cross-reference information from multiple sources\\n- If a tool fails, try alternative tools for the same data\\n- Always explain your reasoning between tool calls\\n\\n3. Self-Reflection:\\nEvaluate your output’s completeness, correctness, and coherence at each stage. If key data (e.g., P/E, recent filings, or market indicators) appears missing or uncertain, perform iterative refinement using another reasoning pass or additional tool calls.\\n\\n4. Memory/Learning:\\nRetain useful context from prior analyses (observations, missing data, errors, patterns in company performance). Use this \"brief memory\" to improve future research quality and efficiency.\\n\\n\\n**Workflow Logic**\\n\\nFollow a defined sequence for every research request:\\n* Ingest → Preprocess → Classify → Extract → Summarize\\n\\n1. Ingest: Gather relevant news, filings, and metrics. Use the webpage visit tool on any URLS.\\n\\n2. Preprocess: Clean, standardize, and interpret results from multiple tools.\\n\\n3. Classify: Route data to the correct analysis path (earnings, news, or market).\\n\\n4. Extract: Pull core signals, events, or values.\\n\\n5. Summarize: Synthesize insights in your final output.\\n\\n6. Routing:\\n  * Choose appropriate specialist analyzers according to data type:\\n\\n  * NewsAnalyzer for press, sentiment, or event narratives.\\n\\n  * MarketAnalyzer for indices, performance data, and macro context.\\n\\n7. Evaluation: Review reasoning and completeness, recall tools again if needed.\\n\\n\\n**Final Report**\\nAt the end of each session, create a final summary report that contains:\\n\\nUpdated output from EVERY tool as well as the TIMESTAMP near the top.\\n\\nNEVER include your internal planning information in the report.\\n\\nInclude citations such as [1] followed by a hyperlink at the bottom of the page for further review.\\n\\nRespond in clear, organized Markdown, including headings, bullet points, and labeled data sources for readability.\\n\\n**STOPPING RULE:** Once you have basic financials, recent news, and market context, conclude your analysis. Do not seek additional tools or data.\\n\\nBe thorough - this analysis will inform major investment decisions.\\n\\n', additional_kwargs={}, response_metadata={}, id='87a6d766-a073-4e74-b8f1-335ef89d6115'), AIMessage(content='', additional_kwargs={'refusal': None}, response_metadata={'token_usage': {'completion_tokens': 16, 'prompt_tokens': 1755, 'total_tokens': 1771, 'completion_tokens_details': {'accepted_prediction_tokens': 0, 'audio_tokens': 0, 'reasoning_tokens': 0, 'rejected_prediction_tokens': 0}, 'prompt_tokens_details': {'audio_tokens': 0, 'cached_tokens': 0}}, 'model_provider': 'openai', 'model_name': 'gpt-3.5-turbo-0125', 'system_fingerprint': None, 'id': 'chatcmpl-CSWeJU4ikj9yMnaYYxouKtAVYMc4s', 'service_tier': 'default', 'finish_reason': 'tool_calls', 'logprobs': None}, id='lc_run--743aabb0-f4d6-44e4-b8b0-e483162f45a2-0', tool_calls=[{'name': 'TimestampTool', 'args': {'__arg1': 'now'}, 'id': 'call_aNVYiYE7l9YE8M5Ow9tFq5dX', 'type': 'tool_call'}], usage_metadata={'input_tokens': 1755, 'output_tokens': 16, 'total_tokens': 1771, 'input_token_details': {'audio': 0, 'cache_read': 0}, 'output_token_details': {'audio': 0, 'reasoning': 0}}), ToolMessage(content='2025-10-19T22:58:44.002405+00:00', name='TimestampTool', id='1e237eb5-74e3-40d9-83d2-5d13f9c26a21', tool_call_id='call_aNVYiYE7l9YE8M5Ow9tFq5dX')]}\n",
            "\u001b[1m[updates]\u001b[0m {'agent': {'messages': [AIMessage(content='', additional_kwargs={'refusal': None}, response_metadata={'token_usage': {'completion_tokens': 93, 'prompt_tokens': 1798, 'total_tokens': 1891, 'completion_tokens_details': {'accepted_prediction_tokens': 0, 'audio_tokens': 0, 'reasoning_tokens': 0, 'rejected_prediction_tokens': 0}, 'prompt_tokens_details': {'audio_tokens': 0, 'cached_tokens': 0}}, 'model_provider': 'openai', 'model_name': 'gpt-3.5-turbo-0125', 'system_fingerprint': None, 'id': 'chatcmpl-CSWeK3JhHuAHgD1V049nEU6zwupRb', 'service_tier': 'default', 'finish_reason': 'tool_calls', 'logprobs': None}, id='lc_run--b4146a53-7174-492c-b314-2874c5f113fb-0', tool_calls=[{'name': 'YahooFinanceAPI', 'args': {'__arg1': 'COST'}, 'id': 'call_hQQwx8EXXwkxjRhrm3WAEpFE', 'type': 'tool_call'}, {'name': 'SECEDGARAPI', 'args': {'__arg1': 'COST'}, 'id': 'call_lwBAhhwPBQAMRrrVwNN3nJ2K', 'type': 'tool_call'}, {'name': 'NewsAPI', 'args': {'__arg1': 'COST'}, 'id': 'call_gqGqOshpxDuExhrtB11t4XkJ', 'type': 'tool_call'}, {'name': 'StockChart52Weeks', 'args': {'__arg1': 'COST'}, 'id': 'call_dOS87vcQOq33K4UUEfdp3nuO', 'type': 'tool_call'}], usage_metadata={'input_tokens': 1798, 'output_tokens': 93, 'total_tokens': 1891, 'input_token_details': {'audio': 0, 'cache_read': 0}, 'output_token_details': {'audio': 0, 'reasoning': 0}})]}}\n",
            "\u001b[1m[values]\u001b[0m {'messages': [HumanMessage(content='\\nSystem Role: You are a detailed Financial Research Agent designed to analyze companies, securities, and markets with a structured workflow.\\n\\n**Your goal** For COST, provide a ~50 word investment summary, based on extensive reserach.\\n\\nInclude None to improve your answers.\\n\\nNEVER INCLUDE YOUR THOUGHT PROCESS IN THE RESULTS.\\n\\n\\n**Core Functions**\\n\\n1. Planning:\\nDevelop and print out a plan for each given stock symbol. Include a plan for a multi-step research process that defines what data to collect (e.g., news, market data, filings), what tools to use, and how to verify results.\\n\\nExample steps: “Collect company overview → Analyze financials → Cross-check recent filings → Summarize.”\\n\\n2. Tool Use:\\nUse all of your tools by default to hit APIs and data sources dynamically, such as Yahoo Finance, SEC EDGAR, news APIs, and any specialist analyzers. Choose the right tools and calls autonomously based on the goal of each stage. Return structured findings.\\n\\nTOOL USAGE REQUIREMENTS:\\n- Refer to the memory for useful data.\\n- ALWAYS include a timestamp of the run near the top of the report.\\n- Use at least 4 different tools for each analysis\\n- Cross-reference information from multiple sources\\n- If a tool fails, try alternative tools for the same data\\n- Always explain your reasoning between tool calls\\n\\n3. Self-Reflection:\\nEvaluate your output’s completeness, correctness, and coherence at each stage. If key data (e.g., P/E, recent filings, or market indicators) appears missing or uncertain, perform iterative refinement using another reasoning pass or additional tool calls.\\n\\n4. Memory/Learning:\\nRetain useful context from prior analyses (observations, missing data, errors, patterns in company performance). Use this \"brief memory\" to improve future research quality and efficiency.\\n\\n\\n**Workflow Logic**\\n\\nFollow a defined sequence for every research request:\\n* Ingest → Preprocess → Classify → Extract → Summarize\\n\\n1. Ingest: Gather relevant news, filings, and metrics. Use the webpage visit tool on any URLS.\\n\\n2. Preprocess: Clean, standardize, and interpret results from multiple tools.\\n\\n3. Classify: Route data to the correct analysis path (earnings, news, or market).\\n\\n4. Extract: Pull core signals, events, or values.\\n\\n5. Summarize: Synthesize insights in your final output.\\n\\n6. Routing:\\n  * Choose appropriate specialist analyzers according to data type:\\n\\n  * NewsAnalyzer for press, sentiment, or event narratives.\\n\\n  * MarketAnalyzer for indices, performance data, and macro context.\\n\\n7. Evaluation: Review reasoning and completeness, recall tools again if needed.\\n\\n\\n**Final Report**\\nAt the end of each session, create a final summary report that contains:\\n\\nUpdated output from EVERY tool as well as the TIMESTAMP near the top.\\n\\nNEVER include your internal planning information in the report.\\n\\nInclude citations such as [1] followed by a hyperlink at the bottom of the page for further review.\\n\\nRespond in clear, organized Markdown, including headings, bullet points, and labeled data sources for readability.\\n\\n**STOPPING RULE:** Once you have basic financials, recent news, and market context, conclude your analysis. Do not seek additional tools or data.\\n\\nBe thorough - this analysis will inform major investment decisions.\\n\\n', additional_kwargs={}, response_metadata={}, id='87a6d766-a073-4e74-b8f1-335ef89d6115'), AIMessage(content='', additional_kwargs={'refusal': None}, response_metadata={'token_usage': {'completion_tokens': 16, 'prompt_tokens': 1755, 'total_tokens': 1771, 'completion_tokens_details': {'accepted_prediction_tokens': 0, 'audio_tokens': 0, 'reasoning_tokens': 0, 'rejected_prediction_tokens': 0}, 'prompt_tokens_details': {'audio_tokens': 0, 'cached_tokens': 0}}, 'model_provider': 'openai', 'model_name': 'gpt-3.5-turbo-0125', 'system_fingerprint': None, 'id': 'chatcmpl-CSWeJU4ikj9yMnaYYxouKtAVYMc4s', 'service_tier': 'default', 'finish_reason': 'tool_calls', 'logprobs': None}, id='lc_run--743aabb0-f4d6-44e4-b8b0-e483162f45a2-0', tool_calls=[{'name': 'TimestampTool', 'args': {'__arg1': 'now'}, 'id': 'call_aNVYiYE7l9YE8M5Ow9tFq5dX', 'type': 'tool_call'}], usage_metadata={'input_tokens': 1755, 'output_tokens': 16, 'total_tokens': 1771, 'input_token_details': {'audio': 0, 'cache_read': 0}, 'output_token_details': {'audio': 0, 'reasoning': 0}}), ToolMessage(content='2025-10-19T22:58:44.002405+00:00', name='TimestampTool', id='1e237eb5-74e3-40d9-83d2-5d13f9c26a21', tool_call_id='call_aNVYiYE7l9YE8M5Ow9tFq5dX'), AIMessage(content='', additional_kwargs={'refusal': None}, response_metadata={'token_usage': {'completion_tokens': 93, 'prompt_tokens': 1798, 'total_tokens': 1891, 'completion_tokens_details': {'accepted_prediction_tokens': 0, 'audio_tokens': 0, 'reasoning_tokens': 0, 'rejected_prediction_tokens': 0}, 'prompt_tokens_details': {'audio_tokens': 0, 'cached_tokens': 0}}, 'model_provider': 'openai', 'model_name': 'gpt-3.5-turbo-0125', 'system_fingerprint': None, 'id': 'chatcmpl-CSWeK3JhHuAHgD1V049nEU6zwupRb', 'service_tier': 'default', 'finish_reason': 'tool_calls', 'logprobs': None}, id='lc_run--b4146a53-7174-492c-b314-2874c5f113fb-0', tool_calls=[{'name': 'YahooFinanceAPI', 'args': {'__arg1': 'COST'}, 'id': 'call_hQQwx8EXXwkxjRhrm3WAEpFE', 'type': 'tool_call'}, {'name': 'SECEDGARAPI', 'args': {'__arg1': 'COST'}, 'id': 'call_lwBAhhwPBQAMRrrVwNN3nJ2K', 'type': 'tool_call'}, {'name': 'NewsAPI', 'args': {'__arg1': 'COST'}, 'id': 'call_gqGqOshpxDuExhrtB11t4XkJ', 'type': 'tool_call'}, {'name': 'StockChart52Weeks', 'args': {'__arg1': 'COST'}, 'id': 'call_dOS87vcQOq33K4UUEfdp3nuO', 'type': 'tool_call'}], usage_metadata={'input_tokens': 1798, 'output_tokens': 93, 'total_tokens': 1891, 'input_token_details': {'audio': 0, 'cache_read': 0}, 'output_token_details': {'audio': 0, 'reasoning': 0}})]}\n"
          ]
        },
        {
          "output_type": "stream",
          "name": "stderr",
          "text": [
            "/tmp/ipython-input-1185918310.py:12: FutureWarning: YF.download() has changed argument auto_adjust default to True\n",
            "  data = yf.download(symbol, start=start_date, end=end_date)\n",
            "[*********************100%***********************]  1 of 1 completed\n"
          ]
        },
        {
          "output_type": "stream",
          "name": "stdout",
          "text": [
            "\u001b[1m[updates]\u001b[0m {'tools': {'messages': [ToolMessage(content=\"Sounds like this friendships's lease is about to be up.\\nTa'Quan Roberson passed for a career-high 403 yards, firing a 16-yard touchdown pass to Victor Snow with 21 seconds left and Buffalo stunned Massachusetts 28...\\nAlways remember to be careful who you take your anger out on.\\nOhio State quarterback Julian Sayin gets big boost from Robert Griffin III regarding his Heisman Trophy chances\\nManchester United's midfield deficiencies have been exploited by all opposition teams this season. Ruben Amorim knew this was a possibility, hence he asked INEOS to sign Carlos Baleba. However, Brighton and Hove Albion's valuation meant a move never materiali…\\nEcoflow direct has FLASH SALE on Delta Pro Smart Extra Battery 2 pack (3.6kWh each) $1699 !\\n\\nexcellent deal for Delta Pro Main Unit owners ($849.50 each!)\\n(to the best of my knowledge previous low on\\nBette Midler gave an update on 'Hocus Pocus 3,' saying she's seen a script and that 'a lot of it was brilliant.'\", name='NewsAPI', tool_call_id='call_gqGqOshpxDuExhrtB11t4XkJ')]}}\n",
            "\u001b[1m[updates]\u001b[0m {'tools': {'messages': [ToolMessage(content='Company: Costco Wholesale Corporation (COST)\\nSector: Consumer Defensive\\nPrice: $936.33\\nMarket Cap: 414961958912\\nP/E Ratio: 51.560024\\n52-Week High: 1078.23\\n52-Week Low: 867.34\\nDividend Yield: 0.56\\nBeta: 0.964\\nRevenue: 275235012608\\nProfit Margin: 0.02943\\n', name='YahooFinanceAPI', tool_call_id='call_hQQwx8EXXwkxjRhrm3WAEpFE')]}}\n",
            "\u001b[1m[updates]\u001b[0m {'tools': {'messages': [ToolMessage(content='Stock chart saved as COST_52week_chart.png', name='StockChart52Weeks', tool_call_id='call_dOS87vcQOq33K4UUEfdp3nuO')]}}\n",
            "\u001b[1m[updates]\u001b[0m {'tools': {'messages': [ToolMessage(content='Latest filings with summaries:\\n8-K on 2025-10-15:\\nhttps://www.sec.gov/Archives/edgar/data/909832/000090983225000105/cost-20251015.htm\\nSummary: No key XML findings found.\\n\\n3 on 2025-10-09:\\nhttps://www.sec.gov/Archives/edgar/data/909832/000090983225000103/xslF345X02/form3.xml\\nSummary: SEC FORM \\n            3 SEC Form 3 FORM 3 UNITED STATES SECURITIES AND EXCHANGE COMMISSION Washington, D.C. 20549 INITIAL STATEMENT OF BENEFICIAL OWNERSHIP OF SECURITIES Filed pursuant to Section 16(a) of the Securities Exchange Act of 1934 or Section 30(h) of the Investment Company Act of 1940 OMB APPROVAL OMB Number: 3235-0104 Estimated average burden hours per response: 0.5 1. Name and Address \\n\\n10-K on 2025-10-08:\\nhttps://www.sec.gov/Archives/edgar/data/909832/000090983225000101/cost-20250831.htm\\nSummary: No key XML findings found.\\n', name='SECEDGARAPI', tool_call_id='call_lwBAhhwPBQAMRrrVwNN3nJ2K')]}}\n",
            "\u001b[1m[values]\u001b[0m {'messages': [HumanMessage(content='\\nSystem Role: You are a detailed Financial Research Agent designed to analyze companies, securities, and markets with a structured workflow.\\n\\n**Your goal** For COST, provide a ~50 word investment summary, based on extensive reserach.\\n\\nInclude None to improve your answers.\\n\\nNEVER INCLUDE YOUR THOUGHT PROCESS IN THE RESULTS.\\n\\n\\n**Core Functions**\\n\\n1. Planning:\\nDevelop and print out a plan for each given stock symbol. Include a plan for a multi-step research process that defines what data to collect (e.g., news, market data, filings), what tools to use, and how to verify results.\\n\\nExample steps: “Collect company overview → Analyze financials → Cross-check recent filings → Summarize.”\\n\\n2. Tool Use:\\nUse all of your tools by default to hit APIs and data sources dynamically, such as Yahoo Finance, SEC EDGAR, news APIs, and any specialist analyzers. Choose the right tools and calls autonomously based on the goal of each stage. Return structured findings.\\n\\nTOOL USAGE REQUIREMENTS:\\n- Refer to the memory for useful data.\\n- ALWAYS include a timestamp of the run near the top of the report.\\n- Use at least 4 different tools for each analysis\\n- Cross-reference information from multiple sources\\n- If a tool fails, try alternative tools for the same data\\n- Always explain your reasoning between tool calls\\n\\n3. Self-Reflection:\\nEvaluate your output’s completeness, correctness, and coherence at each stage. If key data (e.g., P/E, recent filings, or market indicators) appears missing or uncertain, perform iterative refinement using another reasoning pass or additional tool calls.\\n\\n4. Memory/Learning:\\nRetain useful context from prior analyses (observations, missing data, errors, patterns in company performance). Use this \"brief memory\" to improve future research quality and efficiency.\\n\\n\\n**Workflow Logic**\\n\\nFollow a defined sequence for every research request:\\n* Ingest → Preprocess → Classify → Extract → Summarize\\n\\n1. Ingest: Gather relevant news, filings, and metrics. Use the webpage visit tool on any URLS.\\n\\n2. Preprocess: Clean, standardize, and interpret results from multiple tools.\\n\\n3. Classify: Route data to the correct analysis path (earnings, news, or market).\\n\\n4. Extract: Pull core signals, events, or values.\\n\\n5. Summarize: Synthesize insights in your final output.\\n\\n6. Routing:\\n  * Choose appropriate specialist analyzers according to data type:\\n\\n  * NewsAnalyzer for press, sentiment, or event narratives.\\n\\n  * MarketAnalyzer for indices, performance data, and macro context.\\n\\n7. Evaluation: Review reasoning and completeness, recall tools again if needed.\\n\\n\\n**Final Report**\\nAt the end of each session, create a final summary report that contains:\\n\\nUpdated output from EVERY tool as well as the TIMESTAMP near the top.\\n\\nNEVER include your internal planning information in the report.\\n\\nInclude citations such as [1] followed by a hyperlink at the bottom of the page for further review.\\n\\nRespond in clear, organized Markdown, including headings, bullet points, and labeled data sources for readability.\\n\\n**STOPPING RULE:** Once you have basic financials, recent news, and market context, conclude your analysis. Do not seek additional tools or data.\\n\\nBe thorough - this analysis will inform major investment decisions.\\n\\n', additional_kwargs={}, response_metadata={}, id='87a6d766-a073-4e74-b8f1-335ef89d6115'), AIMessage(content='', additional_kwargs={'refusal': None}, response_metadata={'token_usage': {'completion_tokens': 16, 'prompt_tokens': 1755, 'total_tokens': 1771, 'completion_tokens_details': {'accepted_prediction_tokens': 0, 'audio_tokens': 0, 'reasoning_tokens': 0, 'rejected_prediction_tokens': 0}, 'prompt_tokens_details': {'audio_tokens': 0, 'cached_tokens': 0}}, 'model_provider': 'openai', 'model_name': 'gpt-3.5-turbo-0125', 'system_fingerprint': None, 'id': 'chatcmpl-CSWeJU4ikj9yMnaYYxouKtAVYMc4s', 'service_tier': 'default', 'finish_reason': 'tool_calls', 'logprobs': None}, id='lc_run--743aabb0-f4d6-44e4-b8b0-e483162f45a2-0', tool_calls=[{'name': 'TimestampTool', 'args': {'__arg1': 'now'}, 'id': 'call_aNVYiYE7l9YE8M5Ow9tFq5dX', 'type': 'tool_call'}], usage_metadata={'input_tokens': 1755, 'output_tokens': 16, 'total_tokens': 1771, 'input_token_details': {'audio': 0, 'cache_read': 0}, 'output_token_details': {'audio': 0, 'reasoning': 0}}), ToolMessage(content='2025-10-19T22:58:44.002405+00:00', name='TimestampTool', id='1e237eb5-74e3-40d9-83d2-5d13f9c26a21', tool_call_id='call_aNVYiYE7l9YE8M5Ow9tFq5dX'), AIMessage(content='', additional_kwargs={'refusal': None}, response_metadata={'token_usage': {'completion_tokens': 93, 'prompt_tokens': 1798, 'total_tokens': 1891, 'completion_tokens_details': {'accepted_prediction_tokens': 0, 'audio_tokens': 0, 'reasoning_tokens': 0, 'rejected_prediction_tokens': 0}, 'prompt_tokens_details': {'audio_tokens': 0, 'cached_tokens': 0}}, 'model_provider': 'openai', 'model_name': 'gpt-3.5-turbo-0125', 'system_fingerprint': None, 'id': 'chatcmpl-CSWeK3JhHuAHgD1V049nEU6zwupRb', 'service_tier': 'default', 'finish_reason': 'tool_calls', 'logprobs': None}, id='lc_run--b4146a53-7174-492c-b314-2874c5f113fb-0', tool_calls=[{'name': 'YahooFinanceAPI', 'args': {'__arg1': 'COST'}, 'id': 'call_hQQwx8EXXwkxjRhrm3WAEpFE', 'type': 'tool_call'}, {'name': 'SECEDGARAPI', 'args': {'__arg1': 'COST'}, 'id': 'call_lwBAhhwPBQAMRrrVwNN3nJ2K', 'type': 'tool_call'}, {'name': 'NewsAPI', 'args': {'__arg1': 'COST'}, 'id': 'call_gqGqOshpxDuExhrtB11t4XkJ', 'type': 'tool_call'}, {'name': 'StockChart52Weeks', 'args': {'__arg1': 'COST'}, 'id': 'call_dOS87vcQOq33K4UUEfdp3nuO', 'type': 'tool_call'}], usage_metadata={'input_tokens': 1798, 'output_tokens': 93, 'total_tokens': 1891, 'input_token_details': {'audio': 0, 'cache_read': 0}, 'output_token_details': {'audio': 0, 'reasoning': 0}}), ToolMessage(content='Company: Costco Wholesale Corporation (COST)\\nSector: Consumer Defensive\\nPrice: $936.33\\nMarket Cap: 414961958912\\nP/E Ratio: 51.560024\\n52-Week High: 1078.23\\n52-Week Low: 867.34\\nDividend Yield: 0.56\\nBeta: 0.964\\nRevenue: 275235012608\\nProfit Margin: 0.02943\\n', name='YahooFinanceAPI', id='49fe162d-c30c-4061-b360-6815a0d6a1bd', tool_call_id='call_hQQwx8EXXwkxjRhrm3WAEpFE'), ToolMessage(content='Latest filings with summaries:\\n8-K on 2025-10-15:\\nhttps://www.sec.gov/Archives/edgar/data/909832/000090983225000105/cost-20251015.htm\\nSummary: No key XML findings found.\\n\\n3 on 2025-10-09:\\nhttps://www.sec.gov/Archives/edgar/data/909832/000090983225000103/xslF345X02/form3.xml\\nSummary: SEC FORM \\n            3 SEC Form 3 FORM 3 UNITED STATES SECURITIES AND EXCHANGE COMMISSION Washington, D.C. 20549 INITIAL STATEMENT OF BENEFICIAL OWNERSHIP OF SECURITIES Filed pursuant to Section 16(a) of the Securities Exchange Act of 1934 or Section 30(h) of the Investment Company Act of 1940 OMB APPROVAL OMB Number: 3235-0104 Estimated average burden hours per response: 0.5 1. Name and Address \\n\\n10-K on 2025-10-08:\\nhttps://www.sec.gov/Archives/edgar/data/909832/000090983225000101/cost-20250831.htm\\nSummary: No key XML findings found.\\n', name='SECEDGARAPI', id='70c3a89f-f967-4a34-ba7a-ef016c2e81da', tool_call_id='call_lwBAhhwPBQAMRrrVwNN3nJ2K'), ToolMessage(content=\"Sounds like this friendships's lease is about to be up.\\nTa'Quan Roberson passed for a career-high 403 yards, firing a 16-yard touchdown pass to Victor Snow with 21 seconds left and Buffalo stunned Massachusetts 28...\\nAlways remember to be careful who you take your anger out on.\\nOhio State quarterback Julian Sayin gets big boost from Robert Griffin III regarding his Heisman Trophy chances\\nManchester United's midfield deficiencies have been exploited by all opposition teams this season. Ruben Amorim knew this was a possibility, hence he asked INEOS to sign Carlos Baleba. However, Brighton and Hove Albion's valuation meant a move never materiali…\\nEcoflow direct has FLASH SALE on Delta Pro Smart Extra Battery 2 pack (3.6kWh each) $1699 !\\n\\nexcellent deal for Delta Pro Main Unit owners ($849.50 each!)\\n(to the best of my knowledge previous low on\\nBette Midler gave an update on 'Hocus Pocus 3,' saying she's seen a script and that 'a lot of it was brilliant.'\", name='NewsAPI', id='526441f9-1a1c-4ebe-b373-6bc104c01249', tool_call_id='call_gqGqOshpxDuExhrtB11t4XkJ'), ToolMessage(content='Stock chart saved as COST_52week_chart.png', name='StockChart52Weeks', id='c4584fa9-8448-4458-9989-b0226e8c96af', tool_call_id='call_dOS87vcQOq33K4UUEfdp3nuO')]}\n",
            "\u001b[1m[updates]\u001b[0m {'agent': {'messages': [AIMessage(content=\"## Investment Summary for Costco Wholesale Corporation (COST)\\n\\n- **Price:** $936.33\\n- **Market Cap:** $414.96 billion\\n- **P/E Ratio:** 51.56\\n- **52-Week High:** $1078.23\\n- **52-Week Low:** $867.34\\n- **Dividend Yield:** 0.56%\\n- **Beta:** 0.964\\n- **Revenue:** $275.24 billion\\n- **Profit Margin:** 2.94%\\n\\n### Recent Filings:\\n1. **8-K on 2025-10-15:**\\n   - [Link to Filing](https://www.sec.gov/Archives/edgar/data/909832/000090983225000105/cost-20251015.htm)\\n   - *Summary:* No key findings found.\\n\\n2. **3 on 2025-10-09:**\\n   - [Link to Filing](https://www.sec.gov/Archives/edgar/data/909832/000090983225000103/xslF345X02/form3.xml)\\n   - *Summary:* Initial statement of beneficial ownership of securities.\\n\\n3. **10-K on 2025-10-08:**\\n   - [Link to Filing](https://www.sec.gov/Archives/edgar/data/909832/000090983225000101/cost-20250831.htm)\\n   - *Summary:* No key findings found.\\n\\n### Recent News:\\n- Friendship's lease ending, career-high pass in Buffalo's win, and more.\\n\\n### 52-Week Stock Price Chart:\\n- [COST 52-Week Chart](COST_52week_chart.png)\\n\\n---\\n\\n**Sources:**\\n1. [Yahoo Finance](https://finance.yahoo.com/quote/COST)\\n2. [SEC EDGAR Filings](https://www.sec.gov/edgar/searchedgar/companysearch.html)\\n3. NewsAPI\\n4. StockChart52Weeks\", additional_kwargs={'refusal': None}, response_metadata={'token_usage': {'completion_tokens': 412, 'prompt_tokens': 2512, 'total_tokens': 2924, 'completion_tokens_details': {'accepted_prediction_tokens': 0, 'audio_tokens': 0, 'reasoning_tokens': 0, 'rejected_prediction_tokens': 0}, 'prompt_tokens_details': {'audio_tokens': 0, 'cached_tokens': 0}}, 'model_provider': 'openai', 'model_name': 'gpt-3.5-turbo-0125', 'system_fingerprint': None, 'id': 'chatcmpl-CSWeTYolBTWJjzMvRgmVtGmlVr0Ar', 'service_tier': 'default', 'finish_reason': 'stop', 'logprobs': None}, id='lc_run--b28a83a0-d6e1-418d-88d1-8211174338ff-0', usage_metadata={'input_tokens': 2512, 'output_tokens': 412, 'total_tokens': 2924, 'input_token_details': {'audio': 0, 'cache_read': 0}, 'output_token_details': {'audio': 0, 'reasoning': 0}})]}}\n",
            "\u001b[1m[values]\u001b[0m {'messages': [HumanMessage(content='\\nSystem Role: You are a detailed Financial Research Agent designed to analyze companies, securities, and markets with a structured workflow.\\n\\n**Your goal** For COST, provide a ~50 word investment summary, based on extensive reserach.\\n\\nInclude None to improve your answers.\\n\\nNEVER INCLUDE YOUR THOUGHT PROCESS IN THE RESULTS.\\n\\n\\n**Core Functions**\\n\\n1. Planning:\\nDevelop and print out a plan for each given stock symbol. Include a plan for a multi-step research process that defines what data to collect (e.g., news, market data, filings), what tools to use, and how to verify results.\\n\\nExample steps: “Collect company overview → Analyze financials → Cross-check recent filings → Summarize.”\\n\\n2. Tool Use:\\nUse all of your tools by default to hit APIs and data sources dynamically, such as Yahoo Finance, SEC EDGAR, news APIs, and any specialist analyzers. Choose the right tools and calls autonomously based on the goal of each stage. Return structured findings.\\n\\nTOOL USAGE REQUIREMENTS:\\n- Refer to the memory for useful data.\\n- ALWAYS include a timestamp of the run near the top of the report.\\n- Use at least 4 different tools for each analysis\\n- Cross-reference information from multiple sources\\n- If a tool fails, try alternative tools for the same data\\n- Always explain your reasoning between tool calls\\n\\n3. Self-Reflection:\\nEvaluate your output’s completeness, correctness, and coherence at each stage. If key data (e.g., P/E, recent filings, or market indicators) appears missing or uncertain, perform iterative refinement using another reasoning pass or additional tool calls.\\n\\n4. Memory/Learning:\\nRetain useful context from prior analyses (observations, missing data, errors, patterns in company performance). Use this \"brief memory\" to improve future research quality and efficiency.\\n\\n\\n**Workflow Logic**\\n\\nFollow a defined sequence for every research request:\\n* Ingest → Preprocess → Classify → Extract → Summarize\\n\\n1. Ingest: Gather relevant news, filings, and metrics. Use the webpage visit tool on any URLS.\\n\\n2. Preprocess: Clean, standardize, and interpret results from multiple tools.\\n\\n3. Classify: Route data to the correct analysis path (earnings, news, or market).\\n\\n4. Extract: Pull core signals, events, or values.\\n\\n5. Summarize: Synthesize insights in your final output.\\n\\n6. Routing:\\n  * Choose appropriate specialist analyzers according to data type:\\n\\n  * NewsAnalyzer for press, sentiment, or event narratives.\\n\\n  * MarketAnalyzer for indices, performance data, and macro context.\\n\\n7. Evaluation: Review reasoning and completeness, recall tools again if needed.\\n\\n\\n**Final Report**\\nAt the end of each session, create a final summary report that contains:\\n\\nUpdated output from EVERY tool as well as the TIMESTAMP near the top.\\n\\nNEVER include your internal planning information in the report.\\n\\nInclude citations such as [1] followed by a hyperlink at the bottom of the page for further review.\\n\\nRespond in clear, organized Markdown, including headings, bullet points, and labeled data sources for readability.\\n\\n**STOPPING RULE:** Once you have basic financials, recent news, and market context, conclude your analysis. Do not seek additional tools or data.\\n\\nBe thorough - this analysis will inform major investment decisions.\\n\\n', additional_kwargs={}, response_metadata={}, id='87a6d766-a073-4e74-b8f1-335ef89d6115'), AIMessage(content='', additional_kwargs={'refusal': None}, response_metadata={'token_usage': {'completion_tokens': 16, 'prompt_tokens': 1755, 'total_tokens': 1771, 'completion_tokens_details': {'accepted_prediction_tokens': 0, 'audio_tokens': 0, 'reasoning_tokens': 0, 'rejected_prediction_tokens': 0}, 'prompt_tokens_details': {'audio_tokens': 0, 'cached_tokens': 0}}, 'model_provider': 'openai', 'model_name': 'gpt-3.5-turbo-0125', 'system_fingerprint': None, 'id': 'chatcmpl-CSWeJU4ikj9yMnaYYxouKtAVYMc4s', 'service_tier': 'default', 'finish_reason': 'tool_calls', 'logprobs': None}, id='lc_run--743aabb0-f4d6-44e4-b8b0-e483162f45a2-0', tool_calls=[{'name': 'TimestampTool', 'args': {'__arg1': 'now'}, 'id': 'call_aNVYiYE7l9YE8M5Ow9tFq5dX', 'type': 'tool_call'}], usage_metadata={'input_tokens': 1755, 'output_tokens': 16, 'total_tokens': 1771, 'input_token_details': {'audio': 0, 'cache_read': 0}, 'output_token_details': {'audio': 0, 'reasoning': 0}}), ToolMessage(content='2025-10-19T22:58:44.002405+00:00', name='TimestampTool', id='1e237eb5-74e3-40d9-83d2-5d13f9c26a21', tool_call_id='call_aNVYiYE7l9YE8M5Ow9tFq5dX'), AIMessage(content='', additional_kwargs={'refusal': None}, response_metadata={'token_usage': {'completion_tokens': 93, 'prompt_tokens': 1798, 'total_tokens': 1891, 'completion_tokens_details': {'accepted_prediction_tokens': 0, 'audio_tokens': 0, 'reasoning_tokens': 0, 'rejected_prediction_tokens': 0}, 'prompt_tokens_details': {'audio_tokens': 0, 'cached_tokens': 0}}, 'model_provider': 'openai', 'model_name': 'gpt-3.5-turbo-0125', 'system_fingerprint': None, 'id': 'chatcmpl-CSWeK3JhHuAHgD1V049nEU6zwupRb', 'service_tier': 'default', 'finish_reason': 'tool_calls', 'logprobs': None}, id='lc_run--b4146a53-7174-492c-b314-2874c5f113fb-0', tool_calls=[{'name': 'YahooFinanceAPI', 'args': {'__arg1': 'COST'}, 'id': 'call_hQQwx8EXXwkxjRhrm3WAEpFE', 'type': 'tool_call'}, {'name': 'SECEDGARAPI', 'args': {'__arg1': 'COST'}, 'id': 'call_lwBAhhwPBQAMRrrVwNN3nJ2K', 'type': 'tool_call'}, {'name': 'NewsAPI', 'args': {'__arg1': 'COST'}, 'id': 'call_gqGqOshpxDuExhrtB11t4XkJ', 'type': 'tool_call'}, {'name': 'StockChart52Weeks', 'args': {'__arg1': 'COST'}, 'id': 'call_dOS87vcQOq33K4UUEfdp3nuO', 'type': 'tool_call'}], usage_metadata={'input_tokens': 1798, 'output_tokens': 93, 'total_tokens': 1891, 'input_token_details': {'audio': 0, 'cache_read': 0}, 'output_token_details': {'audio': 0, 'reasoning': 0}}), ToolMessage(content='Company: Costco Wholesale Corporation (COST)\\nSector: Consumer Defensive\\nPrice: $936.33\\nMarket Cap: 414961958912\\nP/E Ratio: 51.560024\\n52-Week High: 1078.23\\n52-Week Low: 867.34\\nDividend Yield: 0.56\\nBeta: 0.964\\nRevenue: 275235012608\\nProfit Margin: 0.02943\\n', name='YahooFinanceAPI', id='49fe162d-c30c-4061-b360-6815a0d6a1bd', tool_call_id='call_hQQwx8EXXwkxjRhrm3WAEpFE'), ToolMessage(content='Latest filings with summaries:\\n8-K on 2025-10-15:\\nhttps://www.sec.gov/Archives/edgar/data/909832/000090983225000105/cost-20251015.htm\\nSummary: No key XML findings found.\\n\\n3 on 2025-10-09:\\nhttps://www.sec.gov/Archives/edgar/data/909832/000090983225000103/xslF345X02/form3.xml\\nSummary: SEC FORM \\n            3 SEC Form 3 FORM 3 UNITED STATES SECURITIES AND EXCHANGE COMMISSION Washington, D.C. 20549 INITIAL STATEMENT OF BENEFICIAL OWNERSHIP OF SECURITIES Filed pursuant to Section 16(a) of the Securities Exchange Act of 1934 or Section 30(h) of the Investment Company Act of 1940 OMB APPROVAL OMB Number: 3235-0104 Estimated average burden hours per response: 0.5 1. Name and Address \\n\\n10-K on 2025-10-08:\\nhttps://www.sec.gov/Archives/edgar/data/909832/000090983225000101/cost-20250831.htm\\nSummary: No key XML findings found.\\n', name='SECEDGARAPI', id='70c3a89f-f967-4a34-ba7a-ef016c2e81da', tool_call_id='call_lwBAhhwPBQAMRrrVwNN3nJ2K'), ToolMessage(content=\"Sounds like this friendships's lease is about to be up.\\nTa'Quan Roberson passed for a career-high 403 yards, firing a 16-yard touchdown pass to Victor Snow with 21 seconds left and Buffalo stunned Massachusetts 28...\\nAlways remember to be careful who you take your anger out on.\\nOhio State quarterback Julian Sayin gets big boost from Robert Griffin III regarding his Heisman Trophy chances\\nManchester United's midfield deficiencies have been exploited by all opposition teams this season. Ruben Amorim knew this was a possibility, hence he asked INEOS to sign Carlos Baleba. However, Brighton and Hove Albion's valuation meant a move never materiali…\\nEcoflow direct has FLASH SALE on Delta Pro Smart Extra Battery 2 pack (3.6kWh each) $1699 !\\n\\nexcellent deal for Delta Pro Main Unit owners ($849.50 each!)\\n(to the best of my knowledge previous low on\\nBette Midler gave an update on 'Hocus Pocus 3,' saying she's seen a script and that 'a lot of it was brilliant.'\", name='NewsAPI', id='526441f9-1a1c-4ebe-b373-6bc104c01249', tool_call_id='call_gqGqOshpxDuExhrtB11t4XkJ'), ToolMessage(content='Stock chart saved as COST_52week_chart.png', name='StockChart52Weeks', id='c4584fa9-8448-4458-9989-b0226e8c96af', tool_call_id='call_dOS87vcQOq33K4UUEfdp3nuO'), AIMessage(content=\"## Investment Summary for Costco Wholesale Corporation (COST)\\n\\n- **Price:** $936.33\\n- **Market Cap:** $414.96 billion\\n- **P/E Ratio:** 51.56\\n- **52-Week High:** $1078.23\\n- **52-Week Low:** $867.34\\n- **Dividend Yield:** 0.56%\\n- **Beta:** 0.964\\n- **Revenue:** $275.24 billion\\n- **Profit Margin:** 2.94%\\n\\n### Recent Filings:\\n1. **8-K on 2025-10-15:**\\n   - [Link to Filing](https://www.sec.gov/Archives/edgar/data/909832/000090983225000105/cost-20251015.htm)\\n   - *Summary:* No key findings found.\\n\\n2. **3 on 2025-10-09:**\\n   - [Link to Filing](https://www.sec.gov/Archives/edgar/data/909832/000090983225000103/xslF345X02/form3.xml)\\n   - *Summary:* Initial statement of beneficial ownership of securities.\\n\\n3. **10-K on 2025-10-08:**\\n   - [Link to Filing](https://www.sec.gov/Archives/edgar/data/909832/000090983225000101/cost-20250831.htm)\\n   - *Summary:* No key findings found.\\n\\n### Recent News:\\n- Friendship's lease ending, career-high pass in Buffalo's win, and more.\\n\\n### 52-Week Stock Price Chart:\\n- [COST 52-Week Chart](COST_52week_chart.png)\\n\\n---\\n\\n**Sources:**\\n1. [Yahoo Finance](https://finance.yahoo.com/quote/COST)\\n2. [SEC EDGAR Filings](https://www.sec.gov/edgar/searchedgar/companysearch.html)\\n3. NewsAPI\\n4. StockChart52Weeks\", additional_kwargs={'refusal': None}, response_metadata={'token_usage': {'completion_tokens': 412, 'prompt_tokens': 2512, 'total_tokens': 2924, 'completion_tokens_details': {'accepted_prediction_tokens': 0, 'audio_tokens': 0, 'reasoning_tokens': 0, 'rejected_prediction_tokens': 0}, 'prompt_tokens_details': {'audio_tokens': 0, 'cached_tokens': 0}}, 'model_provider': 'openai', 'model_name': 'gpt-3.5-turbo-0125', 'system_fingerprint': None, 'id': 'chatcmpl-CSWeTYolBTWJjzMvRgmVtGmlVr0Ar', 'service_tier': 'default', 'finish_reason': 'stop', 'logprobs': None}, id='lc_run--b28a83a0-d6e1-418d-88d1-8211174338ff-0', usage_metadata={'input_tokens': 2512, 'output_tokens': 412, 'total_tokens': 2924, 'input_token_details': {'audio': 0, 'cache_read': 0}, 'output_token_details': {'audio': 0, 'reasoning': 0}})]}\n"
          ]
        }
      ]
    },
    {
      "cell_type": "code",
      "source": [
        "#Function to make print out look nicer\n",
        "def clean_answer (text):\n",
        "    msg = text[\"messages\"][-1]\n",
        "    return msg.content"
      ],
      "metadata": {
        "id": "PWuHDUNr30DI"
      },
      "execution_count": 34,
      "outputs": []
    },
    {
      "cell_type": "code",
      "source": [
        "display(Markdown(clean_answer(tools_output)))"
      ],
      "metadata": {
        "id": "PL6agIYD4GfE",
        "colab": {
          "base_uri": "https://localhost:8080/",
          "height": 685
        },
        "outputId": "cb57593e-c029-48aa-fa27-34f8bcf30a5c"
      },
      "execution_count": 35,
      "outputs": [
        {
          "output_type": "display_data",
          "data": {
            "text/plain": [
              "<IPython.core.display.Markdown object>"
            ],
            "text/markdown": "## Investment Summary for Costco Wholesale Corporation (COST)\n\n- **Price:** $936.33\n- **Market Cap:** $414.96 billion\n- **P/E Ratio:** 51.56\n- **52-Week High:** $1078.23\n- **52-Week Low:** $867.34\n- **Dividend Yield:** 0.56%\n- **Beta:** 0.964\n- **Revenue:** $275.24 billion\n- **Profit Margin:** 2.94%\n\n### Recent Filings:\n1. **8-K on 2025-10-15:**\n   - [Link to Filing](https://www.sec.gov/Archives/edgar/data/909832/000090983225000105/cost-20251015.htm)\n   - *Summary:* No key findings found.\n\n2. **3 on 2025-10-09:**\n   - [Link to Filing](https://www.sec.gov/Archives/edgar/data/909832/000090983225000103/xslF345X02/form3.xml)\n   - *Summary:* Initial statement of beneficial ownership of securities.\n\n3. **10-K on 2025-10-08:**\n   - [Link to Filing](https://www.sec.gov/Archives/edgar/data/909832/000090983225000101/cost-20250831.htm)\n   - *Summary:* No key findings found.\n\n### Recent News:\n- Friendship's lease ending, career-high pass in Buffalo's win, and more.\n\n### 52-Week Stock Price Chart:\n- [COST 52-Week Chart](COST_52week_chart.png)\n\n---\n\n**Sources:**\n1. [Yahoo Finance](https://finance.yahoo.com/quote/COST)\n2. [SEC EDGAR Filings](https://www.sec.gov/edgar/searchedgar/companysearch.html)\n3. NewsAPI\n4. StockChart52Weeks"
          },
          "metadata": {}
        }
      ]
    },
    {
      "cell_type": "markdown",
      "metadata": {
        "id": "987QsT47jjIH"
      },
      "source": [
        "## Self Reflection & Evaluation Agent\n",
        "\n",
        "This agent evaluates the tools agent output, and allows for human feedback to then further refine and optimize the report."
      ]
    },
    {
      "cell_type": "code",
      "execution_count": 36,
      "metadata": {
        "id": "hKhXB6THg4Ua",
        "colab": {
          "base_uri": "https://localhost:8080/"
        },
        "outputId": "35f23768-7ce4-4f1b-c68d-ccbf32fef6b8"
      },
      "outputs": [
        {
          "output_type": "stream",
          "name": "stderr",
          "text": [
            "/tmp/ipython-input-3191311660.py:31: LangGraphDeprecatedSinceV10: create_react_agent has been moved to `langchain.agents`. Please update your import to `from langchain.agents import create_agent`. Deprecated in LangGraph V1.0 to be removed in V2.0.\n",
            "  evaluator_agent = create_react_agent(\n"
          ]
        }
      ],
      "source": [
        "#Define Self Evaluation agent\n",
        "\n",
        "EVAL_PROMPT = \"\"\"\n",
        "You are an expert evaluator. Your primary job is to give feedback on the analysis below, NOT to overwrite or revise it.\n",
        "\n",
        "Instructions:\n",
        "\n",
        "- Always display the full analysis/summary input *exactly as received* at the start of your answer, clearly labeled.\n",
        "- Provide your commentary (improvement, completeness, feedback) **separately after the full input**.\n",
        "- If human feedback is supplied, include your response to it at the end **without changing the original summary**.\n",
        "\n",
        "FORMAT STRICTLY LIKE THIS:\n",
        "---\n",
        "Original Analysis:\n",
        "{input}\n",
        "\n",
        "Evaluator Commentary:\n",
        "[Your bullet points: Completeness, Succinctness, Accuracy, Clarity, Human Feedback summary, Suggestions, etc.]\n",
        "\n",
        "---\n",
        "\n",
        "Never rewrite or summarize the original analysis. Only provide clear, constructive evaluator commentary after reproducing the input in its original form.\n",
        "\n",
        "--- Human Feedback ---\n",
        "{human_feedback}\n",
        "\n",
        "\n",
        "\"\"\"\n",
        "\n",
        "#Define agent\n",
        "evaluator_agent = create_react_agent(\n",
        "    model=llm_openai,\n",
        "    tools = [], #No tools for this agent\n",
        "    prompt=EVAL_PROMPT,\n",
        "    debug=True\n",
        ")"
      ]
    },
    {
      "cell_type": "code",
      "source": [
        "#This function is to provide a clean input to the evaluator agent\n",
        "\n",
        "def get_eval_input(final_output, human_feedback, memory_context):\n",
        "    return f\"\"\"\n",
        "            Original Analysis:\n",
        "            {final_output}\n",
        "\n",
        "            --- Human Feedback ---\n",
        "            {human_feedback if human_feedback else \"no human feedback provided\"}\n",
        "\n",
        "            --- Memory ---\n",
        "            {memory_context if memory_context else \"no memory context\"}\n",
        "                \"\"\""
      ],
      "metadata": {
        "id": "S900K03n8ZMU"
      },
      "execution_count": 37,
      "outputs": []
    },
    {
      "cell_type": "markdown",
      "metadata": {
        "id": "KOBnNHeJl3r-"
      },
      "source": [
        "## Optimization Loop"
      ]
    },
    {
      "cell_type": "markdown",
      "source": [
        "Below is the primary function used to run the agent. The workflow goes as follows:\n",
        "\n",
        "Passes the prompt to the to the tools agent.\n",
        "Displays the tool agent's response to the user.\n",
        "The user inputs any feedback they have to the response.\n",
        "The session memory is queried if there are any relevant past questions about the specific stock\n",
        "The tool's response, the human feedback, and the memory (if there is a relavent one) are all passed to the evaluator agent.\n",
        "The evaluator agent critiques and improves upon the tool's response.\n",
        "The user is prompted if they would like to refine the response further. \"y\" leads to another iteration of the evaluator agent on its latest response; \"n\" ends the loop.\n",
        "Lastly, the user question, stock symbol, and final response are appended to the session memory object for future reference.\n"
      ],
      "metadata": {
        "id": "wFn9mbzWPKGs"
      }
    },
    {
      "cell_type": "code",
      "execution_count": 38,
      "metadata": {
        "id": "RSdS1bOg4dXt"
      },
      "outputs": [],
      "source": [
        "#This function runs the agents in an optimization kind of loop, to iterate based on feedback\n",
        "def optimization_loop(tools_agent,\n",
        "                      evaluator_agent,\n",
        "                      formatted_prompt,\n",
        "                      session_memory,\n",
        "                      PRINT_TOOL_MSGS=True\n",
        "                     ):\n",
        "    #Run tools agent\n",
        "    print(\"Conducting research...\")\n",
        "    tools_output = tools_agent.invoke({\n",
        "    \"messages\": [\n",
        "        {\"role\": \"user\", \"content\": formatted_prompt}\n",
        "        ]\n",
        "      })\n",
        "\n",
        "    #Clean print out the tool messages\n",
        "    if PRINT_TOOL_MSGS:\n",
        "        for msg in tools_output['messages']:\n",
        "            if msg.content:\n",
        "                print(f'{msg.content} |  tool {msg.name}\\n')\n",
        "\n",
        "    final_output = list(tools_output.values())[-1][-1].content\n",
        "    print(\"\\n--- Analysis Summary ---\")\n",
        "    print(final_output)\n",
        "\n",
        "    #Ask user for feedback\n",
        "    human_feedback = input(\"\\nPlease enter your feedback (areas to improve, missing info, corrections):\\n\")\n",
        "\n",
        "    #Grab memory if there is one.\n",
        "    stock_symbol = user_input\n",
        "    memory_context = query_memory(stock_symbol, session_memory)\n",
        "\n",
        "\n",
        "\n",
        "    evaluator_input = get_eval_input(final_output, human_feedback, memory_context)\n",
        "    #Evaluate and revise summary using feedback\n",
        "    eval_payload = {\n",
        "        \"messages\": evaluator_input,\n",
        "    }\n",
        "    print(\"\\nRunning evaluator with feedback...\")\n",
        "    revised_output = evaluator_agent.invoke(eval_payload)\n",
        "    final_output = revised_output['messages'][-1].content\n",
        "    print(\"\\n--- Revised Summary ---\")\n",
        "    print(final_output)\n",
        "\n",
        "    #Optional: Loop for more feedback\n",
        "    while True:\n",
        "        more = input(\"\\nWould you like to refine further? (y/n): \")\n",
        "        if more.lower().startswith(\"y\"):\n",
        "            human_feedback = input(\"Enter any further feedback:\\n\")\n",
        "            evaluator_input = get_eval_input(final_output, human_feedback, None)\n",
        "            eval_payload = {\n",
        "                            \"messages\": evaluator_input,\n",
        "                        }\n",
        "\n",
        "            revised_output = evaluator_agent.invoke(eval_payload)\n",
        "            final_output = revised_output['messages'][-1].content\n",
        "            print(\"\\n--- Refined Revised Summary ---\")\n",
        "            print(final_output)\n",
        "        else:\n",
        "            break\n",
        "\n",
        "    user_question = as_text(user_input)\n",
        "    symbol = extract_symbol(user_question)\n",
        "    final_answer = as_text(final_output)   # Use your utility function\n",
        "\n",
        "    SESSION_MEMORY.remember(symbol, user_question, final_answer)\n",
        "\n",
        "    print(\"\\nWorkflow complete. Final output above.\")\n",
        "    return clean_answer(revised_output)  #Return for pretty print"
      ]
    },
    {
      "cell_type": "markdown",
      "metadata": {
        "id": "UPxekd7Rj2KW"
      },
      "source": [
        "## Execution Function, Set The Agent Free"
      ]
    },
    {
      "cell_type": "markdown",
      "source": [
        "The actual running of the agents in sequence with human feedback\n",
        "\n"
      ],
      "metadata": {
        "id": "lu7BB4lg0ZEQ"
      }
    },
    {
      "cell_type": "code",
      "source": [
        "#Here again for easy redefining\n",
        "#User Input\n",
        "user_input = \"NVDA\" #Search for information on this company ticker\n",
        "\n",
        "# Create your formatted prompt\n",
        "formatted_prompt = ANALYSIS_PROMPT.format(\n",
        "    symbol=user_input,\n",
        "    context_memory=query_memory(user_input, SESSION_MEMORY)\n",
        ")"
      ],
      "metadata": {
        "id": "flTf-1C28vqw",
        "colab": {
          "base_uri": "https://localhost:8080/"
        },
        "outputId": "c14dc8e4-1da7-43ea-a4d3-85bd1a76e0d0"
      },
      "execution_count": 39,
      "outputs": [
        {
          "output_type": "stream",
          "name": "stdout",
          "text": [
            "query memory stock symbol =  NVDA\n"
          ]
        }
      ]
    },
    {
      "cell_type": "code",
      "execution_count": 45,
      "metadata": {
        "id": "xRPTUlph4xdI",
        "scrolled": true,
        "colab": {
          "base_uri": "https://localhost:8080/"
        },
        "outputId": "a353cabb-c723-4469-af8a-d3011eada3cd"
      },
      "outputs": [
        {
          "output_type": "stream",
          "name": "stdout",
          "text": [
            "Conducting research...\n",
            "\u001b[1m[values]\u001b[0m {'messages': [HumanMessage(content='\\nSystem Role: You are a detailed Financial Research Agent designed to analyze companies, securities, and markets with a structured workflow.\\n\\n**Your goal** For NVDA, provide a ~50 word investment summary, based on extensive reserach.\\n\\nInclude None to improve your answers.\\n\\nNEVER INCLUDE YOUR THOUGHT PROCESS IN THE RESULTS.\\n\\n\\n**Core Functions**\\n\\n1. Planning:\\nDevelop and print out a plan for each given stock symbol. Include a plan for a multi-step research process that defines what data to collect (e.g., news, market data, filings), what tools to use, and how to verify results.\\n\\nExample steps: “Collect company overview → Analyze financials → Cross-check recent filings → Summarize.”\\n\\n2. Tool Use:\\nUse all of your tools by default to hit APIs and data sources dynamically, such as Yahoo Finance, SEC EDGAR, news APIs, and any specialist analyzers. Choose the right tools and calls autonomously based on the goal of each stage. Return structured findings.\\n\\nTOOL USAGE REQUIREMENTS:\\n- Refer to the memory for useful data.\\n- ALWAYS include a timestamp of the run near the top of the report.\\n- Use at least 4 different tools for each analysis\\n- Cross-reference information from multiple sources\\n- If a tool fails, try alternative tools for the same data\\n- Always explain your reasoning between tool calls\\n\\n3. Self-Reflection:\\nEvaluate your output’s completeness, correctness, and coherence at each stage. If key data (e.g., P/E, recent filings, or market indicators) appears missing or uncertain, perform iterative refinement using another reasoning pass or additional tool calls.\\n\\n4. Memory/Learning:\\nRetain useful context from prior analyses (observations, missing data, errors, patterns in company performance). Use this \"brief memory\" to improve future research quality and efficiency.\\n\\n\\n**Workflow Logic**\\n\\nFollow a defined sequence for every research request:\\n* Ingest → Preprocess → Classify → Extract → Summarize\\n\\n1. Ingest: Gather relevant news, filings, and metrics. Use the webpage visit tool on any URLS.\\n\\n2. Preprocess: Clean, standardize, and interpret results from multiple tools.\\n\\n3. Classify: Route data to the correct analysis path (earnings, news, or market).\\n\\n4. Extract: Pull core signals, events, or values.\\n\\n5. Summarize: Synthesize insights in your final output.\\n\\n6. Routing:\\n  * Choose appropriate specialist analyzers according to data type:\\n\\n  * NewsAnalyzer for press, sentiment, or event narratives.\\n\\n  * MarketAnalyzer for indices, performance data, and macro context.\\n\\n7. Evaluation: Review reasoning and completeness, recall tools again if needed.\\n\\n\\n**Final Report**\\nAt the end of each session, create a final summary report that contains:\\n\\nUpdated output from EVERY tool as well as the TIMESTAMP near the top.\\n\\nNEVER include your internal planning information in the report.\\n\\nInclude citations such as [1] followed by a hyperlink at the bottom of the page for further review.\\n\\nRespond in clear, organized Markdown, including headings, bullet points, and labeled data sources for readability.\\n\\n**STOPPING RULE:** Once you have basic financials, recent news, and market context, conclude your analysis. Do not seek additional tools or data.\\n\\nBe thorough - this analysis will inform major investment decisions.\\n\\n', additional_kwargs={}, response_metadata={}, id='55ffd9d2-6586-42de-99a2-d0518920b62c')]}\n",
            "\u001b[1m[updates]\u001b[0m {'agent': {'messages': [AIMessage(content='', additional_kwargs={'refusal': None}, response_metadata={'token_usage': {'completion_tokens': 16, 'prompt_tokens': 1756, 'total_tokens': 1772, 'completion_tokens_details': {'accepted_prediction_tokens': 0, 'audio_tokens': 0, 'reasoning_tokens': 0, 'rejected_prediction_tokens': 0}, 'prompt_tokens_details': {'audio_tokens': 0, 'cached_tokens': 0}}, 'model_provider': 'openai', 'model_name': 'gpt-3.5-turbo-0125', 'system_fingerprint': None, 'id': 'chatcmpl-CSWnSyL9qHm38oitHpTRNN2ZxOYMi', 'service_tier': 'default', 'finish_reason': 'tool_calls', 'logprobs': None}, id='lc_run--4e56b118-9396-4ea6-ae5a-16ca4cfb406e-0', tool_calls=[{'name': 'TimestampTool', 'args': {'__arg1': 'now'}, 'id': 'call_TYzda4EykFxQmRVk0WwZHzkx', 'type': 'tool_call'}], usage_metadata={'input_tokens': 1756, 'output_tokens': 16, 'total_tokens': 1772, 'input_token_details': {'audio': 0, 'cache_read': 0}, 'output_token_details': {'audio': 0, 'reasoning': 0}})]}}\n",
            "\u001b[1m[values]\u001b[0m {'messages': [HumanMessage(content='\\nSystem Role: You are a detailed Financial Research Agent designed to analyze companies, securities, and markets with a structured workflow.\\n\\n**Your goal** For NVDA, provide a ~50 word investment summary, based on extensive reserach.\\n\\nInclude None to improve your answers.\\n\\nNEVER INCLUDE YOUR THOUGHT PROCESS IN THE RESULTS.\\n\\n\\n**Core Functions**\\n\\n1. Planning:\\nDevelop and print out a plan for each given stock symbol. Include a plan for a multi-step research process that defines what data to collect (e.g., news, market data, filings), what tools to use, and how to verify results.\\n\\nExample steps: “Collect company overview → Analyze financials → Cross-check recent filings → Summarize.”\\n\\n2. Tool Use:\\nUse all of your tools by default to hit APIs and data sources dynamically, such as Yahoo Finance, SEC EDGAR, news APIs, and any specialist analyzers. Choose the right tools and calls autonomously based on the goal of each stage. Return structured findings.\\n\\nTOOL USAGE REQUIREMENTS:\\n- Refer to the memory for useful data.\\n- ALWAYS include a timestamp of the run near the top of the report.\\n- Use at least 4 different tools for each analysis\\n- Cross-reference information from multiple sources\\n- If a tool fails, try alternative tools for the same data\\n- Always explain your reasoning between tool calls\\n\\n3. Self-Reflection:\\nEvaluate your output’s completeness, correctness, and coherence at each stage. If key data (e.g., P/E, recent filings, or market indicators) appears missing or uncertain, perform iterative refinement using another reasoning pass or additional tool calls.\\n\\n4. Memory/Learning:\\nRetain useful context from prior analyses (observations, missing data, errors, patterns in company performance). Use this \"brief memory\" to improve future research quality and efficiency.\\n\\n\\n**Workflow Logic**\\n\\nFollow a defined sequence for every research request:\\n* Ingest → Preprocess → Classify → Extract → Summarize\\n\\n1. Ingest: Gather relevant news, filings, and metrics. Use the webpage visit tool on any URLS.\\n\\n2. Preprocess: Clean, standardize, and interpret results from multiple tools.\\n\\n3. Classify: Route data to the correct analysis path (earnings, news, or market).\\n\\n4. Extract: Pull core signals, events, or values.\\n\\n5. Summarize: Synthesize insights in your final output.\\n\\n6. Routing:\\n  * Choose appropriate specialist analyzers according to data type:\\n\\n  * NewsAnalyzer for press, sentiment, or event narratives.\\n\\n  * MarketAnalyzer for indices, performance data, and macro context.\\n\\n7. Evaluation: Review reasoning and completeness, recall tools again if needed.\\n\\n\\n**Final Report**\\nAt the end of each session, create a final summary report that contains:\\n\\nUpdated output from EVERY tool as well as the TIMESTAMP near the top.\\n\\nNEVER include your internal planning information in the report.\\n\\nInclude citations such as [1] followed by a hyperlink at the bottom of the page for further review.\\n\\nRespond in clear, organized Markdown, including headings, bullet points, and labeled data sources for readability.\\n\\n**STOPPING RULE:** Once you have basic financials, recent news, and market context, conclude your analysis. Do not seek additional tools or data.\\n\\nBe thorough - this analysis will inform major investment decisions.\\n\\n', additional_kwargs={}, response_metadata={}, id='55ffd9d2-6586-42de-99a2-d0518920b62c'), AIMessage(content='', additional_kwargs={'refusal': None}, response_metadata={'token_usage': {'completion_tokens': 16, 'prompt_tokens': 1756, 'total_tokens': 1772, 'completion_tokens_details': {'accepted_prediction_tokens': 0, 'audio_tokens': 0, 'reasoning_tokens': 0, 'rejected_prediction_tokens': 0}, 'prompt_tokens_details': {'audio_tokens': 0, 'cached_tokens': 0}}, 'model_provider': 'openai', 'model_name': 'gpt-3.5-turbo-0125', 'system_fingerprint': None, 'id': 'chatcmpl-CSWnSyL9qHm38oitHpTRNN2ZxOYMi', 'service_tier': 'default', 'finish_reason': 'tool_calls', 'logprobs': None}, id='lc_run--4e56b118-9396-4ea6-ae5a-16ca4cfb406e-0', tool_calls=[{'name': 'TimestampTool', 'args': {'__arg1': 'now'}, 'id': 'call_TYzda4EykFxQmRVk0WwZHzkx', 'type': 'tool_call'}], usage_metadata={'input_tokens': 1756, 'output_tokens': 16, 'total_tokens': 1772, 'input_token_details': {'audio': 0, 'cache_read': 0}, 'output_token_details': {'audio': 0, 'reasoning': 0}})]}\n",
            "\u001b[1m[updates]\u001b[0m {'tools': {'messages': [ToolMessage(content='2025-10-19T23:08:11.074724+00:00', name='TimestampTool', id='a37c9bb9-bed6-46cf-8447-0c1f4d0f7300', tool_call_id='call_TYzda4EykFxQmRVk0WwZHzkx')]}}\n",
            "\u001b[1m[values]\u001b[0m {'messages': [HumanMessage(content='\\nSystem Role: You are a detailed Financial Research Agent designed to analyze companies, securities, and markets with a structured workflow.\\n\\n**Your goal** For NVDA, provide a ~50 word investment summary, based on extensive reserach.\\n\\nInclude None to improve your answers.\\n\\nNEVER INCLUDE YOUR THOUGHT PROCESS IN THE RESULTS.\\n\\n\\n**Core Functions**\\n\\n1. Planning:\\nDevelop and print out a plan for each given stock symbol. Include a plan for a multi-step research process that defines what data to collect (e.g., news, market data, filings), what tools to use, and how to verify results.\\n\\nExample steps: “Collect company overview → Analyze financials → Cross-check recent filings → Summarize.”\\n\\n2. Tool Use:\\nUse all of your tools by default to hit APIs and data sources dynamically, such as Yahoo Finance, SEC EDGAR, news APIs, and any specialist analyzers. Choose the right tools and calls autonomously based on the goal of each stage. Return structured findings.\\n\\nTOOL USAGE REQUIREMENTS:\\n- Refer to the memory for useful data.\\n- ALWAYS include a timestamp of the run near the top of the report.\\n- Use at least 4 different tools for each analysis\\n- Cross-reference information from multiple sources\\n- If a tool fails, try alternative tools for the same data\\n- Always explain your reasoning between tool calls\\n\\n3. Self-Reflection:\\nEvaluate your output’s completeness, correctness, and coherence at each stage. If key data (e.g., P/E, recent filings, or market indicators) appears missing or uncertain, perform iterative refinement using another reasoning pass or additional tool calls.\\n\\n4. Memory/Learning:\\nRetain useful context from prior analyses (observations, missing data, errors, patterns in company performance). Use this \"brief memory\" to improve future research quality and efficiency.\\n\\n\\n**Workflow Logic**\\n\\nFollow a defined sequence for every research request:\\n* Ingest → Preprocess → Classify → Extract → Summarize\\n\\n1. Ingest: Gather relevant news, filings, and metrics. Use the webpage visit tool on any URLS.\\n\\n2. Preprocess: Clean, standardize, and interpret results from multiple tools.\\n\\n3. Classify: Route data to the correct analysis path (earnings, news, or market).\\n\\n4. Extract: Pull core signals, events, or values.\\n\\n5. Summarize: Synthesize insights in your final output.\\n\\n6. Routing:\\n  * Choose appropriate specialist analyzers according to data type:\\n\\n  * NewsAnalyzer for press, sentiment, or event narratives.\\n\\n  * MarketAnalyzer for indices, performance data, and macro context.\\n\\n7. Evaluation: Review reasoning and completeness, recall tools again if needed.\\n\\n\\n**Final Report**\\nAt the end of each session, create a final summary report that contains:\\n\\nUpdated output from EVERY tool as well as the TIMESTAMP near the top.\\n\\nNEVER include your internal planning information in the report.\\n\\nInclude citations such as [1] followed by a hyperlink at the bottom of the page for further review.\\n\\nRespond in clear, organized Markdown, including headings, bullet points, and labeled data sources for readability.\\n\\n**STOPPING RULE:** Once you have basic financials, recent news, and market context, conclude your analysis. Do not seek additional tools or data.\\n\\nBe thorough - this analysis will inform major investment decisions.\\n\\n', additional_kwargs={}, response_metadata={}, id='55ffd9d2-6586-42de-99a2-d0518920b62c'), AIMessage(content='', additional_kwargs={'refusal': None}, response_metadata={'token_usage': {'completion_tokens': 16, 'prompt_tokens': 1756, 'total_tokens': 1772, 'completion_tokens_details': {'accepted_prediction_tokens': 0, 'audio_tokens': 0, 'reasoning_tokens': 0, 'rejected_prediction_tokens': 0}, 'prompt_tokens_details': {'audio_tokens': 0, 'cached_tokens': 0}}, 'model_provider': 'openai', 'model_name': 'gpt-3.5-turbo-0125', 'system_fingerprint': None, 'id': 'chatcmpl-CSWnSyL9qHm38oitHpTRNN2ZxOYMi', 'service_tier': 'default', 'finish_reason': 'tool_calls', 'logprobs': None}, id='lc_run--4e56b118-9396-4ea6-ae5a-16ca4cfb406e-0', tool_calls=[{'name': 'TimestampTool', 'args': {'__arg1': 'now'}, 'id': 'call_TYzda4EykFxQmRVk0WwZHzkx', 'type': 'tool_call'}], usage_metadata={'input_tokens': 1756, 'output_tokens': 16, 'total_tokens': 1772, 'input_token_details': {'audio': 0, 'cache_read': 0}, 'output_token_details': {'audio': 0, 'reasoning': 0}}), ToolMessage(content='2025-10-19T23:08:11.074724+00:00', name='TimestampTool', id='a37c9bb9-bed6-46cf-8447-0c1f4d0f7300', tool_call_id='call_TYzda4EykFxQmRVk0WwZHzkx')]}\n",
            "\u001b[1m[updates]\u001b[0m {'agent': {'messages': [AIMessage(content='', additional_kwargs={'refusal': None}, response_metadata={'token_usage': {'completion_tokens': 91, 'prompt_tokens': 1799, 'total_tokens': 1890, 'completion_tokens_details': {'accepted_prediction_tokens': 0, 'audio_tokens': 0, 'reasoning_tokens': 0, 'rejected_prediction_tokens': 0}, 'prompt_tokens_details': {'audio_tokens': 0, 'cached_tokens': 0}}, 'model_provider': 'openai', 'model_name': 'gpt-3.5-turbo-0125', 'system_fingerprint': None, 'id': 'chatcmpl-CSWnUpmixHr8i52dK07k5M3WBSNQj', 'service_tier': 'default', 'finish_reason': 'tool_calls', 'logprobs': None}, id='lc_run--99de1635-36b3-4f75-9797-a0fa0b38cf27-0', tool_calls=[{'name': 'YahooFinanceAPI', 'args': {'__arg1': 'NVDA'}, 'id': 'call_bdk3mowJ3zI0CGk5bPM5523B', 'type': 'tool_call'}, {'name': 'SECEDGARAPI', 'args': {'__arg1': 'NVDA'}, 'id': 'call_XpUDsycqS8lGZTqJihTyCcJH', 'type': 'tool_call'}, {'name': 'NewsAPI', 'args': {'__arg1': 'NVDA'}, 'id': 'call_guKwFrp8ka0IBn2PiUCNq4Gu', 'type': 'tool_call'}, {'name': 'TavilyNews', 'args': {'__arg1': 'NVDA'}, 'id': 'call_DTLDznFmJ1k3igLcGHYvjkni', 'type': 'tool_call'}], usage_metadata={'input_tokens': 1799, 'output_tokens': 91, 'total_tokens': 1890, 'input_token_details': {'audio': 0, 'cache_read': 0}, 'output_token_details': {'audio': 0, 'reasoning': 0}})]}}\n",
            "\u001b[1m[values]\u001b[0m {'messages': [HumanMessage(content='\\nSystem Role: You are a detailed Financial Research Agent designed to analyze companies, securities, and markets with a structured workflow.\\n\\n**Your goal** For NVDA, provide a ~50 word investment summary, based on extensive reserach.\\n\\nInclude None to improve your answers.\\n\\nNEVER INCLUDE YOUR THOUGHT PROCESS IN THE RESULTS.\\n\\n\\n**Core Functions**\\n\\n1. Planning:\\nDevelop and print out a plan for each given stock symbol. Include a plan for a multi-step research process that defines what data to collect (e.g., news, market data, filings), what tools to use, and how to verify results.\\n\\nExample steps: “Collect company overview → Analyze financials → Cross-check recent filings → Summarize.”\\n\\n2. Tool Use:\\nUse all of your tools by default to hit APIs and data sources dynamically, such as Yahoo Finance, SEC EDGAR, news APIs, and any specialist analyzers. Choose the right tools and calls autonomously based on the goal of each stage. Return structured findings.\\n\\nTOOL USAGE REQUIREMENTS:\\n- Refer to the memory for useful data.\\n- ALWAYS include a timestamp of the run near the top of the report.\\n- Use at least 4 different tools for each analysis\\n- Cross-reference information from multiple sources\\n- If a tool fails, try alternative tools for the same data\\n- Always explain your reasoning between tool calls\\n\\n3. Self-Reflection:\\nEvaluate your output’s completeness, correctness, and coherence at each stage. If key data (e.g., P/E, recent filings, or market indicators) appears missing or uncertain, perform iterative refinement using another reasoning pass or additional tool calls.\\n\\n4. Memory/Learning:\\nRetain useful context from prior analyses (observations, missing data, errors, patterns in company performance). Use this \"brief memory\" to improve future research quality and efficiency.\\n\\n\\n**Workflow Logic**\\n\\nFollow a defined sequence for every research request:\\n* Ingest → Preprocess → Classify → Extract → Summarize\\n\\n1. Ingest: Gather relevant news, filings, and metrics. Use the webpage visit tool on any URLS.\\n\\n2. Preprocess: Clean, standardize, and interpret results from multiple tools.\\n\\n3. Classify: Route data to the correct analysis path (earnings, news, or market).\\n\\n4. Extract: Pull core signals, events, or values.\\n\\n5. Summarize: Synthesize insights in your final output.\\n\\n6. Routing:\\n  * Choose appropriate specialist analyzers according to data type:\\n\\n  * NewsAnalyzer for press, sentiment, or event narratives.\\n\\n  * MarketAnalyzer for indices, performance data, and macro context.\\n\\n7. Evaluation: Review reasoning and completeness, recall tools again if needed.\\n\\n\\n**Final Report**\\nAt the end of each session, create a final summary report that contains:\\n\\nUpdated output from EVERY tool as well as the TIMESTAMP near the top.\\n\\nNEVER include your internal planning information in the report.\\n\\nInclude citations such as [1] followed by a hyperlink at the bottom of the page for further review.\\n\\nRespond in clear, organized Markdown, including headings, bullet points, and labeled data sources for readability.\\n\\n**STOPPING RULE:** Once you have basic financials, recent news, and market context, conclude your analysis. Do not seek additional tools or data.\\n\\nBe thorough - this analysis will inform major investment decisions.\\n\\n', additional_kwargs={}, response_metadata={}, id='55ffd9d2-6586-42de-99a2-d0518920b62c'), AIMessage(content='', additional_kwargs={'refusal': None}, response_metadata={'token_usage': {'completion_tokens': 16, 'prompt_tokens': 1756, 'total_tokens': 1772, 'completion_tokens_details': {'accepted_prediction_tokens': 0, 'audio_tokens': 0, 'reasoning_tokens': 0, 'rejected_prediction_tokens': 0}, 'prompt_tokens_details': {'audio_tokens': 0, 'cached_tokens': 0}}, 'model_provider': 'openai', 'model_name': 'gpt-3.5-turbo-0125', 'system_fingerprint': None, 'id': 'chatcmpl-CSWnSyL9qHm38oitHpTRNN2ZxOYMi', 'service_tier': 'default', 'finish_reason': 'tool_calls', 'logprobs': None}, id='lc_run--4e56b118-9396-4ea6-ae5a-16ca4cfb406e-0', tool_calls=[{'name': 'TimestampTool', 'args': {'__arg1': 'now'}, 'id': 'call_TYzda4EykFxQmRVk0WwZHzkx', 'type': 'tool_call'}], usage_metadata={'input_tokens': 1756, 'output_tokens': 16, 'total_tokens': 1772, 'input_token_details': {'audio': 0, 'cache_read': 0}, 'output_token_details': {'audio': 0, 'reasoning': 0}}), ToolMessage(content='2025-10-19T23:08:11.074724+00:00', name='TimestampTool', id='a37c9bb9-bed6-46cf-8447-0c1f4d0f7300', tool_call_id='call_TYzda4EykFxQmRVk0WwZHzkx'), AIMessage(content='', additional_kwargs={'refusal': None}, response_metadata={'token_usage': {'completion_tokens': 91, 'prompt_tokens': 1799, 'total_tokens': 1890, 'completion_tokens_details': {'accepted_prediction_tokens': 0, 'audio_tokens': 0, 'reasoning_tokens': 0, 'rejected_prediction_tokens': 0}, 'prompt_tokens_details': {'audio_tokens': 0, 'cached_tokens': 0}}, 'model_provider': 'openai', 'model_name': 'gpt-3.5-turbo-0125', 'system_fingerprint': None, 'id': 'chatcmpl-CSWnUpmixHr8i52dK07k5M3WBSNQj', 'service_tier': 'default', 'finish_reason': 'tool_calls', 'logprobs': None}, id='lc_run--99de1635-36b3-4f75-9797-a0fa0b38cf27-0', tool_calls=[{'name': 'YahooFinanceAPI', 'args': {'__arg1': 'NVDA'}, 'id': 'call_bdk3mowJ3zI0CGk5bPM5523B', 'type': 'tool_call'}, {'name': 'SECEDGARAPI', 'args': {'__arg1': 'NVDA'}, 'id': 'call_XpUDsycqS8lGZTqJihTyCcJH', 'type': 'tool_call'}, {'name': 'NewsAPI', 'args': {'__arg1': 'NVDA'}, 'id': 'call_guKwFrp8ka0IBn2PiUCNq4Gu', 'type': 'tool_call'}, {'name': 'TavilyNews', 'args': {'__arg1': 'NVDA'}, 'id': 'call_DTLDznFmJ1k3igLcGHYvjkni', 'type': 'tool_call'}], usage_metadata={'input_tokens': 1799, 'output_tokens': 91, 'total_tokens': 1890, 'input_token_details': {'audio': 0, 'cache_read': 0}, 'output_token_details': {'audio': 0, 'reasoning': 0}})]}\n",
            "\u001b[1m[updates]\u001b[0m {'tools': {'messages': [ToolMessage(content='Company: NVIDIA Corporation (NVDA)\\nSector: Technology\\nPrice: $183.22\\nMarket Cap: 4460857262080\\nP/E Ratio: 52.051136\\n52-Week High: 195.62\\n52-Week Low: 86.62\\nDividend Yield: 0.02\\nBeta: 2.123\\nRevenue: 165217992704\\nProfit Margin: 0.52414\\n', name='YahooFinanceAPI', tool_call_id='call_bdk3mowJ3zI0CGk5bPM5523B')]}}\n",
            "\u001b[1m[updates]\u001b[0m {'tools': {'messages': [ToolMessage(content='NVIDIA Corporation (NASDAQ:NVDA) is one of the AI Stocks Analysts Are Watching Closely. On October 15, HSBC analyst Frank Lee upgraded the stock to Buy from Hold and raised his target price to $320 per share from $200.\\nThe firm believes that the AI GPU total …\\nNVIDIA Corporation (NASDAQ:NVDA) is one of the AI Stocks Analysts Are Watching Closely. On October 15, HSBC analyst Frank Lee upgraded the stock to Buy from ...\\nAMD (Nasdaq: AMD) signed a massive deal with OpenAI that was announced before the market opened on October 6th. Since that date, shares of AMD are up an astounding 42% in under two weeks. That’s especially notable since shares of rival NVIDIA (Nasdaq: NVDA) a…\\nAMD (Nasdaq: AMD) signed a massive deal with OpenAI that was announced before the market opened on October 6th. Since that date, shares of AMD are up an astounding 42% in under two weeks. That’s especially notable since shares of rival NVIDIA (Nasdaq: NVDA) a…\\nKey Points\\n-\\nThe AI chip leader released its much-anticipated Blackwell platform late last year.\\n-\\nThe previous big release was the Hopper architecture, launched two years earlier, and the system drove major revenue gains.\\nAbout a year ago, Nvidia (NASDAQ: NV…\\nCharlie Garcia responds to readers about why younger Americans choosing real-world activities is the real deal.\\n\\u200b\\u200b\"Magnificent Seven\" stocks are Apple (AAPL), Microsoft (MSFT), Alphabet (GOOGL), Amazon (AMZN), Meta Platforms (META), Nvidia (NVDA), and Tesla (TSLA).', name='NewsAPI', tool_call_id='call_guKwFrp8ka0IBn2PiUCNq4Gu')]}}\n",
            "\u001b[1m[updates]\u001b[0m {'tools': {'messages': [ToolMessage(content='No articles found for this stock symbol.', name='TavilyNews', tool_call_id='call_DTLDznFmJ1k3igLcGHYvjkni')]}}\n",
            "\u001b[1m[updates]\u001b[0m {'tools': {'messages': [ToolMessage(content='Latest filings with summaries:\\n144 on 2025-10-17:\\nhttps://www.sec.gov/Archives/edgar/data/1045810/000192109425001272/xsl144X01/primary_doc.xml\\nSummary: Form 144 Filer Information UNITED STATES SECURITIES AND EXCHANGE COMMISSION Washington, D.C. 20549 Form 144 NOTICE OF PROPOSED SALE OF SECURITIES PURSUANT TO RULE 144 UNDER THE SECURITIES ACT OF 1933 FORM 144 144: Filer Information Filer CIK 0001197649 Filer CCC XXXXXXXX Is this a LIVE or TEST Filing? LIVE TEST Submission Contact Information Name Phone E-Mail Address 144: Issuer Information Name o\\n\\n144 on 2025-10-16:\\nhttps://www.sec.gov/Archives/edgar/data/1045810/000192109425001268/xsl144X01/primary_doc.xml\\nSummary: Form 144 Filer Information UNITED STATES SECURITIES AND EXCHANGE COMMISSION Washington, D.C. 20549 Form 144 NOTICE OF PROPOSED SALE OF SECURITIES PURSUANT TO RULE 144 UNDER THE SECURITIES ACT OF 1933 FORM 144 144: Filer Information Filer CIK 0001197649 Filer CCC XXXXXXXX Is this a LIVE or TEST Filing? LIVE TEST Submission Contact Information Name Phone E-Mail Address 144: Issuer Information Name o\\n\\n4 on 2025-10-15:\\nhttps://www.sec.gov/Archives/edgar/data/1045810/000119764925000048/xslF345X05/wk-form4_1760564872.xml\\nSummary: SEC FORM \\n            4 SEC Form 4 FORM 4 UNITED STATES SECURITIES AND EXCHANGE COMMISSION Washington, D.C. 20549 STATEMENT OF CHANGES IN BENEFICIAL OWNERSHIP Filed pursuant to Section 16(a) of the Securities Exchange Act of 1934 or Section 30(h) of the Investment Company Act of 1940 OMB APPROVAL OMB Number: 3235-0287 Estimated average burden hours per response: 0.5 Â\\xa0Â Check this box if no longer\\n', name='SECEDGARAPI', tool_call_id='call_XpUDsycqS8lGZTqJihTyCcJH')]}}\n",
            "\u001b[1m[values]\u001b[0m {'messages': [HumanMessage(content='\\nSystem Role: You are a detailed Financial Research Agent designed to analyze companies, securities, and markets with a structured workflow.\\n\\n**Your goal** For NVDA, provide a ~50 word investment summary, based on extensive reserach.\\n\\nInclude None to improve your answers.\\n\\nNEVER INCLUDE YOUR THOUGHT PROCESS IN THE RESULTS.\\n\\n\\n**Core Functions**\\n\\n1. Planning:\\nDevelop and print out a plan for each given stock symbol. Include a plan for a multi-step research process that defines what data to collect (e.g., news, market data, filings), what tools to use, and how to verify results.\\n\\nExample steps: “Collect company overview → Analyze financials → Cross-check recent filings → Summarize.”\\n\\n2. Tool Use:\\nUse all of your tools by default to hit APIs and data sources dynamically, such as Yahoo Finance, SEC EDGAR, news APIs, and any specialist analyzers. Choose the right tools and calls autonomously based on the goal of each stage. Return structured findings.\\n\\nTOOL USAGE REQUIREMENTS:\\n- Refer to the memory for useful data.\\n- ALWAYS include a timestamp of the run near the top of the report.\\n- Use at least 4 different tools for each analysis\\n- Cross-reference information from multiple sources\\n- If a tool fails, try alternative tools for the same data\\n- Always explain your reasoning between tool calls\\n\\n3. Self-Reflection:\\nEvaluate your output’s completeness, correctness, and coherence at each stage. If key data (e.g., P/E, recent filings, or market indicators) appears missing or uncertain, perform iterative refinement using another reasoning pass or additional tool calls.\\n\\n4. Memory/Learning:\\nRetain useful context from prior analyses (observations, missing data, errors, patterns in company performance). Use this \"brief memory\" to improve future research quality and efficiency.\\n\\n\\n**Workflow Logic**\\n\\nFollow a defined sequence for every research request:\\n* Ingest → Preprocess → Classify → Extract → Summarize\\n\\n1. Ingest: Gather relevant news, filings, and metrics. Use the webpage visit tool on any URLS.\\n\\n2. Preprocess: Clean, standardize, and interpret results from multiple tools.\\n\\n3. Classify: Route data to the correct analysis path (earnings, news, or market).\\n\\n4. Extract: Pull core signals, events, or values.\\n\\n5. Summarize: Synthesize insights in your final output.\\n\\n6. Routing:\\n  * Choose appropriate specialist analyzers according to data type:\\n\\n  * NewsAnalyzer for press, sentiment, or event narratives.\\n\\n  * MarketAnalyzer for indices, performance data, and macro context.\\n\\n7. Evaluation: Review reasoning and completeness, recall tools again if needed.\\n\\n\\n**Final Report**\\nAt the end of each session, create a final summary report that contains:\\n\\nUpdated output from EVERY tool as well as the TIMESTAMP near the top.\\n\\nNEVER include your internal planning information in the report.\\n\\nInclude citations such as [1] followed by a hyperlink at the bottom of the page for further review.\\n\\nRespond in clear, organized Markdown, including headings, bullet points, and labeled data sources for readability.\\n\\n**STOPPING RULE:** Once you have basic financials, recent news, and market context, conclude your analysis. Do not seek additional tools or data.\\n\\nBe thorough - this analysis will inform major investment decisions.\\n\\n', additional_kwargs={}, response_metadata={}, id='55ffd9d2-6586-42de-99a2-d0518920b62c'), AIMessage(content='', additional_kwargs={'refusal': None}, response_metadata={'token_usage': {'completion_tokens': 16, 'prompt_tokens': 1756, 'total_tokens': 1772, 'completion_tokens_details': {'accepted_prediction_tokens': 0, 'audio_tokens': 0, 'reasoning_tokens': 0, 'rejected_prediction_tokens': 0}, 'prompt_tokens_details': {'audio_tokens': 0, 'cached_tokens': 0}}, 'model_provider': 'openai', 'model_name': 'gpt-3.5-turbo-0125', 'system_fingerprint': None, 'id': 'chatcmpl-CSWnSyL9qHm38oitHpTRNN2ZxOYMi', 'service_tier': 'default', 'finish_reason': 'tool_calls', 'logprobs': None}, id='lc_run--4e56b118-9396-4ea6-ae5a-16ca4cfb406e-0', tool_calls=[{'name': 'TimestampTool', 'args': {'__arg1': 'now'}, 'id': 'call_TYzda4EykFxQmRVk0WwZHzkx', 'type': 'tool_call'}], usage_metadata={'input_tokens': 1756, 'output_tokens': 16, 'total_tokens': 1772, 'input_token_details': {'audio': 0, 'cache_read': 0}, 'output_token_details': {'audio': 0, 'reasoning': 0}}), ToolMessage(content='2025-10-19T23:08:11.074724+00:00', name='TimestampTool', id='a37c9bb9-bed6-46cf-8447-0c1f4d0f7300', tool_call_id='call_TYzda4EykFxQmRVk0WwZHzkx'), AIMessage(content='', additional_kwargs={'refusal': None}, response_metadata={'token_usage': {'completion_tokens': 91, 'prompt_tokens': 1799, 'total_tokens': 1890, 'completion_tokens_details': {'accepted_prediction_tokens': 0, 'audio_tokens': 0, 'reasoning_tokens': 0, 'rejected_prediction_tokens': 0}, 'prompt_tokens_details': {'audio_tokens': 0, 'cached_tokens': 0}}, 'model_provider': 'openai', 'model_name': 'gpt-3.5-turbo-0125', 'system_fingerprint': None, 'id': 'chatcmpl-CSWnUpmixHr8i52dK07k5M3WBSNQj', 'service_tier': 'default', 'finish_reason': 'tool_calls', 'logprobs': None}, id='lc_run--99de1635-36b3-4f75-9797-a0fa0b38cf27-0', tool_calls=[{'name': 'YahooFinanceAPI', 'args': {'__arg1': 'NVDA'}, 'id': 'call_bdk3mowJ3zI0CGk5bPM5523B', 'type': 'tool_call'}, {'name': 'SECEDGARAPI', 'args': {'__arg1': 'NVDA'}, 'id': 'call_XpUDsycqS8lGZTqJihTyCcJH', 'type': 'tool_call'}, {'name': 'NewsAPI', 'args': {'__arg1': 'NVDA'}, 'id': 'call_guKwFrp8ka0IBn2PiUCNq4Gu', 'type': 'tool_call'}, {'name': 'TavilyNews', 'args': {'__arg1': 'NVDA'}, 'id': 'call_DTLDznFmJ1k3igLcGHYvjkni', 'type': 'tool_call'}], usage_metadata={'input_tokens': 1799, 'output_tokens': 91, 'total_tokens': 1890, 'input_token_details': {'audio': 0, 'cache_read': 0}, 'output_token_details': {'audio': 0, 'reasoning': 0}}), ToolMessage(content='Company: NVIDIA Corporation (NVDA)\\nSector: Technology\\nPrice: $183.22\\nMarket Cap: 4460857262080\\nP/E Ratio: 52.051136\\n52-Week High: 195.62\\n52-Week Low: 86.62\\nDividend Yield: 0.02\\nBeta: 2.123\\nRevenue: 165217992704\\nProfit Margin: 0.52414\\n', name='YahooFinanceAPI', id='02b6a0fe-95b7-4073-aba5-cfd7862cbc84', tool_call_id='call_bdk3mowJ3zI0CGk5bPM5523B'), ToolMessage(content='Latest filings with summaries:\\n144 on 2025-10-17:\\nhttps://www.sec.gov/Archives/edgar/data/1045810/000192109425001272/xsl144X01/primary_doc.xml\\nSummary: Form 144 Filer Information UNITED STATES SECURITIES AND EXCHANGE COMMISSION Washington, D.C. 20549 Form 144 NOTICE OF PROPOSED SALE OF SECURITIES PURSUANT TO RULE 144 UNDER THE SECURITIES ACT OF 1933 FORM 144 144: Filer Information Filer CIK 0001197649 Filer CCC XXXXXXXX Is this a LIVE or TEST Filing? LIVE TEST Submission Contact Information Name Phone E-Mail Address 144: Issuer Information Name o\\n\\n144 on 2025-10-16:\\nhttps://www.sec.gov/Archives/edgar/data/1045810/000192109425001268/xsl144X01/primary_doc.xml\\nSummary: Form 144 Filer Information UNITED STATES SECURITIES AND EXCHANGE COMMISSION Washington, D.C. 20549 Form 144 NOTICE OF PROPOSED SALE OF SECURITIES PURSUANT TO RULE 144 UNDER THE SECURITIES ACT OF 1933 FORM 144 144: Filer Information Filer CIK 0001197649 Filer CCC XXXXXXXX Is this a LIVE or TEST Filing? LIVE TEST Submission Contact Information Name Phone E-Mail Address 144: Issuer Information Name o\\n\\n4 on 2025-10-15:\\nhttps://www.sec.gov/Archives/edgar/data/1045810/000119764925000048/xslF345X05/wk-form4_1760564872.xml\\nSummary: SEC FORM \\n            4 SEC Form 4 FORM 4 UNITED STATES SECURITIES AND EXCHANGE COMMISSION Washington, D.C. 20549 STATEMENT OF CHANGES IN BENEFICIAL OWNERSHIP Filed pursuant to Section 16(a) of the Securities Exchange Act of 1934 or Section 30(h) of the Investment Company Act of 1940 OMB APPROVAL OMB Number: 3235-0287 Estimated average burden hours per response: 0.5 Â\\xa0Â Check this box if no longer\\n', name='SECEDGARAPI', id='a0b7441e-2589-4ffa-8d72-4887bd82ea13', tool_call_id='call_XpUDsycqS8lGZTqJihTyCcJH'), ToolMessage(content='NVIDIA Corporation (NASDAQ:NVDA) is one of the AI Stocks Analysts Are Watching Closely. On October 15, HSBC analyst Frank Lee upgraded the stock to Buy from Hold and raised his target price to $320 per share from $200.\\nThe firm believes that the AI GPU total …\\nNVIDIA Corporation (NASDAQ:NVDA) is one of the AI Stocks Analysts Are Watching Closely. On October 15, HSBC analyst Frank Lee upgraded the stock to Buy from ...\\nAMD (Nasdaq: AMD) signed a massive deal with OpenAI that was announced before the market opened on October 6th. Since that date, shares of AMD are up an astounding 42% in under two weeks. That’s especially notable since shares of rival NVIDIA (Nasdaq: NVDA) a…\\nAMD (Nasdaq: AMD) signed a massive deal with OpenAI that was announced before the market opened on October 6th. Since that date, shares of AMD are up an astounding 42% in under two weeks. That’s especially notable since shares of rival NVIDIA (Nasdaq: NVDA) a…\\nKey Points\\n-\\nThe AI chip leader released its much-anticipated Blackwell platform late last year.\\n-\\nThe previous big release was the Hopper architecture, launched two years earlier, and the system drove major revenue gains.\\nAbout a year ago, Nvidia (NASDAQ: NV…\\nCharlie Garcia responds to readers about why younger Americans choosing real-world activities is the real deal.\\n\\u200b\\u200b\"Magnificent Seven\" stocks are Apple (AAPL), Microsoft (MSFT), Alphabet (GOOGL), Amazon (AMZN), Meta Platforms (META), Nvidia (NVDA), and Tesla (TSLA).', name='NewsAPI', id='81a89aca-5dc7-4913-826a-981fe171b154', tool_call_id='call_guKwFrp8ka0IBn2PiUCNq4Gu'), ToolMessage(content='No articles found for this stock symbol.', name='TavilyNews', id='81f5e9de-87ac-4f68-bb83-005f7f326411', tool_call_id='call_DTLDznFmJ1k3igLcGHYvjkni')]}\n",
            "\u001b[1m[updates]\u001b[0m {'agent': {'messages': [AIMessage(content='## Investment Summary for NVDA\\n\\n- **Company Overview:**\\n  - **Company:** NVIDIA Corporation (NVDA)\\n  - **Sector:** Technology\\n  - **Price:** $183.22\\n  - **Market Cap:** $4,460,857,262,080\\n  - **P/E Ratio:** 52.05\\n  - **52-Week High:** $195.62\\n  - **52-Week Low:** $86.62\\n  - **Dividend Yield:** 0.02\\n  - **Beta:** 2.123\\n  - **Revenue:** $165,217,992,704\\n  - **Profit Margin:** 52.41%\\n\\n- **Recent Filings:**\\n  - **144 on 2025-10-17:** [Link to Filing](https://www.sec.gov/Archives/edgar/data/1045810/000192109425001272/xsl144X01/primary_doc.xml)\\n  - **144 on 2025-10-16:** [Link to Filing](https://www.sec.gov/Archives/edgar/data/1045810/000192109425001268/xsl144X01/primary_doc.xml)\\n  - **4 on 2025-10-15:** [Link to Filing](https://www.sec.gov/Archives/edgar/data/1045810/000119764925000048/xslF345X05/wk-form4_1760564872.xml)\\n\\n- **Recent News:**\\n  - NVIDIA upgraded to Buy by HSBC analyst Frank Lee with a target price of $320 per share.\\n  - AMD signed a significant deal with OpenAI, impacting the market positively.\\n  - NVIDIA released the Blackwell platform, following the successful Hopper architecture launch.\\n\\n- **Market Sentiment:**\\n  - No articles found for NVDA.\\n\\n---\\n\\n**Data Sources:**\\n1. Yahoo Finance API\\n2. SEC EDGAR API\\n3. News API\\n4. Tavily News API\\n\\n[1] Data retrieved from various sources as of 2025-10-19.', additional_kwargs={'refusal': None}, response_metadata={'token_usage': {'completion_tokens': 442, 'prompt_tokens': 2876, 'total_tokens': 3318, 'completion_tokens_details': {'accepted_prediction_tokens': 0, 'audio_tokens': 0, 'reasoning_tokens': 0, 'rejected_prediction_tokens': 0}, 'prompt_tokens_details': {'audio_tokens': 0, 'cached_tokens': 0}}, 'model_provider': 'openai', 'model_name': 'gpt-3.5-turbo-0125', 'system_fingerprint': None, 'id': 'chatcmpl-CSWnbkyNBu8kxvubGjIZm05aVmUN3', 'service_tier': 'default', 'finish_reason': 'stop', 'logprobs': None}, id='lc_run--335ff26b-9daa-4837-93f8-8d610969c7c8-0', usage_metadata={'input_tokens': 2876, 'output_tokens': 442, 'total_tokens': 3318, 'input_token_details': {'audio': 0, 'cache_read': 0}, 'output_token_details': {'audio': 0, 'reasoning': 0}})]}}\n",
            "\u001b[1m[values]\u001b[0m {'messages': [HumanMessage(content='\\nSystem Role: You are a detailed Financial Research Agent designed to analyze companies, securities, and markets with a structured workflow.\\n\\n**Your goal** For NVDA, provide a ~50 word investment summary, based on extensive reserach.\\n\\nInclude None to improve your answers.\\n\\nNEVER INCLUDE YOUR THOUGHT PROCESS IN THE RESULTS.\\n\\n\\n**Core Functions**\\n\\n1. Planning:\\nDevelop and print out a plan for each given stock symbol. Include a plan for a multi-step research process that defines what data to collect (e.g., news, market data, filings), what tools to use, and how to verify results.\\n\\nExample steps: “Collect company overview → Analyze financials → Cross-check recent filings → Summarize.”\\n\\n2. Tool Use:\\nUse all of your tools by default to hit APIs and data sources dynamically, such as Yahoo Finance, SEC EDGAR, news APIs, and any specialist analyzers. Choose the right tools and calls autonomously based on the goal of each stage. Return structured findings.\\n\\nTOOL USAGE REQUIREMENTS:\\n- Refer to the memory for useful data.\\n- ALWAYS include a timestamp of the run near the top of the report.\\n- Use at least 4 different tools for each analysis\\n- Cross-reference information from multiple sources\\n- If a tool fails, try alternative tools for the same data\\n- Always explain your reasoning between tool calls\\n\\n3. Self-Reflection:\\nEvaluate your output’s completeness, correctness, and coherence at each stage. If key data (e.g., P/E, recent filings, or market indicators) appears missing or uncertain, perform iterative refinement using another reasoning pass or additional tool calls.\\n\\n4. Memory/Learning:\\nRetain useful context from prior analyses (observations, missing data, errors, patterns in company performance). Use this \"brief memory\" to improve future research quality and efficiency.\\n\\n\\n**Workflow Logic**\\n\\nFollow a defined sequence for every research request:\\n* Ingest → Preprocess → Classify → Extract → Summarize\\n\\n1. Ingest: Gather relevant news, filings, and metrics. Use the webpage visit tool on any URLS.\\n\\n2. Preprocess: Clean, standardize, and interpret results from multiple tools.\\n\\n3. Classify: Route data to the correct analysis path (earnings, news, or market).\\n\\n4. Extract: Pull core signals, events, or values.\\n\\n5. Summarize: Synthesize insights in your final output.\\n\\n6. Routing:\\n  * Choose appropriate specialist analyzers according to data type:\\n\\n  * NewsAnalyzer for press, sentiment, or event narratives.\\n\\n  * MarketAnalyzer for indices, performance data, and macro context.\\n\\n7. Evaluation: Review reasoning and completeness, recall tools again if needed.\\n\\n\\n**Final Report**\\nAt the end of each session, create a final summary report that contains:\\n\\nUpdated output from EVERY tool as well as the TIMESTAMP near the top.\\n\\nNEVER include your internal planning information in the report.\\n\\nInclude citations such as [1] followed by a hyperlink at the bottom of the page for further review.\\n\\nRespond in clear, organized Markdown, including headings, bullet points, and labeled data sources for readability.\\n\\n**STOPPING RULE:** Once you have basic financials, recent news, and market context, conclude your analysis. Do not seek additional tools or data.\\n\\nBe thorough - this analysis will inform major investment decisions.\\n\\n', additional_kwargs={}, response_metadata={}, id='55ffd9d2-6586-42de-99a2-d0518920b62c'), AIMessage(content='', additional_kwargs={'refusal': None}, response_metadata={'token_usage': {'completion_tokens': 16, 'prompt_tokens': 1756, 'total_tokens': 1772, 'completion_tokens_details': {'accepted_prediction_tokens': 0, 'audio_tokens': 0, 'reasoning_tokens': 0, 'rejected_prediction_tokens': 0}, 'prompt_tokens_details': {'audio_tokens': 0, 'cached_tokens': 0}}, 'model_provider': 'openai', 'model_name': 'gpt-3.5-turbo-0125', 'system_fingerprint': None, 'id': 'chatcmpl-CSWnSyL9qHm38oitHpTRNN2ZxOYMi', 'service_tier': 'default', 'finish_reason': 'tool_calls', 'logprobs': None}, id='lc_run--4e56b118-9396-4ea6-ae5a-16ca4cfb406e-0', tool_calls=[{'name': 'TimestampTool', 'args': {'__arg1': 'now'}, 'id': 'call_TYzda4EykFxQmRVk0WwZHzkx', 'type': 'tool_call'}], usage_metadata={'input_tokens': 1756, 'output_tokens': 16, 'total_tokens': 1772, 'input_token_details': {'audio': 0, 'cache_read': 0}, 'output_token_details': {'audio': 0, 'reasoning': 0}}), ToolMessage(content='2025-10-19T23:08:11.074724+00:00', name='TimestampTool', id='a37c9bb9-bed6-46cf-8447-0c1f4d0f7300', tool_call_id='call_TYzda4EykFxQmRVk0WwZHzkx'), AIMessage(content='', additional_kwargs={'refusal': None}, response_metadata={'token_usage': {'completion_tokens': 91, 'prompt_tokens': 1799, 'total_tokens': 1890, 'completion_tokens_details': {'accepted_prediction_tokens': 0, 'audio_tokens': 0, 'reasoning_tokens': 0, 'rejected_prediction_tokens': 0}, 'prompt_tokens_details': {'audio_tokens': 0, 'cached_tokens': 0}}, 'model_provider': 'openai', 'model_name': 'gpt-3.5-turbo-0125', 'system_fingerprint': None, 'id': 'chatcmpl-CSWnUpmixHr8i52dK07k5M3WBSNQj', 'service_tier': 'default', 'finish_reason': 'tool_calls', 'logprobs': None}, id='lc_run--99de1635-36b3-4f75-9797-a0fa0b38cf27-0', tool_calls=[{'name': 'YahooFinanceAPI', 'args': {'__arg1': 'NVDA'}, 'id': 'call_bdk3mowJ3zI0CGk5bPM5523B', 'type': 'tool_call'}, {'name': 'SECEDGARAPI', 'args': {'__arg1': 'NVDA'}, 'id': 'call_XpUDsycqS8lGZTqJihTyCcJH', 'type': 'tool_call'}, {'name': 'NewsAPI', 'args': {'__arg1': 'NVDA'}, 'id': 'call_guKwFrp8ka0IBn2PiUCNq4Gu', 'type': 'tool_call'}, {'name': 'TavilyNews', 'args': {'__arg1': 'NVDA'}, 'id': 'call_DTLDznFmJ1k3igLcGHYvjkni', 'type': 'tool_call'}], usage_metadata={'input_tokens': 1799, 'output_tokens': 91, 'total_tokens': 1890, 'input_token_details': {'audio': 0, 'cache_read': 0}, 'output_token_details': {'audio': 0, 'reasoning': 0}}), ToolMessage(content='Company: NVIDIA Corporation (NVDA)\\nSector: Technology\\nPrice: $183.22\\nMarket Cap: 4460857262080\\nP/E Ratio: 52.051136\\n52-Week High: 195.62\\n52-Week Low: 86.62\\nDividend Yield: 0.02\\nBeta: 2.123\\nRevenue: 165217992704\\nProfit Margin: 0.52414\\n', name='YahooFinanceAPI', id='02b6a0fe-95b7-4073-aba5-cfd7862cbc84', tool_call_id='call_bdk3mowJ3zI0CGk5bPM5523B'), ToolMessage(content='Latest filings with summaries:\\n144 on 2025-10-17:\\nhttps://www.sec.gov/Archives/edgar/data/1045810/000192109425001272/xsl144X01/primary_doc.xml\\nSummary: Form 144 Filer Information UNITED STATES SECURITIES AND EXCHANGE COMMISSION Washington, D.C. 20549 Form 144 NOTICE OF PROPOSED SALE OF SECURITIES PURSUANT TO RULE 144 UNDER THE SECURITIES ACT OF 1933 FORM 144 144: Filer Information Filer CIK 0001197649 Filer CCC XXXXXXXX Is this a LIVE or TEST Filing? LIVE TEST Submission Contact Information Name Phone E-Mail Address 144: Issuer Information Name o\\n\\n144 on 2025-10-16:\\nhttps://www.sec.gov/Archives/edgar/data/1045810/000192109425001268/xsl144X01/primary_doc.xml\\nSummary: Form 144 Filer Information UNITED STATES SECURITIES AND EXCHANGE COMMISSION Washington, D.C. 20549 Form 144 NOTICE OF PROPOSED SALE OF SECURITIES PURSUANT TO RULE 144 UNDER THE SECURITIES ACT OF 1933 FORM 144 144: Filer Information Filer CIK 0001197649 Filer CCC XXXXXXXX Is this a LIVE or TEST Filing? LIVE TEST Submission Contact Information Name Phone E-Mail Address 144: Issuer Information Name o\\n\\n4 on 2025-10-15:\\nhttps://www.sec.gov/Archives/edgar/data/1045810/000119764925000048/xslF345X05/wk-form4_1760564872.xml\\nSummary: SEC FORM \\n            4 SEC Form 4 FORM 4 UNITED STATES SECURITIES AND EXCHANGE COMMISSION Washington, D.C. 20549 STATEMENT OF CHANGES IN BENEFICIAL OWNERSHIP Filed pursuant to Section 16(a) of the Securities Exchange Act of 1934 or Section 30(h) of the Investment Company Act of 1940 OMB APPROVAL OMB Number: 3235-0287 Estimated average burden hours per response: 0.5 Â\\xa0Â Check this box if no longer\\n', name='SECEDGARAPI', id='a0b7441e-2589-4ffa-8d72-4887bd82ea13', tool_call_id='call_XpUDsycqS8lGZTqJihTyCcJH'), ToolMessage(content='NVIDIA Corporation (NASDAQ:NVDA) is one of the AI Stocks Analysts Are Watching Closely. On October 15, HSBC analyst Frank Lee upgraded the stock to Buy from Hold and raised his target price to $320 per share from $200.\\nThe firm believes that the AI GPU total …\\nNVIDIA Corporation (NASDAQ:NVDA) is one of the AI Stocks Analysts Are Watching Closely. On October 15, HSBC analyst Frank Lee upgraded the stock to Buy from ...\\nAMD (Nasdaq: AMD) signed a massive deal with OpenAI that was announced before the market opened on October 6th. Since that date, shares of AMD are up an astounding 42% in under two weeks. That’s especially notable since shares of rival NVIDIA (Nasdaq: NVDA) a…\\nAMD (Nasdaq: AMD) signed a massive deal with OpenAI that was announced before the market opened on October 6th. Since that date, shares of AMD are up an astounding 42% in under two weeks. That’s especially notable since shares of rival NVIDIA (Nasdaq: NVDA) a…\\nKey Points\\n-\\nThe AI chip leader released its much-anticipated Blackwell platform late last year.\\n-\\nThe previous big release was the Hopper architecture, launched two years earlier, and the system drove major revenue gains.\\nAbout a year ago, Nvidia (NASDAQ: NV…\\nCharlie Garcia responds to readers about why younger Americans choosing real-world activities is the real deal.\\n\\u200b\\u200b\"Magnificent Seven\" stocks are Apple (AAPL), Microsoft (MSFT), Alphabet (GOOGL), Amazon (AMZN), Meta Platforms (META), Nvidia (NVDA), and Tesla (TSLA).', name='NewsAPI', id='81a89aca-5dc7-4913-826a-981fe171b154', tool_call_id='call_guKwFrp8ka0IBn2PiUCNq4Gu'), ToolMessage(content='No articles found for this stock symbol.', name='TavilyNews', id='81f5e9de-87ac-4f68-bb83-005f7f326411', tool_call_id='call_DTLDznFmJ1k3igLcGHYvjkni'), AIMessage(content='## Investment Summary for NVDA\\n\\n- **Company Overview:**\\n  - **Company:** NVIDIA Corporation (NVDA)\\n  - **Sector:** Technology\\n  - **Price:** $183.22\\n  - **Market Cap:** $4,460,857,262,080\\n  - **P/E Ratio:** 52.05\\n  - **52-Week High:** $195.62\\n  - **52-Week Low:** $86.62\\n  - **Dividend Yield:** 0.02\\n  - **Beta:** 2.123\\n  - **Revenue:** $165,217,992,704\\n  - **Profit Margin:** 52.41%\\n\\n- **Recent Filings:**\\n  - **144 on 2025-10-17:** [Link to Filing](https://www.sec.gov/Archives/edgar/data/1045810/000192109425001272/xsl144X01/primary_doc.xml)\\n  - **144 on 2025-10-16:** [Link to Filing](https://www.sec.gov/Archives/edgar/data/1045810/000192109425001268/xsl144X01/primary_doc.xml)\\n  - **4 on 2025-10-15:** [Link to Filing](https://www.sec.gov/Archives/edgar/data/1045810/000119764925000048/xslF345X05/wk-form4_1760564872.xml)\\n\\n- **Recent News:**\\n  - NVIDIA upgraded to Buy by HSBC analyst Frank Lee with a target price of $320 per share.\\n  - AMD signed a significant deal with OpenAI, impacting the market positively.\\n  - NVIDIA released the Blackwell platform, following the successful Hopper architecture launch.\\n\\n- **Market Sentiment:**\\n  - No articles found for NVDA.\\n\\n---\\n\\n**Data Sources:**\\n1. Yahoo Finance API\\n2. SEC EDGAR API\\n3. News API\\n4. Tavily News API\\n\\n[1] Data retrieved from various sources as of 2025-10-19.', additional_kwargs={'refusal': None}, response_metadata={'token_usage': {'completion_tokens': 442, 'prompt_tokens': 2876, 'total_tokens': 3318, 'completion_tokens_details': {'accepted_prediction_tokens': 0, 'audio_tokens': 0, 'reasoning_tokens': 0, 'rejected_prediction_tokens': 0}, 'prompt_tokens_details': {'audio_tokens': 0, 'cached_tokens': 0}}, 'model_provider': 'openai', 'model_name': 'gpt-3.5-turbo-0125', 'system_fingerprint': None, 'id': 'chatcmpl-CSWnbkyNBu8kxvubGjIZm05aVmUN3', 'service_tier': 'default', 'finish_reason': 'stop', 'logprobs': None}, id='lc_run--335ff26b-9daa-4837-93f8-8d610969c7c8-0', usage_metadata={'input_tokens': 2876, 'output_tokens': 442, 'total_tokens': 3318, 'input_token_details': {'audio': 0, 'cache_read': 0}, 'output_token_details': {'audio': 0, 'reasoning': 0}})]}\n",
            "\n",
            "System Role: You are a detailed Financial Research Agent designed to analyze companies, securities, and markets with a structured workflow.\n",
            "\n",
            "**Your goal** For NVDA, provide a ~50 word investment summary, based on extensive reserach.\n",
            "\n",
            "Include None to improve your answers.\n",
            "\n",
            "NEVER INCLUDE YOUR THOUGHT PROCESS IN THE RESULTS.\n",
            "\n",
            "\n",
            "**Core Functions**\n",
            "\n",
            "1. Planning:\n",
            "Develop and print out a plan for each given stock symbol. Include a plan for a multi-step research process that defines what data to collect (e.g., news, market data, filings), what tools to use, and how to verify results.\n",
            "\n",
            "Example steps: “Collect company overview → Analyze financials → Cross-check recent filings → Summarize.”\n",
            "\n",
            "2. Tool Use:\n",
            "Use all of your tools by default to hit APIs and data sources dynamically, such as Yahoo Finance, SEC EDGAR, news APIs, and any specialist analyzers. Choose the right tools and calls autonomously based on the goal of each stage. Return structured findings.\n",
            "\n",
            "TOOL USAGE REQUIREMENTS:\n",
            "- Refer to the memory for useful data.\n",
            "- ALWAYS include a timestamp of the run near the top of the report.\n",
            "- Use at least 4 different tools for each analysis\n",
            "- Cross-reference information from multiple sources\n",
            "- If a tool fails, try alternative tools for the same data\n",
            "- Always explain your reasoning between tool calls\n",
            "\n",
            "3. Self-Reflection:\n",
            "Evaluate your output’s completeness, correctness, and coherence at each stage. If key data (e.g., P/E, recent filings, or market indicators) appears missing or uncertain, perform iterative refinement using another reasoning pass or additional tool calls.\n",
            "\n",
            "4. Memory/Learning:\n",
            "Retain useful context from prior analyses (observations, missing data, errors, patterns in company performance). Use this \"brief memory\" to improve future research quality and efficiency.\n",
            "\n",
            "\n",
            "**Workflow Logic**\n",
            "\n",
            "Follow a defined sequence for every research request:\n",
            "* Ingest → Preprocess → Classify → Extract → Summarize\n",
            "\n",
            "1. Ingest: Gather relevant news, filings, and metrics. Use the webpage visit tool on any URLS.\n",
            "\n",
            "2. Preprocess: Clean, standardize, and interpret results from multiple tools.\n",
            "\n",
            "3. Classify: Route data to the correct analysis path (earnings, news, or market).\n",
            "\n",
            "4. Extract: Pull core signals, events, or values.\n",
            "\n",
            "5. Summarize: Synthesize insights in your final output.\n",
            "\n",
            "6. Routing:\n",
            "  * Choose appropriate specialist analyzers according to data type:\n",
            "\n",
            "  * NewsAnalyzer for press, sentiment, or event narratives.\n",
            "\n",
            "  * MarketAnalyzer for indices, performance data, and macro context.\n",
            "\n",
            "7. Evaluation: Review reasoning and completeness, recall tools again if needed.\n",
            "\n",
            "\n",
            "**Final Report**\n",
            "At the end of each session, create a final summary report that contains:\n",
            "\n",
            "Updated output from EVERY tool as well as the TIMESTAMP near the top.\n",
            "\n",
            "NEVER include your internal planning information in the report.\n",
            "\n",
            "Include citations such as [1] followed by a hyperlink at the bottom of the page for further review.\n",
            "\n",
            "Respond in clear, organized Markdown, including headings, bullet points, and labeled data sources for readability.\n",
            "\n",
            "**STOPPING RULE:** Once you have basic financials, recent news, and market context, conclude your analysis. Do not seek additional tools or data.\n",
            "\n",
            "Be thorough - this analysis will inform major investment decisions.\n",
            "\n",
            " |  tool None\n",
            "\n",
            "2025-10-19T23:08:11.074724+00:00 |  tool TimestampTool\n",
            "\n",
            "Company: NVIDIA Corporation (NVDA)\n",
            "Sector: Technology\n",
            "Price: $183.22\n",
            "Market Cap: 4460857262080\n",
            "P/E Ratio: 52.051136\n",
            "52-Week High: 195.62\n",
            "52-Week Low: 86.62\n",
            "Dividend Yield: 0.02\n",
            "Beta: 2.123\n",
            "Revenue: 165217992704\n",
            "Profit Margin: 0.52414\n",
            " |  tool YahooFinanceAPI\n",
            "\n",
            "Latest filings with summaries:\n",
            "144 on 2025-10-17:\n",
            "https://www.sec.gov/Archives/edgar/data/1045810/000192109425001272/xsl144X01/primary_doc.xml\n",
            "Summary: Form 144 Filer Information UNITED STATES SECURITIES AND EXCHANGE COMMISSION Washington, D.C. 20549 Form 144 NOTICE OF PROPOSED SALE OF SECURITIES PURSUANT TO RULE 144 UNDER THE SECURITIES ACT OF 1933 FORM 144 144: Filer Information Filer CIK 0001197649 Filer CCC XXXXXXXX Is this a LIVE or TEST Filing? LIVE TEST Submission Contact Information Name Phone E-Mail Address 144: Issuer Information Name o\n",
            "\n",
            "144 on 2025-10-16:\n",
            "https://www.sec.gov/Archives/edgar/data/1045810/000192109425001268/xsl144X01/primary_doc.xml\n",
            "Summary: Form 144 Filer Information UNITED STATES SECURITIES AND EXCHANGE COMMISSION Washington, D.C. 20549 Form 144 NOTICE OF PROPOSED SALE OF SECURITIES PURSUANT TO RULE 144 UNDER THE SECURITIES ACT OF 1933 FORM 144 144: Filer Information Filer CIK 0001197649 Filer CCC XXXXXXXX Is this a LIVE or TEST Filing? LIVE TEST Submission Contact Information Name Phone E-Mail Address 144: Issuer Information Name o\n",
            "\n",
            "4 on 2025-10-15:\n",
            "https://www.sec.gov/Archives/edgar/data/1045810/000119764925000048/xslF345X05/wk-form4_1760564872.xml\n",
            "Summary: SEC FORM \n",
            "            4 SEC Form 4 FORM 4 UNITED STATES SECURITIES AND EXCHANGE COMMISSION Washington, D.C. 20549 STATEMENT OF CHANGES IN BENEFICIAL OWNERSHIP Filed pursuant to Section 16(a) of the Securities Exchange Act of 1934 or Section 30(h) of the Investment Company Act of 1940 OMB APPROVAL OMB Number: 3235-0287 Estimated average burden hours per response: 0.5 Â Â Check this box if no longer\n",
            " |  tool SECEDGARAPI\n",
            "\n",
            "NVIDIA Corporation (NASDAQ:NVDA) is one of the AI Stocks Analysts Are Watching Closely. On October 15, HSBC analyst Frank Lee upgraded the stock to Buy from Hold and raised his target price to $320 per share from $200.\n",
            "The firm believes that the AI GPU total …\n",
            "NVIDIA Corporation (NASDAQ:NVDA) is one of the AI Stocks Analysts Are Watching Closely. On October 15, HSBC analyst Frank Lee upgraded the stock to Buy from ...\n",
            "AMD (Nasdaq: AMD) signed a massive deal with OpenAI that was announced before the market opened on October 6th. Since that date, shares of AMD are up an astounding 42% in under two weeks. That’s especially notable since shares of rival NVIDIA (Nasdaq: NVDA) a…\n",
            "AMD (Nasdaq: AMD) signed a massive deal with OpenAI that was announced before the market opened on October 6th. Since that date, shares of AMD are up an astounding 42% in under two weeks. That’s especially notable since shares of rival NVIDIA (Nasdaq: NVDA) a…\n",
            "Key Points\n",
            "-\n",
            "The AI chip leader released its much-anticipated Blackwell platform late last year.\n",
            "-\n",
            "The previous big release was the Hopper architecture, launched two years earlier, and the system drove major revenue gains.\n",
            "About a year ago, Nvidia (NASDAQ: NV…\n",
            "Charlie Garcia responds to readers about why younger Americans choosing real-world activities is the real deal.\n",
            "​​\"Magnificent Seven\" stocks are Apple (AAPL), Microsoft (MSFT), Alphabet (GOOGL), Amazon (AMZN), Meta Platforms (META), Nvidia (NVDA), and Tesla (TSLA). |  tool NewsAPI\n",
            "\n",
            "No articles found for this stock symbol. |  tool TavilyNews\n",
            "\n",
            "## Investment Summary for NVDA\n",
            "\n",
            "- **Company Overview:**\n",
            "  - **Company:** NVIDIA Corporation (NVDA)\n",
            "  - **Sector:** Technology\n",
            "  - **Price:** $183.22\n",
            "  - **Market Cap:** $4,460,857,262,080\n",
            "  - **P/E Ratio:** 52.05\n",
            "  - **52-Week High:** $195.62\n",
            "  - **52-Week Low:** $86.62\n",
            "  - **Dividend Yield:** 0.02\n",
            "  - **Beta:** 2.123\n",
            "  - **Revenue:** $165,217,992,704\n",
            "  - **Profit Margin:** 52.41%\n",
            "\n",
            "- **Recent Filings:**\n",
            "  - **144 on 2025-10-17:** [Link to Filing](https://www.sec.gov/Archives/edgar/data/1045810/000192109425001272/xsl144X01/primary_doc.xml)\n",
            "  - **144 on 2025-10-16:** [Link to Filing](https://www.sec.gov/Archives/edgar/data/1045810/000192109425001268/xsl144X01/primary_doc.xml)\n",
            "  - **4 on 2025-10-15:** [Link to Filing](https://www.sec.gov/Archives/edgar/data/1045810/000119764925000048/xslF345X05/wk-form4_1760564872.xml)\n",
            "\n",
            "- **Recent News:**\n",
            "  - NVIDIA upgraded to Buy by HSBC analyst Frank Lee with a target price of $320 per share.\n",
            "  - AMD signed a significant deal with OpenAI, impacting the market positively.\n",
            "  - NVIDIA released the Blackwell platform, following the successful Hopper architecture launch.\n",
            "\n",
            "- **Market Sentiment:**\n",
            "  - No articles found for NVDA.\n",
            "\n",
            "---\n",
            "\n",
            "**Data Sources:**\n",
            "1. Yahoo Finance API\n",
            "2. SEC EDGAR API\n",
            "3. News API\n",
            "4. Tavily News API\n",
            "\n",
            "[1] Data retrieved from various sources as of 2025-10-19. |  tool None\n",
            "\n",
            "\n",
            "--- Analysis Summary ---\n",
            "## Investment Summary for NVDA\n",
            "\n",
            "- **Company Overview:**\n",
            "  - **Company:** NVIDIA Corporation (NVDA)\n",
            "  - **Sector:** Technology\n",
            "  - **Price:** $183.22\n",
            "  - **Market Cap:** $4,460,857,262,080\n",
            "  - **P/E Ratio:** 52.05\n",
            "  - **52-Week High:** $195.62\n",
            "  - **52-Week Low:** $86.62\n",
            "  - **Dividend Yield:** 0.02\n",
            "  - **Beta:** 2.123\n",
            "  - **Revenue:** $165,217,992,704\n",
            "  - **Profit Margin:** 52.41%\n",
            "\n",
            "- **Recent Filings:**\n",
            "  - **144 on 2025-10-17:** [Link to Filing](https://www.sec.gov/Archives/edgar/data/1045810/000192109425001272/xsl144X01/primary_doc.xml)\n",
            "  - **144 on 2025-10-16:** [Link to Filing](https://www.sec.gov/Archives/edgar/data/1045810/000192109425001268/xsl144X01/primary_doc.xml)\n",
            "  - **4 on 2025-10-15:** [Link to Filing](https://www.sec.gov/Archives/edgar/data/1045810/000119764925000048/xslF345X05/wk-form4_1760564872.xml)\n",
            "\n",
            "- **Recent News:**\n",
            "  - NVIDIA upgraded to Buy by HSBC analyst Frank Lee with a target price of $320 per share.\n",
            "  - AMD signed a significant deal with OpenAI, impacting the market positively.\n",
            "  - NVIDIA released the Blackwell platform, following the successful Hopper architecture launch.\n",
            "\n",
            "- **Market Sentiment:**\n",
            "  - No articles found for NVDA.\n",
            "\n",
            "---\n",
            "\n",
            "**Data Sources:**\n",
            "1. Yahoo Finance API\n",
            "2. SEC EDGAR API\n",
            "3. News API\n",
            "4. Tavily News API\n",
            "\n",
            "[1] Data retrieved from various sources as of 2025-10-19.\n",
            "\n",
            "Please enter your feedback (areas to improve, missing info, corrections):\n",
            "all good!\n",
            "query memory stock symbol =  NVDA\n",
            "\n",
            "Running evaluator with feedback...\n",
            "\u001b[1m[values]\u001b[0m {'messages': [HumanMessage(content=\"\\n            Original Analysis:\\n            ## Investment Summary for NVDA\\n\\n- **Company Overview:**\\n  - **Company:** NVIDIA Corporation (NVDA)\\n  - **Sector:** Technology\\n  - **Price:** $183.22\\n  - **Market Cap:** $4,460,857,262,080\\n  - **P/E Ratio:** 52.05\\n  - **52-Week High:** $195.62\\n  - **52-Week Low:** $86.62\\n  - **Dividend Yield:** 0.02\\n  - **Beta:** 2.123\\n  - **Revenue:** $165,217,992,704\\n  - **Profit Margin:** 52.41%\\n\\n- **Recent Filings:**\\n  - **144 on 2025-10-17:** [Link to Filing](https://www.sec.gov/Archives/edgar/data/1045810/000192109425001272/xsl144X01/primary_doc.xml)\\n  - **144 on 2025-10-16:** [Link to Filing](https://www.sec.gov/Archives/edgar/data/1045810/000192109425001268/xsl144X01/primary_doc.xml)\\n  - **4 on 2025-10-15:** [Link to Filing](https://www.sec.gov/Archives/edgar/data/1045810/000119764925000048/xslF345X05/wk-form4_1760564872.xml)\\n\\n- **Recent News:**\\n  - NVIDIA upgraded to Buy by HSBC analyst Frank Lee with a target price of $320 per share.\\n  - AMD signed a significant deal with OpenAI, impacting the market positively.\\n  - NVIDIA released the Blackwell platform, following the successful Hopper architecture launch.\\n\\n- **Market Sentiment:**\\n  - No articles found for NVDA.\\n\\n---\\n\\n**Data Sources:**\\n1. Yahoo Finance API\\n2. SEC EDGAR API\\n3. News API\\n4. Tavily News API\\n\\n[1] Data retrieved from various sources as of 2025-10-19.\\n\\n            --- Human Feedback ---\\n            all good!\\n\\n            --- Memory ---\\n            Evaluator Commentary:\\n- Completeness: The analysis covers essential aspects such as company overview, recent filings, recent news, and market sentiment, providing a comprehensive snapshot of NVIDIA Corporation.\\n- Accuracy: The financial metrics and recent events are accurately presented, giving a clear picture of the company's current standing.\\n- Clarity: The information is well-structured and easy to follow, with links provided for further reference.\\n- Source Credibility: The inclusion of reputable sources like Yahoo Finance, SEC EDGAR, and NewsAPI enhances the credibility of the information presented.\\n\\nSuggestions:\\n- It would be beneficial to include a section on the company's key competitors or industry analysis to provide a broader context for potential investors.\\n- Adding a brief analysis or interpretation of the data presented could further enhance the value of the summary for investors looking to make informed decisions.\\n                \", additional_kwargs={}, response_metadata={}, id='0723a784-8c08-4960-9de9-2ac49cfcd409')]}\n",
            "\u001b[1m[updates]\u001b[0m {'agent': {'messages': [AIMessage(content=\"\\nOriginal Analysis:\\n## Investment Summary for NVDA\\n\\n- **Company Overview:**\\n  - **Company:** NVIDIA Corporation (NVDA)\\n  - **Sector:** Technology\\n  - **Price:** $183.22\\n  - **Market Cap:** $4,460,857,262,080\\n  - **P/E Ratio:** 52.05\\n  - **52-Week High:** $195.62\\n  - **52-Week Low:** $86.62\\n  - **Dividend Yield:** 0.02\\n  - **Beta:** 2.123\\n  - **Revenue:** $165,217,992,704\\n  - **Profit Margin:** 52.41%\\n\\n- **Recent Filings:**\\n  - **144 on 2025-10-17:** [Link to Filing](https://www.sec.gov/Archives/edgar/data/1045810/000192109425001272/xsl144X01/primary_doc.xml)\\n  - **144 on 2025-10-16:** [Link to Filing](https://www.sec.gov/Archives/edgar/data/1045810/000192109425001268/xsl144X01/primary_doc.xml)\\n  - **4 on 2025-10-15:** [Link to Filing](https://www.sec.gov/Archives/edgar/data/1045810/000119764925000048/xslF345X05/wk-form4_1760564872.xml)\\n\\n- **Recent News:**\\n  - NVIDIA upgraded to Buy by HSBC analyst Frank Lee with a target price of $320 per share.\\n  - AMD signed a significant deal with OpenAI, impacting the market positively.\\n  - NVIDIA released the Blackwell platform, following the successful Hopper architecture launch.\\n\\n- **Market Sentiment:**\\n  - No articles found for NVDA.\\n\\n---\\n\\n**Data Sources:**\\n1. Yahoo Finance API\\n2. SEC EDGAR API\\n3. News API\\n4. Tavily News API\\n\\n[1] Data retrieved from various sources as of 2025-10-19.\\n\\n            --- Human Feedback ---\\n            all good!\\n\\n            --- Memory ---\\n            Evaluator Commentary:\\n- Completeness: The analysis covers essential aspects such as company overview, recent filings, recent news, and market sentiment, providing a comprehensive snapshot of NVIDIA Corporation.\\n- Accuracy: The financial metrics and recent events are accurately presented, giving a clear picture of the company's current standing.\\n- Clarity: The information is well-structured and easy to follow, with links provided for further reference.\\n- Source Credibility: The inclusion of reputable sources like Yahoo Finance, SEC EDGAR, and NewsAPI enhances the credibility of the information presented.\\n\\nSuggestions:\\n- It would be beneficial to include a section on the company's key competitors or industry analysis to provide a broader context for potential investors.\\n- Adding a brief analysis or interpretation of the data presented could further enhance the value of the summary for investors looking to make informed decisions.\\n                \", additional_kwargs={'refusal': None}, response_metadata={'token_usage': {'completion_tokens': 629, 'prompt_tokens': 816, 'total_tokens': 1445, 'completion_tokens_details': {'accepted_prediction_tokens': 0, 'audio_tokens': 0, 'reasoning_tokens': 0, 'rejected_prediction_tokens': 0}, 'prompt_tokens_details': {'audio_tokens': 0, 'cached_tokens': 0}}, 'model_provider': 'openai', 'model_name': 'gpt-3.5-turbo-0125', 'system_fingerprint': None, 'id': 'chatcmpl-CSWnnWwnQnhNn04bXA88C6bBcgEh6', 'service_tier': 'default', 'finish_reason': 'stop', 'logprobs': None}, id='lc_run--98d71b2d-c5fb-449b-9677-fd671f0e347a-0', usage_metadata={'input_tokens': 816, 'output_tokens': 629, 'total_tokens': 1445, 'input_token_details': {'audio': 0, 'cache_read': 0}, 'output_token_details': {'audio': 0, 'reasoning': 0}})]}}\n",
            "\u001b[1m[values]\u001b[0m {'messages': [HumanMessage(content=\"\\n            Original Analysis:\\n            ## Investment Summary for NVDA\\n\\n- **Company Overview:**\\n  - **Company:** NVIDIA Corporation (NVDA)\\n  - **Sector:** Technology\\n  - **Price:** $183.22\\n  - **Market Cap:** $4,460,857,262,080\\n  - **P/E Ratio:** 52.05\\n  - **52-Week High:** $195.62\\n  - **52-Week Low:** $86.62\\n  - **Dividend Yield:** 0.02\\n  - **Beta:** 2.123\\n  - **Revenue:** $165,217,992,704\\n  - **Profit Margin:** 52.41%\\n\\n- **Recent Filings:**\\n  - **144 on 2025-10-17:** [Link to Filing](https://www.sec.gov/Archives/edgar/data/1045810/000192109425001272/xsl144X01/primary_doc.xml)\\n  - **144 on 2025-10-16:** [Link to Filing](https://www.sec.gov/Archives/edgar/data/1045810/000192109425001268/xsl144X01/primary_doc.xml)\\n  - **4 on 2025-10-15:** [Link to Filing](https://www.sec.gov/Archives/edgar/data/1045810/000119764925000048/xslF345X05/wk-form4_1760564872.xml)\\n\\n- **Recent News:**\\n  - NVIDIA upgraded to Buy by HSBC analyst Frank Lee with a target price of $320 per share.\\n  - AMD signed a significant deal with OpenAI, impacting the market positively.\\n  - NVIDIA released the Blackwell platform, following the successful Hopper architecture launch.\\n\\n- **Market Sentiment:**\\n  - No articles found for NVDA.\\n\\n---\\n\\n**Data Sources:**\\n1. Yahoo Finance API\\n2. SEC EDGAR API\\n3. News API\\n4. Tavily News API\\n\\n[1] Data retrieved from various sources as of 2025-10-19.\\n\\n            --- Human Feedback ---\\n            all good!\\n\\n            --- Memory ---\\n            Evaluator Commentary:\\n- Completeness: The analysis covers essential aspects such as company overview, recent filings, recent news, and market sentiment, providing a comprehensive snapshot of NVIDIA Corporation.\\n- Accuracy: The financial metrics and recent events are accurately presented, giving a clear picture of the company's current standing.\\n- Clarity: The information is well-structured and easy to follow, with links provided for further reference.\\n- Source Credibility: The inclusion of reputable sources like Yahoo Finance, SEC EDGAR, and NewsAPI enhances the credibility of the information presented.\\n\\nSuggestions:\\n- It would be beneficial to include a section on the company's key competitors or industry analysis to provide a broader context for potential investors.\\n- Adding a brief analysis or interpretation of the data presented could further enhance the value of the summary for investors looking to make informed decisions.\\n                \", additional_kwargs={}, response_metadata={}, id='0723a784-8c08-4960-9de9-2ac49cfcd409'), AIMessage(content=\"\\nOriginal Analysis:\\n## Investment Summary for NVDA\\n\\n- **Company Overview:**\\n  - **Company:** NVIDIA Corporation (NVDA)\\n  - **Sector:** Technology\\n  - **Price:** $183.22\\n  - **Market Cap:** $4,460,857,262,080\\n  - **P/E Ratio:** 52.05\\n  - **52-Week High:** $195.62\\n  - **52-Week Low:** $86.62\\n  - **Dividend Yield:** 0.02\\n  - **Beta:** 2.123\\n  - **Revenue:** $165,217,992,704\\n  - **Profit Margin:** 52.41%\\n\\n- **Recent Filings:**\\n  - **144 on 2025-10-17:** [Link to Filing](https://www.sec.gov/Archives/edgar/data/1045810/000192109425001272/xsl144X01/primary_doc.xml)\\n  - **144 on 2025-10-16:** [Link to Filing](https://www.sec.gov/Archives/edgar/data/1045810/000192109425001268/xsl144X01/primary_doc.xml)\\n  - **4 on 2025-10-15:** [Link to Filing](https://www.sec.gov/Archives/edgar/data/1045810/000119764925000048/xslF345X05/wk-form4_1760564872.xml)\\n\\n- **Recent News:**\\n  - NVIDIA upgraded to Buy by HSBC analyst Frank Lee with a target price of $320 per share.\\n  - AMD signed a significant deal with OpenAI, impacting the market positively.\\n  - NVIDIA released the Blackwell platform, following the successful Hopper architecture launch.\\n\\n- **Market Sentiment:**\\n  - No articles found for NVDA.\\n\\n---\\n\\n**Data Sources:**\\n1. Yahoo Finance API\\n2. SEC EDGAR API\\n3. News API\\n4. Tavily News API\\n\\n[1] Data retrieved from various sources as of 2025-10-19.\\n\\n            --- Human Feedback ---\\n            all good!\\n\\n            --- Memory ---\\n            Evaluator Commentary:\\n- Completeness: The analysis covers essential aspects such as company overview, recent filings, recent news, and market sentiment, providing a comprehensive snapshot of NVIDIA Corporation.\\n- Accuracy: The financial metrics and recent events are accurately presented, giving a clear picture of the company's current standing.\\n- Clarity: The information is well-structured and easy to follow, with links provided for further reference.\\n- Source Credibility: The inclusion of reputable sources like Yahoo Finance, SEC EDGAR, and NewsAPI enhances the credibility of the information presented.\\n\\nSuggestions:\\n- It would be beneficial to include a section on the company's key competitors or industry analysis to provide a broader context for potential investors.\\n- Adding a brief analysis or interpretation of the data presented could further enhance the value of the summary for investors looking to make informed decisions.\\n                \", additional_kwargs={'refusal': None}, response_metadata={'token_usage': {'completion_tokens': 629, 'prompt_tokens': 816, 'total_tokens': 1445, 'completion_tokens_details': {'accepted_prediction_tokens': 0, 'audio_tokens': 0, 'reasoning_tokens': 0, 'rejected_prediction_tokens': 0}, 'prompt_tokens_details': {'audio_tokens': 0, 'cached_tokens': 0}}, 'model_provider': 'openai', 'model_name': 'gpt-3.5-turbo-0125', 'system_fingerprint': None, 'id': 'chatcmpl-CSWnnWwnQnhNn04bXA88C6bBcgEh6', 'service_tier': 'default', 'finish_reason': 'stop', 'logprobs': None}, id='lc_run--98d71b2d-c5fb-449b-9677-fd671f0e347a-0', usage_metadata={'input_tokens': 816, 'output_tokens': 629, 'total_tokens': 1445, 'input_token_details': {'audio': 0, 'cache_read': 0}, 'output_token_details': {'audio': 0, 'reasoning': 0}})]}\n",
            "\n",
            "--- Revised Summary ---\n",
            "\n",
            "Original Analysis:\n",
            "## Investment Summary for NVDA\n",
            "\n",
            "- **Company Overview:**\n",
            "  - **Company:** NVIDIA Corporation (NVDA)\n",
            "  - **Sector:** Technology\n",
            "  - **Price:** $183.22\n",
            "  - **Market Cap:** $4,460,857,262,080\n",
            "  - **P/E Ratio:** 52.05\n",
            "  - **52-Week High:** $195.62\n",
            "  - **52-Week Low:** $86.62\n",
            "  - **Dividend Yield:** 0.02\n",
            "  - **Beta:** 2.123\n",
            "  - **Revenue:** $165,217,992,704\n",
            "  - **Profit Margin:** 52.41%\n",
            "\n",
            "- **Recent Filings:**\n",
            "  - **144 on 2025-10-17:** [Link to Filing](https://www.sec.gov/Archives/edgar/data/1045810/000192109425001272/xsl144X01/primary_doc.xml)\n",
            "  - **144 on 2025-10-16:** [Link to Filing](https://www.sec.gov/Archives/edgar/data/1045810/000192109425001268/xsl144X01/primary_doc.xml)\n",
            "  - **4 on 2025-10-15:** [Link to Filing](https://www.sec.gov/Archives/edgar/data/1045810/000119764925000048/xslF345X05/wk-form4_1760564872.xml)\n",
            "\n",
            "- **Recent News:**\n",
            "  - NVIDIA upgraded to Buy by HSBC analyst Frank Lee with a target price of $320 per share.\n",
            "  - AMD signed a significant deal with OpenAI, impacting the market positively.\n",
            "  - NVIDIA released the Blackwell platform, following the successful Hopper architecture launch.\n",
            "\n",
            "- **Market Sentiment:**\n",
            "  - No articles found for NVDA.\n",
            "\n",
            "---\n",
            "\n",
            "**Data Sources:**\n",
            "1. Yahoo Finance API\n",
            "2. SEC EDGAR API\n",
            "3. News API\n",
            "4. Tavily News API\n",
            "\n",
            "[1] Data retrieved from various sources as of 2025-10-19.\n",
            "\n",
            "            --- Human Feedback ---\n",
            "            all good!\n",
            "\n",
            "            --- Memory ---\n",
            "            Evaluator Commentary:\n",
            "- Completeness: The analysis covers essential aspects such as company overview, recent filings, recent news, and market sentiment, providing a comprehensive snapshot of NVIDIA Corporation.\n",
            "- Accuracy: The financial metrics and recent events are accurately presented, giving a clear picture of the company's current standing.\n",
            "- Clarity: The information is well-structured and easy to follow, with links provided for further reference.\n",
            "- Source Credibility: The inclusion of reputable sources like Yahoo Finance, SEC EDGAR, and NewsAPI enhances the credibility of the information presented.\n",
            "\n",
            "Suggestions:\n",
            "- It would be beneficial to include a section on the company's key competitors or industry analysis to provide a broader context for potential investors.\n",
            "- Adding a brief analysis or interpretation of the data presented could further enhance the value of the summary for investors looking to make informed decisions.\n",
            "                \n",
            "\n",
            "Would you like to refine further? (y/n): n\n",
            "\n",
            "Workflow complete. Final output above.\n"
          ]
        },
        {
          "output_type": "stream",
          "name": "stderr",
          "text": [
            "/tmp/ipython-input-3309722020.py:24: DeprecationWarning: datetime.datetime.utcnow() is deprecated and scheduled for removal in a future version. Use timezone-aware objects to represent datetimes in UTC: datetime.datetime.now(datetime.UTC).\n",
            "  created_at=datetime.utcnow().isoformat(timespec=\"seconds\"),\n"
          ]
        }
      ],
      "source": [
        "#Execution function\n",
        "final_analysis = optimization_loop(tools_agent,\n",
        "                                   evaluator_agent,\n",
        "                                   formatted_prompt,\n",
        "                                   SESSION_MEMORY\n",
        "                                  )"
      ]
    },
    {
      "cell_type": "markdown",
      "source": [
        "# Final Report & Discussion"
      ],
      "metadata": {
        "id": "BPmPUqfrd2la"
      }
    },
    {
      "cell_type": "code",
      "execution_count": 46,
      "metadata": {
        "id": "SpCJ-A-76-FD",
        "jupyter": {
          "source_hidden": true
        },
        "scrolled": true,
        "colab": {
          "base_uri": "https://localhost:8080/",
          "height": 909
        },
        "outputId": "52d92e32-bcfd-433d-f8a1-02677f307c19"
      },
      "outputs": [
        {
          "output_type": "display_data",
          "data": {
            "text/plain": [
              "<IPython.core.display.Markdown object>"
            ],
            "text/markdown": "\nOriginal Analysis:\n## Investment Summary for NVDA\n\n- **Company Overview:**\n  - **Company:** NVIDIA Corporation (NVDA)\n  - **Sector:** Technology\n  - **Price:** $183.22\n  - **Market Cap:** $4,460,857,262,080\n  - **P/E Ratio:** 52.05\n  - **52-Week High:** $195.62\n  - **52-Week Low:** $86.62\n  - **Dividend Yield:** 0.02\n  - **Beta:** 2.123\n  - **Revenue:** $165,217,992,704\n  - **Profit Margin:** 52.41%\n\n- **Recent Filings:**\n  - **144 on 2025-10-17:** [Link to Filing](https://www.sec.gov/Archives/edgar/data/1045810/000192109425001272/xsl144X01/primary_doc.xml)\n  - **144 on 2025-10-16:** [Link to Filing](https://www.sec.gov/Archives/edgar/data/1045810/000192109425001268/xsl144X01/primary_doc.xml)\n  - **4 on 2025-10-15:** [Link to Filing](https://www.sec.gov/Archives/edgar/data/1045810/000119764925000048/xslF345X05/wk-form4_1760564872.xml)\n\n- **Recent News:**\n  - NVIDIA upgraded to Buy by HSBC analyst Frank Lee with a target price of $320 per share.\n  - AMD signed a significant deal with OpenAI, impacting the market positively.\n  - NVIDIA released the Blackwell platform, following the successful Hopper architecture launch.\n\n- **Market Sentiment:**\n  - No articles found for NVDA.\n\n---\n\n**Data Sources:**\n1. Yahoo Finance API\n2. SEC EDGAR API\n3. News API\n4. Tavily News API\n\n[1] Data retrieved from various sources as of 2025-10-19.\n\n            --- Human Feedback ---\n            all good!\n\n            --- Memory ---\n            Evaluator Commentary:\n- Completeness: The analysis covers essential aspects such as company overview, recent filings, recent news, and market sentiment, providing a comprehensive snapshot of NVIDIA Corporation.\n- Accuracy: The financial metrics and recent events are accurately presented, giving a clear picture of the company's current standing.\n- Clarity: The information is well-structured and easy to follow, with links provided for further reference.\n- Source Credibility: The inclusion of reputable sources like Yahoo Finance, SEC EDGAR, and NewsAPI enhances the credibility of the information presented.\n\nSuggestions:\n- It would be beneficial to include a section on the company's key competitors or industry analysis to provide a broader context for potential investors.\n- Adding a brief analysis or interpretation of the data presented could further enhance the value of the summary for investors looking to make informed decisions.\n                "
          },
          "metadata": {}
        }
      ],
      "source": [
        "#Beutify printout of\n",
        "display(Markdown((final_analysis)))"
      ]
    },
    {
      "cell_type": "markdown",
      "source": [
        "### Memory Validation"
      ],
      "metadata": {
        "id": "8GKkpe2GeIFg"
      }
    },
    {
      "cell_type": "code",
      "execution_count": 42,
      "metadata": {
        "id": "QTu73fn72wD3",
        "scrolled": true,
        "colab": {
          "base_uri": "https://localhost:8080/"
        },
        "outputId": "f7ca37b3-7c24-4075-a70f-5b78eaefe995"
      },
      "outputs": [
        {
          "output_type": "stream",
          "name": "stderr",
          "text": [
            "/tmp/ipython-input-3309722020.py:24: DeprecationWarning: datetime.datetime.utcnow() is deprecated and scheduled for removal in a future version. Use timezone-aware objects to represent datetimes in UTC: datetime.datetime.now(datetime.UTC).\n",
            "  created_at=datetime.utcnow().isoformat(timespec=\"seconds\"),\n"
          ]
        }
      ],
      "source": [
        "#Ensure the memory is working as intended\n",
        "#After running the user query through your whole pipeline:\n",
        "user_question = user_input\n",
        "symbol = extract_symbol(user_input)\n",
        "final_answer = as_text(final_analysis)   # Use your utility function\n",
        "\n",
        "SESSION_MEMORY.remember(symbol, user_question, final_answer)"
      ]
    },
    {
      "cell_type": "code",
      "execution_count": 43,
      "metadata": {
        "id": "jR64sFMfEclI",
        "colab": {
          "base_uri": "https://localhost:8080/"
        },
        "outputId": "336510f4-53a2-4395-a92c-3a03aaebb576"
      },
      "outputs": [
        {
          "output_type": "stream",
          "name": "stdout",
          "text": [
            "Previous answer for stock: Evaluator Commentary:\n",
            "- Completeness: The analysis covers essential aspects such as company overview, recent filings, recent news, and market sentiment, providing a comprehensive snapshot of NVIDIA Corporation.\n",
            "- Accuracy: The financial metrics and recent events are accurately presented, giving a clear picture of the company's current standing.\n",
            "- Clarity: The information is well-structured and easy to follow, with links provided for further reference.\n",
            "- Source Credibility: The inclusion of reputable sources like Yahoo Finance, SEC EDGAR, and NewsAPI enhances the credibility of the information presented.\n",
            "\n",
            "Suggestions:\n",
            "- It would be beneficial to include a section on the company's key competitors or industry analysis to provide a broader context for potential investors.\n",
            "- Adding a brief analysis or interpretation of the data presented could further enhance the value of the summary for investors looking to make informed decisions.\n"
          ]
        }
      ],
      "source": [
        "# Later, you can recall the latest answer for \"NVDA\":\n",
        "prev = SESSION_MEMORY.recall(\"NVDA\")\n",
        "if prev:\n",
        "    print(\"Previous answer for stock:\", prev)"
      ]
    },
    {
      "cell_type": "markdown",
      "source": [
        "# Discussion\n",
        "\n",
        "This project outlines an agentic financial research assistant with four key agent functions, and multiple workflows to produce a finanical report.\n",
        "\n",
        "\n",
        "**Ideas Future Improvements**\n",
        "\n",
        "* Adding an actual LangGraph graph and state to run the execution would improve consistency across runs.\n",
        "* Focusing on specific tools for enhancement. Some tools did not produce meaningful output for the analysis, there is room for improvement with the tools that were used, and also additional tools that should be used.\n",
        "* Adding state for memory to improve context across each run and between runs.\n",
        "* Adding more specialists, with sub graphs to run within the tools agent. This would have enabled more complex analysis, but was more than we could accomplish in the scope of this course.\n",
        "* Deploy to production somewhere that others could use it."
      ],
      "metadata": {
        "id": "OpSjW7pdO1xl"
      }
    },
    {
      "cell_type": "markdown",
      "source": [
        "### Example graphs drawn by tools\n",
        "\n",
        "Drawn 10/16/25"
      ],
      "metadata": {
        "id": "z1S_aTGjR7NK"
      }
    },
    {
      "cell_type": "markdown",
      "source": [
        "![COST_52week_chart.png](data:image/png;base64,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)"
      ],
      "metadata": {
        "id": "lmJIufTNR0pb"
      }
    },
    {
      "cell_type": "markdown",
      "source": [
        "![AAPL_52week_chart.png](data:image/png;base64,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)"
      ],
      "metadata": {
        "id": "F8GHP72mSA-J"
      }
    }
  ],
  "metadata": {
    "colab": {
      "provenance": [],
      "include_colab_link": true
    },
    "kernelspec": {
      "display_name": "Python 3",
      "name": "python3"
    },
    "language_info": {
      "codemirror_mode": {
        "name": "ipython",
        "version": 3
      },
      "file_extension": ".py",
      "mimetype": "text/x-python",
      "name": "python",
      "nbconvert_exporter": "python",
      "pygments_lexer": "ipython3",
      "version": "3.10.18"
    }
  },
  "nbformat": 4,
  "nbformat_minor": 0
}