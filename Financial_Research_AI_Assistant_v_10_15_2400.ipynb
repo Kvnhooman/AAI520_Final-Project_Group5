{
  "cells": [
    {
      "cell_type": "markdown",
      "metadata": {
        "id": "view-in-github",
        "colab_type": "text"
      },
      "source": [
        "<a href=\"https://colab.research.google.com/github/Kvnhooman/AAI520_Final-Project_Group5/blob/main/Financial_Research_AI_Assistant_v_10_15_2400.ipynb\" target=\"_parent\"><img src=\"https://colab.research.google.com/assets/colab-badge.svg\" alt=\"Open In Colab\"/></a>"
      ]
    },
    {
      "cell_type": "markdown",
      "metadata": {
        "id": "z34tfGYWXK7X"
      },
      "source": [
        "\n",
        "## Group 5\n",
        "\n",
        "**AAI 520 - Final Project**\n",
        "\n",
        "Authors: Kevin, Spencer, Tommy\n",
        "\n",
        "Date: 10/20/25\n",
        "\n",
        "\n"
      ]
    },
    {
      "cell_type": "markdown",
      "metadata": {
        "id": "pss-SJpmYEdY"
      },
      "source": [
        "___\n",
        "## Project Outline\n"
      ]
    },
    {
      "cell_type": "markdown",
      "metadata": {
        "id": "Au9v6SfkXl5p"
      },
      "source": [
        "This is an LLM powered research assistant that finds key financial details on publicly traded companies. The agent is able to plan and execute key tasks leveraging several tools in order to generate a final output.\n",
        "\n",
        "\n",
        "**Core Agent Functions**\n",
        "\n",
        "\n",
        "* Planning: The ability to plan each step.\n",
        "\n",
        "* Tool Use: Integrates APIs (Yahoo Finance, SEC EDGAR, News APIs) and Specialists\n",
        "\n",
        "\n",
        "* Self-Reflection: Evaluates output quality and iterates\n",
        "\n",
        "\n",
        "* Memory/Learning: Maintains memory across analysis runs\n",
        "\n",
        "\n",
        "**Workflow Patterns**\n",
        "* Prompt Chaining: News ingestion → preprocessing → classification → extraction → summarization\n",
        "\n",
        "\n",
        "* Routing: Directs content to specialist analyzers (earnings, news, market)\n",
        "\n",
        "\n",
        "* Evaluator-Optimizer: Generates analysis → evaluates quality → refines using feedback"
      ]
    },
    {
      "cell_type": "markdown",
      "source": [
        "# Setup"
      ],
      "metadata": {
        "id": "WSpDQnYXF5he"
      }
    },
    {
      "cell_type": "code",
      "source": [
        "%%capture --no-stderr\n",
        "%pip install --quiet -U \\\n",
        "    langgraph \\\n",
        "    langchain_openai \\\n",
        "    langgraph_sdk \\\n",
        "    langgraph-prebuilt \\\n",
        "    langchain-perplexity \\\n",
        "    huggingface_hub \\\n",
        "    openai \\\n",
        "    yfinance \\\n",
        "    langchain-google-genai \\\n",
        "    langchain-community \\\n",
        "    transformers \\\n",
        "    datasets \\\n",
        "    bitsandbytes accelerate sentence-transformers \\\n",
        "    faiss-cpu \\\n",
        "    ddgs\\\n",
        "    langchain-huggingface"
      ],
      "metadata": {
        "id": "jGN0ldupJP2y"
      },
      "execution_count": 1,
      "outputs": []
    },
    {
      "cell_type": "code",
      "source": [
        "%import langchain-huggingface"
      ],
      "metadata": {
        "id": "-ZchTzL0-i4w"
      },
      "execution_count": null,
      "outputs": []
    },
    {
      "cell_type": "code",
      "execution_count": 3,
      "metadata": {
        "id": "zeCeqrXeXdDA",
        "colab": {
          "base_uri": "https://localhost:8080/"
        },
        "outputId": "a25e764c-5f10-4533-8f80-3370462c5e95"
      },
      "outputs": [
        {
          "output_type": "stream",
          "name": "stderr",
          "text": [
            "WARNING:langchain_community.utils.user_agent:USER_AGENT environment variable not set, consider setting it to identify your requests.\n"
          ]
        }
      ],
      "source": [
        "#Import key libraries\n",
        "import os\n",
        "import requests\n",
        "import re\n",
        "import textwrap\n",
        "\n",
        "from bs4 import BeautifulSoup\n",
        "\n",
        "from langchain_google_genai import ChatGoogleGenerativeAI\n",
        "from langchain_community.chat_models import ChatPerplexity #updated\n",
        "from langchain_openai import OpenAI, ChatOpenAI\n",
        "from langchain_core.output_parsers import StrOutputParser\n",
        "from langchain.agents import  AgentExecutor, initialize_agent, Tool, AgentType\n",
        "from langchain.chains import LLMChain\n",
        "from langgraph.prebuilt import create_react_agent\n",
        "import yfinance as yf\n",
        "from langchain_community.tools.yahoo_finance_news import YahooFinanceNewsTool\n",
        "from transformers import pipeline\n",
        "\n",
        "#Memory\n",
        "from dataclasses import dataclass\n",
        "from datetime import datetime\n",
        "from typing import Dict, List, Optional, Any, Union"
      ]
    },
    {
      "cell_type": "code",
      "execution_count": 6,
      "metadata": {
        "id": "SVdqL2i_ZTB0"
      },
      "outputs": [],
      "source": [
        "from google.colab import userdata\n",
        "\n",
        "#API Keys from ColAb Secrets\n",
        "gemini_key = userdata.get('GEMINI')\n",
        "hf_key = userdata.get('HF_TOKEN')\n",
        "openai_key = userdata.get('OPENAI')\n",
        "fin_news = userdata.get('FIN_API_KEY')\n",
        "tavily_key = userdata.get('TAVILY_API_KEY')\n",
        "perplexity_key = userdata.get('PERPLEXITY_API_KEY')"
      ]
    },
    {
      "cell_type": "code",
      "source": [
        "from huggingface_hub import login #Connect to HF using API key accessed above\n",
        "login(token=hf_key)\n",
        "\n",
        "import warnings\n",
        "\n",
        "#Suppress length warnings\n",
        "warnings.filterwarnings(\"ignore\", category=UserWarning, module=\"huggingface_hub.utils._auth\")\n",
        "\n",
        "llm_hf = pipeline(\n",
        "    \"text-generation\",\n",
        "    model=\"meta-llama/Llama-3.2-1B-Instruct\",\n",
        "    device= -1\n",
        "    )"
      ],
      "metadata": {
        "colab": {
          "base_uri": "https://localhost:8080/"
        },
        "id": "twL0Jd3xTgyi",
        "outputId": "bdaebcc3-7a4f-4ff0-97e5-302036576af8"
      },
      "execution_count": 7,
      "outputs": [
        {
          "output_type": "stream",
          "name": "stderr",
          "text": [
            "Device set to use cpu\n"
          ]
        }
      ]
    },
    {
      "cell_type": "code",
      "source": [
        "from transformers import pipeline, AutoModelForCausalLM, AutoTokenizer\n",
        "from langchain_huggingface import HuggingFacePipeline\n",
        "\n",
        "# Load the model and tokenizer (works offline after first download)\n",
        "model_id = \"meta-llama/Llama-3.2-1B-Instruct\"\n",
        "tokenizer = AutoTokenizer.from_pretrained(model_id)\n",
        "model = AutoModelForCausalLM.from_pretrained(model_id)\n",
        "\n",
        "# Create a local Hugging Face pipeline\n",
        "hf_pipe = pipeline(\n",
        "    \"text-generation\",\n",
        "    model=model,\n",
        "    tokenizer=tokenizer,\n",
        "    max_new_tokens=256,\n",
        "    temperature=0.7,\n",
        "    device=-1  # CPU mode; use device_map=\"auto\" for GPU acceleration\n",
        ")\n",
        "\n",
        "# Wrap pipeline for LangChain / LangGraph usage\n",
        "llm_local = HuggingFacePipeline(pipeline=hf_pipe)"
      ],
      "metadata": {
        "colab": {
          "base_uri": "https://localhost:8080/"
        },
        "id": "irELaWc88s46",
        "outputId": "49f4ca77-cd8c-4be5-eb36-b089b413cafe"
      },
      "execution_count": 11,
      "outputs": [
        {
          "output_type": "stream",
          "name": "stderr",
          "text": [
            "Device set to use cpu\n"
          ]
        }
      ]
    },
    {
      "cell_type": "code",
      "execution_count": 12,
      "metadata": {
        "id": "jlClLEzOAxjy"
      },
      "outputs": [],
      "source": [
        "# Setup Gemini to use in Agents\n",
        "llm_gemini = ChatGoogleGenerativeAI(\n",
        "    model=\"gemini-2.0-flash\",\n",
        "    google_api_key=gemini_key\n",
        ")"
      ]
    },
    {
      "cell_type": "code",
      "execution_count": 13,
      "metadata": {
        "id": "m95A2uEwHt4O"
      },
      "outputs": [],
      "source": [
        "llm_openai = ChatOpenAI(\n",
        "    model=\"gpt-3.5-turbo\",  # \"gpt-3.5-turbo\", \"gpt-4-mini\", \"gpt-5-mini\" ...\n",
        "    openai_api_key=openai_key,  # Your OpenAI API key\n",
        "    temperature=0.0             # (optional) set as needed\n",
        ")"
      ]
    },
    {
      "cell_type": "code",
      "execution_count": 19,
      "metadata": {
        "id": "gKbuO_UUH3hO"
      },
      "outputs": [],
      "source": [
        "llm_perplexity = ChatPerplexity(\n",
        "    model=\"sonar-pro\", #Other model options\n",
        "    pplx_api_key = perplexity_key,\n",
        "    temperature=0.1\n",
        ")"
      ]
    },
    {
      "cell_type": "code",
      "execution_count": 20,
      "metadata": {
        "colab": {
          "base_uri": "https://localhost:8080/"
        },
        "id": "nu6ALnCIHxr9",
        "outputId": "7ac2136f-aba7-4aa0-b6f2-24db1d4873ba"
      },
      "outputs": [
        {
          "output_type": "stream",
          "name": "stdout",
          "text": [
            "Neural networks process data through interconnected nodes.\n"
          ]
        }
      ],
      "source": [
        "#Test OpenAI API\n",
        "#response = llm_openai.invoke(\"Explain how neural networks work in 10 words or less.\")\n",
        "#response = llm_gemini.invoke(\"Explain how neural networks work in 10 words or less.\")\n",
        "response = llm_perplexity.invoke(\"Explain how neural networks work in 10 words or less.\")\n",
        "print(response.content)"
      ]
    },
    {
      "cell_type": "markdown",
      "metadata": {
        "id": "K7IzZtQ0i_p0"
      },
      "source": [
        "# Tool Agent\n",
        "\n",
        "Performs core agent functions and process workflows.\n",
        "\n",
        "Integrates APIs (Yahoo Finance, SEC EDGAR, News APIs)\n",
        "\n",
        "List of Tools:\n",
        "- Web Search\n",
        "- API call - Yahoo Finance\n",
        "- to be updated..."
      ]
    },
    {
      "cell_type": "markdown",
      "metadata": {
        "id": "yz8YEnt9jfua"
      },
      "source": [
        "### Tool Functions\n"
      ]
    },
    {
      "cell_type": "code",
      "source": [
        "#Yahoo Finance Tool\n",
        "import yfinance as yf\n",
        "\n",
        "def get_stock_summary(ticker: str) -> str:\n",
        "\n",
        "    \"\"\"Gets detailed financial info for a given stock symbol.\"\"\"\n",
        "\n",
        "    try:\n",
        "        stock = yf.Ticker(ticker)\n",
        "        data = stock.info\n",
        "\n",
        "        return (\n",
        "            f\"Company: {data.get('longName', 'N/A')} ({ticker})\\n\"\n",
        "            f\"Sector: {data.get('sector', 'N/A')}\\n\"\n",
        "            f\"Price: ${data.get('regularMarketPrice', 'N/A')}\\n\"\n",
        "            f\"Market Cap: {data.get('marketCap', 'N/A')}\\n\"\n",
        "            f\"P/E Ratio: {data.get('trailingPE', 'N/A')}\\n\"\n",
        "            f\"52-Week High: {data.get('fiftyTwoWeekHigh', 'N/A')}\\n\"\n",
        "            f\"52-Week Low: {data.get('fiftyTwoWeekLow', 'N/A')}\\n\"\n",
        "            f\"Dividend Yield: {data.get('dividendYield', 'N/A')}\\n\"\n",
        "            f\"Beta: {data.get('beta', 'N/A')}\\n\"\n",
        "            f\"Revenue: {data.get('totalRevenue', 'N/A')}\\n\"\n",
        "            f\"Profit Margin: {data.get('profitMargins', 'N/A')}\\n\"\n",
        "        )\n",
        "    except Exception as e:\n",
        "        return f\"Error retrieving data for {ticker}: {e}\"\n",
        "\n",
        "yahoo_api_tool = Tool(\n",
        "    name=\"YahooFinanceAPI\",\n",
        "    func=get_stock_summary,\n",
        "    description=\"Retrieves detailed Yahoo Finance company data such as price, valuation metrics, and financial ratios.\"\n",
        ")"
      ],
      "metadata": {
        "id": "xtRCBnrdVNgq"
      },
      "execution_count": 23,
      "outputs": []
    },
    {
      "cell_type": "code",
      "source": [
        "#For debugging\n",
        "print(yahoo_api_tool(\"AAPL\"))"
      ],
      "metadata": {
        "colab": {
          "base_uri": "https://localhost:8080/"
        },
        "id": "RYjMuf-XVOtM",
        "outputId": "41472378-f41f-4be9-8b27-5054aeb14e0c"
      },
      "execution_count": 24,
      "outputs": [
        {
          "output_type": "stream",
          "name": "stderr",
          "text": [
            "/tmp/ipython-input-1016834510.py:2: LangChainDeprecationWarning: The method `BaseTool.__call__` was deprecated in langchain-core 0.1.47 and will be removed in 1.0. Use :meth:`~invoke` instead.\n",
            "  print(yahoo_api_tool(\"AAPL\"))\n"
          ]
        },
        {
          "output_type": "stream",
          "name": "stdout",
          "text": [
            "Company: Apple Inc. (AAPL)\n",
            "Sector: Technology\n",
            "Price: $249.34\n",
            "Market Cap: 3700302807040\n",
            "P/E Ratio: 37.893616\n",
            "52-Week High: 260.1\n",
            "52-Week Low: 169.21\n",
            "Dividend Yield: 0.42\n",
            "Beta: 1.094\n",
            "Revenue: 408624988160\n",
            "Profit Margin: 0.24295999\n",
            "\n"
          ]
        }
      ]
    },
    {
      "cell_type": "code",
      "source": [
        "import requests\n",
        "from bs4 import BeautifulSoup\n",
        "import xml.etree.ElementTree as ET\n",
        "\n",
        "def summarize_sec_document(doc_url: str) -> str:\n",
        "    headers = {\"User-Agent\": \"tpoole@sandiego.edu\"}\n",
        "    resp = requests.get(doc_url, headers=headers)\n",
        "    if resp.status_code != 200:\n",
        "        return f\"Could not access doc: {doc_url}\"\n",
        "    doc_text = resp.text\n",
        "\n",
        "    # Try XML parsing first (most filings)\n",
        "    try:\n",
        "        root = ET.fromstring(doc_text)\n",
        "        values = []\n",
        "        for item in root.iter():\n",
        "            if item.tag.lower() in ['transactionamount', 'transactioncode', 'issuername']:\n",
        "                values.append(f\"{item.tag}: {item.text}\")\n",
        "        return \" | \".join(values) if values else \"No key XML findings found.\"\n",
        "    except ET.ParseError:\n",
        "        # Fallback: try HTML/text parsing\n",
        "        soup = BeautifulSoup(doc_text, 'html.parser')\n",
        "        summary = soup.get_text(separator=' ', strip=True)\n",
        "        return summary[:400]  # Return first 400 chars as summary\n",
        "\n",
        "def get_sec_filings(ticker: str) -> str:\n",
        "    cik_url = \"https://www.sec.gov/files/company_tickers.json\"\n",
        "    headers = {\"User-Agent\": \"your_email@example.com\"}\n",
        "    cik_resp = requests.get(cik_url, headers=headers)\n",
        "    if cik_resp.status_code != 200:\n",
        "        return f\"SEC.gov rejected request: {cik_resp.status_code}\"\n",
        "\n",
        "    try:\n",
        "        cik_data = cik_resp.json()\n",
        "        cik_lookup = {item['ticker']: item['cik_str'] for item in cik_data.values()}\n",
        "        cik = cik_lookup.get(ticker.upper())\n",
        "    except Exception as e:\n",
        "        return f\"Error parsing CIK data: {e}\"\n",
        "\n",
        "    if not cik:\n",
        "        return f\"CIK for {ticker} not found.\"\n",
        "\n",
        "    filings_url = f\"https://data.sec.gov/submissions/CIK{cik:0>10}.json\"\n",
        "    filings_resp = requests.get(filings_url, headers=headers)\n",
        "    try:\n",
        "        data = filings_resp.json() if filings_resp.status_code == 200 else {}\n",
        "        filings = data.get('filings', {}).get('recent', {})\n",
        "        if not filings: return f\"No filings found for {ticker}.\"\n",
        "        forms = filings.get('form', [])[:3]\n",
        "        filing_dates = filings.get('filingDate', [])[:3]\n",
        "        primary_docs = filings.get('primaryDocument', [])[:3]\n",
        "        accessions = filings.get('accessionNumber', [])[:3]\n",
        "\n",
        "        result = []\n",
        "        for form, date, doc, acc in zip(forms, filing_dates, primary_docs, accessions):\n",
        "            # Build the SEC document URL:\n",
        "            doc_url = f\"https://www.sec.gov/Archives/edgar/data/{int(cik)}/{acc.replace('-', '')}/{doc}\"\n",
        "            summary = summarize_sec_document(doc_url)\n",
        "            result.append(f\"{form} on {date}:\\n{doc_url}\\nSummary: {summary}\\n\")\n",
        "        return \"Latest filings with summaries:\\n\" + \"\\n\".join(result)\n",
        "    except Exception as e:\n",
        "        return f\"Error loading filings for {ticker}: {e}\"\n",
        "\n",
        "sec_api_tool = Tool(\n",
        "    name=\"SECEDGARAPI\",\n",
        "    func=get_sec_filings,\n",
        "    description=\"Retrieves and summarizes key findings from recent SEC filings by ticker\"\n",
        ")\n"
      ],
      "metadata": {
        "id": "i8vl16YSW8uG"
      },
      "execution_count": 25,
      "outputs": []
    },
    {
      "cell_type": "code",
      "source": [
        "#For debugging\n",
        "print(sec_api_tool(\"AAPL\"))"
      ],
      "metadata": {
        "colab": {
          "base_uri": "https://localhost:8080/"
        },
        "id": "hdbGWpwxW_Oy",
        "outputId": "b9a5f70c-4ee2-4508-a7eb-d7558256b1b9"
      },
      "execution_count": 26,
      "outputs": [
        {
          "output_type": "stream",
          "name": "stdout",
          "text": [
            "Latest filings with summaries:\n",
            "4 on 2025-10-03:\n",
            "https://www.sec.gov/Archives/edgar/data/320193/000121415625000011/xslF345X05/wk-form4_1759530830.xml\n",
            "Summary: SEC FORM \n",
            "            4 SEC Form 4 FORM 4 UNITED STATES SECURITIES AND EXCHANGE COMMISSION Washington, D.C. 20549 STATEMENT OF CHANGES IN BENEFICIAL OWNERSHIP Filed pursuant to Section 16(a) of the Securities Exchange Act of 1934 or Section 30(h) of the Investment Company Act of 1940 OMB APPROVAL OMB Number: 3235-0287 Estimated average burden hours per response: 0.5 Â Â Check this box if no longer\n",
            "\n",
            "4 on 2025-10-03:\n",
            "https://www.sec.gov/Archives/edgar/data/320193/000176709425000009/xslF345X05/wk-form4_1759530744.xml\n",
            "Summary: SEC FORM \n",
            "            4 SEC Form 4 FORM 4 UNITED STATES SECURITIES AND EXCHANGE COMMISSION Washington, D.C. 20549 STATEMENT OF CHANGES IN BENEFICIAL OWNERSHIP Filed pursuant to Section 16(a) of the Securities Exchange Act of 1934 or Section 30(h) of the Investment Company Act of 1940 OMB APPROVAL OMB Number: 3235-0287 Estimated average burden hours per response: 0.5 Â Â Check this box if no longer\n",
            "\n",
            "4 on 2025-10-03:\n",
            "https://www.sec.gov/Archives/edgar/data/320193/000207847625000005/xslF345X05/wk-form4_1759530690.xml\n",
            "Summary: SEC FORM \n",
            "            4 SEC Form 4 FORM 4 UNITED STATES SECURITIES AND EXCHANGE COMMISSION Washington, D.C. 20549 STATEMENT OF CHANGES IN BENEFICIAL OWNERSHIP Filed pursuant to Section 16(a) of the Securities Exchange Act of 1934 or Section 30(h) of the Investment Company Act of 1940 OMB APPROVAL OMB Number: 3235-0287 Estimated average burden hours per response: 0.5 Â Â Check this box if no longer\n",
            "\n"
          ]
        }
      ]
    },
    {
      "cell_type": "code",
      "source": [
        "from langchain_community.document_loaders import WebBaseLoader\n",
        "from langchain.tools import Tool\n",
        "\n",
        "def visit_webpage(url: str) -> str:\n",
        "    \"\"\"Fetches and cleans webpage or filing content for analysis.\"\"\"\n",
        "    try:\n",
        "        loader = WebBaseLoader(web_path=url)\n",
        "        documents = loader.load()\n",
        "        # return the first document’s text content\n",
        "        return documents[0].page_content[:5000]  # limit length for LLM input\n",
        "    except Exception as e:\n",
        "        return f\"Error fetching {url}: {e}\"\n",
        "\n",
        "visit_webpage_tool = Tool(\n",
        "    name=\"VisitWebpage\",\n",
        "    func=visit_webpage,\n",
        "    description=\"Visits a webpage or SEC filing URLs, reads HTML or XML content, and returns the main text for summarization. Feed me your URLs to get more information.\"\n",
        ")"
      ],
      "metadata": {
        "id": "gogqgwFpqMLy"
      },
      "execution_count": 27,
      "outputs": []
    },
    {
      "cell_type": "code",
      "source": [
        "#For debugging\n",
        "print(visit_webpage_tool(\"https://www.sec.gov/Archives/edgar/data/320193/000207847625000005/xslF345X05/wk-form4_1759530690.xml\"))"
      ],
      "metadata": {
        "colab": {
          "base_uri": "https://localhost:8080/"
        },
        "id": "bKT_U-lcqSBf",
        "outputId": "9869c8c3-645e-4ebe-b029-c6a1ffa2e525"
      },
      "execution_count": 28,
      "outputs": [
        {
          "output_type": "stream",
          "name": "stdout",
          "text": [
            "\n",
            "\n",
            "\n",
            "SEC.gov | Your Request Originates from an Undeclared Automated Tool\n",
            "\n",
            "html {height: 100%}\n",
            "body {height: 100%; margin:0; padding:0;}\n",
            "#header {background-color:#003968; color:#fff; padding:15px 20px 10px 20px;font-family:Arial, Helvetica, sans-serif; font-size:20px; border-bottom:solid 5px #000;}\n",
            "#footer {background-color:#003968; color:#fff; padding:15px 20px;font-family:Arial, Helvetica, sans-serif; font-size:20px;}\n",
            "#content {max-width:650px;margin:60px auto; padding:0 20px 100px 20px; background-image:url(seal_bw.png);background-repeat:no-repeat;background-position:50% 100%;}\n",
            "h1 {font-family:Georgia, Times, serif; font-size:20px;}\n",
            "h2 {text-align:center; font-family:Georgia, Times, serif; font-size:20px; width:100%; border-bottom:solid #999 1px;padding-bottom:10px; margin-bottom:20px;}\n",
            "h3 {font-family:Georgia, Times, serif; font-size:16px; margin:25px 0 0 0;}\n",
            "p {font-family:Verdana, Geneva, sans-serif;font-size:14px;line-height:1.3;}\n",
            ".grey_box {background-color:#eee; padding:5px 40px 20px 40px;margin-top:75px;}\n",
            ".grey_box p {font-size:12px;line-height:1.5}\n",
            ".note {padding: 0 40px; font-style: italic;}\n",
            "\n",
            "\n",
            "\n",
            "U.S. Securities and Exchange Commission\n",
            "\n",
            "Your Request Originates from an Undeclared Automated Tool\n",
            "To allow for equitable access to all users, SEC reserves the right to limit requests originating from undeclared automated tools. Your request has been identified as part of a network of automated tools outside of the acceptable policy and will be managed until action is taken to declare your traffic.\n",
            "Please declare your traffic by updating your user agent to include company specific information.\n",
            "For best practices on efficiently downloading information from SEC.gov, including the latest EDGAR filings, visit sec.gov/developer. You can also sign up for email updates on the SEC open data program, including best practices that make it more efficient to download data, and SEC.gov enhancements that may impact scripted downloading processes. For more information, contact opendata@sec.gov.\n",
            "For more information, please see the SEC’s Web Site Privacy and Security Policy. Thank you for your interest in the U.S. Securities and Exchange Commission.\n",
            "Reference ID: 0.8f071002.1760601047.a2ba9d42\n",
            "\n",
            "More Information\n",
            "Internet Security Policy\n",
            "By using this site, you are agreeing to security monitoring and auditing. For security purposes, and to ensure that the public service remains available to users, this government computer system employs programs to monitor network traffic to identify unauthorized attempts to upload or change information or to otherwise cause damage, including attempts to deny service to users.\n",
            "Unauthorized attempts to upload information and/or change information on any portion of this site are strictly prohibited and are subject to prosecution under the Computer Fraud and Abuse Act of 1986 and the National Information Infrastructure Protection Act of 1996 (see Title 18 U.S.C. §§ 1001 and 1030).\n",
            "To ensure our website performs well for all users, the SEC monitors the frequency of requests for SEC.gov content to ensure automated searches do not impact the ability of others to access SEC.gov content. We reserve the right to block IP addresses that submit excessive requests.  Current guidelines limit users to a total of no more than 10 requests per second, regardless of the number of machines used to submit requests. \n",
            "If a user or application submits more than 10 requests per second, further requests from the IP address(es) may be limited for a brief period. Once the rate of requests has dropped below the threshold for 10 minutes, the user may resume accessing content on SEC.gov. This SEC practice is designed to limit excessive automated searches on SEC.gov and is not intended or expected to impact individuals browsing the SEC.gov website. \n",
            "Note that this policy may change as the SEC manages SEC.gov to ensure that the website performs efficiently and remains available to all users.\n",
            "\n",
            "\n",
            "Note: We do not offer technical support for developing or debugging scripted downloading processes.\n",
            "\n",
            "\n",
            "\n",
            "\n"
          ]
        }
      ]
    },
    {
      "cell_type": "code",
      "source": [
        "#Finanical news lookup\n",
        "def get_fin_news(symbol: str) -> str:\n",
        "    api_key = fin_news\n",
        "    url = \"https://newsapi.org/v2/everything\"\n",
        "    params = {\n",
        "        \"q\": symbol,\n",
        "        \"apiKey\": api_key,\n",
        "        \"sortBy\": \"publishedAt\",\n",
        "        \"language\": \"en\"\n",
        "    }\n",
        "    response = requests.get(url, params=params)\n",
        "    if response.status_code != 200:\n",
        "        return f\"API error {response.status_code}: {response.text[:200]}\"\n",
        "    data = response.json()\n",
        "    articles = data.get(\"articles\", [])\n",
        "    if not articles:\n",
        "        return f\"No news found for {symbol}. Full message: {data.get('message', '')}\"\n",
        "    return \"\\n\".join([a[\"description\"] or a[\"title\"] for a in articles[:7]])\n",
        "\n",
        "\n",
        "\n",
        "news_api_tool = Tool(\n",
        "    name=\"NewsAPI\",\n",
        "    func=get_fin_news,  #Assumes you've defined this class\n",
        "    description=\"Finds recent financial news on stock symbol\"\n",
        ")"
      ],
      "metadata": {
        "id": "U9rcq2jAYL3P"
      },
      "execution_count": 29,
      "outputs": []
    },
    {
      "cell_type": "code",
      "source": [
        "#For debugging\n",
        "print(get_fin_news(\"AAPL\"))"
      ],
      "metadata": {
        "colab": {
          "base_uri": "https://localhost:8080/"
        },
        "id": "zKlLdN8fYN7S",
        "outputId": "ae114eaf-2aae-4c4b-ec98-be66fd20de28"
      },
      "execution_count": 30,
      "outputs": [
        {
          "output_type": "stream",
          "name": "stdout",
          "text": [
            "BelkinがMagSafeとQi2ワイヤレス充電に対応したiPhone Air/17/Pro用ケース「Belkin SheerForce iPhoneクリアケース」を発売しています。詳細は以下から。 　台湾Foxco […]\n",
            "The post Belkin、MagSafe/Qi2 25Wワイヤレス充電に対応したiPhone Air/17/Pro用の「Belkin SheerForceクリア/カラーケース」を発売。 first appeared on AAPL Ch..\n",
            "investors weighed hopes for rate cuts and strong results from Wall Street banks as the US-China trade dispute rolled on.\n",
            "investors weighed hopes for rate cuts and strong results from Wall Street banks as the US-China trade dispute rolled on.\n"
          ]
        }
      ]
    },
    {
      "cell_type": "code",
      "source": [
        "import requests\n",
        "\n",
        "def get_fin_news_tavily(symbol: str) -> str:\n",
        "    \"\"\"\n",
        "    Searches for and extracts detailed financial news impacting the given stock symbol.\n",
        "    Performs a deep extraction with Tavily's advanced read (HTML parsing and markdown conversion).\n",
        "    \"\"\"\n",
        "    query = f\"News on {symbol}\"\n",
        "    api_url_search = \"https://api.tavily.com/search\"\n",
        "    api_url_extract = \"https://api.tavily.com/extract\"\n",
        "\n",
        "    # Step 1: Search for related news articles\n",
        "    payload_search = {\n",
        "        \"query\": query,\n",
        "        \"api_key\": tavily_key,\n",
        "        \"max_results\": 15,\n",
        "        \"search_depth\": \"advanced\",          # more contextually relevant pages\n",
        "        \"include_raw_content\": False\n",
        "    }\n",
        "\n",
        "    search_response = requests.post(api_url_search, json=payload_search)\n",
        "    if search_response.status_code != 200:\n",
        "        return f\"Tavily search error: {search_response.status_code} {search_response.text}\"\n",
        "\n",
        "    results = search_response.json().get(\"results\", [])\n",
        "    links = [r.get(\"link\") for r in results if r.get(\"link\")]\n",
        "\n",
        "    # Step 2: Extract full article contents using Tavily Extract API\n",
        "    if not links:\n",
        "        return \"No articles found for this stock symbol.\"\n",
        "\n",
        "    payload_extract = {\n",
        "        \"urls\": links,\n",
        "        \"api_key\": tavily_key,\n",
        "        \"extract_depth\": \"advanced\",         # deeper DOM parsing, better for long articles\n",
        "        \"include_images\": False,\n",
        "        \"format\": \"markdown\"                 # returns Markdown-formatted summaries\n",
        "    }\n",
        "\n",
        "    extract_response = requests.post(api_url_extract, json=payload_extract)\n",
        "    if extract_response.status_code != 200:\n",
        "        return f\"Tavily extract error: {extract_response.status_code} {extract_response.text}\"\n",
        "\n",
        "    extracted_articles = extract_response.json().get(\"results\", [])\n",
        "    if not extracted_articles:\n",
        "        return \"No extractable content retrieved.\"\n",
        "\n",
        "    # Step 3: Structure extracted results for downstream summarization or agent reflection\n",
        "    summaries = []\n",
        "    for article in extracted_articles:\n",
        "        link = article.get(\"url\", \"\")\n",
        "        content = article.get(\"content\", \"No text content\")\n",
        "        summaries\n",
        "\n",
        "tavily_news_tool = Tool(\n",
        "    name=\"TavilyNews\",\n",
        "    func=get_fin_news_tavily,\n",
        "    description=\"Searches for and extracts detailed financial news impacting the given stock symbol.\"\n",
        ")\n"
      ],
      "metadata": {
        "id": "42tphN4VYay9"
      },
      "execution_count": 31,
      "outputs": []
    },
    {
      "cell_type": "code",
      "source": [
        "#For debugging\n",
        "print(get_fin_news_tavily(symbol=\"AAPL\"))"
      ],
      "metadata": {
        "colab": {
          "base_uri": "https://localhost:8080/"
        },
        "id": "ng0mnuC_YgDb",
        "outputId": "9465a11e-daac-414f-d1a5-2e4295bd88ec"
      },
      "execution_count": 32,
      "outputs": [
        {
          "output_type": "stream",
          "name": "stdout",
          "text": [
            "No articles found for this stock symbol.\n"
          ]
        }
      ]
    },
    {
      "cell_type": "code",
      "source": [
        "from transformers import pipeline\n",
        "from langchain.tools import Tool\n",
        "\n",
        "\n",
        "class HuggingFaceSentimentTool:\n",
        "    \"\"\"\n",
        "    A lightweight sentiment analysis tool that uses a pretrained Hugging Face model.\n",
        "\n",
        "    This class wraps the Hugging Face `pipeline(\"sentiment-analysis\")` function\n",
        "    and exposes a simple interface for evaluating sentiment in text.\n",
        "\n",
        "    Attributes\n",
        "    ----------\n",
        "    classifier : transformers.pipelines.Pipeline\n",
        "        The Hugging Face sentiment-analysis pipeline used for inference.\n",
        "    \"\"\"\n",
        "\n",
        "    def __init__(self):\n",
        "        \"\"\"Initializes the Hugging Face sentiment analysis pipeline.\"\"\"\n",
        "        self.classifier = pipeline(\"sentiment-analysis\")\n",
        "\n",
        "    def analyze(self, text: str) -> int:\n",
        "        \"\"\"\n",
        "        Performs sentiment analysis on input text and returns a numeric sentiment label.\n",
        "\n",
        "        Parameters\n",
        "        ----------\n",
        "        text : str\n",
        "            The input text string to analyze.\n",
        "\n",
        "        Returns\n",
        "        -------\n",
        "        int\n",
        "            Returns +1 for positive sentiment and -1 for negative sentiment.\n",
        "        \"\"\"\n",
        "        result = self.classifier(text)[0]\n",
        "        return 1 if result[\"label\"] == \"POSITIVE\" else -1\n",
        "\n",
        "\n",
        "sentiment_api_tool = Tool(\n",
        "    name=\"HuggingFaceSentiment\",\n",
        "    func=HuggingFaceSentimentTool().analyze,\n",
        "    description=(\n",
        "        \"Analyzes sentiment of input text using a pretrained Hugging Face transformer \"\n",
        "        \"and returns +1 for positive sentiment or -1 for negative.\"\n",
        "    )\n",
        ")\n"
      ],
      "metadata": {
        "colab": {
          "base_uri": "https://localhost:8080/"
        },
        "id": "inncdoanZule",
        "outputId": "42dfa1a5-f2c8-4bb4-bf71-6bc0d9488148"
      },
      "execution_count": 33,
      "outputs": [
        {
          "output_type": "stream",
          "name": "stderr",
          "text": [
            "No model was supplied, defaulted to distilbert/distilbert-base-uncased-finetuned-sst-2-english and revision 714eb0f (https://huggingface.co/distilbert/distilbert-base-uncased-finetuned-sst-2-english).\n",
            "Using a pipeline without specifying a model name and revision in production is not recommended.\n",
            "Device set to use cpu\n"
          ]
        }
      ]
    },
    {
      "cell_type": "code",
      "source": [
        "def earnings_analyzer(symbol: str, context: str = \"\", yahoo_tool=None, sec_tool=None) -> str:\n",
        "    \"\"\"\n",
        "    Analyzes earnings info given a stock symbol, with string-based context/memory.\n",
        "    - symbol: stock ticker as string\n",
        "    - context: concatenated text from tools agent's memory (e.g., research_notes or scratchpad)\n",
        "    - yahoo_tool, sec_tool: callable tools to retrieve more info if not found in context\n",
        "    Returns: summary string of earnings info\n",
        "    \"\"\"\n",
        "    #Check context/memory for earnings info\n",
        "    symbol_upper = symbol.upper()\n",
        "    relevant_snippet = \"\"\n",
        "    for line in context.splitlines():\n",
        "        # crude match: look for earnings and the symbol in context; refine for your structure\n",
        "        if symbol_upper in line and \"earnings\" in line.lower():\n",
        "            relevant_snippet = line.strip()\n",
        "            break\n",
        "\n",
        "    #If not found, query tools for latest info\n",
        "    if not relevant_snippet:\n",
        "        if yahoo_tool:\n",
        "            relevant_snippet = yahoo_tool.func(symbol)  # could return a string summary\n",
        "        elif sec_tool:\n",
        "            relevant_snippet = sec_tool.func(symbol)\n",
        "        else:\n",
        "            relevant_snippet = f\"No earnings info found for {symbol}.\"\n",
        "\n",
        "    #You can further refine the summary or do LLM chaining as needed\n",
        "    return f\"Earnings analysis for {symbol}:\\n{relevant_snippet}\"\n",
        "\n",
        "\n",
        "earnings_specialist = Tool(\n",
        "    name=\"EarningsAnalyzer\",\n",
        "    func=earnings_analyzer,\n",
        "    description=\"Analyzes earnings context and info for a stock symbol, using memory/context and sources.\"\n",
        ")\n"
      ],
      "metadata": {
        "id": "u0OJCaknaoTf"
      },
      "execution_count": 34,
      "outputs": []
    },
    {
      "cell_type": "code",
      "source": [
        "#For debugging\n",
        "print(earnings_analyzer(\"META\"))"
      ],
      "metadata": {
        "colab": {
          "base_uri": "https://localhost:8080/"
        },
        "id": "WRU6-Zqgbca7",
        "outputId": "2dd91bcb-4f7d-4268-9cd4-140445204c7d"
      },
      "execution_count": 35,
      "outputs": [
        {
          "output_type": "stream",
          "name": "stdout",
          "text": [
            "Earnings analysis for META:\n",
            "No earnings info found for META.\n"
          ]
        }
      ]
    },
    {
      "cell_type": "code",
      "source": [
        "#Add Duck Duck Go\n",
        "from langchain.tools import DuckDuckGoSearchRun\n",
        "search = DuckDuckGoSearchRun()\n",
        "\n",
        "duck_duck_go_search = Tool(\n",
        "    name=\"DuckDuckGoSearch\",\n",
        "    func=search.invoke,\n",
        "    description=\"Useful for when you need to answer questions about current events. You should ask targeted questions.\"\n",
        ")"
      ],
      "metadata": {
        "id": "BL1XHyr1eVgk"
      },
      "execution_count": 37,
      "outputs": []
    },
    {
      "cell_type": "code",
      "source": [
        "duck_duck_go_search('APPL')"
      ],
      "metadata": {
        "colab": {
          "base_uri": "https://localhost:8080/",
          "height": 125
        },
        "id": "rYiMHv2tehTg",
        "outputId": "738750cc-a711-422f-8d54-7a69d9f10265"
      },
      "execution_count": 38,
      "outputs": [
        {
          "output_type": "execute_result",
          "data": {
            "text/plain": [
              "\"1 day ago - Apple Inc. is an American multinational technology company headquartered in Cupertino, California, in Silicon Valley, best known for its consumer electronics, software and online services. Founded in 1976 as Apple Computer Company by Steve Jobs, Steve Wozniak and Ronald Wayne, the company was ... 2 days ago - An apple is the round, edible fruit of an apple tree (Malus spp.). Fruit trees of the orchard or domestic apple (Malus domestica), the most widely grown in the genus, are cultivated worldwide. The tree originated in Central Asia, where its wild ancestor, Malus sieversii, is still found. Table of ContentsHow to spell “ appl ”How many syllables in “ appl ” Membre Du Comité Directeur De L' appl (association Des Pharmaciens De La Province De Liège). View and download Benjamin Appl Instagram tagged photos and videos without login.Benjamin Appl . @benjaminapplbaritone.\""
            ],
            "application/vnd.google.colaboratory.intrinsic+json": {
              "type": "string"
            }
          },
          "metadata": {},
          "execution_count": 38
        }
      ]
    },
    {
      "cell_type": "code",
      "source": [
        "import yfinance as yf\n",
        "import matplotlib.pyplot as plt\n",
        "import pandas as pd\n",
        "from datetime import datetime, timedelta\n",
        "from langchain.tools import Tool\n",
        "\n",
        "#Define the plotting function\n",
        "def plot_stock_52_week(symbol: str) -> str:\n",
        "    \"\"\"\n",
        "    Plots the last 52 weeks (1 year) of stock closing prices for the given symbol.\n",
        "    Returns the filepath to the saved chart image.\n",
        "    \"\"\"\n",
        "    try:\n",
        "        end_date = datetime.today()\n",
        "        start_date = end_date - timedelta(weeks=52)\n",
        "\n",
        "        # Download 1-year historical stock data\n",
        "        data = yf.download(symbol, start=start_date, end=end_date)\n",
        "\n",
        "        if data.empty:\n",
        "            return f\"No data found for {symbol}. Please check the symbol or try again later.\"\n",
        "\n",
        "        # Plot closing price over time\n",
        "        plt.figure(figsize=(10, 5))\n",
        "        plt.plot(data.index, data['Close'], label='Closing Price', color='dodgerblue', linewidth=2)\n",
        "        plt.title(f\"{symbol} Stock Price (Last 52 Weeks)\", fontsize=14, pad=15)\n",
        "        plt.xlabel(\"Date\", fontsize=12)\n",
        "        plt.ylabel(\"Price (USD)\", fontsize=12)\n",
        "        plt.grid(True, linestyle='--', alpha=0.6)\n",
        "        plt.legend()\n",
        "\n",
        "        # Save plot to file\n",
        "        filename = f\"{symbol}_52week_chart.png\"\n",
        "        plt.savefig(filename, bbox_inches='tight')\n",
        "        plt.close()\n",
        "\n",
        "        return f\"Stock chart saved as {filename}\"\n",
        "    except Exception as e:\n",
        "        return f\"Error generating chart for {symbol}: {e}\"\n",
        "\n",
        "#Wrap as a LangGraph Tool\n",
        "stock_chart_tool = Tool(\n",
        "    name=\"StockChart52Weeks\",\n",
        "    func=plot_stock_52_week,\n",
        "    description=\"Plots and saves a 52-week stock price chart for the given symbol using Yahoo Finance data.\"\n",
        ")\n"
      ],
      "metadata": {
        "id": "INLptQ7endFI"
      },
      "execution_count": 39,
      "outputs": []
    },
    {
      "cell_type": "code",
      "source": [
        "from datetime import datetime, timezone\n",
        "from langchain.tools import Tool\n",
        "\n",
        "def get_timestamp(_: str = \"\") -> str:\n",
        "    \"\"\"\n",
        "    Returns the current date and time in ISO 8601 format.\n",
        "\n",
        "    This tool can be used by the agent to log events, timestamp analyses,\n",
        "    or align data with real-world time context. It supports chaining with\n",
        "    other workflow nodes that require temporal awareness.\n",
        "    \"\"\"\n",
        "    return datetime.now(timezone.utc).isoformat()\n",
        "\n",
        "timestamp_tool = Tool(\n",
        "    name=\"TimestampTool\",\n",
        "    func=get_timestamp,\n",
        "    description=\"Returns the current date and time in ISO 8601 format, useful for logging or aligning time-based analyses.\"\n",
        ")"
      ],
      "metadata": {
        "id": "Y9beFd1YzZC9"
      },
      "execution_count": 145,
      "outputs": []
    },
    {
      "cell_type": "code",
      "source": [
        "print(get_timestamp())"
      ],
      "metadata": {
        "colab": {
          "base_uri": "https://localhost:8080/"
        },
        "id": "Bqict04hJAAL",
        "outputId": "e91775ed-ed3d-48da-cdbe-feec4c648490"
      },
      "execution_count": 146,
      "outputs": [
        {
          "output_type": "stream",
          "name": "stdout",
          "text": [
            "2025-10-16T08:51:29.518520+00:00\n"
          ]
        }
      ]
    },
    {
      "cell_type": "code",
      "execution_count": 147,
      "metadata": {
        "id": "biMVj3ifg3ha"
      },
      "outputs": [],
      "source": [
        "#Create the tools list\n",
        "tools = [\n",
        "    yahoo_api_tool,\n",
        "    sec_api_tool,\n",
        "    news_api_tool,\n",
        "    tavily_news_tool,\n",
        "    sentiment_api_tool,\n",
        "    earnings_specialist,\n",
        "    duck_duck_go_search,\n",
        "    stock_chart_tool,\n",
        "    HuggingFaceSentimentTool,\n",
        "    visit_webpage_tool,\n",
        "    timestamp_tool\n",
        "]"
      ]
    },
    {
      "cell_type": "markdown",
      "metadata": {
        "id": "2_EbjC2ok3m4"
      },
      "source": [
        "### Tools Agent Function"
      ]
    },
    {
      "cell_type": "markdown",
      "source": [
        "ADD COMMENTARY: The prompt says it all."
      ],
      "metadata": {
        "id": "tmLeQNbVPR06"
      }
    },
    {
      "cell_type": "code",
      "execution_count": 113,
      "metadata": {
        "id": "wyMhkBfhf3Hi"
      },
      "outputs": [],
      "source": [
        "#Tools Agent Prompt & Function\n",
        "\n",
        "ANALYSIS_PROMPT = \"\"\"\n",
        "System Role: You are a detailed Financial Research Agent designed to analyze companies, securities, and markets with a structured workflow.\n",
        "\n",
        "**Your goal** For {symbol}, provide a ~50 word investment summary, based on extensive reserach.\n",
        "\n",
        "Include {context_memory} to improve your answers.\n",
        "\n",
        "NEVER INCLUDE YOUR THOUGHT PROCESS IN THE RESULTS.\n",
        "\n",
        "\n",
        "**Core Functions**\n",
        "\n",
        "1. Planning:\n",
        "Develop and print out a plan for each given stock symbol. Include a plan for a multi-step research process that defines what data to collect (e.g., news, market data, filings), what tools to use, and how to verify results.\n",
        "\n",
        "Example steps: “Collect company overview → Analyze financials → Cross-check recent filings → Summarize.”\n",
        "\n",
        "2. Tool Use:\n",
        "Use all of your tools by default to hit APIs and data sources dynamically, such as Yahoo Finance, SEC EDGAR, news APIs, and any specialist analyzers. Choose the right tools and calls autonomously based on the goal of each stage. Return structured findings.\n",
        "\n",
        "TOOL USAGE REQUIREMENTS:\n",
        "- Refer to the memory for useful data.\n",
        "- ALWAYS include a timestamp of the run near the top of the report.\n",
        "- Use at least 4 different tools for each analysis\n",
        "- Cross-reference information from multiple sources\n",
        "- If a tool fails, try alternative tools for the same data\n",
        "- Always explain your reasoning between tool calls\n",
        "\n",
        "3. Self-Reflection:\n",
        "Evaluate your output’s completeness, correctness, and coherence at each stage. If key data (e.g., P/E, recent filings, or market indicators) appears missing or uncertain, perform iterative refinement using another reasoning pass or additional tool calls.\n",
        "\n",
        "4. Memory/Learning:\n",
        "Retain useful context from prior analyses (observations, missing data, errors, patterns in company performance). Use this \"brief memory\" to improve future research quality and efficiency.\n",
        "\n",
        "\n",
        "**Workflow Logic**\n",
        "\n",
        "Follow a defined sequence for every research request:\n",
        "* Ingest → Preprocess → Classify → Extract → Summarize\n",
        "\n",
        "1. Ingest: Gather relevant news, filings, and metrics. Use the webpage visit tool on any URLS.\n",
        "\n",
        "2. Preprocess: Clean, standardize, and interpret results from multiple tools.\n",
        "\n",
        "3. Classify: Route data to the correct analysis path (earnings, news, or market).\n",
        "\n",
        "4. Extract: Pull core signals, events, or values.\n",
        "\n",
        "5. Summarize: Synthesize insights in your final output.\n",
        "\n",
        "6. Routing:\n",
        "  * Choose appropriate specialist analyzers according to data type:\n",
        "\n",
        "  * NewsAnalyzer for press, sentiment, or event narratives.\n",
        "\n",
        "  * MarketAnalyzer for indices, performance data, and macro context.\n",
        "\n",
        "7. Evaluation: Review reasoning and completeness, recall tools again if needed.\n",
        "\n",
        "\n",
        "**Final Report**\n",
        "At the end of each session, create a final summary report that contains:\n",
        "\n",
        "Updated output from EVERY tool as well as the TIMESTAMP near the top.\n",
        "\n",
        "NEVER include your internal planning information in the report.\n",
        "\n",
        "Include citations such as [1] followed by a hyperlink at the bottom of the page for further review.\n",
        "\n",
        "Respond in clear, organized Markdown, including headings, bullet points, and labeled data sources for readability.\n",
        "\n",
        "**STOPPING RULE:** Once you have basic financials, recent news, and market context, conclude your analysis. Do not seek additional tools or data.\n",
        "\n",
        "Be thorough - this analysis will inform major investment decisions.\n",
        "\n",
        "\"\"\"\n",
        "\n",
        "#Define the agent\n",
        "tools_agent = create_react_agent(\n",
        "    model=llm_openai,\n",
        "    tools=tools,\n",
        "    prompt=ANALYSIS_PROMPT,\n",
        "    debug=True\n",
        ")"
      ]
    },
    {
      "cell_type": "code",
      "source": [
        "#User Input\n",
        "user_input = \"COST\"\n",
        "\n",
        "# Create your formatted prompt\n",
        "formatted_prompt = ANALYSIS_PROMPT.format(\n",
        "    symbol=user_input, # \"TGT\"\n",
        "    context_memory=query_memory(user_input, SESSION_MEMORY)\n",
        ")"
      ],
      "metadata": {
        "colab": {
          "base_uri": "https://localhost:8080/"
        },
        "id": "cUAyBXnqCdWt",
        "outputId": "8c997893-eff6-47dc-8f95-4751f12de4bf"
      },
      "execution_count": 119,
      "outputs": [
        {
          "output_type": "stream",
          "name": "stdout",
          "text": [
            "query memory stock symbol =  COST\n",
            "\u001b[1m[values]\u001b[0m {'messages': [HumanMessage(content='\\nSystem Role: You are a detailed Financial Research Agent designed to analyze companies, securities, and markets with a structured workflow.\\n\\n**Your goal** For COST, provide a ~50 word investment summary, based on extensive reserach.\\n\\nInclude None to improve your answers.\\n\\nNEVER INCLUDE YOUR THOUGHT PROCESS IN THE RESULTS.\\n\\n\\n**Core Functions**\\n\\n1. Planning:\\nDevelop and print out a plan for each given stock symbol. Include a plan for a multi-step research process that defines what data to collect (e.g., news, market data, filings), what tools to use, and how to verify results.\\n\\nExample steps: “Collect company overview → Analyze financials → Cross-check recent filings → Summarize.”\\n\\n2. Tool Use:\\nUse all of your tools by default to hit APIs and data sources dynamically, such as Yahoo Finance, SEC EDGAR, news APIs, and any specialist analyzers. Choose the right tools and calls autonomously based on the goal of each stage. Return structured findings.\\n\\nTOOL USAGE REQUIREMENTS:\\n- Refer to the memory for useful data.\\n- ALWAYS include a timestamp of the run near the top of the report.\\n- Use at least 4 different tools for each analysis\\n- Cross-reference information from multiple sources\\n- If a tool fails, try alternative tools for the same data\\n- Always explain your reasoning between tool calls\\n\\n3. Self-Reflection:\\nEvaluate your output’s completeness, correctness, and coherence at each stage. If key data (e.g., P/E, recent filings, or market indicators) appears missing or uncertain, perform iterative refinement using another reasoning pass or additional tool calls.\\n\\n4. Memory/Learning:\\nRetain useful context from prior analyses (observations, missing data, errors, patterns in company performance). Use this \"brief memory\" to improve future research quality and efficiency.\\n\\n\\n**Workflow Logic**\\n\\nFollow a defined sequence for every research request:\\n* Ingest → Preprocess → Classify → Extract → Summarize\\n\\n1. Ingest: Gather relevant news, filings, and metrics. Use the webpage visit tool on any URLS.\\n\\n2. Preprocess: Clean, standardize, and interpret results from multiple tools.\\n\\n3. Classify: Route data to the correct analysis path (earnings, news, or market).\\n\\n4. Extract: Pull core signals, events, or values.\\n\\n5. Summarize: Synthesize insights in your final output.\\n\\n6. Routing:\\n  * Choose appropriate specialist analyzers according to data type:\\n\\n  * NewsAnalyzer for press, sentiment, or event narratives.\\n\\n  * MarketAnalyzer for indices, performance data, and macro context.\\n\\n7. Evaluation: Review reasoning and completeness, recall tools again if needed.\\n\\n\\n**Final Report**\\nAt the end of each session, create a final summary report that contains:\\n\\nUpdated output from EVERY tool as well as the TIMESTAMP near the top.\\n\\nNEVER include your internal planning information in the report. \\n\\nInclude citations such as [1] followed by a hyperlink at the bottom of the page for further review.\\n\\nRespond in clear, organized Markdown, including headings, bullet points, and labeled data sources for readability.\\n\\n**STOPPING RULE:** Once you have basic financials, recent news, and market context, conclude your analysis. Do not seek additional tools or data.\\n\\nBe thorough - this analysis will inform major investment decisions.\\n\\n', additional_kwargs={}, response_metadata={}, id='775a23fb-92ee-4a52-94d7-50d8140eb0e2')]}\n",
            "\u001b[1m[updates]\u001b[0m {'agent': {'messages': [AIMessage(content='', additional_kwargs={'tool_calls': [{'id': 'call_WUQddPNHrVecrrBnR8wby0t5', 'function': {'arguments': '{\"__arg1\":\"now\"}', 'name': 'TimestampTool'}, 'type': 'function'}], 'refusal': None}, response_metadata={'token_usage': {'completion_tokens': 16, 'prompt_tokens': 1896, 'total_tokens': 1912, 'completion_tokens_details': {'accepted_prediction_tokens': 0, 'audio_tokens': 0, 'reasoning_tokens': 0, 'rejected_prediction_tokens': 0}, 'prompt_tokens_details': {'audio_tokens': 0, 'cached_tokens': 0}}, 'model_name': 'gpt-3.5-turbo-0125', 'system_fingerprint': None, 'id': 'chatcmpl-CRDnWclxgjZtkXz9dTpKl76Upi97y', 'service_tier': 'default', 'finish_reason': 'tool_calls', 'logprobs': None}, id='run--7c8d9a50-c0dc-4b38-adc1-93a322486302-0', tool_calls=[{'name': 'TimestampTool', 'args': {'__arg1': 'now'}, 'id': 'call_WUQddPNHrVecrrBnR8wby0t5', 'type': 'tool_call'}], usage_metadata={'input_tokens': 1896, 'output_tokens': 16, 'total_tokens': 1912, 'input_token_details': {'audio': 0, 'cache_read': 0}, 'output_token_details': {'audio': 0, 'reasoning': 0}})]}}\n",
            "\u001b[1m[values]\u001b[0m {'messages': [HumanMessage(content='\\nSystem Role: You are a detailed Financial Research Agent designed to analyze companies, securities, and markets with a structured workflow.\\n\\n**Your goal** For COST, provide a ~50 word investment summary, based on extensive reserach.\\n\\nInclude None to improve your answers.\\n\\nNEVER INCLUDE YOUR THOUGHT PROCESS IN THE RESULTS.\\n\\n\\n**Core Functions**\\n\\n1. Planning:\\nDevelop and print out a plan for each given stock symbol. Include a plan for a multi-step research process that defines what data to collect (e.g., news, market data, filings), what tools to use, and how to verify results.\\n\\nExample steps: “Collect company overview → Analyze financials → Cross-check recent filings → Summarize.”\\n\\n2. Tool Use:\\nUse all of your tools by default to hit APIs and data sources dynamically, such as Yahoo Finance, SEC EDGAR, news APIs, and any specialist analyzers. Choose the right tools and calls autonomously based on the goal of each stage. Return structured findings.\\n\\nTOOL USAGE REQUIREMENTS:\\n- Refer to the memory for useful data.\\n- ALWAYS include a timestamp of the run near the top of the report.\\n- Use at least 4 different tools for each analysis\\n- Cross-reference information from multiple sources\\n- If a tool fails, try alternative tools for the same data\\n- Always explain your reasoning between tool calls\\n\\n3. Self-Reflection:\\nEvaluate your output’s completeness, correctness, and coherence at each stage. If key data (e.g., P/E, recent filings, or market indicators) appears missing or uncertain, perform iterative refinement using another reasoning pass or additional tool calls.\\n\\n4. Memory/Learning:\\nRetain useful context from prior analyses (observations, missing data, errors, patterns in company performance). Use this \"brief memory\" to improve future research quality and efficiency.\\n\\n\\n**Workflow Logic**\\n\\nFollow a defined sequence for every research request:\\n* Ingest → Preprocess → Classify → Extract → Summarize\\n\\n1. Ingest: Gather relevant news, filings, and metrics. Use the webpage visit tool on any URLS.\\n\\n2. Preprocess: Clean, standardize, and interpret results from multiple tools.\\n\\n3. Classify: Route data to the correct analysis path (earnings, news, or market).\\n\\n4. Extract: Pull core signals, events, or values.\\n\\n5. Summarize: Synthesize insights in your final output.\\n\\n6. Routing:\\n  * Choose appropriate specialist analyzers according to data type:\\n\\n  * NewsAnalyzer for press, sentiment, or event narratives.\\n\\n  * MarketAnalyzer for indices, performance data, and macro context.\\n\\n7. Evaluation: Review reasoning and completeness, recall tools again if needed.\\n\\n\\n**Final Report**\\nAt the end of each session, create a final summary report that contains:\\n\\nUpdated output from EVERY tool as well as the TIMESTAMP near the top.\\n\\nNEVER include your internal planning information in the report. \\n\\nInclude citations such as [1] followed by a hyperlink at the bottom of the page for further review.\\n\\nRespond in clear, organized Markdown, including headings, bullet points, and labeled data sources for readability.\\n\\n**STOPPING RULE:** Once you have basic financials, recent news, and market context, conclude your analysis. Do not seek additional tools or data.\\n\\nBe thorough - this analysis will inform major investment decisions.\\n\\n', additional_kwargs={}, response_metadata={}, id='775a23fb-92ee-4a52-94d7-50d8140eb0e2'), AIMessage(content='', additional_kwargs={'tool_calls': [{'id': 'call_WUQddPNHrVecrrBnR8wby0t5', 'function': {'arguments': '{\"__arg1\":\"now\"}', 'name': 'TimestampTool'}, 'type': 'function'}], 'refusal': None}, response_metadata={'token_usage': {'completion_tokens': 16, 'prompt_tokens': 1896, 'total_tokens': 1912, 'completion_tokens_details': {'accepted_prediction_tokens': 0, 'audio_tokens': 0, 'reasoning_tokens': 0, 'rejected_prediction_tokens': 0}, 'prompt_tokens_details': {'audio_tokens': 0, 'cached_tokens': 0}}, 'model_name': 'gpt-3.5-turbo-0125', 'system_fingerprint': None, 'id': 'chatcmpl-CRDnWclxgjZtkXz9dTpKl76Upi97y', 'service_tier': 'default', 'finish_reason': 'tool_calls', 'logprobs': None}, id='run--7c8d9a50-c0dc-4b38-adc1-93a322486302-0', tool_calls=[{'name': 'TimestampTool', 'args': {'__arg1': 'now'}, 'id': 'call_WUQddPNHrVecrrBnR8wby0t5', 'type': 'tool_call'}], usage_metadata={'input_tokens': 1896, 'output_tokens': 16, 'total_tokens': 1912, 'input_token_details': {'audio': 0, 'cache_read': 0}, 'output_token_details': {'audio': 0, 'reasoning': 0}})]}\n",
            "\u001b[1m[updates]\u001b[0m {'tools': {'messages': [ToolMessage(content='2025-10-16T08:38:50.510380', name='TimestampTool', id='d0eb698b-a1b5-4796-aabd-5f4e4821f2b4', tool_call_id='call_WUQddPNHrVecrrBnR8wby0t5')]}}\n",
            "\u001b[1m[values]\u001b[0m {'messages': [HumanMessage(content='\\nSystem Role: You are a detailed Financial Research Agent designed to analyze companies, securities, and markets with a structured workflow.\\n\\n**Your goal** For COST, provide a ~50 word investment summary, based on extensive reserach.\\n\\nInclude None to improve your answers.\\n\\nNEVER INCLUDE YOUR THOUGHT PROCESS IN THE RESULTS.\\n\\n\\n**Core Functions**\\n\\n1. Planning:\\nDevelop and print out a plan for each given stock symbol. Include a plan for a multi-step research process that defines what data to collect (e.g., news, market data, filings), what tools to use, and how to verify results.\\n\\nExample steps: “Collect company overview → Analyze financials → Cross-check recent filings → Summarize.”\\n\\n2. Tool Use:\\nUse all of your tools by default to hit APIs and data sources dynamically, such as Yahoo Finance, SEC EDGAR, news APIs, and any specialist analyzers. Choose the right tools and calls autonomously based on the goal of each stage. Return structured findings.\\n\\nTOOL USAGE REQUIREMENTS:\\n- Refer to the memory for useful data.\\n- ALWAYS include a timestamp of the run near the top of the report.\\n- Use at least 4 different tools for each analysis\\n- Cross-reference information from multiple sources\\n- If a tool fails, try alternative tools for the same data\\n- Always explain your reasoning between tool calls\\n\\n3. Self-Reflection:\\nEvaluate your output’s completeness, correctness, and coherence at each stage. If key data (e.g., P/E, recent filings, or market indicators) appears missing or uncertain, perform iterative refinement using another reasoning pass or additional tool calls.\\n\\n4. Memory/Learning:\\nRetain useful context from prior analyses (observations, missing data, errors, patterns in company performance). Use this \"brief memory\" to improve future research quality and efficiency.\\n\\n\\n**Workflow Logic**\\n\\nFollow a defined sequence for every research request:\\n* Ingest → Preprocess → Classify → Extract → Summarize\\n\\n1. Ingest: Gather relevant news, filings, and metrics. Use the webpage visit tool on any URLS.\\n\\n2. Preprocess: Clean, standardize, and interpret results from multiple tools.\\n\\n3. Classify: Route data to the correct analysis path (earnings, news, or market).\\n\\n4. Extract: Pull core signals, events, or values.\\n\\n5. Summarize: Synthesize insights in your final output.\\n\\n6. Routing:\\n  * Choose appropriate specialist analyzers according to data type:\\n\\n  * NewsAnalyzer for press, sentiment, or event narratives.\\n\\n  * MarketAnalyzer for indices, performance data, and macro context.\\n\\n7. Evaluation: Review reasoning and completeness, recall tools again if needed.\\n\\n\\n**Final Report**\\nAt the end of each session, create a final summary report that contains:\\n\\nUpdated output from EVERY tool as well as the TIMESTAMP near the top.\\n\\nNEVER include your internal planning information in the report. \\n\\nInclude citations such as [1] followed by a hyperlink at the bottom of the page for further review.\\n\\nRespond in clear, organized Markdown, including headings, bullet points, and labeled data sources for readability.\\n\\n**STOPPING RULE:** Once you have basic financials, recent news, and market context, conclude your analysis. Do not seek additional tools or data.\\n\\nBe thorough - this analysis will inform major investment decisions.\\n\\n', additional_kwargs={}, response_metadata={}, id='775a23fb-92ee-4a52-94d7-50d8140eb0e2'), AIMessage(content='', additional_kwargs={'tool_calls': [{'id': 'call_WUQddPNHrVecrrBnR8wby0t5', 'function': {'arguments': '{\"__arg1\":\"now\"}', 'name': 'TimestampTool'}, 'type': 'function'}], 'refusal': None}, response_metadata={'token_usage': {'completion_tokens': 16, 'prompt_tokens': 1896, 'total_tokens': 1912, 'completion_tokens_details': {'accepted_prediction_tokens': 0, 'audio_tokens': 0, 'reasoning_tokens': 0, 'rejected_prediction_tokens': 0}, 'prompt_tokens_details': {'audio_tokens': 0, 'cached_tokens': 0}}, 'model_name': 'gpt-3.5-turbo-0125', 'system_fingerprint': None, 'id': 'chatcmpl-CRDnWclxgjZtkXz9dTpKl76Upi97y', 'service_tier': 'default', 'finish_reason': 'tool_calls', 'logprobs': None}, id='run--7c8d9a50-c0dc-4b38-adc1-93a322486302-0', tool_calls=[{'name': 'TimestampTool', 'args': {'__arg1': 'now'}, 'id': 'call_WUQddPNHrVecrrBnR8wby0t5', 'type': 'tool_call'}], usage_metadata={'input_tokens': 1896, 'output_tokens': 16, 'total_tokens': 1912, 'input_token_details': {'audio': 0, 'cache_read': 0}, 'output_token_details': {'audio': 0, 'reasoning': 0}}), ToolMessage(content='2025-10-16T08:38:50.510380', name='TimestampTool', id='d0eb698b-a1b5-4796-aabd-5f4e4821f2b4', tool_call_id='call_WUQddPNHrVecrrBnR8wby0t5')]}\n",
            "\u001b[1m[updates]\u001b[0m {'agent': {'messages': [AIMessage(content='', additional_kwargs={'tool_calls': [{'id': 'call_Y5h55X9a4mTbTrOFmfw7fUBa', 'function': {'arguments': '{\"__arg1\": \"COST\"}', 'name': 'YahooFinanceAPI'}, 'type': 'function'}, {'id': 'call_vyUsXWAiS3vwjoIqAY20CzN7', 'function': {'arguments': '{\"__arg1\": \"COST\"}', 'name': 'SECEDGARAPI'}, 'type': 'function'}, {'id': 'call_tgqVhn51YpJNv9gvS0RwuooW', 'function': {'arguments': '{\"__arg1\": \"COST\"}', 'name': 'NewsAPI'}, 'type': 'function'}, {'id': 'call_uAYhLLDRI0ZMoOKAJ1Gimx8L', 'function': {'arguments': '{\"__arg1\": \"COST\"}', 'name': 'TavilyNews'}, 'type': 'function'}], 'refusal': None}, response_metadata={'token_usage': {'completion_tokens': 91, 'prompt_tokens': 1935, 'total_tokens': 2026, 'completion_tokens_details': {'accepted_prediction_tokens': 0, 'audio_tokens': 0, 'reasoning_tokens': 0, 'rejected_prediction_tokens': 0}, 'prompt_tokens_details': {'audio_tokens': 0, 'cached_tokens': 0}}, 'model_name': 'gpt-3.5-turbo-0125', 'system_fingerprint': None, 'id': 'chatcmpl-CRDnWZ1Lc9Hvo3mXddjiWFEembEud', 'service_tier': 'default', 'finish_reason': 'tool_calls', 'logprobs': None}, id='run--fe2fa20b-5a7f-4c92-93fc-c87d95165dec-0', tool_calls=[{'name': 'YahooFinanceAPI', 'args': {'__arg1': 'COST'}, 'id': 'call_Y5h55X9a4mTbTrOFmfw7fUBa', 'type': 'tool_call'}, {'name': 'SECEDGARAPI', 'args': {'__arg1': 'COST'}, 'id': 'call_vyUsXWAiS3vwjoIqAY20CzN7', 'type': 'tool_call'}, {'name': 'NewsAPI', 'args': {'__arg1': 'COST'}, 'id': 'call_tgqVhn51YpJNv9gvS0RwuooW', 'type': 'tool_call'}, {'name': 'TavilyNews', 'args': {'__arg1': 'COST'}, 'id': 'call_uAYhLLDRI0ZMoOKAJ1Gimx8L', 'type': 'tool_call'}], usage_metadata={'input_tokens': 1935, 'output_tokens': 91, 'total_tokens': 2026, 'input_token_details': {'audio': 0, 'cache_read': 0}, 'output_token_details': {'audio': 0, 'reasoning': 0}})]}}\n",
            "\u001b[1m[values]\u001b[0m {'messages': [HumanMessage(content='\\nSystem Role: You are a detailed Financial Research Agent designed to analyze companies, securities, and markets with a structured workflow.\\n\\n**Your goal** For COST, provide a ~50 word investment summary, based on extensive reserach.\\n\\nInclude None to improve your answers.\\n\\nNEVER INCLUDE YOUR THOUGHT PROCESS IN THE RESULTS.\\n\\n\\n**Core Functions**\\n\\n1. Planning:\\nDevelop and print out a plan for each given stock symbol. Include a plan for a multi-step research process that defines what data to collect (e.g., news, market data, filings), what tools to use, and how to verify results.\\n\\nExample steps: “Collect company overview → Analyze financials → Cross-check recent filings → Summarize.”\\n\\n2. Tool Use:\\nUse all of your tools by default to hit APIs and data sources dynamically, such as Yahoo Finance, SEC EDGAR, news APIs, and any specialist analyzers. Choose the right tools and calls autonomously based on the goal of each stage. Return structured findings.\\n\\nTOOL USAGE REQUIREMENTS:\\n- Refer to the memory for useful data.\\n- ALWAYS include a timestamp of the run near the top of the report.\\n- Use at least 4 different tools for each analysis\\n- Cross-reference information from multiple sources\\n- If a tool fails, try alternative tools for the same data\\n- Always explain your reasoning between tool calls\\n\\n3. Self-Reflection:\\nEvaluate your output’s completeness, correctness, and coherence at each stage. If key data (e.g., P/E, recent filings, or market indicators) appears missing or uncertain, perform iterative refinement using another reasoning pass or additional tool calls.\\n\\n4. Memory/Learning:\\nRetain useful context from prior analyses (observations, missing data, errors, patterns in company performance). Use this \"brief memory\" to improve future research quality and efficiency.\\n\\n\\n**Workflow Logic**\\n\\nFollow a defined sequence for every research request:\\n* Ingest → Preprocess → Classify → Extract → Summarize\\n\\n1. Ingest: Gather relevant news, filings, and metrics. Use the webpage visit tool on any URLS.\\n\\n2. Preprocess: Clean, standardize, and interpret results from multiple tools.\\n\\n3. Classify: Route data to the correct analysis path (earnings, news, or market).\\n\\n4. Extract: Pull core signals, events, or values.\\n\\n5. Summarize: Synthesize insights in your final output.\\n\\n6. Routing:\\n  * Choose appropriate specialist analyzers according to data type:\\n\\n  * NewsAnalyzer for press, sentiment, or event narratives.\\n\\n  * MarketAnalyzer for indices, performance data, and macro context.\\n\\n7. Evaluation: Review reasoning and completeness, recall tools again if needed.\\n\\n\\n**Final Report**\\nAt the end of each session, create a final summary report that contains:\\n\\nUpdated output from EVERY tool as well as the TIMESTAMP near the top.\\n\\nNEVER include your internal planning information in the report. \\n\\nInclude citations such as [1] followed by a hyperlink at the bottom of the page for further review.\\n\\nRespond in clear, organized Markdown, including headings, bullet points, and labeled data sources for readability.\\n\\n**STOPPING RULE:** Once you have basic financials, recent news, and market context, conclude your analysis. Do not seek additional tools or data.\\n\\nBe thorough - this analysis will inform major investment decisions.\\n\\n', additional_kwargs={}, response_metadata={}, id='775a23fb-92ee-4a52-94d7-50d8140eb0e2'), AIMessage(content='', additional_kwargs={'tool_calls': [{'id': 'call_WUQddPNHrVecrrBnR8wby0t5', 'function': {'arguments': '{\"__arg1\":\"now\"}', 'name': 'TimestampTool'}, 'type': 'function'}], 'refusal': None}, response_metadata={'token_usage': {'completion_tokens': 16, 'prompt_tokens': 1896, 'total_tokens': 1912, 'completion_tokens_details': {'accepted_prediction_tokens': 0, 'audio_tokens': 0, 'reasoning_tokens': 0, 'rejected_prediction_tokens': 0}, 'prompt_tokens_details': {'audio_tokens': 0, 'cached_tokens': 0}}, 'model_name': 'gpt-3.5-turbo-0125', 'system_fingerprint': None, 'id': 'chatcmpl-CRDnWclxgjZtkXz9dTpKl76Upi97y', 'service_tier': 'default', 'finish_reason': 'tool_calls', 'logprobs': None}, id='run--7c8d9a50-c0dc-4b38-adc1-93a322486302-0', tool_calls=[{'name': 'TimestampTool', 'args': {'__arg1': 'now'}, 'id': 'call_WUQddPNHrVecrrBnR8wby0t5', 'type': 'tool_call'}], usage_metadata={'input_tokens': 1896, 'output_tokens': 16, 'total_tokens': 1912, 'input_token_details': {'audio': 0, 'cache_read': 0}, 'output_token_details': {'audio': 0, 'reasoning': 0}}), ToolMessage(content='2025-10-16T08:38:50.510380', name='TimestampTool', id='d0eb698b-a1b5-4796-aabd-5f4e4821f2b4', tool_call_id='call_WUQddPNHrVecrrBnR8wby0t5'), AIMessage(content='', additional_kwargs={'tool_calls': [{'id': 'call_Y5h55X9a4mTbTrOFmfw7fUBa', 'function': {'arguments': '{\"__arg1\": \"COST\"}', 'name': 'YahooFinanceAPI'}, 'type': 'function'}, {'id': 'call_vyUsXWAiS3vwjoIqAY20CzN7', 'function': {'arguments': '{\"__arg1\": \"COST\"}', 'name': 'SECEDGARAPI'}, 'type': 'function'}, {'id': 'call_tgqVhn51YpJNv9gvS0RwuooW', 'function': {'arguments': '{\"__arg1\": \"COST\"}', 'name': 'NewsAPI'}, 'type': 'function'}, {'id': 'call_uAYhLLDRI0ZMoOKAJ1Gimx8L', 'function': {'arguments': '{\"__arg1\": \"COST\"}', 'name': 'TavilyNews'}, 'type': 'function'}], 'refusal': None}, response_metadata={'token_usage': {'completion_tokens': 91, 'prompt_tokens': 1935, 'total_tokens': 2026, 'completion_tokens_details': {'accepted_prediction_tokens': 0, 'audio_tokens': 0, 'reasoning_tokens': 0, 'rejected_prediction_tokens': 0}, 'prompt_tokens_details': {'audio_tokens': 0, 'cached_tokens': 0}}, 'model_name': 'gpt-3.5-turbo-0125', 'system_fingerprint': None, 'id': 'chatcmpl-CRDnWZ1Lc9Hvo3mXddjiWFEembEud', 'service_tier': 'default', 'finish_reason': 'tool_calls', 'logprobs': None}, id='run--fe2fa20b-5a7f-4c92-93fc-c87d95165dec-0', tool_calls=[{'name': 'YahooFinanceAPI', 'args': {'__arg1': 'COST'}, 'id': 'call_Y5h55X9a4mTbTrOFmfw7fUBa', 'type': 'tool_call'}, {'name': 'SECEDGARAPI', 'args': {'__arg1': 'COST'}, 'id': 'call_vyUsXWAiS3vwjoIqAY20CzN7', 'type': 'tool_call'}, {'name': 'NewsAPI', 'args': {'__arg1': 'COST'}, 'id': 'call_tgqVhn51YpJNv9gvS0RwuooW', 'type': 'tool_call'}, {'name': 'TavilyNews', 'args': {'__arg1': 'COST'}, 'id': 'call_uAYhLLDRI0ZMoOKAJ1Gimx8L', 'type': 'tool_call'}], usage_metadata={'input_tokens': 1935, 'output_tokens': 91, 'total_tokens': 2026, 'input_token_details': {'audio': 0, 'cache_read': 0}, 'output_token_details': {'audio': 0, 'reasoning': 0}})]}\n",
            "\u001b[1m[updates]\u001b[0m {'tools': {'messages': [ToolMessage(content='The inkjet coders market is growing due to increasing demand for traceability, anti-counterfeiting, and labeling compliance. Opportunities lie in the expanding FMCG, retail, and pharmaceutical sectors, with significant potential in Europe and Asia-Pacific. Th…\\nLast week, Belgian authorities arrested three people accused of planning \"a jihadist-inspired terrorist attack against political figures\" using drone-mounted explosives\\nDT Research\\'s 323MD rugged tablet has an anti-microbial keyboard and IP65 water and dust resistance.', name='NewsAPI', tool_call_id='call_tgqVhn51YpJNv9gvS0RwuooW')]}}\n",
            "\u001b[1m[updates]\u001b[0m {'tools': {'messages': [ToolMessage(content='Company: Costco Wholesale Corporation (COST)\\nSector: Consumer Defensive\\nPrice: $954.99\\nMarket Cap: 423231684608\\nP/E Ratio: 52.356907\\n52-Week High: 1078.23\\n52-Week Low: 867.34\\nDividend Yield: 0.54\\nBeta: 0.964\\nRevenue: 275235012608\\nProfit Margin: 0.02943\\n', name='YahooFinanceAPI', tool_call_id='call_Y5h55X9a4mTbTrOFmfw7fUBa')]}}\n",
            "\u001b[1m[updates]\u001b[0m {'tools': {'messages': [ToolMessage(content='No articles found for this stock symbol.', name='TavilyNews', tool_call_id='call_uAYhLLDRI0ZMoOKAJ1Gimx8L')]}}\n",
            "\u001b[1m[updates]\u001b[0m {'tools': {'messages': [ToolMessage(content='Latest filings with summaries:\\n8-K on 2025-10-15:\\nhttps://www.sec.gov/Archives/edgar/data/909832/000090983225000105/cost-20251015.htm\\nSummary: No key XML findings found.\\n\\n3 on 2025-10-09:\\nhttps://www.sec.gov/Archives/edgar/data/909832/000090983225000103/xslF345X02/form3.xml\\nSummary: SEC FORM \\n            3 SEC Form 3 FORM 3 UNITED STATES SECURITIES AND EXCHANGE COMMISSION Washington, D.C. 20549 INITIAL STATEMENT OF BENEFICIAL OWNERSHIP OF SECURITIES Filed pursuant to Section 16(a) of the Securities Exchange Act of 1934 or Section 30(h) of the Investment Company Act of 1940 OMB APPROVAL OMB Number: 3235-0104 Estimated average burden hours per response: 0.5 1. Name and Address \\n\\n10-K on 2025-10-08:\\nhttps://www.sec.gov/Archives/edgar/data/909832/000090983225000101/cost-20250831.htm\\nSummary: No key XML findings found.\\n', name='SECEDGARAPI', tool_call_id='call_vyUsXWAiS3vwjoIqAY20CzN7')]}}\n",
            "\u001b[1m[values]\u001b[0m {'messages': [HumanMessage(content='\\nSystem Role: You are a detailed Financial Research Agent designed to analyze companies, securities, and markets with a structured workflow.\\n\\n**Your goal** For COST, provide a ~50 word investment summary, based on extensive reserach.\\n\\nInclude None to improve your answers.\\n\\nNEVER INCLUDE YOUR THOUGHT PROCESS IN THE RESULTS.\\n\\n\\n**Core Functions**\\n\\n1. Planning:\\nDevelop and print out a plan for each given stock symbol. Include a plan for a multi-step research process that defines what data to collect (e.g., news, market data, filings), what tools to use, and how to verify results.\\n\\nExample steps: “Collect company overview → Analyze financials → Cross-check recent filings → Summarize.”\\n\\n2. Tool Use:\\nUse all of your tools by default to hit APIs and data sources dynamically, such as Yahoo Finance, SEC EDGAR, news APIs, and any specialist analyzers. Choose the right tools and calls autonomously based on the goal of each stage. Return structured findings.\\n\\nTOOL USAGE REQUIREMENTS:\\n- Refer to the memory for useful data.\\n- ALWAYS include a timestamp of the run near the top of the report.\\n- Use at least 4 different tools for each analysis\\n- Cross-reference information from multiple sources\\n- If a tool fails, try alternative tools for the same data\\n- Always explain your reasoning between tool calls\\n\\n3. Self-Reflection:\\nEvaluate your output’s completeness, correctness, and coherence at each stage. If key data (e.g., P/E, recent filings, or market indicators) appears missing or uncertain, perform iterative refinement using another reasoning pass or additional tool calls.\\n\\n4. Memory/Learning:\\nRetain useful context from prior analyses (observations, missing data, errors, patterns in company performance). Use this \"brief memory\" to improve future research quality and efficiency.\\n\\n\\n**Workflow Logic**\\n\\nFollow a defined sequence for every research request:\\n* Ingest → Preprocess → Classify → Extract → Summarize\\n\\n1. Ingest: Gather relevant news, filings, and metrics. Use the webpage visit tool on any URLS.\\n\\n2. Preprocess: Clean, standardize, and interpret results from multiple tools.\\n\\n3. Classify: Route data to the correct analysis path (earnings, news, or market).\\n\\n4. Extract: Pull core signals, events, or values.\\n\\n5. Summarize: Synthesize insights in your final output.\\n\\n6. Routing:\\n  * Choose appropriate specialist analyzers according to data type:\\n\\n  * NewsAnalyzer for press, sentiment, or event narratives.\\n\\n  * MarketAnalyzer for indices, performance data, and macro context.\\n\\n7. Evaluation: Review reasoning and completeness, recall tools again if needed.\\n\\n\\n**Final Report**\\nAt the end of each session, create a final summary report that contains:\\n\\nUpdated output from EVERY tool as well as the TIMESTAMP near the top.\\n\\nNEVER include your internal planning information in the report. \\n\\nInclude citations such as [1] followed by a hyperlink at the bottom of the page for further review.\\n\\nRespond in clear, organized Markdown, including headings, bullet points, and labeled data sources for readability.\\n\\n**STOPPING RULE:** Once you have basic financials, recent news, and market context, conclude your analysis. Do not seek additional tools or data.\\n\\nBe thorough - this analysis will inform major investment decisions.\\n\\n', additional_kwargs={}, response_metadata={}, id='775a23fb-92ee-4a52-94d7-50d8140eb0e2'), AIMessage(content='', additional_kwargs={'tool_calls': [{'id': 'call_WUQddPNHrVecrrBnR8wby0t5', 'function': {'arguments': '{\"__arg1\":\"now\"}', 'name': 'TimestampTool'}, 'type': 'function'}], 'refusal': None}, response_metadata={'token_usage': {'completion_tokens': 16, 'prompt_tokens': 1896, 'total_tokens': 1912, 'completion_tokens_details': {'accepted_prediction_tokens': 0, 'audio_tokens': 0, 'reasoning_tokens': 0, 'rejected_prediction_tokens': 0}, 'prompt_tokens_details': {'audio_tokens': 0, 'cached_tokens': 0}}, 'model_name': 'gpt-3.5-turbo-0125', 'system_fingerprint': None, 'id': 'chatcmpl-CRDnWclxgjZtkXz9dTpKl76Upi97y', 'service_tier': 'default', 'finish_reason': 'tool_calls', 'logprobs': None}, id='run--7c8d9a50-c0dc-4b38-adc1-93a322486302-0', tool_calls=[{'name': 'TimestampTool', 'args': {'__arg1': 'now'}, 'id': 'call_WUQddPNHrVecrrBnR8wby0t5', 'type': 'tool_call'}], usage_metadata={'input_tokens': 1896, 'output_tokens': 16, 'total_tokens': 1912, 'input_token_details': {'audio': 0, 'cache_read': 0}, 'output_token_details': {'audio': 0, 'reasoning': 0}}), ToolMessage(content='2025-10-16T08:38:50.510380', name='TimestampTool', id='d0eb698b-a1b5-4796-aabd-5f4e4821f2b4', tool_call_id='call_WUQddPNHrVecrrBnR8wby0t5'), AIMessage(content='', additional_kwargs={'tool_calls': [{'id': 'call_Y5h55X9a4mTbTrOFmfw7fUBa', 'function': {'arguments': '{\"__arg1\": \"COST\"}', 'name': 'YahooFinanceAPI'}, 'type': 'function'}, {'id': 'call_vyUsXWAiS3vwjoIqAY20CzN7', 'function': {'arguments': '{\"__arg1\": \"COST\"}', 'name': 'SECEDGARAPI'}, 'type': 'function'}, {'id': 'call_tgqVhn51YpJNv9gvS0RwuooW', 'function': {'arguments': '{\"__arg1\": \"COST\"}', 'name': 'NewsAPI'}, 'type': 'function'}, {'id': 'call_uAYhLLDRI0ZMoOKAJ1Gimx8L', 'function': {'arguments': '{\"__arg1\": \"COST\"}', 'name': 'TavilyNews'}, 'type': 'function'}], 'refusal': None}, response_metadata={'token_usage': {'completion_tokens': 91, 'prompt_tokens': 1935, 'total_tokens': 2026, 'completion_tokens_details': {'accepted_prediction_tokens': 0, 'audio_tokens': 0, 'reasoning_tokens': 0, 'rejected_prediction_tokens': 0}, 'prompt_tokens_details': {'audio_tokens': 0, 'cached_tokens': 0}}, 'model_name': 'gpt-3.5-turbo-0125', 'system_fingerprint': None, 'id': 'chatcmpl-CRDnWZ1Lc9Hvo3mXddjiWFEembEud', 'service_tier': 'default', 'finish_reason': 'tool_calls', 'logprobs': None}, id='run--fe2fa20b-5a7f-4c92-93fc-c87d95165dec-0', tool_calls=[{'name': 'YahooFinanceAPI', 'args': {'__arg1': 'COST'}, 'id': 'call_Y5h55X9a4mTbTrOFmfw7fUBa', 'type': 'tool_call'}, {'name': 'SECEDGARAPI', 'args': {'__arg1': 'COST'}, 'id': 'call_vyUsXWAiS3vwjoIqAY20CzN7', 'type': 'tool_call'}, {'name': 'NewsAPI', 'args': {'__arg1': 'COST'}, 'id': 'call_tgqVhn51YpJNv9gvS0RwuooW', 'type': 'tool_call'}, {'name': 'TavilyNews', 'args': {'__arg1': 'COST'}, 'id': 'call_uAYhLLDRI0ZMoOKAJ1Gimx8L', 'type': 'tool_call'}], usage_metadata={'input_tokens': 1935, 'output_tokens': 91, 'total_tokens': 2026, 'input_token_details': {'audio': 0, 'cache_read': 0}, 'output_token_details': {'audio': 0, 'reasoning': 0}}), ToolMessage(content='Company: Costco Wholesale Corporation (COST)\\nSector: Consumer Defensive\\nPrice: $954.99\\nMarket Cap: 423231684608\\nP/E Ratio: 52.356907\\n52-Week High: 1078.23\\n52-Week Low: 867.34\\nDividend Yield: 0.54\\nBeta: 0.964\\nRevenue: 275235012608\\nProfit Margin: 0.02943\\n', name='YahooFinanceAPI', id='119c0a86-ba56-4398-9146-d50f76595bb1', tool_call_id='call_Y5h55X9a4mTbTrOFmfw7fUBa'), ToolMessage(content='Latest filings with summaries:\\n8-K on 2025-10-15:\\nhttps://www.sec.gov/Archives/edgar/data/909832/000090983225000105/cost-20251015.htm\\nSummary: No key XML findings found.\\n\\n3 on 2025-10-09:\\nhttps://www.sec.gov/Archives/edgar/data/909832/000090983225000103/xslF345X02/form3.xml\\nSummary: SEC FORM \\n            3 SEC Form 3 FORM 3 UNITED STATES SECURITIES AND EXCHANGE COMMISSION Washington, D.C. 20549 INITIAL STATEMENT OF BENEFICIAL OWNERSHIP OF SECURITIES Filed pursuant to Section 16(a) of the Securities Exchange Act of 1934 or Section 30(h) of the Investment Company Act of 1940 OMB APPROVAL OMB Number: 3235-0104 Estimated average burden hours per response: 0.5 1. Name and Address \\n\\n10-K on 2025-10-08:\\nhttps://www.sec.gov/Archives/edgar/data/909832/000090983225000101/cost-20250831.htm\\nSummary: No key XML findings found.\\n', name='SECEDGARAPI', id='8736a8d1-b1c7-4666-b008-ff65c8e23b20', tool_call_id='call_vyUsXWAiS3vwjoIqAY20CzN7'), ToolMessage(content='The inkjet coders market is growing due to increasing demand for traceability, anti-counterfeiting, and labeling compliance. Opportunities lie in the expanding FMCG, retail, and pharmaceutical sectors, with significant potential in Europe and Asia-Pacific. Th…\\nLast week, Belgian authorities arrested three people accused of planning \"a jihadist-inspired terrorist attack against political figures\" using drone-mounted explosives\\nDT Research\\'s 323MD rugged tablet has an anti-microbial keyboard and IP65 water and dust resistance.', name='NewsAPI', id='0570b238-61d7-4adb-b151-dde5cbadeeb5', tool_call_id='call_tgqVhn51YpJNv9gvS0RwuooW'), ToolMessage(content='No articles found for this stock symbol.', name='TavilyNews', id='861df48a-e27c-478d-a6b0-86d6928ce660', tool_call_id='call_uAYhLLDRI0ZMoOKAJ1Gimx8L')]}\n",
            "\u001b[1m[updates]\u001b[0m {'agent': {'messages': [AIMessage(content=\"## Investment Summary for Costco Wholesale Corporation (COST)\\n\\n- **Company Overview:**\\n  - **Company:** Costco Wholesale Corporation\\n  - **Sector:** Consumer Defensive\\n  - **Price:** $954.99\\n  - **Market Cap:** $423.23 billion\\n  - **P/E Ratio:** 52.36\\n  - **Dividend Yield:** 0.54%\\n  - **Revenue:** $275.24 billion\\n  - **Profit Margin:** 2.94%\\n\\n- **Recent Filings:**\\n  - **8-K on 2025-10-15:** [Link to Filing](https://www.sec.gov/Archives/edgar/data/909832/000090983225000105/cost-20251015.htm)\\n  - **3 on 2025-10-09:** [Link to Filing](https://www.sec.gov/Archives/edgar/data/909832/000090983225000103/xslF345X02/form3.xml)\\n  - **10-K on 2025-10-08:** [Link to Filing](https://www.sec.gov/Archives/edgar/data/909832/000090983225000101/cost-20250831.htm)\\n\\n- **Market News:**\\n  - The inkjet coders market is growing, driven by demand for traceability and labeling compliance.\\n  - Recent arrests in Belgium related to a planned terrorist attack using drone-mounted explosives.\\n  - DT Research's rugged tablet with anti-microbial keyboard and water/dust resistance.\\n\\n- **No recent articles found for COST.**\\n\\n---\\n\\n**Data Sources:**\\n1. [Yahoo Finance](https://finance.yahoo.com/quote/COST)\\n2. [SEC EDGAR](https://www.sec.gov/edgar/searchedgar/companysearch.html)\\n3. [Tavily News]\\n4. [NewsAPI]\", additional_kwargs={'refusal': None}, response_metadata={'token_usage': {'completion_tokens': 392, 'prompt_tokens': 2512, 'total_tokens': 2904, 'completion_tokens_details': {'accepted_prediction_tokens': 0, 'audio_tokens': 0, 'reasoning_tokens': 0, 'rejected_prediction_tokens': 0}, 'prompt_tokens_details': {'audio_tokens': 0, 'cached_tokens': 0}}, 'model_name': 'gpt-3.5-turbo-0125', 'system_fingerprint': None, 'id': 'chatcmpl-CRDnZEmZCqdxL431kEliV9DNZHlfS', 'service_tier': 'default', 'finish_reason': 'stop', 'logprobs': None}, id='run--54500e7d-d19b-49ed-84cf-ce37f00e1528-0', usage_metadata={'input_tokens': 2512, 'output_tokens': 392, 'total_tokens': 2904, 'input_token_details': {'audio': 0, 'cache_read': 0}, 'output_token_details': {'audio': 0, 'reasoning': 0}})]}}\n",
            "\u001b[1m[values]\u001b[0m {'messages': [HumanMessage(content='\\nSystem Role: You are a detailed Financial Research Agent designed to analyze companies, securities, and markets with a structured workflow.\\n\\n**Your goal** For COST, provide a ~50 word investment summary, based on extensive reserach.\\n\\nInclude None to improve your answers.\\n\\nNEVER INCLUDE YOUR THOUGHT PROCESS IN THE RESULTS.\\n\\n\\n**Core Functions**\\n\\n1. Planning:\\nDevelop and print out a plan for each given stock symbol. Include a plan for a multi-step research process that defines what data to collect (e.g., news, market data, filings), what tools to use, and how to verify results.\\n\\nExample steps: “Collect company overview → Analyze financials → Cross-check recent filings → Summarize.”\\n\\n2. Tool Use:\\nUse all of your tools by default to hit APIs and data sources dynamically, such as Yahoo Finance, SEC EDGAR, news APIs, and any specialist analyzers. Choose the right tools and calls autonomously based on the goal of each stage. Return structured findings.\\n\\nTOOL USAGE REQUIREMENTS:\\n- Refer to the memory for useful data.\\n- ALWAYS include a timestamp of the run near the top of the report.\\n- Use at least 4 different tools for each analysis\\n- Cross-reference information from multiple sources\\n- If a tool fails, try alternative tools for the same data\\n- Always explain your reasoning between tool calls\\n\\n3. Self-Reflection:\\nEvaluate your output’s completeness, correctness, and coherence at each stage. If key data (e.g., P/E, recent filings, or market indicators) appears missing or uncertain, perform iterative refinement using another reasoning pass or additional tool calls.\\n\\n4. Memory/Learning:\\nRetain useful context from prior analyses (observations, missing data, errors, patterns in company performance). Use this \"brief memory\" to improve future research quality and efficiency.\\n\\n\\n**Workflow Logic**\\n\\nFollow a defined sequence for every research request:\\n* Ingest → Preprocess → Classify → Extract → Summarize\\n\\n1. Ingest: Gather relevant news, filings, and metrics. Use the webpage visit tool on any URLS.\\n\\n2. Preprocess: Clean, standardize, and interpret results from multiple tools.\\n\\n3. Classify: Route data to the correct analysis path (earnings, news, or market).\\n\\n4. Extract: Pull core signals, events, or values.\\n\\n5. Summarize: Synthesize insights in your final output.\\n\\n6. Routing:\\n  * Choose appropriate specialist analyzers according to data type:\\n\\n  * NewsAnalyzer for press, sentiment, or event narratives.\\n\\n  * MarketAnalyzer for indices, performance data, and macro context.\\n\\n7. Evaluation: Review reasoning and completeness, recall tools again if needed.\\n\\n\\n**Final Report**\\nAt the end of each session, create a final summary report that contains:\\n\\nUpdated output from EVERY tool as well as the TIMESTAMP near the top.\\n\\nNEVER include your internal planning information in the report. \\n\\nInclude citations such as [1] followed by a hyperlink at the bottom of the page for further review.\\n\\nRespond in clear, organized Markdown, including headings, bullet points, and labeled data sources for readability.\\n\\n**STOPPING RULE:** Once you have basic financials, recent news, and market context, conclude your analysis. Do not seek additional tools or data.\\n\\nBe thorough - this analysis will inform major investment decisions.\\n\\n', additional_kwargs={}, response_metadata={}, id='775a23fb-92ee-4a52-94d7-50d8140eb0e2'), AIMessage(content='', additional_kwargs={'tool_calls': [{'id': 'call_WUQddPNHrVecrrBnR8wby0t5', 'function': {'arguments': '{\"__arg1\":\"now\"}', 'name': 'TimestampTool'}, 'type': 'function'}], 'refusal': None}, response_metadata={'token_usage': {'completion_tokens': 16, 'prompt_tokens': 1896, 'total_tokens': 1912, 'completion_tokens_details': {'accepted_prediction_tokens': 0, 'audio_tokens': 0, 'reasoning_tokens': 0, 'rejected_prediction_tokens': 0}, 'prompt_tokens_details': {'audio_tokens': 0, 'cached_tokens': 0}}, 'model_name': 'gpt-3.5-turbo-0125', 'system_fingerprint': None, 'id': 'chatcmpl-CRDnWclxgjZtkXz9dTpKl76Upi97y', 'service_tier': 'default', 'finish_reason': 'tool_calls', 'logprobs': None}, id='run--7c8d9a50-c0dc-4b38-adc1-93a322486302-0', tool_calls=[{'name': 'TimestampTool', 'args': {'__arg1': 'now'}, 'id': 'call_WUQddPNHrVecrrBnR8wby0t5', 'type': 'tool_call'}], usage_metadata={'input_tokens': 1896, 'output_tokens': 16, 'total_tokens': 1912, 'input_token_details': {'audio': 0, 'cache_read': 0}, 'output_token_details': {'audio': 0, 'reasoning': 0}}), ToolMessage(content='2025-10-16T08:38:50.510380', name='TimestampTool', id='d0eb698b-a1b5-4796-aabd-5f4e4821f2b4', tool_call_id='call_WUQddPNHrVecrrBnR8wby0t5'), AIMessage(content='', additional_kwargs={'tool_calls': [{'id': 'call_Y5h55X9a4mTbTrOFmfw7fUBa', 'function': {'arguments': '{\"__arg1\": \"COST\"}', 'name': 'YahooFinanceAPI'}, 'type': 'function'}, {'id': 'call_vyUsXWAiS3vwjoIqAY20CzN7', 'function': {'arguments': '{\"__arg1\": \"COST\"}', 'name': 'SECEDGARAPI'}, 'type': 'function'}, {'id': 'call_tgqVhn51YpJNv9gvS0RwuooW', 'function': {'arguments': '{\"__arg1\": \"COST\"}', 'name': 'NewsAPI'}, 'type': 'function'}, {'id': 'call_uAYhLLDRI0ZMoOKAJ1Gimx8L', 'function': {'arguments': '{\"__arg1\": \"COST\"}', 'name': 'TavilyNews'}, 'type': 'function'}], 'refusal': None}, response_metadata={'token_usage': {'completion_tokens': 91, 'prompt_tokens': 1935, 'total_tokens': 2026, 'completion_tokens_details': {'accepted_prediction_tokens': 0, 'audio_tokens': 0, 'reasoning_tokens': 0, 'rejected_prediction_tokens': 0}, 'prompt_tokens_details': {'audio_tokens': 0, 'cached_tokens': 0}}, 'model_name': 'gpt-3.5-turbo-0125', 'system_fingerprint': None, 'id': 'chatcmpl-CRDnWZ1Lc9Hvo3mXddjiWFEembEud', 'service_tier': 'default', 'finish_reason': 'tool_calls', 'logprobs': None}, id='run--fe2fa20b-5a7f-4c92-93fc-c87d95165dec-0', tool_calls=[{'name': 'YahooFinanceAPI', 'args': {'__arg1': 'COST'}, 'id': 'call_Y5h55X9a4mTbTrOFmfw7fUBa', 'type': 'tool_call'}, {'name': 'SECEDGARAPI', 'args': {'__arg1': 'COST'}, 'id': 'call_vyUsXWAiS3vwjoIqAY20CzN7', 'type': 'tool_call'}, {'name': 'NewsAPI', 'args': {'__arg1': 'COST'}, 'id': 'call_tgqVhn51YpJNv9gvS0RwuooW', 'type': 'tool_call'}, {'name': 'TavilyNews', 'args': {'__arg1': 'COST'}, 'id': 'call_uAYhLLDRI0ZMoOKAJ1Gimx8L', 'type': 'tool_call'}], usage_metadata={'input_tokens': 1935, 'output_tokens': 91, 'total_tokens': 2026, 'input_token_details': {'audio': 0, 'cache_read': 0}, 'output_token_details': {'audio': 0, 'reasoning': 0}}), ToolMessage(content='Company: Costco Wholesale Corporation (COST)\\nSector: Consumer Defensive\\nPrice: $954.99\\nMarket Cap: 423231684608\\nP/E Ratio: 52.356907\\n52-Week High: 1078.23\\n52-Week Low: 867.34\\nDividend Yield: 0.54\\nBeta: 0.964\\nRevenue: 275235012608\\nProfit Margin: 0.02943\\n', name='YahooFinanceAPI', id='119c0a86-ba56-4398-9146-d50f76595bb1', tool_call_id='call_Y5h55X9a4mTbTrOFmfw7fUBa'), ToolMessage(content='Latest filings with summaries:\\n8-K on 2025-10-15:\\nhttps://www.sec.gov/Archives/edgar/data/909832/000090983225000105/cost-20251015.htm\\nSummary: No key XML findings found.\\n\\n3 on 2025-10-09:\\nhttps://www.sec.gov/Archives/edgar/data/909832/000090983225000103/xslF345X02/form3.xml\\nSummary: SEC FORM \\n            3 SEC Form 3 FORM 3 UNITED STATES SECURITIES AND EXCHANGE COMMISSION Washington, D.C. 20549 INITIAL STATEMENT OF BENEFICIAL OWNERSHIP OF SECURITIES Filed pursuant to Section 16(a) of the Securities Exchange Act of 1934 or Section 30(h) of the Investment Company Act of 1940 OMB APPROVAL OMB Number: 3235-0104 Estimated average burden hours per response: 0.5 1. Name and Address \\n\\n10-K on 2025-10-08:\\nhttps://www.sec.gov/Archives/edgar/data/909832/000090983225000101/cost-20250831.htm\\nSummary: No key XML findings found.\\n', name='SECEDGARAPI', id='8736a8d1-b1c7-4666-b008-ff65c8e23b20', tool_call_id='call_vyUsXWAiS3vwjoIqAY20CzN7'), ToolMessage(content='The inkjet coders market is growing due to increasing demand for traceability, anti-counterfeiting, and labeling compliance. Opportunities lie in the expanding FMCG, retail, and pharmaceutical sectors, with significant potential in Europe and Asia-Pacific. Th…\\nLast week, Belgian authorities arrested three people accused of planning \"a jihadist-inspired terrorist attack against political figures\" using drone-mounted explosives\\nDT Research\\'s 323MD rugged tablet has an anti-microbial keyboard and IP65 water and dust resistance.', name='NewsAPI', id='0570b238-61d7-4adb-b151-dde5cbadeeb5', tool_call_id='call_tgqVhn51YpJNv9gvS0RwuooW'), ToolMessage(content='No articles found for this stock symbol.', name='TavilyNews', id='861df48a-e27c-478d-a6b0-86d6928ce660', tool_call_id='call_uAYhLLDRI0ZMoOKAJ1Gimx8L'), AIMessage(content=\"## Investment Summary for Costco Wholesale Corporation (COST)\\n\\n- **Company Overview:**\\n  - **Company:** Costco Wholesale Corporation\\n  - **Sector:** Consumer Defensive\\n  - **Price:** $954.99\\n  - **Market Cap:** $423.23 billion\\n  - **P/E Ratio:** 52.36\\n  - **Dividend Yield:** 0.54%\\n  - **Revenue:** $275.24 billion\\n  - **Profit Margin:** 2.94%\\n\\n- **Recent Filings:**\\n  - **8-K on 2025-10-15:** [Link to Filing](https://www.sec.gov/Archives/edgar/data/909832/000090983225000105/cost-20251015.htm)\\n  - **3 on 2025-10-09:** [Link to Filing](https://www.sec.gov/Archives/edgar/data/909832/000090983225000103/xslF345X02/form3.xml)\\n  - **10-K on 2025-10-08:** [Link to Filing](https://www.sec.gov/Archives/edgar/data/909832/000090983225000101/cost-20250831.htm)\\n\\n- **Market News:**\\n  - The inkjet coders market is growing, driven by demand for traceability and labeling compliance.\\n  - Recent arrests in Belgium related to a planned terrorist attack using drone-mounted explosives.\\n  - DT Research's rugged tablet with anti-microbial keyboard and water/dust resistance.\\n\\n- **No recent articles found for COST.**\\n\\n---\\n\\n**Data Sources:**\\n1. [Yahoo Finance](https://finance.yahoo.com/quote/COST)\\n2. [SEC EDGAR](https://www.sec.gov/edgar/searchedgar/companysearch.html)\\n3. [Tavily News]\\n4. [NewsAPI]\", additional_kwargs={'refusal': None}, response_metadata={'token_usage': {'completion_tokens': 392, 'prompt_tokens': 2512, 'total_tokens': 2904, 'completion_tokens_details': {'accepted_prediction_tokens': 0, 'audio_tokens': 0, 'reasoning_tokens': 0, 'rejected_prediction_tokens': 0}, 'prompt_tokens_details': {'audio_tokens': 0, 'cached_tokens': 0}}, 'model_name': 'gpt-3.5-turbo-0125', 'system_fingerprint': None, 'id': 'chatcmpl-CRDnZEmZCqdxL431kEliV9DNZHlfS', 'service_tier': 'default', 'finish_reason': 'stop', 'logprobs': None}, id='run--54500e7d-d19b-49ed-84cf-ce37f00e1528-0', usage_metadata={'input_tokens': 2512, 'output_tokens': 392, 'total_tokens': 2904, 'input_token_details': {'audio': 0, 'cache_read': 0}, 'output_token_details': {'audio': 0, 'reasoning': 0}})]}\n"
          ]
        }
      ]
    },
    {
      "cell_type": "code",
      "source": [
        "# Build / run your agent call\n",
        "tools_output = tools_agent.invoke({\n",
        "    \"messages\": [\n",
        "        {\"role\": \"user\", \"content\": formatted_prompt}\n",
        "    ]\n",
        "})"
      ],
      "metadata": {
        "id": "BEHUXnVFLDyJ"
      },
      "execution_count": null,
      "outputs": []
    },
    {
      "cell_type": "code",
      "source": [
        "from IPython.display import Markdown, display\n",
        "\n",
        "def clean_answer (text):\n",
        "    msg = text[\"messages\"][-1]\n",
        "    return msg.content"
      ],
      "metadata": {
        "id": "PWuHDUNr30DI"
      },
      "execution_count": 111,
      "outputs": []
    },
    {
      "cell_type": "code",
      "source": [
        "display(Markdown(clean_answer(tools_output)))"
      ],
      "metadata": {
        "colab": {
          "resources": {
            "http://localhost:8080/COST_52week_chart.png": {
              "data": "CjwhRE9DVFlQRSBodG1sPgo8aHRtbCBsYW5nPWVuPgogIDxtZXRhIGNoYXJzZXQ9dXRmLTg+CiAgPG1ldGEgbmFtZT12aWV3cG9ydCBjb250ZW50PSJpbml0aWFsLXNjYWxlPTEsIG1pbmltdW0tc2NhbGU9MSwgd2lkdGg9ZGV2aWNlLXdpZHRoIj4KICA8dGl0bGU+RXJyb3IgNDA0IChOb3QgRm91bmQpISExPC90aXRsZT4KICA8c3R5bGU+CiAgICAqe21hcmdpbjowO3BhZGRpbmc6MH1odG1sLGNvZGV7Zm9udDoxNXB4LzIycHggYXJpYWwsc2Fucy1zZXJpZn1odG1se2JhY2tncm91bmQ6I2ZmZjtjb2xvcjojMjIyO3BhZGRpbmc6MTVweH1ib2R5e21hcmdpbjo3JSBhdXRvIDA7bWF4LXdpZHRoOjM5MHB4O21pbi1oZWlnaHQ6MTgwcHg7cGFkZGluZzozMHB4IDAgMTVweH0qID4gYm9keXtiYWNrZ3JvdW5kOnVybCgvL3d3dy5nb29nbGUuY29tL2ltYWdlcy9lcnJvcnMvcm9ib3QucG5nKSAxMDAlIDVweCBuby1yZXBlYXQ7cGFkZGluZy1yaWdodDoyMDVweH1we21hcmdpbjoxMXB4IDAgMjJweDtvdmVyZmxvdzpoaWRkZW59aW5ze2NvbG9yOiM3Nzc7dGV4dC1kZWNvcmF0aW9uOm5vbmV9YSBpbWd7Ym9yZGVyOjB9QG1lZGlhIHNjcmVlbiBhbmQgKG1heC13aWR0aDo3NzJweCl7Ym9keXtiYWNrZ3JvdW5kOm5vbmU7bWFyZ2luLXRvcDowO21heC13aWR0aDpub25lO3BhZGRpbmctcmlnaHQ6MH19I2xvZ297YmFja2dyb3VuZDp1cmwoLy93d3cuZ29vZ2xlLmNvbS9pbWFnZXMvbG9nb3MvZXJyb3JwYWdlL2Vycm9yX2xvZ28tMTUweDU0LnBuZykgbm8tcmVwZWF0O21hcmdpbi1sZWZ0Oi01cHh9QG1lZGlhIG9ubHkgc2NyZWVuIGFuZCAobWluLXJlc29sdXRpb246MTkyZHBpKXsjbG9nb3tiYWNrZ3JvdW5kOnVybCgvL3d3dy5nb29nbGUuY29tL2ltYWdlcy9sb2dvcy9lcnJvcnBhZ2UvZXJyb3JfbG9nby0xNTB4NTQtMngucG5nKSBuby1yZXBlYXQgMCUgMCUvMTAwJSAxMDAlOy1tb3otYm9yZGVyLWltYWdlOnVybCgvL3d3dy5nb29nbGUuY29tL2ltYWdlcy9sb2dvcy9lcnJvcnBhZ2UvZXJyb3JfbG9nby0xNTB4NTQtMngucG5nKSAwfX1AbWVkaWEgb25seSBzY3JlZW4gYW5kICgtd2Via2l0LW1pbi1kZXZpY2UtcGl4ZWwtcmF0aW86Mil7I2xvZ297YmFja2dyb3VuZDp1cmwoLy93d3cuZ29vZ2xlLmNvbS9pbWFnZXMvbG9nb3MvZXJyb3JwYWdlL2Vycm9yX2xvZ28tMTUweDU0LTJ4LnBuZykgbm8tcmVwZWF0Oy13ZWJraXQtYmFja2dyb3VuZC1zaXplOjEwMCUgMTAwJX19I2xvZ297ZGlzcGxheTppbmxpbmUtYmxvY2s7aGVpZ2h0OjU0cHg7d2lkdGg6MTUwcHh9CiAgPC9zdHlsZT4KICA8YSBocmVmPS8vd3d3Lmdvb2dsZS5jb20vPjxzcGFuIGlkPWxvZ28gYXJpYS1sYWJlbD1Hb29nbGU+PC9zcGFuPjwvYT4KICA8cD48Yj40MDQuPC9iPiA8aW5zPlRoYXTigJlzIGFuIGVycm9yLjwvaW5zPgogIDxwPiAgPGlucz5UaGF04oCZcyBhbGwgd2Uga25vdy48L2lucz4K",
              "ok": false,
              "headers": [
                [
                  "content-length",
                  "1449"
                ],
                [
                  "content-type",
                  "text/html; charset=utf-8"
                ]
              ],
              "status": 404,
              "status_text": ""
            }
          },
          "base_uri": "https://localhost:8080/",
          "height": 687
        },
        "id": "PL6agIYD4GfE",
        "outputId": "fb3fbd31-2d5e-4f0a-f350-1e0f203c13aa"
      },
      "execution_count": 112,
      "outputs": [
        {
          "output_type": "display_data",
          "data": {
            "text/plain": [
              "<IPython.core.display.Markdown object>"
            ],
            "text/markdown": "# Costco Wholesale Corporation (COST) Investment Summary\n\n## Company Overview\n- **Sector:** Consumer Defensive\n- **Price:** $954.99\n- **Market Cap:** $423.23 billion\n- **P/E Ratio:** 52.36\n- **Dividend Yield:** 0.54%\n- **Beta:** 0.964\n- **Revenue:** $275.24 billion\n- **Profit Margin:** 2.94%\n\n## Recent Filings\n1. **8-K on 2025-10-15:**\n   - [Link to Filing](https://www.sec.gov/Archives/edgar/data/909832/000090983225000105/cost-20251015.htm)\n   - *Summary:* No key XML findings found.\n2. **3 on 2025-10-09:**\n   - [Link to Filing](https://www.sec.gov/Archives/edgar/data/909832/000090983225000103/xslF345X02/form3.xml)\n   - *Summary:* SEC FORM 3 filing.\n3. **10-K on 2025-10-08:**\n   - [Link to Filing](https://www.sec.gov/Archives/edgar/data/909832/000090983225000101/cost-20250831.htm)\n   - *Summary:* No key XML findings found.\n\n## Recent News\n- The inkjet coders market is growing with opportunities in FMCG, retail, and pharmaceutical sectors.\n- Belgian authorities arrested individuals planning a terrorist attack using drone-mounted explosives.\n- DT Research's rugged tablet offers anti-microbial features and water/dust resistance.\n\n## 52-Week Stock Price Chart\n![COST 52-Week Chart](COST_52week_chart.png)\n\n[1] Data retrieved from Yahoo Finance, SEC EDGAR filings, News API, and StockChart52Weeks tool."
          },
          "metadata": {}
        }
      ]
    },
    {
      "cell_type": "markdown",
      "metadata": {
        "id": "987QsT47jjIH"
      },
      "source": [
        "## Self Reflection & Evaluation Agent\n",
        "Evaluates output quality"
      ]
    },
    {
      "cell_type": "code",
      "execution_count": 92,
      "metadata": {
        "id": "hKhXB6THg4Ua"
      },
      "outputs": [],
      "source": [
        "#Define Self Evaluation agent\n",
        "\n",
        "EVAL_PROMPT = \"\"\"\n",
        "You are an expert evaluator. Your primary job is to give feedback on the analysis below, NOT to overwrite or revise it.\n",
        "\n",
        "Instructions:\n",
        "\n",
        "- Always display the full analysis/summary input *exactly as received* at the start of your answer, clearly labeled.\n",
        "- Provide your commentary (improvement, completeness, feedback) **separately after the full input**.\n",
        "- If human feedback is supplied, include your response to it at the end **without changing the original summary**.\n",
        "\n",
        "FORMAT STRICTLY LIKE THIS:\n",
        "---\n",
        "Original Analysis:\n",
        "{input}\n",
        "\n",
        "Evaluator Commentary:\n",
        "[Your bullet points: Completeness, Succinctness, Accuracy, Clarity, Human Feedback summary, Suggestions, etc.]\n",
        "\n",
        "---\n",
        "\n",
        "Never rewrite or summarize the original analysis. Only provide clear, constructive evaluator commentary after reproducing the input in its original form.\n",
        "\n",
        "--- Human Feedback ---\n",
        "{human_feedback}\n",
        "\n",
        "\n",
        "\"\"\"\n",
        "\n",
        "#Define agent\n",
        "evaluator_agent = create_react_agent(\n",
        "    model=llm_gemini,\n",
        "    tools = [],\n",
        "    prompt=EVAL_PROMPT,\n",
        "    debug=True\n",
        ")"
      ]
    },
    {
      "cell_type": "markdown",
      "metadata": {
        "id": "KOBnNHeJl3r-"
      },
      "source": [
        "## Optimization Loop"
      ]
    },
    {
      "cell_type": "markdown",
      "source": [
        "ADD COMMENTS: incorporating human feedback."
      ],
      "metadata": {
        "id": "wFn9mbzWPKGs"
      }
    },
    {
      "cell_type": "code",
      "execution_count": 120,
      "metadata": {
        "id": "RSdS1bOg4dXt"
      },
      "outputs": [],
      "source": [
        "#This function runs the agents in an optimization kind of loop, to iterate based on feedback\n",
        "def optimization_loop(tools_agent,\n",
        "                      evaluator_agent,\n",
        "                      formatted_prompt,\n",
        "                      session_memory,\n",
        "                      PRINT_TOOL_MSGS=True\n",
        "                     ):\n",
        "    #Step 1: Run tools agent\n",
        "    print(\"Conducting research...\")\n",
        "    tools_output = tools_agent.invoke({\n",
        "    \"messages\": [\n",
        "        {\"role\": \"user\", \"content\": formatted_prompt}\n",
        "        ]\n",
        "      })\n",
        "\n",
        "    # clean print out the tool messages\n",
        "    if PRINT_TOOL_MSGS:\n",
        "        for msg in tools_output['messages']:\n",
        "            if msg.content:\n",
        "                print(f'{msg.content} |  tool {msg.name}\\n')\n",
        "\n",
        "    final_output = list(tools_output.values())[-1][-1].content\n",
        "    print(\"\\n--- Analysis Summary ---\")\n",
        "    print(final_output)\n",
        "\n",
        "    #Step 2: Ask user for feedback\n",
        "    human_feedback = input(\"\\nPlease enter your feedback (areas to improve, missing info, corrections):\\n\")\n",
        "\n",
        "    # grab memory if there is one.\n",
        "    stock_symbol = user_input\n",
        "    memory_context = query_memory(stock_symbol, session_memory)\n",
        "\n",
        "\n",
        "    evaluator_input = f\"\"\"\n",
        "                        {final_output}\n",
        "\n",
        "                        --- Human Feedback ---\n",
        "                        {human_feedback if human_feedback else \"no human feedback provided\"}\n",
        "\n",
        "                        --- Memory ---\n",
        "                        {memory_context}\n",
        "                        \"\"\"\n",
        "\n",
        "    #Step 3: Evaluate and revise summary using feedback\n",
        "    eval_payload = {\n",
        "        \"messages\": str(evaluator_input),\n",
        "    }\n",
        "    print(\"\\nRunning evaluator with feedback...\")\n",
        "    revised_output = evaluator_agent.invoke(eval_payload)\n",
        "    final_output = revised_output['messages'][-1].content\n",
        "    print(\"\\n--- Revised Summary ---\")\n",
        "    #print(revised_output)\n",
        "    print(revised_output)\n",
        "\n",
        "    #Optional: Loop for more feedback\n",
        "    while True:\n",
        "        more = input(\"\\nWould you like to refine further? (y/n): \")\n",
        "        if more.lower().startswith(\"y\"):\n",
        "            human_feedback = input(\"Enter any further feedback:\\n\")\n",
        "            eval_payload = {\n",
        "                            \"messages\": str(evaluator_input),\n",
        "                        }\n",
        "\n",
        "            revised_output = evaluator_agent.invoke(eval_payload)\n",
        "            final_output = revised_output['messages'][-1].content\n",
        "            print(\"\\n--- Revised Summary ---\")\n",
        "            print(final_output)\n",
        "        else:\n",
        "            break\n",
        "\n",
        "    user_question = as_text(user_input)\n",
        "    symbol = extract_symbol(user_question)\n",
        "    final_answer = as_text(final_output)   # Use your utility function\n",
        "\n",
        "    SESSION_MEMORY.remember(symbol, user_question, final_answer)\n",
        "\n",
        "    print(\"\\nWorkflow complete. Final output above.\")\n",
        "    return clean_answer(revised_output)  #Return for pretty print\n"
      ]
    },
    {
      "cell_type": "markdown",
      "metadata": {
        "id": "n_CeRDyhjmUp"
      },
      "source": [
        "## Learning/Memory Agent\n",
        "Maintains memory across analysis runs"
      ]
    },
    {
      "cell_type": "code",
      "execution_count": 100,
      "metadata": {
        "id": "l_7UNagLGt60"
      },
      "outputs": [],
      "source": [
        "#MEMORY AGENT CELL 1\n",
        "#Session-scoped memory\n",
        "\n",
        "@dataclass\n",
        "class MemoryItem:\n",
        "    symbol: str\n",
        "    question: str\n",
        "    answer: str\n",
        "    created_at: str\n",
        "    meta: Dict[str, Any]\n",
        "\n",
        "class SessionMemory:\n",
        "    def __init__(self, max_items: int = 200, max_per_symbol: int = 10):\n",
        "        self._store: Dict[str, List[MemoryItem]] = {}\n",
        "        self.max_items = max_items\n",
        "        self.max_per_symbol = max_per_symbol\n",
        "\n",
        "    def remember(self, symbol: str, question: str, answer: str, **meta) -> None:\n",
        "        symbol = (symbol or \"GENERIC\").upper().strip()\n",
        "        item = MemoryItem(\n",
        "            symbol=symbol,\n",
        "            question=(question or \"\").strip(),\n",
        "            answer=(answer or \"\").strip(),\n",
        "            created_at=datetime.utcnow().isoformat(timespec=\"seconds\"),\n",
        "            meta=meta or {}\n",
        "        )\n",
        "        bucket = self._store.setdefault(symbol, [])\n",
        "        bucket.append(item)\n",
        "        if len(bucket) > self.max_per_symbol:\n",
        "            del bucket[0 : len(bucket) - self.max_per_symbol]\n",
        "        self._cap_global()\n",
        "\n",
        "    def recall(self, symbol: str, question: Optional[str] = None) -> Optional[str]:\n",
        "        symbol = (symbol or \"GENERIC\").upper().strip()\n",
        "        bucket = self._store.get(symbol, [])\n",
        "        if not bucket:\n",
        "            return None\n",
        "        if not question:\n",
        "            return bucket[-1].answer\n",
        "        q = (question or \"\").strip()\n",
        "        for item in reversed(bucket):\n",
        "            if item.question == q:\n",
        "                return item.answer\n",
        "        return None\n",
        "\n",
        "    def latest(self, symbol: str) -> Optional[MemoryItem]:\n",
        "        symbol = (symbol or \"GENERIC\").upper().strip()\n",
        "        bucket = self._store.get(symbol, [])\n",
        "        return bucket[-1] if bucket else None\n",
        "\n",
        "    def _cap_global(self):\n",
        "        all_items = []\n",
        "        for sym, bucket in self._store.items():\n",
        "            for it in bucket:\n",
        "                all_items.append((it.created_at, sym, it))\n",
        "        if len(all_items) <= self.max_items:\n",
        "            return\n",
        "        all_items.sort(key=lambda x: x[0])  # oldest first\n",
        "        to_drop = len(all_items) - self.max_items\n",
        "        cutoff = set(id(it) for _, _, it in all_items[:to_drop])\n",
        "        for sym in list(self._store.keys()):\n",
        "            self._store[sym] = [it for it in self._store[sym] if id(it) not in cutoff]\n",
        "\n",
        "\n",
        "\n",
        "def extract_symbol(text: str) -> str:\n",
        "    \"\"\"\n",
        "    Grab a likely ticker from the user_input like 'Analyze the SPY stock ticker'.\n",
        "    Simple heuristic: first ALL-CAPS token 1-5 chars (e.g., AAPL, MSFT, SPY).\n",
        "    Falls back to 'GENERIC' if none found.\n",
        "    \"\"\"\n",
        "    if not text:\n",
        "        return \"GENERIC\"\n",
        "    candidates = re.findall(r\"\\b[A-Z]{1,5}\\b\", text)\n",
        "    # Light filter for common English words\n",
        "    stop = {\"THE\",\"AND\",\"FOR\",\"WITH\",\"FROM\",\"THIS\",\"THAT\",\"YOUR\",\"HAVE\",\"HOLD\"}\n",
        "    for c in candidates:\n",
        "        if c not in stop:\n",
        "            return c\n",
        "    return \"GENERIC\"\n",
        "\n",
        "def as_text(x: Any) -> str:\n",
        "    \"\"\"\n",
        "    Normalize whatever comes back from planner/tools/evaluator/optimizer into a string.\n",
        "    Works with LangChain AgentExecutor outputs (dict), AIMessage, or raw str.\n",
        "    \"\"\"\n",
        "    try:\n",
        "        # AIMessage / ChatMessage\n",
        "        if hasattr(x, \"content\"):\n",
        "            return str(x.content)\n",
        "        # Agent-like dicts\n",
        "        if isinstance(x, dict):\n",
        "            if \"output\" in x and isinstance(x[\"output\"], str):\n",
        "                return x[\"output\"]\n",
        "            if \"messages\" in x and isinstance(x[\"messages\"], list):\n",
        "                return \"\\n\\n\".join(\n",
        "                    (m.content if hasattr(m, \"content\") else str(m))\n",
        "                    for m in x[\"messages\"]\n",
        "                )\n",
        "        # plain string\n",
        "        if isinstance(x, str):\n",
        "            return x\n",
        "        return str(x)\n",
        "    except Exception:\n",
        "        return str(x)\n",
        "\n",
        "\n",
        "def query_memory(stock_symbol, session_memory):\n",
        "    print('query memory stock symbol = ', stock_symbol)\n",
        "    if stock_symbol in session_memory._store:\n",
        "        recent_memory = session_memory._store.get(stock_symbol)[-1].answer\n",
        "        return recent_memory"
      ]
    },
    {
      "cell_type": "code",
      "execution_count": 95,
      "metadata": {
        "id": "7I5BN7U0EclH"
      },
      "outputs": [],
      "source": []
    },
    {
      "cell_type": "markdown",
      "metadata": {
        "id": "UPxekd7Rj2KW"
      },
      "source": [
        "## Execution Function, Set The Agent Free"
      ]
    },
    {
      "cell_type": "code",
      "execution_count": 121,
      "metadata": {
        "id": "qXxl2MaZEclH"
      },
      "outputs": [],
      "source": [
        "SESSION_MEMORY = SessionMemory()"
      ]
    },
    {
      "cell_type": "code",
      "execution_count": 122,
      "metadata": {
        "colab": {
          "base_uri": "https://localhost:8080/"
        },
        "id": "xRPTUlph4xdI",
        "outputId": "6b7e9b82-017d-4a49-e627-ebefb56400b9",
        "scrolled": true
      },
      "outputs": [
        {
          "output_type": "stream",
          "name": "stdout",
          "text": [
            "Conducting research...\n",
            "\u001b[1m[values]\u001b[0m {'messages': [HumanMessage(content='\\nSystem Role: You are a detailed Financial Research Agent designed to analyze companies, securities, and markets with a structured workflow.\\n\\n**Your goal** For COST, provide a ~50 word investment summary, based on extensive reserach.\\n\\nInclude None to improve your answers.\\n\\nNEVER INCLUDE YOUR THOUGHT PROCESS IN THE RESULTS.\\n\\n\\n**Core Functions**\\n\\n1. Planning:\\nDevelop and print out a plan for each given stock symbol. Include a plan for a multi-step research process that defines what data to collect (e.g., news, market data, filings), what tools to use, and how to verify results.\\n\\nExample steps: “Collect company overview → Analyze financials → Cross-check recent filings → Summarize.”\\n\\n2. Tool Use:\\nUse all of your tools by default to hit APIs and data sources dynamically, such as Yahoo Finance, SEC EDGAR, news APIs, and any specialist analyzers. Choose the right tools and calls autonomously based on the goal of each stage. Return structured findings.\\n\\nTOOL USAGE REQUIREMENTS:\\n- Refer to the memory for useful data.\\n- ALWAYS include a timestamp of the run near the top of the report.\\n- Use at least 4 different tools for each analysis\\n- Cross-reference information from multiple sources\\n- If a tool fails, try alternative tools for the same data\\n- Always explain your reasoning between tool calls\\n\\n3. Self-Reflection:\\nEvaluate your output’s completeness, correctness, and coherence at each stage. If key data (e.g., P/E, recent filings, or market indicators) appears missing or uncertain, perform iterative refinement using another reasoning pass or additional tool calls.\\n\\n4. Memory/Learning:\\nRetain useful context from prior analyses (observations, missing data, errors, patterns in company performance). Use this \"brief memory\" to improve future research quality and efficiency.\\n\\n\\n**Workflow Logic**\\n\\nFollow a defined sequence for every research request:\\n* Ingest → Preprocess → Classify → Extract → Summarize\\n\\n1. Ingest: Gather relevant news, filings, and metrics. Use the webpage visit tool on any URLS.\\n\\n2. Preprocess: Clean, standardize, and interpret results from multiple tools.\\n\\n3. Classify: Route data to the correct analysis path (earnings, news, or market).\\n\\n4. Extract: Pull core signals, events, or values.\\n\\n5. Summarize: Synthesize insights in your final output.\\n\\n6. Routing:\\n  * Choose appropriate specialist analyzers according to data type:\\n\\n  * NewsAnalyzer for press, sentiment, or event narratives.\\n\\n  * MarketAnalyzer for indices, performance data, and macro context.\\n\\n7. Evaluation: Review reasoning and completeness, recall tools again if needed.\\n\\n\\n**Final Report**\\nAt the end of each session, create a final summary report that contains:\\n\\nUpdated output from EVERY tool as well as the TIMESTAMP near the top.\\n\\nNEVER include your internal planning information in the report. \\n\\nInclude citations such as [1] followed by a hyperlink at the bottom of the page for further review.\\n\\nRespond in clear, organized Markdown, including headings, bullet points, and labeled data sources for readability.\\n\\n**STOPPING RULE:** Once you have basic financials, recent news, and market context, conclude your analysis. Do not seek additional tools or data.\\n\\nBe thorough - this analysis will inform major investment decisions.\\n\\n', additional_kwargs={}, response_metadata={}, id='e25d3be2-aa20-4fbc-ba3f-942a20cb978d')]}\n",
            "\u001b[1m[updates]\u001b[0m {'agent': {'messages': [AIMessage(content='', additional_kwargs={'tool_calls': [{'id': 'call_7FpIb5lKvVxwOIPUYZDiNC4i', 'function': {'arguments': '{\"__arg1\":\"now\"}', 'name': 'TimestampTool'}, 'type': 'function'}], 'refusal': None}, response_metadata={'token_usage': {'completion_tokens': 16, 'prompt_tokens': 1896, 'total_tokens': 1912, 'completion_tokens_details': {'accepted_prediction_tokens': 0, 'audio_tokens': 0, 'reasoning_tokens': 0, 'rejected_prediction_tokens': 0}, 'prompt_tokens_details': {'audio_tokens': 0, 'cached_tokens': 0}}, 'model_name': 'gpt-3.5-turbo-0125', 'system_fingerprint': None, 'id': 'chatcmpl-CRDqiNCo65ljkC4zEyCpbU1isVeDO', 'service_tier': 'default', 'finish_reason': 'tool_calls', 'logprobs': None}, id='run--5e7920ff-66a4-4007-aacc-763337d3625f-0', tool_calls=[{'name': 'TimestampTool', 'args': {'__arg1': 'now'}, 'id': 'call_7FpIb5lKvVxwOIPUYZDiNC4i', 'type': 'tool_call'}], usage_metadata={'input_tokens': 1896, 'output_tokens': 16, 'total_tokens': 1912, 'input_token_details': {'audio': 0, 'cache_read': 0}, 'output_token_details': {'audio': 0, 'reasoning': 0}})]}}\n",
            "\u001b[1m[values]\u001b[0m {'messages': [HumanMessage(content='\\nSystem Role: You are a detailed Financial Research Agent designed to analyze companies, securities, and markets with a structured workflow.\\n\\n**Your goal** For COST, provide a ~50 word investment summary, based on extensive reserach.\\n\\nInclude None to improve your answers.\\n\\nNEVER INCLUDE YOUR THOUGHT PROCESS IN THE RESULTS.\\n\\n\\n**Core Functions**\\n\\n1. Planning:\\nDevelop and print out a plan for each given stock symbol. Include a plan for a multi-step research process that defines what data to collect (e.g., news, market data, filings), what tools to use, and how to verify results.\\n\\nExample steps: “Collect company overview → Analyze financials → Cross-check recent filings → Summarize.”\\n\\n2. Tool Use:\\nUse all of your tools by default to hit APIs and data sources dynamically, such as Yahoo Finance, SEC EDGAR, news APIs, and any specialist analyzers. Choose the right tools and calls autonomously based on the goal of each stage. Return structured findings.\\n\\nTOOL USAGE REQUIREMENTS:\\n- Refer to the memory for useful data.\\n- ALWAYS include a timestamp of the run near the top of the report.\\n- Use at least 4 different tools for each analysis\\n- Cross-reference information from multiple sources\\n- If a tool fails, try alternative tools for the same data\\n- Always explain your reasoning between tool calls\\n\\n3. Self-Reflection:\\nEvaluate your output’s completeness, correctness, and coherence at each stage. If key data (e.g., P/E, recent filings, or market indicators) appears missing or uncertain, perform iterative refinement using another reasoning pass or additional tool calls.\\n\\n4. Memory/Learning:\\nRetain useful context from prior analyses (observations, missing data, errors, patterns in company performance). Use this \"brief memory\" to improve future research quality and efficiency.\\n\\n\\n**Workflow Logic**\\n\\nFollow a defined sequence for every research request:\\n* Ingest → Preprocess → Classify → Extract → Summarize\\n\\n1. Ingest: Gather relevant news, filings, and metrics. Use the webpage visit tool on any URLS.\\n\\n2. Preprocess: Clean, standardize, and interpret results from multiple tools.\\n\\n3. Classify: Route data to the correct analysis path (earnings, news, or market).\\n\\n4. Extract: Pull core signals, events, or values.\\n\\n5. Summarize: Synthesize insights in your final output.\\n\\n6. Routing:\\n  * Choose appropriate specialist analyzers according to data type:\\n\\n  * NewsAnalyzer for press, sentiment, or event narratives.\\n\\n  * MarketAnalyzer for indices, performance data, and macro context.\\n\\n7. Evaluation: Review reasoning and completeness, recall tools again if needed.\\n\\n\\n**Final Report**\\nAt the end of each session, create a final summary report that contains:\\n\\nUpdated output from EVERY tool as well as the TIMESTAMP near the top.\\n\\nNEVER include your internal planning information in the report. \\n\\nInclude citations such as [1] followed by a hyperlink at the bottom of the page for further review.\\n\\nRespond in clear, organized Markdown, including headings, bullet points, and labeled data sources for readability.\\n\\n**STOPPING RULE:** Once you have basic financials, recent news, and market context, conclude your analysis. Do not seek additional tools or data.\\n\\nBe thorough - this analysis will inform major investment decisions.\\n\\n', additional_kwargs={}, response_metadata={}, id='e25d3be2-aa20-4fbc-ba3f-942a20cb978d'), AIMessage(content='', additional_kwargs={'tool_calls': [{'id': 'call_7FpIb5lKvVxwOIPUYZDiNC4i', 'function': {'arguments': '{\"__arg1\":\"now\"}', 'name': 'TimestampTool'}, 'type': 'function'}], 'refusal': None}, response_metadata={'token_usage': {'completion_tokens': 16, 'prompt_tokens': 1896, 'total_tokens': 1912, 'completion_tokens_details': {'accepted_prediction_tokens': 0, 'audio_tokens': 0, 'reasoning_tokens': 0, 'rejected_prediction_tokens': 0}, 'prompt_tokens_details': {'audio_tokens': 0, 'cached_tokens': 0}}, 'model_name': 'gpt-3.5-turbo-0125', 'system_fingerprint': None, 'id': 'chatcmpl-CRDqiNCo65ljkC4zEyCpbU1isVeDO', 'service_tier': 'default', 'finish_reason': 'tool_calls', 'logprobs': None}, id='run--5e7920ff-66a4-4007-aacc-763337d3625f-0', tool_calls=[{'name': 'TimestampTool', 'args': {'__arg1': 'now'}, 'id': 'call_7FpIb5lKvVxwOIPUYZDiNC4i', 'type': 'tool_call'}], usage_metadata={'input_tokens': 1896, 'output_tokens': 16, 'total_tokens': 1912, 'input_token_details': {'audio': 0, 'cache_read': 0}, 'output_token_details': {'audio': 0, 'reasoning': 0}})]}\n",
            "\u001b[1m[updates]\u001b[0m {'tools': {'messages': [ToolMessage(content='2025-10-16T08:42:09.366335', name='TimestampTool', id='49700ca7-5c6c-4759-9ecc-96820f122447', tool_call_id='call_7FpIb5lKvVxwOIPUYZDiNC4i')]}}\n",
            "\u001b[1m[values]\u001b[0m {'messages': [HumanMessage(content='\\nSystem Role: You are a detailed Financial Research Agent designed to analyze companies, securities, and markets with a structured workflow.\\n\\n**Your goal** For COST, provide a ~50 word investment summary, based on extensive reserach.\\n\\nInclude None to improve your answers.\\n\\nNEVER INCLUDE YOUR THOUGHT PROCESS IN THE RESULTS.\\n\\n\\n**Core Functions**\\n\\n1. Planning:\\nDevelop and print out a plan for each given stock symbol. Include a plan for a multi-step research process that defines what data to collect (e.g., news, market data, filings), what tools to use, and how to verify results.\\n\\nExample steps: “Collect company overview → Analyze financials → Cross-check recent filings → Summarize.”\\n\\n2. Tool Use:\\nUse all of your tools by default to hit APIs and data sources dynamically, such as Yahoo Finance, SEC EDGAR, news APIs, and any specialist analyzers. Choose the right tools and calls autonomously based on the goal of each stage. Return structured findings.\\n\\nTOOL USAGE REQUIREMENTS:\\n- Refer to the memory for useful data.\\n- ALWAYS include a timestamp of the run near the top of the report.\\n- Use at least 4 different tools for each analysis\\n- Cross-reference information from multiple sources\\n- If a tool fails, try alternative tools for the same data\\n- Always explain your reasoning between tool calls\\n\\n3. Self-Reflection:\\nEvaluate your output’s completeness, correctness, and coherence at each stage. If key data (e.g., P/E, recent filings, or market indicators) appears missing or uncertain, perform iterative refinement using another reasoning pass or additional tool calls.\\n\\n4. Memory/Learning:\\nRetain useful context from prior analyses (observations, missing data, errors, patterns in company performance). Use this \"brief memory\" to improve future research quality and efficiency.\\n\\n\\n**Workflow Logic**\\n\\nFollow a defined sequence for every research request:\\n* Ingest → Preprocess → Classify → Extract → Summarize\\n\\n1. Ingest: Gather relevant news, filings, and metrics. Use the webpage visit tool on any URLS.\\n\\n2. Preprocess: Clean, standardize, and interpret results from multiple tools.\\n\\n3. Classify: Route data to the correct analysis path (earnings, news, or market).\\n\\n4. Extract: Pull core signals, events, or values.\\n\\n5. Summarize: Synthesize insights in your final output.\\n\\n6. Routing:\\n  * Choose appropriate specialist analyzers according to data type:\\n\\n  * NewsAnalyzer for press, sentiment, or event narratives.\\n\\n  * MarketAnalyzer for indices, performance data, and macro context.\\n\\n7. Evaluation: Review reasoning and completeness, recall tools again if needed.\\n\\n\\n**Final Report**\\nAt the end of each session, create a final summary report that contains:\\n\\nUpdated output from EVERY tool as well as the TIMESTAMP near the top.\\n\\nNEVER include your internal planning information in the report. \\n\\nInclude citations such as [1] followed by a hyperlink at the bottom of the page for further review.\\n\\nRespond in clear, organized Markdown, including headings, bullet points, and labeled data sources for readability.\\n\\n**STOPPING RULE:** Once you have basic financials, recent news, and market context, conclude your analysis. Do not seek additional tools or data.\\n\\nBe thorough - this analysis will inform major investment decisions.\\n\\n', additional_kwargs={}, response_metadata={}, id='e25d3be2-aa20-4fbc-ba3f-942a20cb978d'), AIMessage(content='', additional_kwargs={'tool_calls': [{'id': 'call_7FpIb5lKvVxwOIPUYZDiNC4i', 'function': {'arguments': '{\"__arg1\":\"now\"}', 'name': 'TimestampTool'}, 'type': 'function'}], 'refusal': None}, response_metadata={'token_usage': {'completion_tokens': 16, 'prompt_tokens': 1896, 'total_tokens': 1912, 'completion_tokens_details': {'accepted_prediction_tokens': 0, 'audio_tokens': 0, 'reasoning_tokens': 0, 'rejected_prediction_tokens': 0}, 'prompt_tokens_details': {'audio_tokens': 0, 'cached_tokens': 0}}, 'model_name': 'gpt-3.5-turbo-0125', 'system_fingerprint': None, 'id': 'chatcmpl-CRDqiNCo65ljkC4zEyCpbU1isVeDO', 'service_tier': 'default', 'finish_reason': 'tool_calls', 'logprobs': None}, id='run--5e7920ff-66a4-4007-aacc-763337d3625f-0', tool_calls=[{'name': 'TimestampTool', 'args': {'__arg1': 'now'}, 'id': 'call_7FpIb5lKvVxwOIPUYZDiNC4i', 'type': 'tool_call'}], usage_metadata={'input_tokens': 1896, 'output_tokens': 16, 'total_tokens': 1912, 'input_token_details': {'audio': 0, 'cache_read': 0}, 'output_token_details': {'audio': 0, 'reasoning': 0}}), ToolMessage(content='2025-10-16T08:42:09.366335', name='TimestampTool', id='49700ca7-5c6c-4759-9ecc-96820f122447', tool_call_id='call_7FpIb5lKvVxwOIPUYZDiNC4i')]}\n"
          ]
        },
        {
          "output_type": "stream",
          "name": "stderr",
          "text": [
            "/tmp/ipython-input-3553478582.py:18: FutureWarning: YF.download() has changed argument auto_adjust default to True\n",
            "  data = yf.download(symbol, start=start_date, end=end_date)\n",
            "\r[*********************100%***********************]  1 of 1 completed"
          ]
        },
        {
          "output_type": "stream",
          "name": "stdout",
          "text": [
            "\u001b[1m[updates]\u001b[0m {'agent': {'messages': [AIMessage(content='', additional_kwargs={'tool_calls': [{'id': 'call_cX3Dnsia2XoCVSyzdsJqv3a6', 'function': {'arguments': '{\"__arg1\": \"COST\"}', 'name': 'YahooFinanceAPI'}, 'type': 'function'}, {'id': 'call_jh9H72lSfKsIK58uyI1bEdvb', 'function': {'arguments': '{\"__arg1\": \"COST\"}', 'name': 'SECEDGARAPI'}, 'type': 'function'}, {'id': 'call_h0xFVcmU8pa8NuZw1yRrpOHL', 'function': {'arguments': '{\"__arg1\": \"COST\"}', 'name': 'NewsAPI'}, 'type': 'function'}, {'id': 'call_Qjxcyar59aG51Qz7SxhO3CAE', 'function': {'arguments': '{\"__arg1\": \"COST\"}', 'name': 'StockChart52Weeks'}, 'type': 'function'}], 'refusal': None}, response_metadata={'token_usage': {'completion_tokens': 93, 'prompt_tokens': 1935, 'total_tokens': 2028, 'completion_tokens_details': {'accepted_prediction_tokens': 0, 'audio_tokens': 0, 'reasoning_tokens': 0, 'rejected_prediction_tokens': 0}, 'prompt_tokens_details': {'audio_tokens': 0, 'cached_tokens': 0}}, 'model_name': 'gpt-3.5-turbo-0125', 'system_fingerprint': None, 'id': 'chatcmpl-CRDqjIH7E9HXSiwRXurxtpprlf2RI', 'service_tier': 'default', 'finish_reason': 'tool_calls', 'logprobs': None}, id='run--eb924d36-c745-4ded-8d9e-1e9b5db0d52e-0', tool_calls=[{'name': 'YahooFinanceAPI', 'args': {'__arg1': 'COST'}, 'id': 'call_cX3Dnsia2XoCVSyzdsJqv3a6', 'type': 'tool_call'}, {'name': 'SECEDGARAPI', 'args': {'__arg1': 'COST'}, 'id': 'call_jh9H72lSfKsIK58uyI1bEdvb', 'type': 'tool_call'}, {'name': 'NewsAPI', 'args': {'__arg1': 'COST'}, 'id': 'call_h0xFVcmU8pa8NuZw1yRrpOHL', 'type': 'tool_call'}, {'name': 'StockChart52Weeks', 'args': {'__arg1': 'COST'}, 'id': 'call_Qjxcyar59aG51Qz7SxhO3CAE', 'type': 'tool_call'}], usage_metadata={'input_tokens': 1935, 'output_tokens': 93, 'total_tokens': 2028, 'input_token_details': {'audio': 0, 'cache_read': 0}, 'output_token_details': {'audio': 0, 'reasoning': 0}})]}}\n",
            "\u001b[1m[values]\u001b[0m {'messages': [HumanMessage(content='\\nSystem Role: You are a detailed Financial Research Agent designed to analyze companies, securities, and markets with a structured workflow.\\n\\n**Your goal** For COST, provide a ~50 word investment summary, based on extensive reserach.\\n\\nInclude None to improve your answers.\\n\\nNEVER INCLUDE YOUR THOUGHT PROCESS IN THE RESULTS.\\n\\n\\n**Core Functions**\\n\\n1. Planning:\\nDevelop and print out a plan for each given stock symbol. Include a plan for a multi-step research process that defines what data to collect (e.g., news, market data, filings), what tools to use, and how to verify results.\\n\\nExample steps: “Collect company overview → Analyze financials → Cross-check recent filings → Summarize.”\\n\\n2. Tool Use:\\nUse all of your tools by default to hit APIs and data sources dynamically, such as Yahoo Finance, SEC EDGAR, news APIs, and any specialist analyzers. Choose the right tools and calls autonomously based on the goal of each stage. Return structured findings.\\n\\nTOOL USAGE REQUIREMENTS:\\n- Refer to the memory for useful data.\\n- ALWAYS include a timestamp of the run near the top of the report.\\n- Use at least 4 different tools for each analysis\\n- Cross-reference information from multiple sources\\n- If a tool fails, try alternative tools for the same data\\n- Always explain your reasoning between tool calls\\n\\n3. Self-Reflection:\\nEvaluate your output’s completeness, correctness, and coherence at each stage. If key data (e.g., P/E, recent filings, or market indicators) appears missing or uncertain, perform iterative refinement using another reasoning pass or additional tool calls.\\n\\n4. Memory/Learning:\\nRetain useful context from prior analyses (observations, missing data, errors, patterns in company performance). Use this \"brief memory\" to improve future research quality and efficiency.\\n\\n\\n**Workflow Logic**\\n\\nFollow a defined sequence for every research request:\\n* Ingest → Preprocess → Classify → Extract → Summarize\\n\\n1. Ingest: Gather relevant news, filings, and metrics. Use the webpage visit tool on any URLS.\\n\\n2. Preprocess: Clean, standardize, and interpret results from multiple tools.\\n\\n3. Classify: Route data to the correct analysis path (earnings, news, or market).\\n\\n4. Extract: Pull core signals, events, or values.\\n\\n5. Summarize: Synthesize insights in your final output.\\n\\n6. Routing:\\n  * Choose appropriate specialist analyzers according to data type:\\n\\n  * NewsAnalyzer for press, sentiment, or event narratives.\\n\\n  * MarketAnalyzer for indices, performance data, and macro context.\\n\\n7. Evaluation: Review reasoning and completeness, recall tools again if needed.\\n\\n\\n**Final Report**\\nAt the end of each session, create a final summary report that contains:\\n\\nUpdated output from EVERY tool as well as the TIMESTAMP near the top.\\n\\nNEVER include your internal planning information in the report. \\n\\nInclude citations such as [1] followed by a hyperlink at the bottom of the page for further review.\\n\\nRespond in clear, organized Markdown, including headings, bullet points, and labeled data sources for readability.\\n\\n**STOPPING RULE:** Once you have basic financials, recent news, and market context, conclude your analysis. Do not seek additional tools or data.\\n\\nBe thorough - this analysis will inform major investment decisions.\\n\\n', additional_kwargs={}, response_metadata={}, id='e25d3be2-aa20-4fbc-ba3f-942a20cb978d'), AIMessage(content='', additional_kwargs={'tool_calls': [{'id': 'call_7FpIb5lKvVxwOIPUYZDiNC4i', 'function': {'arguments': '{\"__arg1\":\"now\"}', 'name': 'TimestampTool'}, 'type': 'function'}], 'refusal': None}, response_metadata={'token_usage': {'completion_tokens': 16, 'prompt_tokens': 1896, 'total_tokens': 1912, 'completion_tokens_details': {'accepted_prediction_tokens': 0, 'audio_tokens': 0, 'reasoning_tokens': 0, 'rejected_prediction_tokens': 0}, 'prompt_tokens_details': {'audio_tokens': 0, 'cached_tokens': 0}}, 'model_name': 'gpt-3.5-turbo-0125', 'system_fingerprint': None, 'id': 'chatcmpl-CRDqiNCo65ljkC4zEyCpbU1isVeDO', 'service_tier': 'default', 'finish_reason': 'tool_calls', 'logprobs': None}, id='run--5e7920ff-66a4-4007-aacc-763337d3625f-0', tool_calls=[{'name': 'TimestampTool', 'args': {'__arg1': 'now'}, 'id': 'call_7FpIb5lKvVxwOIPUYZDiNC4i', 'type': 'tool_call'}], usage_metadata={'input_tokens': 1896, 'output_tokens': 16, 'total_tokens': 1912, 'input_token_details': {'audio': 0, 'cache_read': 0}, 'output_token_details': {'audio': 0, 'reasoning': 0}}), ToolMessage(content='2025-10-16T08:42:09.366335', name='TimestampTool', id='49700ca7-5c6c-4759-9ecc-96820f122447', tool_call_id='call_7FpIb5lKvVxwOIPUYZDiNC4i'), AIMessage(content='', additional_kwargs={'tool_calls': [{'id': 'call_cX3Dnsia2XoCVSyzdsJqv3a6', 'function': {'arguments': '{\"__arg1\": \"COST\"}', 'name': 'YahooFinanceAPI'}, 'type': 'function'}, {'id': 'call_jh9H72lSfKsIK58uyI1bEdvb', 'function': {'arguments': '{\"__arg1\": \"COST\"}', 'name': 'SECEDGARAPI'}, 'type': 'function'}, {'id': 'call_h0xFVcmU8pa8NuZw1yRrpOHL', 'function': {'arguments': '{\"__arg1\": \"COST\"}', 'name': 'NewsAPI'}, 'type': 'function'}, {'id': 'call_Qjxcyar59aG51Qz7SxhO3CAE', 'function': {'arguments': '{\"__arg1\": \"COST\"}', 'name': 'StockChart52Weeks'}, 'type': 'function'}], 'refusal': None}, response_metadata={'token_usage': {'completion_tokens': 93, 'prompt_tokens': 1935, 'total_tokens': 2028, 'completion_tokens_details': {'accepted_prediction_tokens': 0, 'audio_tokens': 0, 'reasoning_tokens': 0, 'rejected_prediction_tokens': 0}, 'prompt_tokens_details': {'audio_tokens': 0, 'cached_tokens': 0}}, 'model_name': 'gpt-3.5-turbo-0125', 'system_fingerprint': None, 'id': 'chatcmpl-CRDqjIH7E9HXSiwRXurxtpprlf2RI', 'service_tier': 'default', 'finish_reason': 'tool_calls', 'logprobs': None}, id='run--eb924d36-c745-4ded-8d9e-1e9b5db0d52e-0', tool_calls=[{'name': 'YahooFinanceAPI', 'args': {'__arg1': 'COST'}, 'id': 'call_cX3Dnsia2XoCVSyzdsJqv3a6', 'type': 'tool_call'}, {'name': 'SECEDGARAPI', 'args': {'__arg1': 'COST'}, 'id': 'call_jh9H72lSfKsIK58uyI1bEdvb', 'type': 'tool_call'}, {'name': 'NewsAPI', 'args': {'__arg1': 'COST'}, 'id': 'call_h0xFVcmU8pa8NuZw1yRrpOHL', 'type': 'tool_call'}, {'name': 'StockChart52Weeks', 'args': {'__arg1': 'COST'}, 'id': 'call_Qjxcyar59aG51Qz7SxhO3CAE', 'type': 'tool_call'}], usage_metadata={'input_tokens': 1935, 'output_tokens': 93, 'total_tokens': 2028, 'input_token_details': {'audio': 0, 'cache_read': 0}, 'output_token_details': {'audio': 0, 'reasoning': 0}})]}\n"
          ]
        },
        {
          "output_type": "stream",
          "name": "stderr",
          "text": [
            "\n"
          ]
        },
        {
          "output_type": "stream",
          "name": "stdout",
          "text": [
            "\u001b[1m[updates]\u001b[0m {'tools': {'messages': [ToolMessage(content='Saudi Arabia\\'s 3D printing medical devices market is driven by the growing demand for personalized implants and prosthetics, bolstered by government support and healthcare digitization under Vision 2030 Saudi Arabia\\'s 3D printing medical devices market is dri…\\nI am 35 years old, unmarried, and recently bought a term life insurance plan for Rs 1 crore, for 25 years. As my income and responsibilities may grow, can I increase the cover amount in future under the same policy, or will I need to buy a fresh policy?\\nThe European Commission is set to unveil an ambitious defense policy \"roadmap\" that includes boosting anti-drone efforts, according to documents. Plus, Germany pledges more military aid to Ukraine. EU looking at boosting drone defenses that benefits Europe, a…', name='NewsAPI', tool_call_id='call_h0xFVcmU8pa8NuZw1yRrpOHL')]}}\n",
            "\u001b[1m[updates]\u001b[0m {'tools': {'messages': [ToolMessage(content='Stock chart saved as COST_52week_chart.png', name='StockChart52Weeks', tool_call_id='call_Qjxcyar59aG51Qz7SxhO3CAE')]}}\n",
            "\u001b[1m[updates]\u001b[0m {'tools': {'messages': [ToolMessage(content='Company: Costco Wholesale Corporation (COST)\\nSector: Consumer Defensive\\nPrice: $954.99\\nMarket Cap: 423231684608\\nP/E Ratio: 52.356907\\n52-Week High: 1078.23\\n52-Week Low: 867.34\\nDividend Yield: 0.54\\nBeta: 0.964\\nRevenue: 275235012608\\nProfit Margin: 0.02943\\n', name='YahooFinanceAPI', tool_call_id='call_cX3Dnsia2XoCVSyzdsJqv3a6')]}}\n",
            "\u001b[1m[updates]\u001b[0m {'tools': {'messages': [ToolMessage(content='Latest filings with summaries:\\n8-K on 2025-10-15:\\nhttps://www.sec.gov/Archives/edgar/data/909832/000090983225000105/cost-20251015.htm\\nSummary: No key XML findings found.\\n\\n3 on 2025-10-09:\\nhttps://www.sec.gov/Archives/edgar/data/909832/000090983225000103/xslF345X02/form3.xml\\nSummary: SEC FORM \\n            3 SEC Form 3 FORM 3 UNITED STATES SECURITIES AND EXCHANGE COMMISSION Washington, D.C. 20549 INITIAL STATEMENT OF BENEFICIAL OWNERSHIP OF SECURITIES Filed pursuant to Section 16(a) of the Securities Exchange Act of 1934 or Section 30(h) of the Investment Company Act of 1940 OMB APPROVAL OMB Number: 3235-0104 Estimated average burden hours per response: 0.5 1. Name and Address \\n\\n10-K on 2025-10-08:\\nhttps://www.sec.gov/Archives/edgar/data/909832/000090983225000101/cost-20250831.htm\\nSummary: No key XML findings found.\\n', name='SECEDGARAPI', tool_call_id='call_jh9H72lSfKsIK58uyI1bEdvb')]}}\n",
            "\u001b[1m[values]\u001b[0m {'messages': [HumanMessage(content='\\nSystem Role: You are a detailed Financial Research Agent designed to analyze companies, securities, and markets with a structured workflow.\\n\\n**Your goal** For COST, provide a ~50 word investment summary, based on extensive reserach.\\n\\nInclude None to improve your answers.\\n\\nNEVER INCLUDE YOUR THOUGHT PROCESS IN THE RESULTS.\\n\\n\\n**Core Functions**\\n\\n1. Planning:\\nDevelop and print out a plan for each given stock symbol. Include a plan for a multi-step research process that defines what data to collect (e.g., news, market data, filings), what tools to use, and how to verify results.\\n\\nExample steps: “Collect company overview → Analyze financials → Cross-check recent filings → Summarize.”\\n\\n2. Tool Use:\\nUse all of your tools by default to hit APIs and data sources dynamically, such as Yahoo Finance, SEC EDGAR, news APIs, and any specialist analyzers. Choose the right tools and calls autonomously based on the goal of each stage. Return structured findings.\\n\\nTOOL USAGE REQUIREMENTS:\\n- Refer to the memory for useful data.\\n- ALWAYS include a timestamp of the run near the top of the report.\\n- Use at least 4 different tools for each analysis\\n- Cross-reference information from multiple sources\\n- If a tool fails, try alternative tools for the same data\\n- Always explain your reasoning between tool calls\\n\\n3. Self-Reflection:\\nEvaluate your output’s completeness, correctness, and coherence at each stage. If key data (e.g., P/E, recent filings, or market indicators) appears missing or uncertain, perform iterative refinement using another reasoning pass or additional tool calls.\\n\\n4. Memory/Learning:\\nRetain useful context from prior analyses (observations, missing data, errors, patterns in company performance). Use this \"brief memory\" to improve future research quality and efficiency.\\n\\n\\n**Workflow Logic**\\n\\nFollow a defined sequence for every research request:\\n* Ingest → Preprocess → Classify → Extract → Summarize\\n\\n1. Ingest: Gather relevant news, filings, and metrics. Use the webpage visit tool on any URLS.\\n\\n2. Preprocess: Clean, standardize, and interpret results from multiple tools.\\n\\n3. Classify: Route data to the correct analysis path (earnings, news, or market).\\n\\n4. Extract: Pull core signals, events, or values.\\n\\n5. Summarize: Synthesize insights in your final output.\\n\\n6. Routing:\\n  * Choose appropriate specialist analyzers according to data type:\\n\\n  * NewsAnalyzer for press, sentiment, or event narratives.\\n\\n  * MarketAnalyzer for indices, performance data, and macro context.\\n\\n7. Evaluation: Review reasoning and completeness, recall tools again if needed.\\n\\n\\n**Final Report**\\nAt the end of each session, create a final summary report that contains:\\n\\nUpdated output from EVERY tool as well as the TIMESTAMP near the top.\\n\\nNEVER include your internal planning information in the report. \\n\\nInclude citations such as [1] followed by a hyperlink at the bottom of the page for further review.\\n\\nRespond in clear, organized Markdown, including headings, bullet points, and labeled data sources for readability.\\n\\n**STOPPING RULE:** Once you have basic financials, recent news, and market context, conclude your analysis. Do not seek additional tools or data.\\n\\nBe thorough - this analysis will inform major investment decisions.\\n\\n', additional_kwargs={}, response_metadata={}, id='e25d3be2-aa20-4fbc-ba3f-942a20cb978d'), AIMessage(content='', additional_kwargs={'tool_calls': [{'id': 'call_7FpIb5lKvVxwOIPUYZDiNC4i', 'function': {'arguments': '{\"__arg1\":\"now\"}', 'name': 'TimestampTool'}, 'type': 'function'}], 'refusal': None}, response_metadata={'token_usage': {'completion_tokens': 16, 'prompt_tokens': 1896, 'total_tokens': 1912, 'completion_tokens_details': {'accepted_prediction_tokens': 0, 'audio_tokens': 0, 'reasoning_tokens': 0, 'rejected_prediction_tokens': 0}, 'prompt_tokens_details': {'audio_tokens': 0, 'cached_tokens': 0}}, 'model_name': 'gpt-3.5-turbo-0125', 'system_fingerprint': None, 'id': 'chatcmpl-CRDqiNCo65ljkC4zEyCpbU1isVeDO', 'service_tier': 'default', 'finish_reason': 'tool_calls', 'logprobs': None}, id='run--5e7920ff-66a4-4007-aacc-763337d3625f-0', tool_calls=[{'name': 'TimestampTool', 'args': {'__arg1': 'now'}, 'id': 'call_7FpIb5lKvVxwOIPUYZDiNC4i', 'type': 'tool_call'}], usage_metadata={'input_tokens': 1896, 'output_tokens': 16, 'total_tokens': 1912, 'input_token_details': {'audio': 0, 'cache_read': 0}, 'output_token_details': {'audio': 0, 'reasoning': 0}}), ToolMessage(content='2025-10-16T08:42:09.366335', name='TimestampTool', id='49700ca7-5c6c-4759-9ecc-96820f122447', tool_call_id='call_7FpIb5lKvVxwOIPUYZDiNC4i'), AIMessage(content='', additional_kwargs={'tool_calls': [{'id': 'call_cX3Dnsia2XoCVSyzdsJqv3a6', 'function': {'arguments': '{\"__arg1\": \"COST\"}', 'name': 'YahooFinanceAPI'}, 'type': 'function'}, {'id': 'call_jh9H72lSfKsIK58uyI1bEdvb', 'function': {'arguments': '{\"__arg1\": \"COST\"}', 'name': 'SECEDGARAPI'}, 'type': 'function'}, {'id': 'call_h0xFVcmU8pa8NuZw1yRrpOHL', 'function': {'arguments': '{\"__arg1\": \"COST\"}', 'name': 'NewsAPI'}, 'type': 'function'}, {'id': 'call_Qjxcyar59aG51Qz7SxhO3CAE', 'function': {'arguments': '{\"__arg1\": \"COST\"}', 'name': 'StockChart52Weeks'}, 'type': 'function'}], 'refusal': None}, response_metadata={'token_usage': {'completion_tokens': 93, 'prompt_tokens': 1935, 'total_tokens': 2028, 'completion_tokens_details': {'accepted_prediction_tokens': 0, 'audio_tokens': 0, 'reasoning_tokens': 0, 'rejected_prediction_tokens': 0}, 'prompt_tokens_details': {'audio_tokens': 0, 'cached_tokens': 0}}, 'model_name': 'gpt-3.5-turbo-0125', 'system_fingerprint': None, 'id': 'chatcmpl-CRDqjIH7E9HXSiwRXurxtpprlf2RI', 'service_tier': 'default', 'finish_reason': 'tool_calls', 'logprobs': None}, id='run--eb924d36-c745-4ded-8d9e-1e9b5db0d52e-0', tool_calls=[{'name': 'YahooFinanceAPI', 'args': {'__arg1': 'COST'}, 'id': 'call_cX3Dnsia2XoCVSyzdsJqv3a6', 'type': 'tool_call'}, {'name': 'SECEDGARAPI', 'args': {'__arg1': 'COST'}, 'id': 'call_jh9H72lSfKsIK58uyI1bEdvb', 'type': 'tool_call'}, {'name': 'NewsAPI', 'args': {'__arg1': 'COST'}, 'id': 'call_h0xFVcmU8pa8NuZw1yRrpOHL', 'type': 'tool_call'}, {'name': 'StockChart52Weeks', 'args': {'__arg1': 'COST'}, 'id': 'call_Qjxcyar59aG51Qz7SxhO3CAE', 'type': 'tool_call'}], usage_metadata={'input_tokens': 1935, 'output_tokens': 93, 'total_tokens': 2028, 'input_token_details': {'audio': 0, 'cache_read': 0}, 'output_token_details': {'audio': 0, 'reasoning': 0}}), ToolMessage(content='Company: Costco Wholesale Corporation (COST)\\nSector: Consumer Defensive\\nPrice: $954.99\\nMarket Cap: 423231684608\\nP/E Ratio: 52.356907\\n52-Week High: 1078.23\\n52-Week Low: 867.34\\nDividend Yield: 0.54\\nBeta: 0.964\\nRevenue: 275235012608\\nProfit Margin: 0.02943\\n', name='YahooFinanceAPI', id='ec8372df-8cde-4305-83f8-54d020176054', tool_call_id='call_cX3Dnsia2XoCVSyzdsJqv3a6'), ToolMessage(content='Latest filings with summaries:\\n8-K on 2025-10-15:\\nhttps://www.sec.gov/Archives/edgar/data/909832/000090983225000105/cost-20251015.htm\\nSummary: No key XML findings found.\\n\\n3 on 2025-10-09:\\nhttps://www.sec.gov/Archives/edgar/data/909832/000090983225000103/xslF345X02/form3.xml\\nSummary: SEC FORM \\n            3 SEC Form 3 FORM 3 UNITED STATES SECURITIES AND EXCHANGE COMMISSION Washington, D.C. 20549 INITIAL STATEMENT OF BENEFICIAL OWNERSHIP OF SECURITIES Filed pursuant to Section 16(a) of the Securities Exchange Act of 1934 or Section 30(h) of the Investment Company Act of 1940 OMB APPROVAL OMB Number: 3235-0104 Estimated average burden hours per response: 0.5 1. Name and Address \\n\\n10-K on 2025-10-08:\\nhttps://www.sec.gov/Archives/edgar/data/909832/000090983225000101/cost-20250831.htm\\nSummary: No key XML findings found.\\n', name='SECEDGARAPI', id='dd08b76e-ec1e-4b5e-bb8c-b82d25ba86ef', tool_call_id='call_jh9H72lSfKsIK58uyI1bEdvb'), ToolMessage(content='Saudi Arabia\\'s 3D printing medical devices market is driven by the growing demand for personalized implants and prosthetics, bolstered by government support and healthcare digitization under Vision 2030 Saudi Arabia\\'s 3D printing medical devices market is dri…\\nI am 35 years old, unmarried, and recently bought a term life insurance plan for Rs 1 crore, for 25 years. As my income and responsibilities may grow, can I increase the cover amount in future under the same policy, or will I need to buy a fresh policy?\\nThe European Commission is set to unveil an ambitious defense policy \"roadmap\" that includes boosting anti-drone efforts, according to documents. Plus, Germany pledges more military aid to Ukraine. EU looking at boosting drone defenses that benefits Europe, a…', name='NewsAPI', id='4068291e-f952-476c-b29c-bfcb6d1c9df8', tool_call_id='call_h0xFVcmU8pa8NuZw1yRrpOHL'), ToolMessage(content='Stock chart saved as COST_52week_chart.png', name='StockChart52Weeks', id='da54579a-9814-4177-8f0a-3fcb3ba86e97', tool_call_id='call_Qjxcyar59aG51Qz7SxhO3CAE')]}\n",
            "\u001b[1m[updates]\u001b[0m {'agent': {'messages': [AIMessage(content=\"## Investment Summary for Costco Wholesale Corporation (COST)\\n\\n- **Sector:** Consumer Defensive\\n- **Price:** $954.99\\n- **Market Cap:** $423.23 billion\\n- **P/E Ratio:** 52.36\\n- **52-Week High:** $1078.23\\n- **52-Week Low:** $867.34\\n- **Dividend Yield:** 0.54%\\n- **Beta:** 0.964\\n- **Revenue:** $275.24 billion\\n- **Profit Margin:** 2.94%\\n\\n### Recent Filings:\\n1. **8-K on 2025-10-15:**\\n   - [View Filing](https://www.sec.gov/Archives/edgar/data/909832/000090983225000105/cost-20251015.htm)\\n   - *Summary:* No key XML findings found.\\n\\n2. **3 on 2025-10-09:**\\n   - [View Filing](https://www.sec.gov/Archives/edgar/data/909832/000090983225000103/xslF345X02/form3.xml)\\n   - *Summary:* SEC FORM 3 filing.\\n\\n3. **10-K on 2025-10-08:**\\n   - [View Filing](https://www.sec.gov/Archives/edgar/data/909832/000090983225000101/cost-20250831.htm)\\n   - *Summary:* No key XML findings found.\\n\\n### Recent News:\\n- Saudi Arabia's 3D printing medical devices market is growing.\\n- Personal finance query on increasing insurance cover.\\n- European Commission's defense policy roadmap includes anti-drone efforts.\\n\\n### Stock Chart:\\n- [View 52-Week Stock Chart](COST_52week_chart.png)\\n\\n[1] Data source: Yahoo Finance, SEC EDGAR, NewsAPI, StockChart52Weeks.\", additional_kwargs={'refusal': None}, response_metadata={'token_usage': {'completion_tokens': 395, 'prompt_tokens': 2580, 'total_tokens': 2975, 'completion_tokens_details': {'accepted_prediction_tokens': 0, 'audio_tokens': 0, 'reasoning_tokens': 0, 'rejected_prediction_tokens': 0}, 'prompt_tokens_details': {'audio_tokens': 0, 'cached_tokens': 0}}, 'model_name': 'gpt-3.5-turbo-0125', 'system_fingerprint': None, 'id': 'chatcmpl-CRDqlsXsLrUnxHHXFkl5KlXKAyKGL', 'service_tier': 'default', 'finish_reason': 'stop', 'logprobs': None}, id='run--0f11458a-000f-489e-980b-d94979701bb1-0', usage_metadata={'input_tokens': 2580, 'output_tokens': 395, 'total_tokens': 2975, 'input_token_details': {'audio': 0, 'cache_read': 0}, 'output_token_details': {'audio': 0, 'reasoning': 0}})]}}\n",
            "\u001b[1m[values]\u001b[0m {'messages': [HumanMessage(content='\\nSystem Role: You are a detailed Financial Research Agent designed to analyze companies, securities, and markets with a structured workflow.\\n\\n**Your goal** For COST, provide a ~50 word investment summary, based on extensive reserach.\\n\\nInclude None to improve your answers.\\n\\nNEVER INCLUDE YOUR THOUGHT PROCESS IN THE RESULTS.\\n\\n\\n**Core Functions**\\n\\n1. Planning:\\nDevelop and print out a plan for each given stock symbol. Include a plan for a multi-step research process that defines what data to collect (e.g., news, market data, filings), what tools to use, and how to verify results.\\n\\nExample steps: “Collect company overview → Analyze financials → Cross-check recent filings → Summarize.”\\n\\n2. Tool Use:\\nUse all of your tools by default to hit APIs and data sources dynamically, such as Yahoo Finance, SEC EDGAR, news APIs, and any specialist analyzers. Choose the right tools and calls autonomously based on the goal of each stage. Return structured findings.\\n\\nTOOL USAGE REQUIREMENTS:\\n- Refer to the memory for useful data.\\n- ALWAYS include a timestamp of the run near the top of the report.\\n- Use at least 4 different tools for each analysis\\n- Cross-reference information from multiple sources\\n- If a tool fails, try alternative tools for the same data\\n- Always explain your reasoning between tool calls\\n\\n3. Self-Reflection:\\nEvaluate your output’s completeness, correctness, and coherence at each stage. If key data (e.g., P/E, recent filings, or market indicators) appears missing or uncertain, perform iterative refinement using another reasoning pass or additional tool calls.\\n\\n4. Memory/Learning:\\nRetain useful context from prior analyses (observations, missing data, errors, patterns in company performance). Use this \"brief memory\" to improve future research quality and efficiency.\\n\\n\\n**Workflow Logic**\\n\\nFollow a defined sequence for every research request:\\n* Ingest → Preprocess → Classify → Extract → Summarize\\n\\n1. Ingest: Gather relevant news, filings, and metrics. Use the webpage visit tool on any URLS.\\n\\n2. Preprocess: Clean, standardize, and interpret results from multiple tools.\\n\\n3. Classify: Route data to the correct analysis path (earnings, news, or market).\\n\\n4. Extract: Pull core signals, events, or values.\\n\\n5. Summarize: Synthesize insights in your final output.\\n\\n6. Routing:\\n  * Choose appropriate specialist analyzers according to data type:\\n\\n  * NewsAnalyzer for press, sentiment, or event narratives.\\n\\n  * MarketAnalyzer for indices, performance data, and macro context.\\n\\n7. Evaluation: Review reasoning and completeness, recall tools again if needed.\\n\\n\\n**Final Report**\\nAt the end of each session, create a final summary report that contains:\\n\\nUpdated output from EVERY tool as well as the TIMESTAMP near the top.\\n\\nNEVER include your internal planning information in the report. \\n\\nInclude citations such as [1] followed by a hyperlink at the bottom of the page for further review.\\n\\nRespond in clear, organized Markdown, including headings, bullet points, and labeled data sources for readability.\\n\\n**STOPPING RULE:** Once you have basic financials, recent news, and market context, conclude your analysis. Do not seek additional tools or data.\\n\\nBe thorough - this analysis will inform major investment decisions.\\n\\n', additional_kwargs={}, response_metadata={}, id='e25d3be2-aa20-4fbc-ba3f-942a20cb978d'), AIMessage(content='', additional_kwargs={'tool_calls': [{'id': 'call_7FpIb5lKvVxwOIPUYZDiNC4i', 'function': {'arguments': '{\"__arg1\":\"now\"}', 'name': 'TimestampTool'}, 'type': 'function'}], 'refusal': None}, response_metadata={'token_usage': {'completion_tokens': 16, 'prompt_tokens': 1896, 'total_tokens': 1912, 'completion_tokens_details': {'accepted_prediction_tokens': 0, 'audio_tokens': 0, 'reasoning_tokens': 0, 'rejected_prediction_tokens': 0}, 'prompt_tokens_details': {'audio_tokens': 0, 'cached_tokens': 0}}, 'model_name': 'gpt-3.5-turbo-0125', 'system_fingerprint': None, 'id': 'chatcmpl-CRDqiNCo65ljkC4zEyCpbU1isVeDO', 'service_tier': 'default', 'finish_reason': 'tool_calls', 'logprobs': None}, id='run--5e7920ff-66a4-4007-aacc-763337d3625f-0', tool_calls=[{'name': 'TimestampTool', 'args': {'__arg1': 'now'}, 'id': 'call_7FpIb5lKvVxwOIPUYZDiNC4i', 'type': 'tool_call'}], usage_metadata={'input_tokens': 1896, 'output_tokens': 16, 'total_tokens': 1912, 'input_token_details': {'audio': 0, 'cache_read': 0}, 'output_token_details': {'audio': 0, 'reasoning': 0}}), ToolMessage(content='2025-10-16T08:42:09.366335', name='TimestampTool', id='49700ca7-5c6c-4759-9ecc-96820f122447', tool_call_id='call_7FpIb5lKvVxwOIPUYZDiNC4i'), AIMessage(content='', additional_kwargs={'tool_calls': [{'id': 'call_cX3Dnsia2XoCVSyzdsJqv3a6', 'function': {'arguments': '{\"__arg1\": \"COST\"}', 'name': 'YahooFinanceAPI'}, 'type': 'function'}, {'id': 'call_jh9H72lSfKsIK58uyI1bEdvb', 'function': {'arguments': '{\"__arg1\": \"COST\"}', 'name': 'SECEDGARAPI'}, 'type': 'function'}, {'id': 'call_h0xFVcmU8pa8NuZw1yRrpOHL', 'function': {'arguments': '{\"__arg1\": \"COST\"}', 'name': 'NewsAPI'}, 'type': 'function'}, {'id': 'call_Qjxcyar59aG51Qz7SxhO3CAE', 'function': {'arguments': '{\"__arg1\": \"COST\"}', 'name': 'StockChart52Weeks'}, 'type': 'function'}], 'refusal': None}, response_metadata={'token_usage': {'completion_tokens': 93, 'prompt_tokens': 1935, 'total_tokens': 2028, 'completion_tokens_details': {'accepted_prediction_tokens': 0, 'audio_tokens': 0, 'reasoning_tokens': 0, 'rejected_prediction_tokens': 0}, 'prompt_tokens_details': {'audio_tokens': 0, 'cached_tokens': 0}}, 'model_name': 'gpt-3.5-turbo-0125', 'system_fingerprint': None, 'id': 'chatcmpl-CRDqjIH7E9HXSiwRXurxtpprlf2RI', 'service_tier': 'default', 'finish_reason': 'tool_calls', 'logprobs': None}, id='run--eb924d36-c745-4ded-8d9e-1e9b5db0d52e-0', tool_calls=[{'name': 'YahooFinanceAPI', 'args': {'__arg1': 'COST'}, 'id': 'call_cX3Dnsia2XoCVSyzdsJqv3a6', 'type': 'tool_call'}, {'name': 'SECEDGARAPI', 'args': {'__arg1': 'COST'}, 'id': 'call_jh9H72lSfKsIK58uyI1bEdvb', 'type': 'tool_call'}, {'name': 'NewsAPI', 'args': {'__arg1': 'COST'}, 'id': 'call_h0xFVcmU8pa8NuZw1yRrpOHL', 'type': 'tool_call'}, {'name': 'StockChart52Weeks', 'args': {'__arg1': 'COST'}, 'id': 'call_Qjxcyar59aG51Qz7SxhO3CAE', 'type': 'tool_call'}], usage_metadata={'input_tokens': 1935, 'output_tokens': 93, 'total_tokens': 2028, 'input_token_details': {'audio': 0, 'cache_read': 0}, 'output_token_details': {'audio': 0, 'reasoning': 0}}), ToolMessage(content='Company: Costco Wholesale Corporation (COST)\\nSector: Consumer Defensive\\nPrice: $954.99\\nMarket Cap: 423231684608\\nP/E Ratio: 52.356907\\n52-Week High: 1078.23\\n52-Week Low: 867.34\\nDividend Yield: 0.54\\nBeta: 0.964\\nRevenue: 275235012608\\nProfit Margin: 0.02943\\n', name='YahooFinanceAPI', id='ec8372df-8cde-4305-83f8-54d020176054', tool_call_id='call_cX3Dnsia2XoCVSyzdsJqv3a6'), ToolMessage(content='Latest filings with summaries:\\n8-K on 2025-10-15:\\nhttps://www.sec.gov/Archives/edgar/data/909832/000090983225000105/cost-20251015.htm\\nSummary: No key XML findings found.\\n\\n3 on 2025-10-09:\\nhttps://www.sec.gov/Archives/edgar/data/909832/000090983225000103/xslF345X02/form3.xml\\nSummary: SEC FORM \\n            3 SEC Form 3 FORM 3 UNITED STATES SECURITIES AND EXCHANGE COMMISSION Washington, D.C. 20549 INITIAL STATEMENT OF BENEFICIAL OWNERSHIP OF SECURITIES Filed pursuant to Section 16(a) of the Securities Exchange Act of 1934 or Section 30(h) of the Investment Company Act of 1940 OMB APPROVAL OMB Number: 3235-0104 Estimated average burden hours per response: 0.5 1. Name and Address \\n\\n10-K on 2025-10-08:\\nhttps://www.sec.gov/Archives/edgar/data/909832/000090983225000101/cost-20250831.htm\\nSummary: No key XML findings found.\\n', name='SECEDGARAPI', id='dd08b76e-ec1e-4b5e-bb8c-b82d25ba86ef', tool_call_id='call_jh9H72lSfKsIK58uyI1bEdvb'), ToolMessage(content='Saudi Arabia\\'s 3D printing medical devices market is driven by the growing demand for personalized implants and prosthetics, bolstered by government support and healthcare digitization under Vision 2030 Saudi Arabia\\'s 3D printing medical devices market is dri…\\nI am 35 years old, unmarried, and recently bought a term life insurance plan for Rs 1 crore, for 25 years. As my income and responsibilities may grow, can I increase the cover amount in future under the same policy, or will I need to buy a fresh policy?\\nThe European Commission is set to unveil an ambitious defense policy \"roadmap\" that includes boosting anti-drone efforts, according to documents. Plus, Germany pledges more military aid to Ukraine. EU looking at boosting drone defenses that benefits Europe, a…', name='NewsAPI', id='4068291e-f952-476c-b29c-bfcb6d1c9df8', tool_call_id='call_h0xFVcmU8pa8NuZw1yRrpOHL'), ToolMessage(content='Stock chart saved as COST_52week_chart.png', name='StockChart52Weeks', id='da54579a-9814-4177-8f0a-3fcb3ba86e97', tool_call_id='call_Qjxcyar59aG51Qz7SxhO3CAE'), AIMessage(content=\"## Investment Summary for Costco Wholesale Corporation (COST)\\n\\n- **Sector:** Consumer Defensive\\n- **Price:** $954.99\\n- **Market Cap:** $423.23 billion\\n- **P/E Ratio:** 52.36\\n- **52-Week High:** $1078.23\\n- **52-Week Low:** $867.34\\n- **Dividend Yield:** 0.54%\\n- **Beta:** 0.964\\n- **Revenue:** $275.24 billion\\n- **Profit Margin:** 2.94%\\n\\n### Recent Filings:\\n1. **8-K on 2025-10-15:**\\n   - [View Filing](https://www.sec.gov/Archives/edgar/data/909832/000090983225000105/cost-20251015.htm)\\n   - *Summary:* No key XML findings found.\\n\\n2. **3 on 2025-10-09:**\\n   - [View Filing](https://www.sec.gov/Archives/edgar/data/909832/000090983225000103/xslF345X02/form3.xml)\\n   - *Summary:* SEC FORM 3 filing.\\n\\n3. **10-K on 2025-10-08:**\\n   - [View Filing](https://www.sec.gov/Archives/edgar/data/909832/000090983225000101/cost-20250831.htm)\\n   - *Summary:* No key XML findings found.\\n\\n### Recent News:\\n- Saudi Arabia's 3D printing medical devices market is growing.\\n- Personal finance query on increasing insurance cover.\\n- European Commission's defense policy roadmap includes anti-drone efforts.\\n\\n### Stock Chart:\\n- [View 52-Week Stock Chart](COST_52week_chart.png)\\n\\n[1] Data source: Yahoo Finance, SEC EDGAR, NewsAPI, StockChart52Weeks.\", additional_kwargs={'refusal': None}, response_metadata={'token_usage': {'completion_tokens': 395, 'prompt_tokens': 2580, 'total_tokens': 2975, 'completion_tokens_details': {'accepted_prediction_tokens': 0, 'audio_tokens': 0, 'reasoning_tokens': 0, 'rejected_prediction_tokens': 0}, 'prompt_tokens_details': {'audio_tokens': 0, 'cached_tokens': 0}}, 'model_name': 'gpt-3.5-turbo-0125', 'system_fingerprint': None, 'id': 'chatcmpl-CRDqlsXsLrUnxHHXFkl5KlXKAyKGL', 'service_tier': 'default', 'finish_reason': 'stop', 'logprobs': None}, id='run--0f11458a-000f-489e-980b-d94979701bb1-0', usage_metadata={'input_tokens': 2580, 'output_tokens': 395, 'total_tokens': 2975, 'input_token_details': {'audio': 0, 'cache_read': 0}, 'output_token_details': {'audio': 0, 'reasoning': 0}})]}\n",
            "\n",
            "System Role: You are a detailed Financial Research Agent designed to analyze companies, securities, and markets with a structured workflow.\n",
            "\n",
            "**Your goal** For COST, provide a ~50 word investment summary, based on extensive reserach.\n",
            "\n",
            "Include None to improve your answers.\n",
            "\n",
            "NEVER INCLUDE YOUR THOUGHT PROCESS IN THE RESULTS.\n",
            "\n",
            "\n",
            "**Core Functions**\n",
            "\n",
            "1. Planning:\n",
            "Develop and print out a plan for each given stock symbol. Include a plan for a multi-step research process that defines what data to collect (e.g., news, market data, filings), what tools to use, and how to verify results.\n",
            "\n",
            "Example steps: “Collect company overview → Analyze financials → Cross-check recent filings → Summarize.”\n",
            "\n",
            "2. Tool Use:\n",
            "Use all of your tools by default to hit APIs and data sources dynamically, such as Yahoo Finance, SEC EDGAR, news APIs, and any specialist analyzers. Choose the right tools and calls autonomously based on the goal of each stage. Return structured findings.\n",
            "\n",
            "TOOL USAGE REQUIREMENTS:\n",
            "- Refer to the memory for useful data.\n",
            "- ALWAYS include a timestamp of the run near the top of the report.\n",
            "- Use at least 4 different tools for each analysis\n",
            "- Cross-reference information from multiple sources\n",
            "- If a tool fails, try alternative tools for the same data\n",
            "- Always explain your reasoning between tool calls\n",
            "\n",
            "3. Self-Reflection:\n",
            "Evaluate your output’s completeness, correctness, and coherence at each stage. If key data (e.g., P/E, recent filings, or market indicators) appears missing or uncertain, perform iterative refinement using another reasoning pass or additional tool calls.\n",
            "\n",
            "4. Memory/Learning:\n",
            "Retain useful context from prior analyses (observations, missing data, errors, patterns in company performance). Use this \"brief memory\" to improve future research quality and efficiency.\n",
            "\n",
            "\n",
            "**Workflow Logic**\n",
            "\n",
            "Follow a defined sequence for every research request:\n",
            "* Ingest → Preprocess → Classify → Extract → Summarize\n",
            "\n",
            "1. Ingest: Gather relevant news, filings, and metrics. Use the webpage visit tool on any URLS.\n",
            "\n",
            "2. Preprocess: Clean, standardize, and interpret results from multiple tools.\n",
            "\n",
            "3. Classify: Route data to the correct analysis path (earnings, news, or market).\n",
            "\n",
            "4. Extract: Pull core signals, events, or values.\n",
            "\n",
            "5. Summarize: Synthesize insights in your final output.\n",
            "\n",
            "6. Routing:\n",
            "  * Choose appropriate specialist analyzers according to data type:\n",
            "\n",
            "  * NewsAnalyzer for press, sentiment, or event narratives.\n",
            "\n",
            "  * MarketAnalyzer for indices, performance data, and macro context.\n",
            "\n",
            "7. Evaluation: Review reasoning and completeness, recall tools again if needed.\n",
            "\n",
            "\n",
            "**Final Report**\n",
            "At the end of each session, create a final summary report that contains:\n",
            "\n",
            "Updated output from EVERY tool as well as the TIMESTAMP near the top.\n",
            "\n",
            "NEVER include your internal planning information in the report. \n",
            "\n",
            "Include citations such as [1] followed by a hyperlink at the bottom of the page for further review.\n",
            "\n",
            "Respond in clear, organized Markdown, including headings, bullet points, and labeled data sources for readability.\n",
            "\n",
            "**STOPPING RULE:** Once you have basic financials, recent news, and market context, conclude your analysis. Do not seek additional tools or data.\n",
            "\n",
            "Be thorough - this analysis will inform major investment decisions.\n",
            "\n",
            " |  tool None\n",
            "\n",
            "2025-10-16T08:42:09.366335 |  tool TimestampTool\n",
            "\n",
            "Company: Costco Wholesale Corporation (COST)\n",
            "Sector: Consumer Defensive\n",
            "Price: $954.99\n",
            "Market Cap: 423231684608\n",
            "P/E Ratio: 52.356907\n",
            "52-Week High: 1078.23\n",
            "52-Week Low: 867.34\n",
            "Dividend Yield: 0.54\n",
            "Beta: 0.964\n",
            "Revenue: 275235012608\n",
            "Profit Margin: 0.02943\n",
            " |  tool YahooFinanceAPI\n",
            "\n",
            "Latest filings with summaries:\n",
            "8-K on 2025-10-15:\n",
            "https://www.sec.gov/Archives/edgar/data/909832/000090983225000105/cost-20251015.htm\n",
            "Summary: No key XML findings found.\n",
            "\n",
            "3 on 2025-10-09:\n",
            "https://www.sec.gov/Archives/edgar/data/909832/000090983225000103/xslF345X02/form3.xml\n",
            "Summary: SEC FORM \n",
            "            3 SEC Form 3 FORM 3 UNITED STATES SECURITIES AND EXCHANGE COMMISSION Washington, D.C. 20549 INITIAL STATEMENT OF BENEFICIAL OWNERSHIP OF SECURITIES Filed pursuant to Section 16(a) of the Securities Exchange Act of 1934 or Section 30(h) of the Investment Company Act of 1940 OMB APPROVAL OMB Number: 3235-0104 Estimated average burden hours per response: 0.5 1. Name and Address \n",
            "\n",
            "10-K on 2025-10-08:\n",
            "https://www.sec.gov/Archives/edgar/data/909832/000090983225000101/cost-20250831.htm\n",
            "Summary: No key XML findings found.\n",
            " |  tool SECEDGARAPI\n",
            "\n",
            "Saudi Arabia's 3D printing medical devices market is driven by the growing demand for personalized implants and prosthetics, bolstered by government support and healthcare digitization under Vision 2030 Saudi Arabia's 3D printing medical devices market is dri…\n",
            "I am 35 years old, unmarried, and recently bought a term life insurance plan for Rs 1 crore, for 25 years. As my income and responsibilities may grow, can I increase the cover amount in future under the same policy, or will I need to buy a fresh policy?\n",
            "The European Commission is set to unveil an ambitious defense policy \"roadmap\" that includes boosting anti-drone efforts, according to documents. Plus, Germany pledges more military aid to Ukraine. EU looking at boosting drone defenses that benefits Europe, a… |  tool NewsAPI\n",
            "\n",
            "Stock chart saved as COST_52week_chart.png |  tool StockChart52Weeks\n",
            "\n",
            "## Investment Summary for Costco Wholesale Corporation (COST)\n",
            "\n",
            "- **Sector:** Consumer Defensive\n",
            "- **Price:** $954.99\n",
            "- **Market Cap:** $423.23 billion\n",
            "- **P/E Ratio:** 52.36\n",
            "- **52-Week High:** $1078.23\n",
            "- **52-Week Low:** $867.34\n",
            "- **Dividend Yield:** 0.54%\n",
            "- **Beta:** 0.964\n",
            "- **Revenue:** $275.24 billion\n",
            "- **Profit Margin:** 2.94%\n",
            "\n",
            "### Recent Filings:\n",
            "1. **8-K on 2025-10-15:**\n",
            "   - [View Filing](https://www.sec.gov/Archives/edgar/data/909832/000090983225000105/cost-20251015.htm)\n",
            "   - *Summary:* No key XML findings found.\n",
            "\n",
            "2. **3 on 2025-10-09:**\n",
            "   - [View Filing](https://www.sec.gov/Archives/edgar/data/909832/000090983225000103/xslF345X02/form3.xml)\n",
            "   - *Summary:* SEC FORM 3 filing.\n",
            "\n",
            "3. **10-K on 2025-10-08:**\n",
            "   - [View Filing](https://www.sec.gov/Archives/edgar/data/909832/000090983225000101/cost-20250831.htm)\n",
            "   - *Summary:* No key XML findings found.\n",
            "\n",
            "### Recent News:\n",
            "- Saudi Arabia's 3D printing medical devices market is growing.\n",
            "- Personal finance query on increasing insurance cover.\n",
            "- European Commission's defense policy roadmap includes anti-drone efforts.\n",
            "\n",
            "### Stock Chart:\n",
            "- [View 52-Week Stock Chart](COST_52week_chart.png)\n",
            "\n",
            "[1] Data source: Yahoo Finance, SEC EDGAR, NewsAPI, StockChart52Weeks. |  tool None\n",
            "\n",
            "\n",
            "--- Analysis Summary ---\n",
            "## Investment Summary for Costco Wholesale Corporation (COST)\n",
            "\n",
            "- **Sector:** Consumer Defensive\n",
            "- **Price:** $954.99\n",
            "- **Market Cap:** $423.23 billion\n",
            "- **P/E Ratio:** 52.36\n",
            "- **52-Week High:** $1078.23\n",
            "- **52-Week Low:** $867.34\n",
            "- **Dividend Yield:** 0.54%\n",
            "- **Beta:** 0.964\n",
            "- **Revenue:** $275.24 billion\n",
            "- **Profit Margin:** 2.94%\n",
            "\n",
            "### Recent Filings:\n",
            "1. **8-K on 2025-10-15:**\n",
            "   - [View Filing](https://www.sec.gov/Archives/edgar/data/909832/000090983225000105/cost-20251015.htm)\n",
            "   - *Summary:* No key XML findings found.\n",
            "\n",
            "2. **3 on 2025-10-09:**\n",
            "   - [View Filing](https://www.sec.gov/Archives/edgar/data/909832/000090983225000103/xslF345X02/form3.xml)\n",
            "   - *Summary:* SEC FORM 3 filing.\n",
            "\n",
            "3. **10-K on 2025-10-08:**\n",
            "   - [View Filing](https://www.sec.gov/Archives/edgar/data/909832/000090983225000101/cost-20250831.htm)\n",
            "   - *Summary:* No key XML findings found.\n",
            "\n",
            "### Recent News:\n",
            "- Saudi Arabia's 3D printing medical devices market is growing.\n",
            "- Personal finance query on increasing insurance cover.\n",
            "- European Commission's defense policy roadmap includes anti-drone efforts.\n",
            "\n",
            "### Stock Chart:\n",
            "- [View 52-Week Stock Chart](COST_52week_chart.png)\n",
            "\n",
            "[1] Data source: Yahoo Finance, SEC EDGAR, NewsAPI, StockChart52Weeks.\n",
            "\n",
            "Please enter your feedback (areas to improve, missing info, corrections):\n",
            "Looks good\n",
            "query memory stock symbol =  COST\n",
            "\n",
            "Running evaluator with feedback...\n",
            "\u001b[1m[values]\u001b[0m {'messages': [HumanMessage(content=\"\\n                        ## Investment Summary for Costco Wholesale Corporation (COST)\\n\\n- **Sector:** Consumer Defensive\\n- **Price:** $954.99\\n- **Market Cap:** $423.23 billion\\n- **P/E Ratio:** 52.36\\n- **52-Week High:** $1078.23\\n- **52-Week Low:** $867.34\\n- **Dividend Yield:** 0.54%\\n- **Beta:** 0.964\\n- **Revenue:** $275.24 billion\\n- **Profit Margin:** 2.94%\\n\\n### Recent Filings:\\n1. **8-K on 2025-10-15:**\\n   - [View Filing](https://www.sec.gov/Archives/edgar/data/909832/000090983225000105/cost-20251015.htm)\\n   - *Summary:* No key XML findings found.\\n\\n2. **3 on 2025-10-09:**\\n   - [View Filing](https://www.sec.gov/Archives/edgar/data/909832/000090983225000103/xslF345X02/form3.xml)\\n   - *Summary:* SEC FORM 3 filing.\\n\\n3. **10-K on 2025-10-08:**\\n   - [View Filing](https://www.sec.gov/Archives/edgar/data/909832/000090983225000101/cost-20250831.htm)\\n   - *Summary:* No key XML findings found.\\n\\n### Recent News:\\n- Saudi Arabia's 3D printing medical devices market is growing.\\n- Personal finance query on increasing insurance cover.\\n- European Commission's defense policy roadmap includes anti-drone efforts.\\n\\n### Stock Chart:\\n- [View 52-Week Stock Chart](COST_52week_chart.png)\\n\\n[1] Data source: Yahoo Finance, SEC EDGAR, NewsAPI, StockChart52Weeks.\\n                        \\n                        --- Human Feedback ---\\n                        Looks good\\n\\n                        --- Memory ---\\n                        None\\n                        \", additional_kwargs={}, response_metadata={}, id='9bb7a3c5-d0f6-4bc7-b0af-91abdd14933b')]}\n",
            "\u001b[1m[updates]\u001b[0m {'agent': {'messages': [AIMessage(content='---\\nOriginal Analysis:\\n## Investment Summary for Costco Wholesale Corporation (COST)\\n\\n- **Sector:** Consumer Defensive\\n- **Price:** $954.99\\n- **Market Cap:** $423.23 billion\\n- **P/E Ratio:** 52.36\\n- **52-Week High:** $1078.23\\n- **52-Week Low:** $867.34\\n- **Dividend Yield:** 0.54%\\n- **Beta:** 0.964\\n- **Revenue:** $275.24 billion\\n- **Profit Margin:** 2.94%\\n\\n### Recent Filings:\\n1. **8-K on 2025-10-15:**\\n   - [View Filing](https://www.sec.gov/Archives/edgar/data/909832/000090983225000105/cost-20251015.htm)\\n   - *Summary:* No key XML findings found.\\n\\n2. **3 on 2025-10-09:**\\n   - [View Filing](https://www.sec.gov/Archives/edgar/data/909832/000090983225000103/xslF345X02/form3.xml)\\n   - *Summary:* SEC FORM 3 filing.\\n\\n3. **10-K on 2025-10-08:**\\n   - [View Filing](https://www.sec.gov/Archives/edgar/data/909832/000090983225000101/cost-20250831.htm)\\n   - *Summary:* No key XML findings found.\\n\\n### Recent News:\\n- Saudi Arabia\\'s 3D printing medical devices market is growing.\\n- Personal finance query on increasing insurance cover.\\n- European Commission\\'s defense policy roadmap includes anti-drone efforts.\\n\\n### Stock Chart:\\n- [View 52-Week Stock Chart](COST_52week_chart.png)\\n\\n[1] Data source: Yahoo Finance, SEC EDGAR, NewsAPI, StockChart52Weeks.\\n\\nEvaluator Commentary:\\n*   **Completeness:** The summary provides a good overview of Costco, including key financial ratios, recent filings, and news. However, the news section seems irrelevant to Costco.\\n*   **Succinctness:** The summary is concise, providing key information without unnecessary details.\\n*   **Accuracy:** The financial data appears accurate based on a quick check.\\n*   **Clarity:** The information is well-organized and easy to understand.\\n*   **Human Feedback Summary:** The human feedback indicates overall satisfaction with the summary.\\n*   **Suggestions:**\\n    *   The news items are not relevant to Costco and should be filtered to only include news directly related to the company or its industry.\\n    *   Consider adding a brief qualitative assessment of the company\\'s current position and future outlook based on the data presented.\\n    *   The \"No key XML findings found\" is not helpful. The analysis should be adjusted to extract useful information from the filings, or the summary of the filings should be omitted.\\n\\n--- Human Feedback ---\\nLooks good', additional_kwargs={}, response_metadata={'prompt_feedback': {'block_reason': 0, 'safety_ratings': []}, 'finish_reason': 'STOP', 'model_name': 'gemini-2.0-flash', 'safety_ratings': []}, id='run--c2c9ff88-cae9-462e-8b08-cbeda10718ca-0', usage_metadata={'input_tokens': 726, 'output_tokens': 747, 'total_tokens': 1473, 'input_token_details': {'cache_read': 0}})]}}\n",
            "\u001b[1m[values]\u001b[0m {'messages': [HumanMessage(content=\"\\n                        ## Investment Summary for Costco Wholesale Corporation (COST)\\n\\n- **Sector:** Consumer Defensive\\n- **Price:** $954.99\\n- **Market Cap:** $423.23 billion\\n- **P/E Ratio:** 52.36\\n- **52-Week High:** $1078.23\\n- **52-Week Low:** $867.34\\n- **Dividend Yield:** 0.54%\\n- **Beta:** 0.964\\n- **Revenue:** $275.24 billion\\n- **Profit Margin:** 2.94%\\n\\n### Recent Filings:\\n1. **8-K on 2025-10-15:**\\n   - [View Filing](https://www.sec.gov/Archives/edgar/data/909832/000090983225000105/cost-20251015.htm)\\n   - *Summary:* No key XML findings found.\\n\\n2. **3 on 2025-10-09:**\\n   - [View Filing](https://www.sec.gov/Archives/edgar/data/909832/000090983225000103/xslF345X02/form3.xml)\\n   - *Summary:* SEC FORM 3 filing.\\n\\n3. **10-K on 2025-10-08:**\\n   - [View Filing](https://www.sec.gov/Archives/edgar/data/909832/000090983225000101/cost-20250831.htm)\\n   - *Summary:* No key XML findings found.\\n\\n### Recent News:\\n- Saudi Arabia's 3D printing medical devices market is growing.\\n- Personal finance query on increasing insurance cover.\\n- European Commission's defense policy roadmap includes anti-drone efforts.\\n\\n### Stock Chart:\\n- [View 52-Week Stock Chart](COST_52week_chart.png)\\n\\n[1] Data source: Yahoo Finance, SEC EDGAR, NewsAPI, StockChart52Weeks.\\n                        \\n                        --- Human Feedback ---\\n                        Looks good\\n\\n                        --- Memory ---\\n                        None\\n                        \", additional_kwargs={}, response_metadata={}, id='9bb7a3c5-d0f6-4bc7-b0af-91abdd14933b'), AIMessage(content='---\\nOriginal Analysis:\\n## Investment Summary for Costco Wholesale Corporation (COST)\\n\\n- **Sector:** Consumer Defensive\\n- **Price:** $954.99\\n- **Market Cap:** $423.23 billion\\n- **P/E Ratio:** 52.36\\n- **52-Week High:** $1078.23\\n- **52-Week Low:** $867.34\\n- **Dividend Yield:** 0.54%\\n- **Beta:** 0.964\\n- **Revenue:** $275.24 billion\\n- **Profit Margin:** 2.94%\\n\\n### Recent Filings:\\n1. **8-K on 2025-10-15:**\\n   - [View Filing](https://www.sec.gov/Archives/edgar/data/909832/000090983225000105/cost-20251015.htm)\\n   - *Summary:* No key XML findings found.\\n\\n2. **3 on 2025-10-09:**\\n   - [View Filing](https://www.sec.gov/Archives/edgar/data/909832/000090983225000103/xslF345X02/form3.xml)\\n   - *Summary:* SEC FORM 3 filing.\\n\\n3. **10-K on 2025-10-08:**\\n   - [View Filing](https://www.sec.gov/Archives/edgar/data/909832/000090983225000101/cost-20250831.htm)\\n   - *Summary:* No key XML findings found.\\n\\n### Recent News:\\n- Saudi Arabia\\'s 3D printing medical devices market is growing.\\n- Personal finance query on increasing insurance cover.\\n- European Commission\\'s defense policy roadmap includes anti-drone efforts.\\n\\n### Stock Chart:\\n- [View 52-Week Stock Chart](COST_52week_chart.png)\\n\\n[1] Data source: Yahoo Finance, SEC EDGAR, NewsAPI, StockChart52Weeks.\\n\\nEvaluator Commentary:\\n*   **Completeness:** The summary provides a good overview of Costco, including key financial ratios, recent filings, and news. However, the news section seems irrelevant to Costco.\\n*   **Succinctness:** The summary is concise, providing key information without unnecessary details.\\n*   **Accuracy:** The financial data appears accurate based on a quick check.\\n*   **Clarity:** The information is well-organized and easy to understand.\\n*   **Human Feedback Summary:** The human feedback indicates overall satisfaction with the summary.\\n*   **Suggestions:**\\n    *   The news items are not relevant to Costco and should be filtered to only include news directly related to the company or its industry.\\n    *   Consider adding a brief qualitative assessment of the company\\'s current position and future outlook based on the data presented.\\n    *   The \"No key XML findings found\" is not helpful. The analysis should be adjusted to extract useful information from the filings, or the summary of the filings should be omitted.\\n\\n--- Human Feedback ---\\nLooks good', additional_kwargs={}, response_metadata={'prompt_feedback': {'block_reason': 0, 'safety_ratings': []}, 'finish_reason': 'STOP', 'model_name': 'gemini-2.0-flash', 'safety_ratings': []}, id='run--c2c9ff88-cae9-462e-8b08-cbeda10718ca-0', usage_metadata={'input_tokens': 726, 'output_tokens': 747, 'total_tokens': 1473, 'input_token_details': {'cache_read': 0}})]}\n",
            "\n",
            "--- Revised Summary ---\n",
            "{'messages': [HumanMessage(content=\"\\n                        ## Investment Summary for Costco Wholesale Corporation (COST)\\n\\n- **Sector:** Consumer Defensive\\n- **Price:** $954.99\\n- **Market Cap:** $423.23 billion\\n- **P/E Ratio:** 52.36\\n- **52-Week High:** $1078.23\\n- **52-Week Low:** $867.34\\n- **Dividend Yield:** 0.54%\\n- **Beta:** 0.964\\n- **Revenue:** $275.24 billion\\n- **Profit Margin:** 2.94%\\n\\n### Recent Filings:\\n1. **8-K on 2025-10-15:**\\n   - [View Filing](https://www.sec.gov/Archives/edgar/data/909832/000090983225000105/cost-20251015.htm)\\n   - *Summary:* No key XML findings found.\\n\\n2. **3 on 2025-10-09:**\\n   - [View Filing](https://www.sec.gov/Archives/edgar/data/909832/000090983225000103/xslF345X02/form3.xml)\\n   - *Summary:* SEC FORM 3 filing.\\n\\n3. **10-K on 2025-10-08:**\\n   - [View Filing](https://www.sec.gov/Archives/edgar/data/909832/000090983225000101/cost-20250831.htm)\\n   - *Summary:* No key XML findings found.\\n\\n### Recent News:\\n- Saudi Arabia's 3D printing medical devices market is growing.\\n- Personal finance query on increasing insurance cover.\\n- European Commission's defense policy roadmap includes anti-drone efforts.\\n\\n### Stock Chart:\\n- [View 52-Week Stock Chart](COST_52week_chart.png)\\n\\n[1] Data source: Yahoo Finance, SEC EDGAR, NewsAPI, StockChart52Weeks.\\n                        \\n                        --- Human Feedback ---\\n                        Looks good\\n\\n                        --- Memory ---\\n                        None\\n                        \", additional_kwargs={}, response_metadata={}, id='9bb7a3c5-d0f6-4bc7-b0af-91abdd14933b'), AIMessage(content='---\\nOriginal Analysis:\\n## Investment Summary for Costco Wholesale Corporation (COST)\\n\\n- **Sector:** Consumer Defensive\\n- **Price:** $954.99\\n- **Market Cap:** $423.23 billion\\n- **P/E Ratio:** 52.36\\n- **52-Week High:** $1078.23\\n- **52-Week Low:** $867.34\\n- **Dividend Yield:** 0.54%\\n- **Beta:** 0.964\\n- **Revenue:** $275.24 billion\\n- **Profit Margin:** 2.94%\\n\\n### Recent Filings:\\n1. **8-K on 2025-10-15:**\\n   - [View Filing](https://www.sec.gov/Archives/edgar/data/909832/000090983225000105/cost-20251015.htm)\\n   - *Summary:* No key XML findings found.\\n\\n2. **3 on 2025-10-09:**\\n   - [View Filing](https://www.sec.gov/Archives/edgar/data/909832/000090983225000103/xslF345X02/form3.xml)\\n   - *Summary:* SEC FORM 3 filing.\\n\\n3. **10-K on 2025-10-08:**\\n   - [View Filing](https://www.sec.gov/Archives/edgar/data/909832/000090983225000101/cost-20250831.htm)\\n   - *Summary:* No key XML findings found.\\n\\n### Recent News:\\n- Saudi Arabia\\'s 3D printing medical devices market is growing.\\n- Personal finance query on increasing insurance cover.\\n- European Commission\\'s defense policy roadmap includes anti-drone efforts.\\n\\n### Stock Chart:\\n- [View 52-Week Stock Chart](COST_52week_chart.png)\\n\\n[1] Data source: Yahoo Finance, SEC EDGAR, NewsAPI, StockChart52Weeks.\\n\\nEvaluator Commentary:\\n*   **Completeness:** The summary provides a good overview of Costco, including key financial ratios, recent filings, and news. However, the news section seems irrelevant to Costco.\\n*   **Succinctness:** The summary is concise, providing key information without unnecessary details.\\n*   **Accuracy:** The financial data appears accurate based on a quick check.\\n*   **Clarity:** The information is well-organized and easy to understand.\\n*   **Human Feedback Summary:** The human feedback indicates overall satisfaction with the summary.\\n*   **Suggestions:**\\n    *   The news items are not relevant to Costco and should be filtered to only include news directly related to the company or its industry.\\n    *   Consider adding a brief qualitative assessment of the company\\'s current position and future outlook based on the data presented.\\n    *   The \"No key XML findings found\" is not helpful. The analysis should be adjusted to extract useful information from the filings, or the summary of the filings should be omitted.\\n\\n--- Human Feedback ---\\nLooks good', additional_kwargs={}, response_metadata={'prompt_feedback': {'block_reason': 0, 'safety_ratings': []}, 'finish_reason': 'STOP', 'model_name': 'gemini-2.0-flash', 'safety_ratings': []}, id='run--c2c9ff88-cae9-462e-8b08-cbeda10718ca-0', usage_metadata={'input_tokens': 726, 'output_tokens': 747, 'total_tokens': 1473, 'input_token_details': {'cache_read': 0}})]}\n",
            "\n",
            "Would you like to refine further? (y/n): n\n",
            "\n",
            "Workflow complete. Final output above.\n"
          ]
        },
        {
          "output_type": "stream",
          "name": "stderr",
          "text": [
            "/tmp/ipython-input-2067011824.py:24: DeprecationWarning: datetime.datetime.utcnow() is deprecated and scheduled for removal in a future version. Use timezone-aware objects to represent datetimes in UTC: datetime.datetime.now(datetime.UTC).\n",
            "  created_at=datetime.utcnow().isoformat(timespec=\"seconds\"),\n"
          ]
        }
      ],
      "source": [
        "#Execution function\n",
        "final_analysis = optimization_loop(tools_agent,\n",
        "                                   evaluator_agent,\n",
        "                                   formatted_prompt,\n",
        "                                   SESSION_MEMORY\n",
        "                                  )"
      ]
    },
    {
      "cell_type": "code",
      "execution_count": 140,
      "metadata": {
        "colab": {
          "base_uri": "https://localhost:8080/",
          "height": 918
        },
        "id": "SpCJ-A-76-FD",
        "jupyter": {
          "source_hidden": true
        },
        "outputId": "7b54e135-d58b-4c94-db1e-987796bcd61d",
        "scrolled": true
      },
      "outputs": [
        {
          "output_type": "display_data",
          "data": {
            "text/plain": [
              "<IPython.core.display.Markdown object>"
            ],
            "text/markdown": "---\nOriginal Analysis:\n## Investment Summary for Costco Wholesale Corporation (COST)\n\n- **Sector:** Consumer Defensive\n- **Price:** $954.99\n- **Market Cap:** $423.23 billion\n- **P/E Ratio:** 52.36\n- **52-Week High:** $1078.23\n- **52-Week Low:** $867.34\n- **Dividend Yield:** 0.54%\n- **Beta:** 0.964\n- **Revenue:** $275.24 billion\n- **Profit Margin:** 2.94%\n\n### Recent Filings:\n1. **8-K on 2025-10-15:**\n   - [View Filing](https://www.sec.gov/Archives/edgar/data/909832/000090983225000105/cost-20251015.htm)\n   - *Summary:* No key XML findings found.\n\n2. **3 on 2025-10-09:**\n   - [View Filing](https://www.sec.gov/Archives/edgar/data/909832/000090983225000103/xslF345X02/form3.xml)\n   - *Summary:* SEC FORM 3 filing.\n\n3. **10-K on 2025-10-08:**\n   - [View Filing](https://www.sec.gov/Archives/edgar/data/909832/000090983225000101/cost-20250831.htm)\n   - *Summary:* No key XML findings found.\n\n### Recent News:\n- Saudi Arabia's 3D printing medical devices market is growing.\n- Personal finance query on increasing insurance cover.\n- European Commission's defense policy roadmap includes anti-drone efforts.\n\n### Stock Chart:\n- [View 52-Week Stock Chart](COST_52week_chart.png)\n\n[1] Data source: Yahoo Finance, SEC EDGAR, NewsAPI, StockChart52Weeks.\n\nEvaluator Commentary:\n*   **Completeness:** The summary provides a good overview of Costco, including key financial ratios, recent filings, and news. However, the news section seems irrelevant to Costco.\n*   **Succinctness:** The summary is concise, providing key information without unnecessary details.\n*   **Accuracy:** The financial data appears accurate based on a quick check.\n*   **Clarity:** The information is well-organized and easy to understand.\n*   **Human Feedback Summary:** The human feedback indicates overall satisfaction with the summary.\n*   **Suggestions:**\n    *   The news items are not relevant to Costco and should be filtered to only include news directly related to the company or its industry.\n    *   Consider adding a brief qualitative assessment of the company's current position and future outlook based on the data presented.\n    *   The \"No key XML findings found\" is not helpful. The analysis should be adjusted to extract useful information from the filings, or the summary of the filings should be omitted.\n\n--- Human Feedback ---\nLooks good"
          },
          "metadata": {}
        }
      ],
      "source": [
        "display(Markdown((final_analysis)))"
      ]
    },
    {
      "cell_type": "code",
      "execution_count": 148,
      "metadata": {
        "colab": {
          "base_uri": "https://localhost:8080/"
        },
        "id": "QTu73fn72wD3",
        "outputId": "9110f708-5041-4f9f-fd53-a80fa4af2b09",
        "scrolled": true
      },
      "outputs": [
        {
          "output_type": "stream",
          "name": "stderr",
          "text": [
            "/tmp/ipython-input-2067011824.py:24: DeprecationWarning: datetime.datetime.utcnow() is deprecated and scheduled for removal in a future version. Use timezone-aware objects to represent datetimes in UTC: datetime.datetime.now(datetime.UTC).\n",
            "  created_at=datetime.utcnow().isoformat(timespec=\"seconds\"),\n"
          ]
        }
      ],
      "source": [
        "#Ensure the memory is working as intended\n",
        "#After running the user query through your whole pipeline:\n",
        "user_question = user_input\n",
        "symbol = extract_symbol(user_input)\n",
        "final_answer = as_text(final_analysis)   # Use your utility function\n",
        "\n",
        "SESSION_MEMORY.remember(symbol, user_question, final_answer)"
      ]
    },
    {
      "cell_type": "code",
      "execution_count": 142,
      "metadata": {
        "colab": {
          "base_uri": "https://localhost:8080/"
        },
        "id": "jR64sFMfEclI",
        "outputId": "d5694c79-b2a1-4afc-d50b-c408d90b8ad4"
      },
      "outputs": [
        {
          "output_type": "stream",
          "name": "stdout",
          "text": [
            "Previous answer for AAPL: ---\n",
            "Original Analysis:\n",
            "## Investment Summary for Costco Wholesale Corporation (COST)\n",
            "\n",
            "- **Sector:** Consumer Defensive\n",
            "- **Price:** $954.99\n",
            "- **Market Cap:** $423.23 billion\n",
            "- **P/E Ratio:** 52.36\n",
            "- **52-Week High:** $1078.23\n",
            "- **52-Week Low:** $867.34\n",
            "- **Dividend Yield:** 0.54%\n",
            "- **Beta:** 0.964\n",
            "- **Revenue:** $275.24 billion\n",
            "- **Profit Margin:** 2.94%\n",
            "\n",
            "### Recent Filings:\n",
            "1. **8-K on 2025-10-15:**\n",
            "   - [View Filing](https://www.sec.gov/Archives/edgar/data/909832/000090983225000105/cost-20251015.htm)\n",
            "   - *Summary:* No key XML findings found.\n",
            "\n",
            "2. **3 on 2025-10-09:**\n",
            "   - [View Filing](https://www.sec.gov/Archives/edgar/data/909832/000090983225000103/xslF345X02/form3.xml)\n",
            "   - *Summary:* SEC FORM 3 filing.\n",
            "\n",
            "3. **10-K on 2025-10-08:**\n",
            "   - [View Filing](https://www.sec.gov/Archives/edgar/data/909832/000090983225000101/cost-20250831.htm)\n",
            "   - *Summary:* No key XML findings found.\n",
            "\n",
            "### Recent News:\n",
            "- Saudi Arabia's 3D printing medical devices market is growing.\n",
            "- Personal finance query on increasing insurance cover.\n",
            "- European Commission's defense policy roadmap includes anti-drone efforts.\n",
            "\n",
            "### Stock Chart:\n",
            "- [View 52-Week Stock Chart](COST_52week_chart.png)\n",
            "\n",
            "[1] Data source: Yahoo Finance, SEC EDGAR, NewsAPI, StockChart52Weeks.\n",
            "\n",
            "Evaluator Commentary:\n",
            "*   **Completeness:** The summary provides a good overview of Costco, including key financial ratios, recent filings, and news. However, the news section seems irrelevant to Costco.\n",
            "*   **Succinctness:** The summary is concise, providing key information without unnecessary details.\n",
            "*   **Accuracy:** The financial data appears accurate based on a quick check.\n",
            "*   **Clarity:** The information is well-organized and easy to understand.\n",
            "*   **Human Feedback Summary:** The human feedback indicates overall satisfaction with the summary.\n",
            "*   **Suggestions:**\n",
            "    *   The news items are not relevant to Costco and should be filtered to only include news directly related to the company or its industry.\n",
            "    *   Consider adding a brief qualitative assessment of the company's current position and future outlook based on the data presented.\n",
            "    *   The \"No key XML findings found\" is not helpful. The analysis should be adjusted to extract useful information from the filings, or the summary of the filings should be omitted.\n",
            "\n",
            "--- Human Feedback ---\n",
            "Looks good\n"
          ]
        }
      ],
      "source": [
        "# Later, you can recall the latest answer for \"AAPL\":\n",
        "prev = SESSION_MEMORY.recall(\"COST\")\n",
        "if prev:\n",
        "    print(\"Previous answer for AAPL:\", prev)"
      ]
    },
    {
      "cell_type": "markdown",
      "source": [
        "# Discussion\n",
        "\n",
        "Future Improvements\n",
        "\n",
        "Adding an actual graph and state.\n",
        "Focusing on specific tools for enhancement.\n",
        "Adding long term memory.\n",
        "Improving functioanlity like file handling.\n",
        "Adding more specialists, with sub graphs to run within the tools agent."
      ],
      "metadata": {
        "id": "OpSjW7pdO1xl"
      }
    }
  ],
  "metadata": {
    "colab": {
      "collapsed_sections": [
        "n_CeRDyhjmUp"
      ],
      "provenance": [],
      "include_colab_link": true
    },
    "kernelspec": {
      "display_name": "Python 3 (ipykernel)",
      "language": "python",
      "name": "python3"
    },
    "language_info": {
      "codemirror_mode": {
        "name": "ipython",
        "version": 3
      },
      "file_extension": ".py",
      "mimetype": "text/x-python",
      "name": "python",
      "nbconvert_exporter": "python",
      "pygments_lexer": "ipython3",
      "version": "3.10.18"
    }
  },
  "nbformat": 4,
  "nbformat_minor": 0
}