{
  "cells": [
    {
      "cell_type": "markdown",
      "metadata": {
        "id": "view-in-github",
        "colab_type": "text"
      },
      "source": [
        "<a href=\"https://colab.research.google.com/github/Kvnhooman/AAI520_Final-Project_Group5/blob/main/Financial_Research_AI_Assistant_v_10_15_2400.ipynb\" target=\"_parent\"><img src=\"https://colab.research.google.com/assets/colab-badge.svg\" alt=\"Open In Colab\"/></a>"
      ]
    },
    {
      "cell_type": "markdown",
      "metadata": {
        "id": "z34tfGYWXK7X"
      },
      "source": [
        "\n",
        "## Group 5\n",
        "\n",
        "**AAI 520 - Final Project**\n",
        "\n",
        "Authors: Kevin, Spencer, Tommy\n",
        "\n",
        "Date: 10/20/25\n",
        "\n",
        "\n"
      ]
    },
    {
      "cell_type": "markdown",
      "metadata": {
        "id": "pss-SJpmYEdY"
      },
      "source": [
        "___\n",
        "## Project Outline\n"
      ]
    },
    {
      "cell_type": "markdown",
      "metadata": {
        "id": "Au9v6SfkXl5p"
      },
      "source": [
        "This is an LLM powered research assistant that finds key financial details on publicly traded companies. The agent is able to plan and execute key tasks leveraging several tools in order to generate a final output.\n",
        "\n",
        "\n",
        "**Core Agent Functions**\n",
        "\n",
        "\n",
        "* Planning: The ability to plan each step.\n",
        "\n",
        "* Tool Use: Integrates APIs (Yahoo Finance, SEC EDGAR, News APIs) and Specialists\n",
        "\n",
        "\n",
        "* Self-Reflection: Evaluates output quality and iterates\n",
        "\n",
        "\n",
        "* Memory/Learning: Maintains memory across analysis runs\n",
        "\n",
        "\n",
        "**Workflow Patterns**\n",
        "* Prompt Chaining: News ingestion → preprocessing → classification → extraction → summarization\n",
        "\n",
        "\n",
        "* Routing: Directs content to specialist analyzers (earnings, news, market)\n",
        "\n",
        "\n",
        "* Evaluator-Optimizer: Generates analysis → evaluates quality → refines using feedback"
      ]
    },
    {
      "cell_type": "markdown",
      "source": [
        "# Setup"
      ],
      "metadata": {
        "id": "WSpDQnYXF5he"
      }
    },
    {
      "cell_type": "code",
      "source": [
        "%%capture --no-stderr\n",
        "%pip install --quiet -U \\\n",
        "    langgraph \\\n",
        "    langchain_openai \\\n",
        "    langgraph_sdk \\\n",
        "    langgraph-prebuilt \\\n",
        "    langchain-perplexity \\\n",
        "    huggingface_hub \\\n",
        "    openai \\\n",
        "    yfinance \\\n",
        "    langchain-google-genai \\\n",
        "    langchain-community \\\n",
        "    transformers \\\n",
        "    datasets \\\n",
        "    bitsandbytes accelerate sentence-transformers \\\n",
        "    faiss-cpu \\\n",
        "    ddgs\\\n",
        "    langchain-huggingface"
      ],
      "metadata": {
        "id": "jGN0ldupJP2y"
      },
      "execution_count": 1,
      "outputs": []
    },
    {
      "cell_type": "code",
      "source": [
        "%import langchain-huggingface"
      ],
      "metadata": {
        "id": "-ZchTzL0-i4w"
      },
      "execution_count": null,
      "outputs": []
    },
    {
      "cell_type": "code",
      "execution_count": 3,
      "metadata": {
        "id": "zeCeqrXeXdDA",
        "colab": {
          "base_uri": "https://localhost:8080/"
        },
        "outputId": "a25e764c-5f10-4533-8f80-3370462c5e95"
      },
      "outputs": [
        {
          "output_type": "stream",
          "name": "stderr",
          "text": [
            "WARNING:langchain_community.utils.user_agent:USER_AGENT environment variable not set, consider setting it to identify your requests.\n"
          ]
        }
      ],
      "source": [
        "#Import key libraries\n",
        "import os\n",
        "import requests\n",
        "import re\n",
        "import textwrap\n",
        "\n",
        "from bs4 import BeautifulSoup\n",
        "\n",
        "from langchain_google_genai import ChatGoogleGenerativeAI\n",
        "from langchain_community.chat_models import ChatPerplexity #updated\n",
        "from langchain_openai import OpenAI, ChatOpenAI\n",
        "\n",
        "#from langchain.prompts import PromptTemplate\n",
        "from langchain_core.output_parsers import StrOutputParser\n",
        "#from langchain.prompts.chat import ChatPromptTemplate, MessagesPlaceholder\n",
        "from langchain.agents import  AgentExecutor, initialize_agent, Tool, AgentType\n",
        "from langchain.chains import LLMChain\n",
        "\n",
        "##from langchain.llms import OpenAI\n",
        "#from wikipedia import summary\n",
        "from langgraph.prebuilt import create_react_agent\n",
        "\n",
        "#Correct import path for YahooFinanceAPI\n",
        "import yfinance as yf\n",
        "from langchain_community.tools.yahoo_finance_news import YahooFinanceNewsTool\n",
        "#from langchain.prompts import PromptTemplate\n",
        "\n",
        "from transformers import pipeline\n",
        "\n",
        "#Memory\n",
        "from dataclasses import dataclass\n",
        "from datetime import datetime\n",
        "from typing import Dict, List, Optional, Any, Union"
      ]
    },
    {
      "cell_type": "code",
      "execution_count": 6,
      "metadata": {
        "id": "SVdqL2i_ZTB0"
      },
      "outputs": [],
      "source": [
        "from google.colab import userdata\n",
        "\n",
        "#API Keys from ColAb Secrets\n",
        "gemini_key = userdata.get('GEMINI')\n",
        "hf_key = userdata.get('HF_TOKEN')\n",
        "openai_key = userdata.get('OPENAI')\n",
        "fin_news = userdata.get('FIN_API_KEY')\n",
        "tavily_key = userdata.get('TAVILY_API_KEY')\n",
        "perplexity_key = userdata.get('PERPLEXITY_API_KEY')"
      ]
    },
    {
      "cell_type": "code",
      "source": [
        "from huggingface_hub import login #Connect to HF using API key accessed above\n",
        "login(token=hf_key)\n",
        "\n",
        "import warnings\n",
        "\n",
        "#Suppress length warnings\n",
        "warnings.filterwarnings(\"ignore\", category=UserWarning, module=\"huggingface_hub.utils._auth\")\n",
        "\n",
        "llm_hf = pipeline(\n",
        "    \"text-generation\",\n",
        "    model=\"meta-llama/Llama-3.2-1B-Instruct\",\n",
        "    device= -1\n",
        "    )"
      ],
      "metadata": {
        "colab": {
          "base_uri": "https://localhost:8080/"
        },
        "id": "twL0Jd3xTgyi",
        "outputId": "bdaebcc3-7a4f-4ff0-97e5-302036576af8"
      },
      "execution_count": 7,
      "outputs": [
        {
          "output_type": "stream",
          "name": "stderr",
          "text": [
            "Device set to use cpu\n"
          ]
        }
      ]
    },
    {
      "cell_type": "code",
      "source": [
        "from transformers import pipeline, AutoModelForCausalLM, AutoTokenizer\n",
        "from langchain_huggingface import HuggingFacePipeline\n",
        "\n",
        "# Load the model and tokenizer (works offline after first download)\n",
        "model_id = \"meta-llama/Llama-3.2-1B-Instruct\"\n",
        "tokenizer = AutoTokenizer.from_pretrained(model_id)\n",
        "model = AutoModelForCausalLM.from_pretrained(model_id)\n",
        "\n",
        "# Create a local Hugging Face pipeline\n",
        "hf_pipe = pipeline(\n",
        "    \"text-generation\",\n",
        "    model=model,\n",
        "    tokenizer=tokenizer,\n",
        "    max_new_tokens=256,\n",
        "    temperature=0.7,\n",
        "    device=-1  # CPU mode; use device_map=\"auto\" for GPU acceleration\n",
        ")\n",
        "\n",
        "# Wrap pipeline for LangChain / LangGraph usage\n",
        "llm_local = HuggingFacePipeline(pipeline=hf_pipe)"
      ],
      "metadata": {
        "colab": {
          "base_uri": "https://localhost:8080/"
        },
        "id": "irELaWc88s46",
        "outputId": "49f4ca77-cd8c-4be5-eb36-b089b413cafe"
      },
      "execution_count": 11,
      "outputs": [
        {
          "output_type": "stream",
          "name": "stderr",
          "text": [
            "Device set to use cpu\n"
          ]
        }
      ]
    },
    {
      "cell_type": "code",
      "execution_count": 12,
      "metadata": {
        "id": "jlClLEzOAxjy"
      },
      "outputs": [],
      "source": [
        "# Setup Gemini to use in Agents\n",
        "llm_gemini = ChatGoogleGenerativeAI(\n",
        "    model=\"gemini-2.0-flash\",\n",
        "    google_api_key=gemini_key\n",
        ")"
      ]
    },
    {
      "cell_type": "code",
      "execution_count": 13,
      "metadata": {
        "id": "m95A2uEwHt4O"
      },
      "outputs": [],
      "source": [
        "llm_openai = ChatOpenAI(\n",
        "    model=\"gpt-3.5-turbo\",  # \"gpt-3.5-turbo\", \"gpt-4-mini\", \"gpt-5-mini\" ...\n",
        "    openai_api_key=openai_key,  # Your OpenAI API key\n",
        "    temperature=0.0             # (optional) set as needed\n",
        ")"
      ]
    },
    {
      "cell_type": "code",
      "execution_count": 19,
      "metadata": {
        "id": "gKbuO_UUH3hO"
      },
      "outputs": [],
      "source": [
        "llm_perplexity = ChatPerplexity(\n",
        "    model=\"sonar-pro\", #Other model options\n",
        "    pplx_api_key = perplexity_key,\n",
        "    temperature=0.1\n",
        ")"
      ]
    },
    {
      "cell_type": "code",
      "execution_count": 20,
      "metadata": {
        "colab": {
          "base_uri": "https://localhost:8080/"
        },
        "id": "nu6ALnCIHxr9",
        "outputId": "7ac2136f-aba7-4aa0-b6f2-24db1d4873ba"
      },
      "outputs": [
        {
          "output_type": "stream",
          "name": "stdout",
          "text": [
            "Neural networks process data through interconnected nodes.\n"
          ]
        }
      ],
      "source": [
        "#Test OpenAI API\n",
        "#response = llm_openai.invoke(\"Explain how neural networks work in 10 words or less.\")\n",
        "#response = llm_gemini.invoke(\"Explain how neural networks work in 10 words or less.\")\n",
        "response = llm_perplexity.invoke(\"Explain how neural networks work in 10 words or less.\")\n",
        "print(response.content)"
      ]
    },
    {
      "cell_type": "markdown",
      "metadata": {
        "id": "2iVDzqg0gaPz"
      },
      "source": [
        "## User Input Context Extractor Agent"
      ]
    },
    {
      "cell_type": "code",
      "execution_count": 21,
      "metadata": {
        "id": "XlJHg7QSJIhS"
      },
      "outputs": [],
      "source": [
        "#-----Simply outlining this here, we can build an ingestion agent or function if we have time\n",
        "user_input = \"COST\""
      ]
    },
    {
      "cell_type": "code",
      "execution_count": 22,
      "metadata": {
        "colab": {
          "base_uri": "https://localhost:8080/"
        },
        "id": "mJQEJBhC3M3E",
        "outputId": "82c5586a-3553-443c-92f6-bf385be817a7"
      },
      "outputs": [
        {
          "output_type": "stream",
          "name": "stdout",
          "text": [
            "COST\n"
          ]
        }
      ],
      "source": [
        "#Input extraction output\n",
        "context = user_input\n",
        "print(context)"
      ]
    },
    {
      "cell_type": "markdown",
      "metadata": {
        "id": "K7IzZtQ0i_p0"
      },
      "source": [
        "## Tool Agent\n",
        "Integrates APIs (Yahoo Finance, SEC EDGAR, News APIs)\n",
        "\n",
        "List of Tools:\n",
        "- Web Search\n",
        "- API call - Yahoo Finance\n",
        "- to be updated..."
      ]
    },
    {
      "cell_type": "markdown",
      "metadata": {
        "id": "yz8YEnt9jfua"
      },
      "source": [
        "### Tool Functions\n"
      ]
    },
    {
      "cell_type": "code",
      "source": [
        "#Yahoo Finance Tool\n",
        "import yfinance as yf\n",
        "\n",
        "def get_stock_summary(ticker: str) -> str:\n",
        "\n",
        "    \"\"\"Gets detailed financial info for a given stock symbol.\"\"\"\n",
        "\n",
        "    try:\n",
        "        stock = yf.Ticker(ticker)\n",
        "        data = stock.info\n",
        "\n",
        "        return (\n",
        "            f\"Company: {data.get('longName', 'N/A')} ({ticker})\\n\"\n",
        "            f\"Sector: {data.get('sector', 'N/A')}\\n\"\n",
        "            f\"Price: ${data.get('regularMarketPrice', 'N/A')}\\n\"\n",
        "            f\"Market Cap: {data.get('marketCap', 'N/A')}\\n\"\n",
        "            f\"P/E Ratio: {data.get('trailingPE', 'N/A')}\\n\"\n",
        "            f\"52-Week High: {data.get('fiftyTwoWeekHigh', 'N/A')}\\n\"\n",
        "            f\"52-Week Low: {data.get('fiftyTwoWeekLow', 'N/A')}\\n\"\n",
        "            f\"Dividend Yield: {data.get('dividendYield', 'N/A')}\\n\"\n",
        "            f\"Beta: {data.get('beta', 'N/A')}\\n\"\n",
        "            f\"Revenue: {data.get('totalRevenue', 'N/A')}\\n\"\n",
        "            f\"Profit Margin: {data.get('profitMargins', 'N/A')}\\n\"\n",
        "        )\n",
        "    except Exception as e:\n",
        "        return f\"Error retrieving data for {ticker}: {e}\"\n",
        "\n",
        "yahoo_api_tool = Tool(\n",
        "    name=\"YahooFinanceAPI\",\n",
        "    func=get_stock_summary,\n",
        "    description=\"Retrieves detailed Yahoo Finance company data such as price, valuation metrics, and financial ratios.\"\n",
        ")"
      ],
      "metadata": {
        "id": "xtRCBnrdVNgq"
      },
      "execution_count": 23,
      "outputs": []
    },
    {
      "cell_type": "code",
      "source": [
        "#For debugging\n",
        "print(yahoo_api_tool(\"AAPL\"))"
      ],
      "metadata": {
        "colab": {
          "base_uri": "https://localhost:8080/"
        },
        "id": "RYjMuf-XVOtM",
        "outputId": "41472378-f41f-4be9-8b27-5054aeb14e0c"
      },
      "execution_count": 24,
      "outputs": [
        {
          "output_type": "stream",
          "name": "stderr",
          "text": [
            "/tmp/ipython-input-1016834510.py:2: LangChainDeprecationWarning: The method `BaseTool.__call__` was deprecated in langchain-core 0.1.47 and will be removed in 1.0. Use :meth:`~invoke` instead.\n",
            "  print(yahoo_api_tool(\"AAPL\"))\n"
          ]
        },
        {
          "output_type": "stream",
          "name": "stdout",
          "text": [
            "Company: Apple Inc. (AAPL)\n",
            "Sector: Technology\n",
            "Price: $249.34\n",
            "Market Cap: 3700302807040\n",
            "P/E Ratio: 37.893616\n",
            "52-Week High: 260.1\n",
            "52-Week Low: 169.21\n",
            "Dividend Yield: 0.42\n",
            "Beta: 1.094\n",
            "Revenue: 408624988160\n",
            "Profit Margin: 0.24295999\n",
            "\n"
          ]
        }
      ]
    },
    {
      "cell_type": "code",
      "source": [
        "import requests\n",
        "from bs4 import BeautifulSoup\n",
        "import xml.etree.ElementTree as ET\n",
        "\n",
        "def summarize_sec_document(doc_url: str) -> str:\n",
        "    headers = {\"User-Agent\": \"tpoole@sandiego.edu\"}\n",
        "    resp = requests.get(doc_url, headers=headers)\n",
        "    if resp.status_code != 200:\n",
        "        return f\"Could not access doc: {doc_url}\"\n",
        "    doc_text = resp.text\n",
        "\n",
        "    # Try XML parsing first (most filings)\n",
        "    try:\n",
        "        root = ET.fromstring(doc_text)\n",
        "        values = []\n",
        "        for item in root.iter():\n",
        "            if item.tag.lower() in ['transactionamount', 'transactioncode', 'issuername']:\n",
        "                values.append(f\"{item.tag}: {item.text}\")\n",
        "        return \" | \".join(values) if values else \"No key XML findings found.\"\n",
        "    except ET.ParseError:\n",
        "        # Fallback: try HTML/text parsing\n",
        "        soup = BeautifulSoup(doc_text, 'html.parser')\n",
        "        summary = soup.get_text(separator=' ', strip=True)\n",
        "        return summary[:400]  # Return first 400 chars as summary\n",
        "\n",
        "def get_sec_filings(ticker: str) -> str:\n",
        "    cik_url = \"https://www.sec.gov/files/company_tickers.json\"\n",
        "    headers = {\"User-Agent\": \"your_email@example.com\"}\n",
        "    cik_resp = requests.get(cik_url, headers=headers)\n",
        "    if cik_resp.status_code != 200:\n",
        "        return f\"SEC.gov rejected request: {cik_resp.status_code}\"\n",
        "\n",
        "    try:\n",
        "        cik_data = cik_resp.json()\n",
        "        cik_lookup = {item['ticker']: item['cik_str'] for item in cik_data.values()}\n",
        "        cik = cik_lookup.get(ticker.upper())\n",
        "    except Exception as e:\n",
        "        return f\"Error parsing CIK data: {e}\"\n",
        "\n",
        "    if not cik:\n",
        "        return f\"CIK for {ticker} not found.\"\n",
        "\n",
        "    filings_url = f\"https://data.sec.gov/submissions/CIK{cik:0>10}.json\"\n",
        "    filings_resp = requests.get(filings_url, headers=headers)\n",
        "    try:\n",
        "        data = filings_resp.json() if filings_resp.status_code == 200 else {}\n",
        "        filings = data.get('filings', {}).get('recent', {})\n",
        "        if not filings: return f\"No filings found for {ticker}.\"\n",
        "        forms = filings.get('form', [])[:3]\n",
        "        filing_dates = filings.get('filingDate', [])[:3]\n",
        "        primary_docs = filings.get('primaryDocument', [])[:3]\n",
        "        accessions = filings.get('accessionNumber', [])[:3]\n",
        "\n",
        "        result = []\n",
        "        for form, date, doc, acc in zip(forms, filing_dates, primary_docs, accessions):\n",
        "            # Build the SEC document URL:\n",
        "            doc_url = f\"https://www.sec.gov/Archives/edgar/data/{int(cik)}/{acc.replace('-', '')}/{doc}\"\n",
        "            summary = summarize_sec_document(doc_url)\n",
        "            result.append(f\"{form} on {date}:\\n{doc_url}\\nSummary: {summary}\\n\")\n",
        "        return \"Latest filings with summaries:\\n\" + \"\\n\".join(result)\n",
        "    except Exception as e:\n",
        "        return f\"Error loading filings for {ticker}: {e}\"\n",
        "\n",
        "sec_api_tool = Tool(\n",
        "    name=\"SECEDGARAPI\",\n",
        "    func=get_sec_filings,\n",
        "    description=\"Retrieves and summarizes key findings from recent SEC filings by ticker\"\n",
        ")\n"
      ],
      "metadata": {
        "id": "i8vl16YSW8uG"
      },
      "execution_count": 25,
      "outputs": []
    },
    {
      "cell_type": "code",
      "source": [
        "#For debugging\n",
        "print(sec_api_tool(\"AAPL\"))"
      ],
      "metadata": {
        "colab": {
          "base_uri": "https://localhost:8080/"
        },
        "id": "hdbGWpwxW_Oy",
        "outputId": "b9a5f70c-4ee2-4508-a7eb-d7558256b1b9"
      },
      "execution_count": 26,
      "outputs": [
        {
          "output_type": "stream",
          "name": "stdout",
          "text": [
            "Latest filings with summaries:\n",
            "4 on 2025-10-03:\n",
            "https://www.sec.gov/Archives/edgar/data/320193/000121415625000011/xslF345X05/wk-form4_1759530830.xml\n",
            "Summary: SEC FORM \n",
            "            4 SEC Form 4 FORM 4 UNITED STATES SECURITIES AND EXCHANGE COMMISSION Washington, D.C. 20549 STATEMENT OF CHANGES IN BENEFICIAL OWNERSHIP Filed pursuant to Section 16(a) of the Securities Exchange Act of 1934 or Section 30(h) of the Investment Company Act of 1940 OMB APPROVAL OMB Number: 3235-0287 Estimated average burden hours per response: 0.5 Â Â Check this box if no longer\n",
            "\n",
            "4 on 2025-10-03:\n",
            "https://www.sec.gov/Archives/edgar/data/320193/000176709425000009/xslF345X05/wk-form4_1759530744.xml\n",
            "Summary: SEC FORM \n",
            "            4 SEC Form 4 FORM 4 UNITED STATES SECURITIES AND EXCHANGE COMMISSION Washington, D.C. 20549 STATEMENT OF CHANGES IN BENEFICIAL OWNERSHIP Filed pursuant to Section 16(a) of the Securities Exchange Act of 1934 or Section 30(h) of the Investment Company Act of 1940 OMB APPROVAL OMB Number: 3235-0287 Estimated average burden hours per response: 0.5 Â Â Check this box if no longer\n",
            "\n",
            "4 on 2025-10-03:\n",
            "https://www.sec.gov/Archives/edgar/data/320193/000207847625000005/xslF345X05/wk-form4_1759530690.xml\n",
            "Summary: SEC FORM \n",
            "            4 SEC Form 4 FORM 4 UNITED STATES SECURITIES AND EXCHANGE COMMISSION Washington, D.C. 20549 STATEMENT OF CHANGES IN BENEFICIAL OWNERSHIP Filed pursuant to Section 16(a) of the Securities Exchange Act of 1934 or Section 30(h) of the Investment Company Act of 1940 OMB APPROVAL OMB Number: 3235-0287 Estimated average burden hours per response: 0.5 Â Â Check this box if no longer\n",
            "\n"
          ]
        }
      ]
    },
    {
      "cell_type": "code",
      "source": [
        "from langchain_community.document_loaders import WebBaseLoader\n",
        "from langchain.tools import Tool\n",
        "\n",
        "def visit_webpage(url: str) -> str:\n",
        "    \"\"\"Fetches and cleans webpage or filing content for analysis.\"\"\"\n",
        "    try:\n",
        "        loader = WebBaseLoader(web_path=url)\n",
        "        documents = loader.load()\n",
        "        # return the first document’s text content\n",
        "        return documents[0].page_content[:5000]  # limit length for LLM input\n",
        "    except Exception as e:\n",
        "        return f\"Error fetching {url}: {e}\"\n",
        "\n",
        "visit_webpage_tool = Tool(\n",
        "    name=\"VisitWebpage\",\n",
        "    func=visit_webpage,\n",
        "    description=\"Visits a webpage or SEC filing URLs, reads HTML or XML content, and returns the main text for summarization. Feed me your URLs to get more information.\"\n",
        ")"
      ],
      "metadata": {
        "id": "gogqgwFpqMLy"
      },
      "execution_count": 27,
      "outputs": []
    },
    {
      "cell_type": "code",
      "source": [
        "#For debugging\n",
        "print(visit_webpage_tool(\"https://www.sec.gov/Archives/edgar/data/320193/000207847625000005/xslF345X05/wk-form4_1759530690.xml\"))"
      ],
      "metadata": {
        "colab": {
          "base_uri": "https://localhost:8080/"
        },
        "id": "bKT_U-lcqSBf",
        "outputId": "9869c8c3-645e-4ebe-b029-c6a1ffa2e525"
      },
      "execution_count": 28,
      "outputs": [
        {
          "output_type": "stream",
          "name": "stdout",
          "text": [
            "\n",
            "\n",
            "\n",
            "SEC.gov | Your Request Originates from an Undeclared Automated Tool\n",
            "\n",
            "html {height: 100%}\n",
            "body {height: 100%; margin:0; padding:0;}\n",
            "#header {background-color:#003968; color:#fff; padding:15px 20px 10px 20px;font-family:Arial, Helvetica, sans-serif; font-size:20px; border-bottom:solid 5px #000;}\n",
            "#footer {background-color:#003968; color:#fff; padding:15px 20px;font-family:Arial, Helvetica, sans-serif; font-size:20px;}\n",
            "#content {max-width:650px;margin:60px auto; padding:0 20px 100px 20px; background-image:url(seal_bw.png);background-repeat:no-repeat;background-position:50% 100%;}\n",
            "h1 {font-family:Georgia, Times, serif; font-size:20px;}\n",
            "h2 {text-align:center; font-family:Georgia, Times, serif; font-size:20px; width:100%; border-bottom:solid #999 1px;padding-bottom:10px; margin-bottom:20px;}\n",
            "h3 {font-family:Georgia, Times, serif; font-size:16px; margin:25px 0 0 0;}\n",
            "p {font-family:Verdana, Geneva, sans-serif;font-size:14px;line-height:1.3;}\n",
            ".grey_box {background-color:#eee; padding:5px 40px 20px 40px;margin-top:75px;}\n",
            ".grey_box p {font-size:12px;line-height:1.5}\n",
            ".note {padding: 0 40px; font-style: italic;}\n",
            "\n",
            "\n",
            "\n",
            "U.S. Securities and Exchange Commission\n",
            "\n",
            "Your Request Originates from an Undeclared Automated Tool\n",
            "To allow for equitable access to all users, SEC reserves the right to limit requests originating from undeclared automated tools. Your request has been identified as part of a network of automated tools outside of the acceptable policy and will be managed until action is taken to declare your traffic.\n",
            "Please declare your traffic by updating your user agent to include company specific information.\n",
            "For best practices on efficiently downloading information from SEC.gov, including the latest EDGAR filings, visit sec.gov/developer. You can also sign up for email updates on the SEC open data program, including best practices that make it more efficient to download data, and SEC.gov enhancements that may impact scripted downloading processes. For more information, contact opendata@sec.gov.\n",
            "For more information, please see the SEC’s Web Site Privacy and Security Policy. Thank you for your interest in the U.S. Securities and Exchange Commission.\n",
            "Reference ID: 0.8f071002.1760601047.a2ba9d42\n",
            "\n",
            "More Information\n",
            "Internet Security Policy\n",
            "By using this site, you are agreeing to security monitoring and auditing. For security purposes, and to ensure that the public service remains available to users, this government computer system employs programs to monitor network traffic to identify unauthorized attempts to upload or change information or to otherwise cause damage, including attempts to deny service to users.\n",
            "Unauthorized attempts to upload information and/or change information on any portion of this site are strictly prohibited and are subject to prosecution under the Computer Fraud and Abuse Act of 1986 and the National Information Infrastructure Protection Act of 1996 (see Title 18 U.S.C. §§ 1001 and 1030).\n",
            "To ensure our website performs well for all users, the SEC monitors the frequency of requests for SEC.gov content to ensure automated searches do not impact the ability of others to access SEC.gov content. We reserve the right to block IP addresses that submit excessive requests.  Current guidelines limit users to a total of no more than 10 requests per second, regardless of the number of machines used to submit requests. \n",
            "If a user or application submits more than 10 requests per second, further requests from the IP address(es) may be limited for a brief period. Once the rate of requests has dropped below the threshold for 10 minutes, the user may resume accessing content on SEC.gov. This SEC practice is designed to limit excessive automated searches on SEC.gov and is not intended or expected to impact individuals browsing the SEC.gov website. \n",
            "Note that this policy may change as the SEC manages SEC.gov to ensure that the website performs efficiently and remains available to all users.\n",
            "\n",
            "\n",
            "Note: We do not offer technical support for developing or debugging scripted downloading processes.\n",
            "\n",
            "\n",
            "\n",
            "\n"
          ]
        }
      ]
    },
    {
      "cell_type": "code",
      "source": [
        "#Finanical news lookup\n",
        "def get_fin_news(symbol: str) -> str:\n",
        "    api_key = fin_news\n",
        "    url = \"https://newsapi.org/v2/everything\"\n",
        "    params = {\n",
        "        \"q\": symbol,\n",
        "        \"apiKey\": api_key,\n",
        "        \"sortBy\": \"publishedAt\",\n",
        "        \"language\": \"en\"\n",
        "    }\n",
        "    response = requests.get(url, params=params)\n",
        "    if response.status_code != 200:\n",
        "        return f\"API error {response.status_code}: {response.text[:200]}\"\n",
        "    data = response.json()\n",
        "    articles = data.get(\"articles\", [])\n",
        "    if not articles:\n",
        "        return f\"No news found for {symbol}. Full message: {data.get('message', '')}\"\n",
        "    return \"\\n\".join([a[\"description\"] or a[\"title\"] for a in articles[:3]])\n",
        "\n",
        "\n",
        "\n",
        "news_api_tool = Tool(\n",
        "    name=\"NewsAPI\",\n",
        "    func=get_fin_news,  #Assumes you've defined this class\n",
        "    description=\"Finds recent financial news on stock symbol\"\n",
        ")"
      ],
      "metadata": {
        "id": "U9rcq2jAYL3P"
      },
      "execution_count": 29,
      "outputs": []
    },
    {
      "cell_type": "code",
      "source": [
        "#For debugging\n",
        "print(get_fin_news(\"AAPL\"))"
      ],
      "metadata": {
        "colab": {
          "base_uri": "https://localhost:8080/"
        },
        "id": "zKlLdN8fYN7S",
        "outputId": "ae114eaf-2aae-4c4b-ec98-be66fd20de28"
      },
      "execution_count": 30,
      "outputs": [
        {
          "output_type": "stream",
          "name": "stdout",
          "text": [
            "BelkinがMagSafeとQi2ワイヤレス充電に対応したiPhone Air/17/Pro用ケース「Belkin SheerForce iPhoneクリアケース」を発売しています。詳細は以下から。 　台湾Foxco […]\n",
            "The post Belkin、MagSafe/Qi2 25Wワイヤレス充電に対応したiPhone Air/17/Pro用の「Belkin SheerForceクリア/カラーケース」を発売。 first appeared on AAPL Ch..\n",
            "investors weighed hopes for rate cuts and strong results from Wall Street banks as the US-China trade dispute rolled on.\n",
            "investors weighed hopes for rate cuts and strong results from Wall Street banks as the US-China trade dispute rolled on.\n"
          ]
        }
      ]
    },
    {
      "cell_type": "code",
      "source": [
        "import requests\n",
        "\n",
        "def get_fin_news_tavily(symbol: str) -> str:\n",
        "    \"\"\"\n",
        "    Searches for and extracts detailed financial news impacting the given stock symbol.\n",
        "    Performs a deep extraction with Tavily's advanced read (HTML parsing and markdown conversion).\n",
        "    \"\"\"\n",
        "    query = f\"News on {symbol}\"\n",
        "    api_url_search = \"https://api.tavily.com/search\"\n",
        "    api_url_extract = \"https://api.tavily.com/extract\"\n",
        "\n",
        "    # Step 1: Search for related news articles\n",
        "    payload_search = {\n",
        "        \"query\": query,\n",
        "        \"api_key\": tavily_key,\n",
        "        \"max_results\": 5,\n",
        "        \"search_depth\": \"advanced\",          # more contextually relevant pages\n",
        "        \"include_raw_content\": False\n",
        "    }\n",
        "\n",
        "    search_response = requests.post(api_url_search, json=payload_search)\n",
        "    if search_response.status_code != 200:\n",
        "        return f\"Tavily search error: {search_response.status_code} {search_response.text}\"\n",
        "\n",
        "    results = search_response.json().get(\"results\", [])\n",
        "    links = [r.get(\"link\") for r in results if r.get(\"link\")]\n",
        "\n",
        "    # Step 2: Extract full article contents using Tavily Extract API\n",
        "    if not links:\n",
        "        return \"No articles found for this stock symbol.\"\n",
        "\n",
        "    payload_extract = {\n",
        "        \"urls\": links,\n",
        "        \"api_key\": tavily_key,\n",
        "        \"extract_depth\": \"advanced\",         # deeper DOM parsing, better for long articles\n",
        "        \"include_images\": False,\n",
        "        \"format\": \"markdown\"                 # returns Markdown-formatted summaries\n",
        "    }\n",
        "\n",
        "    extract_response = requests.post(api_url_extract, json=payload_extract)\n",
        "    if extract_response.status_code != 200:\n",
        "        return f\"Tavily extract error: {extract_response.status_code} {extract_response.text}\"\n",
        "\n",
        "    extracted_articles = extract_response.json().get(\"results\", [])\n",
        "    if not extracted_articles:\n",
        "        return \"No extractable content retrieved.\"\n",
        "\n",
        "    # Step 3: Structure extracted results for downstream summarization or agent reflection\n",
        "    summaries = []\n",
        "    for article in extracted_articles:\n",
        "        link = article.get(\"url\", \"\")\n",
        "        content = article.get(\"content\", \"No text content\")\n",
        "        summaries\n",
        "\n",
        "tavily_news_tool = Tool(\n",
        "    name=\"TavilyNews\",\n",
        "    func=get_fin_news_tavily,\n",
        "    description=\"Searches for and extracts detailed financial news impacting the given stock symbol.\"\n",
        ")\n"
      ],
      "metadata": {
        "id": "42tphN4VYay9"
      },
      "execution_count": 31,
      "outputs": []
    },
    {
      "cell_type": "code",
      "source": [
        "#For debugging\n",
        "print(get_fin_news_tavily(symbol=\"AAPL\"))"
      ],
      "metadata": {
        "colab": {
          "base_uri": "https://localhost:8080/"
        },
        "id": "ng0mnuC_YgDb",
        "outputId": "9465a11e-daac-414f-d1a5-2e4295bd88ec"
      },
      "execution_count": 32,
      "outputs": [
        {
          "output_type": "stream",
          "name": "stdout",
          "text": [
            "No articles found for this stock symbol.\n"
          ]
        }
      ]
    },
    {
      "cell_type": "code",
      "source": [
        "from transformers import pipeline\n",
        "from langchain.tools import Tool\n",
        "\n",
        "\n",
        "class HuggingFaceSentimentTool:\n",
        "    \"\"\"\n",
        "    A lightweight sentiment analysis tool that uses a pretrained Hugging Face model.\n",
        "\n",
        "    This class wraps the Hugging Face `pipeline(\"sentiment-analysis\")` function\n",
        "    and exposes a simple interface for evaluating sentiment in text.\n",
        "\n",
        "    Attributes\n",
        "    ----------\n",
        "    classifier : transformers.pipelines.Pipeline\n",
        "        The Hugging Face sentiment-analysis pipeline used for inference.\n",
        "    \"\"\"\n",
        "\n",
        "    def __init__(self):\n",
        "        \"\"\"Initializes the Hugging Face sentiment analysis pipeline.\"\"\"\n",
        "        self.classifier = pipeline(\"sentiment-analysis\")\n",
        "\n",
        "    def analyze(self, text: str) -> int:\n",
        "        \"\"\"\n",
        "        Performs sentiment analysis on input text and returns a numeric sentiment label.\n",
        "\n",
        "        Parameters\n",
        "        ----------\n",
        "        text : str\n",
        "            The input text string to analyze.\n",
        "\n",
        "        Returns\n",
        "        -------\n",
        "        int\n",
        "            Returns +1 for positive sentiment and -1 for negative sentiment.\n",
        "        \"\"\"\n",
        "        result = self.classifier(text)[0]\n",
        "        return 1 if result[\"label\"] == \"POSITIVE\" else -1\n",
        "\n",
        "\n",
        "sentiment_api_tool = Tool(\n",
        "    name=\"HuggingFaceSentiment\",\n",
        "    func=HuggingFaceSentimentTool().analyze,\n",
        "    description=(\n",
        "        \"Analyzes sentiment of input text using a pretrained Hugging Face transformer \"\n",
        "        \"and returns +1 for positive sentiment or -1 for negative.\"\n",
        "    )\n",
        ")\n"
      ],
      "metadata": {
        "colab": {
          "base_uri": "https://localhost:8080/"
        },
        "id": "inncdoanZule",
        "outputId": "42dfa1a5-f2c8-4bb4-bf71-6bc0d9488148"
      },
      "execution_count": 33,
      "outputs": [
        {
          "output_type": "stream",
          "name": "stderr",
          "text": [
            "No model was supplied, defaulted to distilbert/distilbert-base-uncased-finetuned-sst-2-english and revision 714eb0f (https://huggingface.co/distilbert/distilbert-base-uncased-finetuned-sst-2-english).\n",
            "Using a pipeline without specifying a model name and revision in production is not recommended.\n",
            "Device set to use cpu\n"
          ]
        }
      ]
    },
    {
      "cell_type": "code",
      "source": [
        "def earnings_analyzer(symbol: str, context: str = \"\", yahoo_tool=None, sec_tool=None) -> str:\n",
        "    \"\"\"\n",
        "    Analyzes earnings info given a stock symbol, with string-based context/memory.\n",
        "    - symbol: stock ticker as string\n",
        "    - context: concatenated text from tools agent's memory (e.g., research_notes or scratchpad)\n",
        "    - yahoo_tool, sec_tool: callable tools to retrieve more info if not found in context\n",
        "    Returns: summary string of earnings info\n",
        "    \"\"\"\n",
        "    #Check context/memory for earnings info\n",
        "    symbol_upper = symbol.upper()\n",
        "    relevant_snippet = \"\"\n",
        "    for line in context.splitlines():\n",
        "        # crude match: look for earnings and the symbol in context; refine for your structure\n",
        "        if symbol_upper in line and \"earnings\" in line.lower():\n",
        "            relevant_snippet = line.strip()\n",
        "            break\n",
        "\n",
        "    #If not found, query tools for latest info\n",
        "    if not relevant_snippet:\n",
        "        if yahoo_tool:\n",
        "            relevant_snippet = yahoo_tool.func(symbol)  # could return a string summary\n",
        "        elif sec_tool:\n",
        "            relevant_snippet = sec_tool.func(symbol)\n",
        "        else:\n",
        "            relevant_snippet = f\"No earnings info found for {symbol}.\"\n",
        "\n",
        "    #You can further refine the summary or do LLM chaining as needed\n",
        "    return f\"Earnings analysis for {symbol}:\\n{relevant_snippet}\"\n",
        "\n",
        "\n",
        "earnings_specialist = Tool(\n",
        "    name=\"EarningsAnalyzer\",\n",
        "    func=earnings_analyzer,\n",
        "    description=\"Analyzes earnings context and info for a stock symbol, using memory/context and sources.\"\n",
        ")\n"
      ],
      "metadata": {
        "id": "u0OJCaknaoTf"
      },
      "execution_count": 34,
      "outputs": []
    },
    {
      "cell_type": "code",
      "source": [
        "#For debugging\n",
        "print(earnings_analyzer(\"META\"))"
      ],
      "metadata": {
        "colab": {
          "base_uri": "https://localhost:8080/"
        },
        "id": "WRU6-Zqgbca7",
        "outputId": "2dd91bcb-4f7d-4268-9cd4-140445204c7d"
      },
      "execution_count": 35,
      "outputs": [
        {
          "output_type": "stream",
          "name": "stdout",
          "text": [
            "Earnings analysis for META:\n",
            "No earnings info found for META.\n"
          ]
        }
      ]
    },
    {
      "cell_type": "code",
      "source": [
        "#Add Duck Duck Go\n",
        "from langchain.tools import DuckDuckGoSearchRun\n",
        "search = DuckDuckGoSearchRun()\n",
        "\n",
        "duck_duck_go_search = Tool(\n",
        "    name=\"DuckDuckGoSearch\",\n",
        "    func=search.invoke,\n",
        "    description=\"Useful for when you need to answer questions about current events. You should ask targeted questions.\"\n",
        ")"
      ],
      "metadata": {
        "id": "BL1XHyr1eVgk"
      },
      "execution_count": 37,
      "outputs": []
    },
    {
      "cell_type": "code",
      "source": [
        "duck_duck_go_search('APPL')"
      ],
      "metadata": {
        "colab": {
          "base_uri": "https://localhost:8080/",
          "height": 196
        },
        "id": "rYiMHv2tehTg",
        "outputId": "738750cc-a711-422f-8d54-7a69d9f10265"
      },
      "execution_count": 38,
      "outputs": [
        {
          "output_type": "execute_result",
          "data": {
            "text/plain": [
              "\"1 day ago - Apple Inc. is an American multinational technology company headquartered in Cupertino, California, in Silicon Valley, best known for its consumer electronics, software and online services. Founded in 1976 as Apple Computer Company by Steve Jobs, Steve Wozniak and Ronald Wayne, the company was ... 2 days ago - An apple is the round, edible fruit of an apple tree (Malus spp.). Fruit trees of the orchard or domestic apple (Malus domestica), the most widely grown in the genus, are cultivated worldwide. The tree originated in Central Asia, where its wild ancestor, Malus sieversii, is still found. Table of ContentsHow to spell “ appl ”How many syllables in “ appl ” Membre Du Comité Directeur De L' appl (association Des Pharmaciens De La Province De Liège). View and download Benjamin Appl Instagram tagged photos and videos without login.Benjamin Appl . @benjaminapplbaritone.\""
            ],
            "application/vnd.google.colaboratory.intrinsic+json": {
              "type": "string"
            }
          },
          "metadata": {},
          "execution_count": 38
        }
      ]
    },
    {
      "cell_type": "code",
      "source": [
        "import yfinance as yf\n",
        "import matplotlib.pyplot as plt\n",
        "import pandas as pd\n",
        "from datetime import datetime, timedelta\n",
        "from langchain.tools import Tool\n",
        "\n",
        "#Define the plotting function\n",
        "def plot_stock_52_week(symbol: str) -> str:\n",
        "    \"\"\"\n",
        "    Plots the last 52 weeks (1 year) of stock closing prices for the given symbol.\n",
        "    Returns the filepath to the saved chart image.\n",
        "    \"\"\"\n",
        "    try:\n",
        "        end_date = datetime.today()\n",
        "        start_date = end_date - timedelta(weeks=52)\n",
        "\n",
        "        # Download 1-year historical stock data\n",
        "        data = yf.download(symbol, start=start_date, end=end_date)\n",
        "\n",
        "        if data.empty:\n",
        "            return f\"No data found for {symbol}. Please check the symbol or try again later.\"\n",
        "\n",
        "        # Plot closing price over time\n",
        "        plt.figure(figsize=(10, 5))\n",
        "        plt.plot(data.index, data['Close'], label='Closing Price', color='dodgerblue', linewidth=2)\n",
        "        plt.title(f\"{symbol} Stock Price (Last 52 Weeks)\", fontsize=14, pad=15)\n",
        "        plt.xlabel(\"Date\", fontsize=12)\n",
        "        plt.ylabel(\"Price (USD)\", fontsize=12)\n",
        "        plt.grid(True, linestyle='--', alpha=0.6)\n",
        "        plt.legend()\n",
        "\n",
        "        # Save plot to file\n",
        "        filename = f\"{symbol}_52week_chart.png\"\n",
        "        plt.savefig(filename, bbox_inches='tight')\n",
        "        plt.close()\n",
        "\n",
        "        return f\"Stock chart saved as {filename}\"\n",
        "    except Exception as e:\n",
        "        return f\"Error generating chart for {symbol}: {e}\"\n",
        "\n",
        "#Wrap as a LangGraph Tool\n",
        "stock_chart_tool = Tool(\n",
        "    name=\"StockChart52Weeks\",\n",
        "    func=plot_stock_52_week,\n",
        "    description=\"Plots and saves a 52-week stock price chart for the given symbol using Yahoo Finance data.\"\n",
        ")\n"
      ],
      "metadata": {
        "id": "INLptQ7endFI"
      },
      "execution_count": 39,
      "outputs": []
    },
    {
      "cell_type": "code",
      "source": [
        "from datetime import datetime\n",
        "from langchain.tools import Tool\n",
        "\n",
        "def get_timestamp(_: str = \"\") -> str:\n",
        "    \"\"\"\n",
        "    Returns the current date and time in ISO 8601 format.\n",
        "\n",
        "    This tool can be used by the agent to log events, timestamp analyses,\n",
        "    or align data with real-world time context. It supports chaining with\n",
        "    other workflow nodes that require temporal awareness.\n",
        "    \"\"\"\n",
        "    return datetime.now().isoformat()\n",
        "\n",
        "timestamp_tool = Tool(\n",
        "    name=\"TimestampTool\",\n",
        "    func=get_timestamp,\n",
        "    description=\"Returns the current date and time in ISO 8601 format, useful for logging or aligning time-based analyses.\"\n",
        ")"
      ],
      "metadata": {
        "id": "Y9beFd1YzZC9"
      },
      "execution_count": 40,
      "outputs": []
    },
    {
      "cell_type": "code",
      "execution_count": 41,
      "metadata": {
        "id": "biMVj3ifg3ha"
      },
      "outputs": [],
      "source": [
        "#Create the tools list\n",
        "tools = [\n",
        "    yahoo_api_tool,\n",
        "    sec_api_tool,\n",
        "    news_api_tool,\n",
        "    tavily_news_tool,\n",
        "    sentiment_api_tool,\n",
        "    earnings_specialist,\n",
        "    duck_duck_go_search,\n",
        "    stock_chart_tool,\n",
        "    HuggingFaceSentimentTool,\n",
        "    visit_webpage_tool,\n",
        "    timestamp_tool\n",
        "]"
      ]
    },
    {
      "cell_type": "markdown",
      "metadata": {
        "id": "2_EbjC2ok3m4"
      },
      "source": [
        "### Tools Agent Function"
      ]
    },
    {
      "cell_type": "code",
      "execution_count": 68,
      "metadata": {
        "id": "wyMhkBfhf3Hi"
      },
      "outputs": [],
      "source": [
        "#Tools Agent Prompt & Function\n",
        "\n",
        "ANALYSIS_PROMPT = \"\"\"\n",
        "System Role: You are a detailed Financial Research Agent designed to analyze companies, securities, and markets with a structured workflow.\n",
        "\n",
        "**Your goal** For {symbol}, provide a ~50 word investment summary, based on extensive reserach.\n",
        "\n",
        "Include {context_memory} to improve your answers.\n",
        "\n",
        "NEVER INCLUDE YOUR THOUGHT PROCESS IN THE RESULTS.\n",
        "\n",
        "\n",
        "**Core Functions**\n",
        "\n",
        "1. Planning:\n",
        "Develop and print out a plan for each given stock symbol. Include a plan for a multi-step research process that defines what data to collect (e.g., news, market data, filings), what tools to use, and how to verify results.\n",
        "\n",
        "Example steps: “Collect company overview → Analyze financials → Cross-check recent filings → Summarize.”\n",
        "\n",
        "2. Tool Use:\n",
        "Use all of your tools by default to hit APIs and data sources dynamically, such as Yahoo Finance, SEC EDGAR, news APIs, and any specialist analyzers. Choose the right tools and calls autonomously based on the goal of each stage. Return structured findings.\n",
        "\n",
        "TOOL USAGE REQUIREMENTS:\n",
        "- Refer to the memory for useful data.\n",
        "- Use at least 4 different tools for each analysis\n",
        "- Cross-reference information from multiple sources\n",
        "- If a tool fails, try alternative tools for the same data\n",
        "- Always explain your reasoning between tool calls\n",
        "\n",
        "3. Self-Reflection:\n",
        "Evaluate your output’s completeness, correctness, and coherence at each stage. If key data (e.g., P/E, recent filings, or market indicators) appears missing or uncertain, perform iterative refinement using another reasoning pass or additional tool calls.\n",
        "\n",
        "4. Memory/Learning:\n",
        "Retain useful context from prior analyses (observations, missing data, errors, patterns in company performance). Use this \"brief memory\" to improve future research quality and efficiency.\n",
        "\n",
        "\n",
        "**Workflow Logic**\n",
        "\n",
        "Follow a defined sequence for every research request:\n",
        "* Ingest → Preprocess → Classify → Extract → Summarize\n",
        "\n",
        "1. Ingest: Gather relevant news, filings, and metrics. Use the webpage visit tool on any URLS.\n",
        "\n",
        "2. Preprocess: Clean, standardize, and interpret results from multiple tools.\n",
        "\n",
        "3. Classify: Route data to the correct analysis path (earnings, news, or market).\n",
        "\n",
        "4. Extract: Pull core signals, events, or values.\n",
        "\n",
        "5. Summarize: Synthesize insights in your final output.\n",
        "\n",
        "6. Routing:\n",
        "  * Choose appropriate specialist analyzers according to data type:\n",
        "\n",
        "  * NewsAnalyzer for press, sentiment, or event narratives.\n",
        "\n",
        "  * MarketAnalyzer for indices, performance data, and macro context.\n",
        "\n",
        "7. Evaluation: Review reasoning and completeness, recall tools again if needed.\n",
        "\n",
        "\n",
        "**Final Report**\n",
        "At the end of each session, create a final summary report that contains:\n",
        "\n",
        "Updated output from each tool as well as the date and time of the inquiry.\n",
        "\n",
        "Do not include any planning information in the report.\n",
        "\n",
        "Include citations such as [1], along with a hyperlink at the bottom of the page for further review.\n",
        "\n",
        "Respond in clear, organized Markdown, including headings, bullet points, and labeled data sources for readability.\n",
        "\n",
        "**STOPPING RULE:** Once you have basic financials, recent news, and market context, conclude your analysis. Do not seek additional tools or data.\n",
        "\n",
        "Be thorough - this analysis will inform major investment decisions.\n",
        "\n",
        "\"\"\"\n",
        "\n",
        "#Define the agent\n",
        "tools_agent = create_react_agent(\n",
        "    model=llm_openai,\n",
        "    tools=tools,\n",
        "    prompt=ANALYSIS_PROMPT,\n",
        "    debug=True\n",
        ")"
      ]
    },
    {
      "cell_type": "code",
      "source": [
        "# Create your formatted prompt\n",
        "formatted_prompt = ANALYSIS_PROMPT.format(\n",
        "    symbol=user_input,              # \"TGT\"\n",
        "    context_memory=\"\"               # or your stored memory string\n",
        ")\n",
        "\n",
        "# Build / run your agent call\n",
        "tools_output = tools_agent.invoke({\n",
        "    \"messages\": [\n",
        "        {\"role\": \"user\", \"content\": formatted_prompt}\n",
        "    ]\n",
        "})"
      ],
      "metadata": {
        "colab": {
          "base_uri": "https://localhost:8080/"
        },
        "id": "cUAyBXnqCdWt",
        "outputId": "08dca0eb-ba7d-4953-921d-590d93baf993"
      },
      "execution_count": 87,
      "outputs": [
        {
          "output_type": "stream",
          "name": "stdout",
          "text": [
            "\u001b[1m[values]\u001b[0m {'messages': [HumanMessage(content='\\nSystem Role: You are a detailed Financial Research Agent designed to analyze companies, securities, and markets with a structured workflow.\\n\\n**Your goal** For TGT, provide a ~50 word investment summary, based on extensive reserach.\\n\\nInclude  to improve your answers.\\n\\nNEVER INCLUDE YOUR THOUGHT PROCESS IN THE RESULTS.\\n\\n\\n**Core Functions**\\n\\n1. Planning:\\nDevelop and print out a plan for each given stock symbol. Include a plan for a multi-step research process that defines what data to collect (e.g., news, market data, filings), what tools to use, and how to verify results.\\n\\nExample steps: “Collect company overview → Analyze financials → Cross-check recent filings → Summarize.”\\n\\n2. Tool Use:\\nUse all of your tools by default to hit APIs and data sources dynamically, such as Yahoo Finance, SEC EDGAR, news APIs, and any specialist analyzers. Choose the right tools and calls autonomously based on the goal of each stage. Return structured findings.\\n\\nTOOL USAGE REQUIREMENTS:\\n- Refer to the memory for useful data.\\n- Use at least 4 different tools for each analysis\\n- Cross-reference information from multiple sources\\n- If a tool fails, try alternative tools for the same data\\n- Always explain your reasoning between tool calls\\n\\n3. Self-Reflection:\\nEvaluate your output’s completeness, correctness, and coherence at each stage. If key data (e.g., P/E, recent filings, or market indicators) appears missing or uncertain, perform iterative refinement using another reasoning pass or additional tool calls.\\n\\n4. Memory/Learning:\\nRetain useful context from prior analyses (observations, missing data, errors, patterns in company performance). Use this \"brief memory\" to improve future research quality and efficiency.\\n\\n\\n**Workflow Logic**\\n\\nFollow a defined sequence for every research request:\\n* Ingest → Preprocess → Classify → Extract → Summarize\\n\\n1. Ingest: Gather relevant news, filings, and metrics. Use the webpage visit tool on any URLS.\\n\\n2. Preprocess: Clean, standardize, and interpret results from multiple tools.\\n\\n3. Classify: Route data to the correct analysis path (earnings, news, or market).\\n\\n4. Extract: Pull core signals, events, or values.\\n\\n5. Summarize: Synthesize insights in your final output.\\n\\n6. Routing:\\n  * Choose appropriate specialist analyzers according to data type:\\n\\n  * NewsAnalyzer for press, sentiment, or event narratives.\\n\\n  * MarketAnalyzer for indices, performance data, and macro context.\\n\\n7. Evaluation: Review reasoning and completeness, recall tools again if needed.\\n\\n\\n**Final Report**\\nAt the end of each session, create a final summary report that contains:\\n\\nUpdated output from each tool as well as the date and time of the inquiry.\\n\\nDo not include any planning information in the report. \\n\\nInclude citations such as [1], along with a hyperlink at the bottom of the page for further review.\\n\\nRespond in clear, organized Markdown, including headings, bullet points, and labeled data sources for readability.\\n\\n**STOPPING RULE:** Once you have basic financials, recent news, and market context, conclude your analysis. Do not seek additional tools or data.\\n\\nBe thorough - this analysis will inform major investment decisions.\\n\\n', additional_kwargs={}, response_metadata={}, id='04f1db2b-cd8c-4747-890b-cbe66745b74d')]}\n"
          ]
        },
        {
          "output_type": "stream",
          "name": "stderr",
          "text": [
            "/tmp/ipython-input-3553478582.py:18: FutureWarning: YF.download() has changed argument auto_adjust default to True\n",
            "  data = yf.download(symbol, start=start_date, end=end_date)\n",
            "\r[*********************100%***********************]  1 of 1 completed"
          ]
        },
        {
          "output_type": "stream",
          "name": "stdout",
          "text": [
            "\u001b[1m[updates]\u001b[0m {'agent': {'messages': [AIMessage(content='', additional_kwargs={'tool_calls': [{'id': 'call_9OsP7THKmlbWOpyprrFBMlSh', 'function': {'arguments': '{\"__arg1\": \"TGT\"}', 'name': 'YahooFinanceAPI'}, 'type': 'function'}, {'id': 'call_WgcFrBq7oET6cGpcpdMQPw0D', 'function': {'arguments': '{\"__arg1\": \"TGT\"}', 'name': 'SECEDGARAPI'}, 'type': 'function'}, {'id': 'call_G8fD2oWA8cUnCrtd8HkPGMnu', 'function': {'arguments': '{\"__arg1\": \"TGT\"}', 'name': 'NewsAPI'}, 'type': 'function'}, {'id': 'call_KtCsIjyc7fDl4qQC1zyZuc2v', 'function': {'arguments': '{\"__arg1\": \"TGT\"}', 'name': 'StockChart52Weeks'}, 'type': 'function'}], 'refusal': None}, response_metadata={'token_usage': {'completion_tokens': 93, 'prompt_tokens': 1869, 'total_tokens': 1962, 'completion_tokens_details': {'accepted_prediction_tokens': 0, 'audio_tokens': 0, 'reasoning_tokens': 0, 'rejected_prediction_tokens': 0}, 'prompt_tokens_details': {'audio_tokens': 0, 'cached_tokens': 0}}, 'model_name': 'gpt-3.5-turbo-0125', 'system_fingerprint': None, 'id': 'chatcmpl-CRDOyKYg8f9FxzBknQoi2RgMC6AnG', 'service_tier': 'default', 'finish_reason': 'tool_calls', 'logprobs': None}, id='run--7da0ff61-63c1-47fb-b0d2-5135e79676ba-0', tool_calls=[{'name': 'YahooFinanceAPI', 'args': {'__arg1': 'TGT'}, 'id': 'call_9OsP7THKmlbWOpyprrFBMlSh', 'type': 'tool_call'}, {'name': 'SECEDGARAPI', 'args': {'__arg1': 'TGT'}, 'id': 'call_WgcFrBq7oET6cGpcpdMQPw0D', 'type': 'tool_call'}, {'name': 'NewsAPI', 'args': {'__arg1': 'TGT'}, 'id': 'call_G8fD2oWA8cUnCrtd8HkPGMnu', 'type': 'tool_call'}, {'name': 'StockChart52Weeks', 'args': {'__arg1': 'TGT'}, 'id': 'call_KtCsIjyc7fDl4qQC1zyZuc2v', 'type': 'tool_call'}], usage_metadata={'input_tokens': 1869, 'output_tokens': 93, 'total_tokens': 1962, 'input_token_details': {'audio': 0, 'cache_read': 0}, 'output_token_details': {'audio': 0, 'reasoning': 0}})]}}\n",
            "\u001b[1m[values]\u001b[0m {'messages': [HumanMessage(content='\\nSystem Role: You are a detailed Financial Research Agent designed to analyze companies, securities, and markets with a structured workflow.\\n\\n**Your goal** For TGT, provide a ~50 word investment summary, based on extensive reserach.\\n\\nInclude  to improve your answers.\\n\\nNEVER INCLUDE YOUR THOUGHT PROCESS IN THE RESULTS.\\n\\n\\n**Core Functions**\\n\\n1. Planning:\\nDevelop and print out a plan for each given stock symbol. Include a plan for a multi-step research process that defines what data to collect (e.g., news, market data, filings), what tools to use, and how to verify results.\\n\\nExample steps: “Collect company overview → Analyze financials → Cross-check recent filings → Summarize.”\\n\\n2. Tool Use:\\nUse all of your tools by default to hit APIs and data sources dynamically, such as Yahoo Finance, SEC EDGAR, news APIs, and any specialist analyzers. Choose the right tools and calls autonomously based on the goal of each stage. Return structured findings.\\n\\nTOOL USAGE REQUIREMENTS:\\n- Refer to the memory for useful data.\\n- Use at least 4 different tools for each analysis\\n- Cross-reference information from multiple sources\\n- If a tool fails, try alternative tools for the same data\\n- Always explain your reasoning between tool calls\\n\\n3. Self-Reflection:\\nEvaluate your output’s completeness, correctness, and coherence at each stage. If key data (e.g., P/E, recent filings, or market indicators) appears missing or uncertain, perform iterative refinement using another reasoning pass or additional tool calls.\\n\\n4. Memory/Learning:\\nRetain useful context from prior analyses (observations, missing data, errors, patterns in company performance). Use this \"brief memory\" to improve future research quality and efficiency.\\n\\n\\n**Workflow Logic**\\n\\nFollow a defined sequence for every research request:\\n* Ingest → Preprocess → Classify → Extract → Summarize\\n\\n1. Ingest: Gather relevant news, filings, and metrics. Use the webpage visit tool on any URLS.\\n\\n2. Preprocess: Clean, standardize, and interpret results from multiple tools.\\n\\n3. Classify: Route data to the correct analysis path (earnings, news, or market).\\n\\n4. Extract: Pull core signals, events, or values.\\n\\n5. Summarize: Synthesize insights in your final output.\\n\\n6. Routing:\\n  * Choose appropriate specialist analyzers according to data type:\\n\\n  * NewsAnalyzer for press, sentiment, or event narratives.\\n\\n  * MarketAnalyzer for indices, performance data, and macro context.\\n\\n7. Evaluation: Review reasoning and completeness, recall tools again if needed.\\n\\n\\n**Final Report**\\nAt the end of each session, create a final summary report that contains:\\n\\nUpdated output from each tool as well as the date and time of the inquiry.\\n\\nDo not include any planning information in the report. \\n\\nInclude citations such as [1], along with a hyperlink at the bottom of the page for further review.\\n\\nRespond in clear, organized Markdown, including headings, bullet points, and labeled data sources for readability.\\n\\n**STOPPING RULE:** Once you have basic financials, recent news, and market context, conclude your analysis. Do not seek additional tools or data.\\n\\nBe thorough - this analysis will inform major investment decisions.\\n\\n', additional_kwargs={}, response_metadata={}, id='04f1db2b-cd8c-4747-890b-cbe66745b74d'), AIMessage(content='', additional_kwargs={'tool_calls': [{'id': 'call_9OsP7THKmlbWOpyprrFBMlSh', 'function': {'arguments': '{\"__arg1\": \"TGT\"}', 'name': 'YahooFinanceAPI'}, 'type': 'function'}, {'id': 'call_WgcFrBq7oET6cGpcpdMQPw0D', 'function': {'arguments': '{\"__arg1\": \"TGT\"}', 'name': 'SECEDGARAPI'}, 'type': 'function'}, {'id': 'call_G8fD2oWA8cUnCrtd8HkPGMnu', 'function': {'arguments': '{\"__arg1\": \"TGT\"}', 'name': 'NewsAPI'}, 'type': 'function'}, {'id': 'call_KtCsIjyc7fDl4qQC1zyZuc2v', 'function': {'arguments': '{\"__arg1\": \"TGT\"}', 'name': 'StockChart52Weeks'}, 'type': 'function'}], 'refusal': None}, response_metadata={'token_usage': {'completion_tokens': 93, 'prompt_tokens': 1869, 'total_tokens': 1962, 'completion_tokens_details': {'accepted_prediction_tokens': 0, 'audio_tokens': 0, 'reasoning_tokens': 0, 'rejected_prediction_tokens': 0}, 'prompt_tokens_details': {'audio_tokens': 0, 'cached_tokens': 0}}, 'model_name': 'gpt-3.5-turbo-0125', 'system_fingerprint': None, 'id': 'chatcmpl-CRDOyKYg8f9FxzBknQoi2RgMC6AnG', 'service_tier': 'default', 'finish_reason': 'tool_calls', 'logprobs': None}, id='run--7da0ff61-63c1-47fb-b0d2-5135e79676ba-0', tool_calls=[{'name': 'YahooFinanceAPI', 'args': {'__arg1': 'TGT'}, 'id': 'call_9OsP7THKmlbWOpyprrFBMlSh', 'type': 'tool_call'}, {'name': 'SECEDGARAPI', 'args': {'__arg1': 'TGT'}, 'id': 'call_WgcFrBq7oET6cGpcpdMQPw0D', 'type': 'tool_call'}, {'name': 'NewsAPI', 'args': {'__arg1': 'TGT'}, 'id': 'call_G8fD2oWA8cUnCrtd8HkPGMnu', 'type': 'tool_call'}, {'name': 'StockChart52Weeks', 'args': {'__arg1': 'TGT'}, 'id': 'call_KtCsIjyc7fDl4qQC1zyZuc2v', 'type': 'tool_call'}], usage_metadata={'input_tokens': 1869, 'output_tokens': 93, 'total_tokens': 1962, 'input_token_details': {'audio': 0, 'cache_read': 0}, 'output_token_details': {'audio': 0, 'reasoning': 0}})]}\n"
          ]
        },
        {
          "output_type": "stream",
          "name": "stderr",
          "text": [
            "\n"
          ]
        },
        {
          "output_type": "stream",
          "name": "stdout",
          "text": [
            "\u001b[1m[updates]\u001b[0m {'tools': {'messages': [ToolMessage(content='Walmart is the latest company to announce a partnership with OpenAI.\\nBest Buy could quietly emerge as the big retail winner if U.S.–China tariff relief holds.\\nWalmart is the latest company to announce a partnership with OpenAI.', name='NewsAPI', tool_call_id='call_G8fD2oWA8cUnCrtd8HkPGMnu')]}}\n",
            "\u001b[1m[updates]\u001b[0m {'tools': {'messages': [ToolMessage(content='Company: Target Corporation (TGT)\\nSector: Consumer Defensive\\nPrice: $90.91\\nMarket Cap: 41309425664\\nP/E Ratio: 10.5955715\\n52-Week High: 158.97\\n52-Week Low: 85.36\\nDividend Yield: 5.02\\nBeta: 1.177\\nRevenue: 105640001536\\nProfit Margin: 0.03718\\n', name='YahooFinanceAPI', tool_call_id='call_9OsP7THKmlbWOpyprrFBMlSh')]}}\n",
            "\u001b[1m[updates]\u001b[0m {'tools': {'messages': [ToolMessage(content='Stock chart saved as TGT_52week_chart.png', name='StockChart52Weeks', tool_call_id='call_KtCsIjyc7fDl4qQC1zyZuc2v')]}}\n",
            "\u001b[1m[updates]\u001b[0m {'tools': {'messages': [ToolMessage(content='Latest filings with summaries:\\n8-K on 2025-10-09:\\nhttps://www.sec.gov/Archives/edgar/data/27419/000002741925000121/tgt-20251009.htm\\nSummary: No key XML findings found.\\n\\n4 on 2025-10-02:\\nhttps://www.sec.gov/Archives/edgar/data/27419/000194181625000004/xslF345X05/wk-form4_1759437603.xml\\nSummary: SEC FORM \\n            4 SEC Form 4 FORM 4 UNITED STATES SECURITIES AND EXCHANGE COMMISSION Washington, D.C. 20549 STATEMENT OF CHANGES IN BENEFICIAL OWNERSHIP Filed pursuant to Section 16(a) of the Securities Exchange Act of 1934 or Section 30(h) of the Investment Company Act of 1940 OMB APPROVAL OMB Number: 3235-0287 Estimated average burden hours per response: 0.5 Â\\xa0Â Check this box if no longer\\n\\n10-Q on 2025-08-29:\\nhttps://www.sec.gov/Archives/edgar/data/27419/000002741925000118/tgt-20250802.htm\\nSummary: No key XML findings found.\\n', name='SECEDGARAPI', tool_call_id='call_WgcFrBq7oET6cGpcpdMQPw0D')]}}\n",
            "\u001b[1m[values]\u001b[0m {'messages': [HumanMessage(content='\\nSystem Role: You are a detailed Financial Research Agent designed to analyze companies, securities, and markets with a structured workflow.\\n\\n**Your goal** For TGT, provide a ~50 word investment summary, based on extensive reserach.\\n\\nInclude  to improve your answers.\\n\\nNEVER INCLUDE YOUR THOUGHT PROCESS IN THE RESULTS.\\n\\n\\n**Core Functions**\\n\\n1. Planning:\\nDevelop and print out a plan for each given stock symbol. Include a plan for a multi-step research process that defines what data to collect (e.g., news, market data, filings), what tools to use, and how to verify results.\\n\\nExample steps: “Collect company overview → Analyze financials → Cross-check recent filings → Summarize.”\\n\\n2. Tool Use:\\nUse all of your tools by default to hit APIs and data sources dynamically, such as Yahoo Finance, SEC EDGAR, news APIs, and any specialist analyzers. Choose the right tools and calls autonomously based on the goal of each stage. Return structured findings.\\n\\nTOOL USAGE REQUIREMENTS:\\n- Refer to the memory for useful data.\\n- Use at least 4 different tools for each analysis\\n- Cross-reference information from multiple sources\\n- If a tool fails, try alternative tools for the same data\\n- Always explain your reasoning between tool calls\\n\\n3. Self-Reflection:\\nEvaluate your output’s completeness, correctness, and coherence at each stage. If key data (e.g., P/E, recent filings, or market indicators) appears missing or uncertain, perform iterative refinement using another reasoning pass or additional tool calls.\\n\\n4. Memory/Learning:\\nRetain useful context from prior analyses (observations, missing data, errors, patterns in company performance). Use this \"brief memory\" to improve future research quality and efficiency.\\n\\n\\n**Workflow Logic**\\n\\nFollow a defined sequence for every research request:\\n* Ingest → Preprocess → Classify → Extract → Summarize\\n\\n1. Ingest: Gather relevant news, filings, and metrics. Use the webpage visit tool on any URLS.\\n\\n2. Preprocess: Clean, standardize, and interpret results from multiple tools.\\n\\n3. Classify: Route data to the correct analysis path (earnings, news, or market).\\n\\n4. Extract: Pull core signals, events, or values.\\n\\n5. Summarize: Synthesize insights in your final output.\\n\\n6. Routing:\\n  * Choose appropriate specialist analyzers according to data type:\\n\\n  * NewsAnalyzer for press, sentiment, or event narratives.\\n\\n  * MarketAnalyzer for indices, performance data, and macro context.\\n\\n7. Evaluation: Review reasoning and completeness, recall tools again if needed.\\n\\n\\n**Final Report**\\nAt the end of each session, create a final summary report that contains:\\n\\nUpdated output from each tool as well as the date and time of the inquiry.\\n\\nDo not include any planning information in the report. \\n\\nInclude citations such as [1], along with a hyperlink at the bottom of the page for further review.\\n\\nRespond in clear, organized Markdown, including headings, bullet points, and labeled data sources for readability.\\n\\n**STOPPING RULE:** Once you have basic financials, recent news, and market context, conclude your analysis. Do not seek additional tools or data.\\n\\nBe thorough - this analysis will inform major investment decisions.\\n\\n', additional_kwargs={}, response_metadata={}, id='04f1db2b-cd8c-4747-890b-cbe66745b74d'), AIMessage(content='', additional_kwargs={'tool_calls': [{'id': 'call_9OsP7THKmlbWOpyprrFBMlSh', 'function': {'arguments': '{\"__arg1\": \"TGT\"}', 'name': 'YahooFinanceAPI'}, 'type': 'function'}, {'id': 'call_WgcFrBq7oET6cGpcpdMQPw0D', 'function': {'arguments': '{\"__arg1\": \"TGT\"}', 'name': 'SECEDGARAPI'}, 'type': 'function'}, {'id': 'call_G8fD2oWA8cUnCrtd8HkPGMnu', 'function': {'arguments': '{\"__arg1\": \"TGT\"}', 'name': 'NewsAPI'}, 'type': 'function'}, {'id': 'call_KtCsIjyc7fDl4qQC1zyZuc2v', 'function': {'arguments': '{\"__arg1\": \"TGT\"}', 'name': 'StockChart52Weeks'}, 'type': 'function'}], 'refusal': None}, response_metadata={'token_usage': {'completion_tokens': 93, 'prompt_tokens': 1869, 'total_tokens': 1962, 'completion_tokens_details': {'accepted_prediction_tokens': 0, 'audio_tokens': 0, 'reasoning_tokens': 0, 'rejected_prediction_tokens': 0}, 'prompt_tokens_details': {'audio_tokens': 0, 'cached_tokens': 0}}, 'model_name': 'gpt-3.5-turbo-0125', 'system_fingerprint': None, 'id': 'chatcmpl-CRDOyKYg8f9FxzBknQoi2RgMC6AnG', 'service_tier': 'default', 'finish_reason': 'tool_calls', 'logprobs': None}, id='run--7da0ff61-63c1-47fb-b0d2-5135e79676ba-0', tool_calls=[{'name': 'YahooFinanceAPI', 'args': {'__arg1': 'TGT'}, 'id': 'call_9OsP7THKmlbWOpyprrFBMlSh', 'type': 'tool_call'}, {'name': 'SECEDGARAPI', 'args': {'__arg1': 'TGT'}, 'id': 'call_WgcFrBq7oET6cGpcpdMQPw0D', 'type': 'tool_call'}, {'name': 'NewsAPI', 'args': {'__arg1': 'TGT'}, 'id': 'call_G8fD2oWA8cUnCrtd8HkPGMnu', 'type': 'tool_call'}, {'name': 'StockChart52Weeks', 'args': {'__arg1': 'TGT'}, 'id': 'call_KtCsIjyc7fDl4qQC1zyZuc2v', 'type': 'tool_call'}], usage_metadata={'input_tokens': 1869, 'output_tokens': 93, 'total_tokens': 1962, 'input_token_details': {'audio': 0, 'cache_read': 0}, 'output_token_details': {'audio': 0, 'reasoning': 0}}), ToolMessage(content='Company: Target Corporation (TGT)\\nSector: Consumer Defensive\\nPrice: $90.91\\nMarket Cap: 41309425664\\nP/E Ratio: 10.5955715\\n52-Week High: 158.97\\n52-Week Low: 85.36\\nDividend Yield: 5.02\\nBeta: 1.177\\nRevenue: 105640001536\\nProfit Margin: 0.03718\\n', name='YahooFinanceAPI', id='cbfbba9d-4165-4ec3-a912-cd7437936ee9', tool_call_id='call_9OsP7THKmlbWOpyprrFBMlSh'), ToolMessage(content='Latest filings with summaries:\\n8-K on 2025-10-09:\\nhttps://www.sec.gov/Archives/edgar/data/27419/000002741925000121/tgt-20251009.htm\\nSummary: No key XML findings found.\\n\\n4 on 2025-10-02:\\nhttps://www.sec.gov/Archives/edgar/data/27419/000194181625000004/xslF345X05/wk-form4_1759437603.xml\\nSummary: SEC FORM \\n            4 SEC Form 4 FORM 4 UNITED STATES SECURITIES AND EXCHANGE COMMISSION Washington, D.C. 20549 STATEMENT OF CHANGES IN BENEFICIAL OWNERSHIP Filed pursuant to Section 16(a) of the Securities Exchange Act of 1934 or Section 30(h) of the Investment Company Act of 1940 OMB APPROVAL OMB Number: 3235-0287 Estimated average burden hours per response: 0.5 Â\\xa0Â Check this box if no longer\\n\\n10-Q on 2025-08-29:\\nhttps://www.sec.gov/Archives/edgar/data/27419/000002741925000118/tgt-20250802.htm\\nSummary: No key XML findings found.\\n', name='SECEDGARAPI', id='90d4cb01-0987-457f-a358-973ca27a580f', tool_call_id='call_WgcFrBq7oET6cGpcpdMQPw0D'), ToolMessage(content='Walmart is the latest company to announce a partnership with OpenAI.\\nBest Buy could quietly emerge as the big retail winner if U.S.–China tariff relief holds.\\nWalmart is the latest company to announce a partnership with OpenAI.', name='NewsAPI', id='96417f5d-1335-4946-84c1-ead3b9ab306d', tool_call_id='call_G8fD2oWA8cUnCrtd8HkPGMnu'), ToolMessage(content='Stock chart saved as TGT_52week_chart.png', name='StockChart52Weeks', id='3fcc5824-5e69-4ddd-bebd-10554116e204', tool_call_id='call_KtCsIjyc7fDl4qQC1zyZuc2v')]}\n",
            "\u001b[1m[updates]\u001b[0m {'agent': {'messages': [AIMessage(content='## Investment Summary for Target Corporation (TGT)\\n\\n### Company Overview:\\n- **Sector:** Consumer Defensive\\n- **Price:** $90.91\\n- **Market Cap:** $41,309,425,664\\n- **P/E Ratio:** 10.60\\n- **Dividend Yield:** 5.02%\\n- **Beta:** 1.18\\n- **Revenue:** $105,640,001,536\\n- **Profit Margin:** 3.72%\\n\\n### Recent Filings:\\n- **8-K on 2025-10-09:** [Link to Filing](https://www.sec.gov/Archives/edgar/data/27419/000002741925000121/tgt-20251009.htm)\\n- **4 on 2025-10-02:** [Link to Filing](https://www.sec.gov/Archives/edgar/data/27419/000194181625000004/xslF345X05/wk-form4_1759437603.xml)\\n- **10-Q on 2025-08-29:** [Link to Filing](https://www.sec.gov/Archives/edgar/data/27419/000002741925000118/tgt-20250802.htm)\\n\\n### Recent News:\\n- Walmart partners with OpenAI.\\n- Best Buy could benefit from U.S.–China tariff relief.\\n- Walmart announces a partnership with OpenAI.\\n\\n### 52-Week Stock Price Chart:\\n- Stock chart saved as TGT_52week_chart.png\\n\\n[1] Data retrieved from Yahoo Finance, SEC EDGAR, News API, and StockChart52Weeks on the current date and time.', additional_kwargs={'refusal': None}, response_metadata={'token_usage': {'completion_tokens': 344, 'prompt_tokens': 2419, 'total_tokens': 2763, 'completion_tokens_details': {'accepted_prediction_tokens': 0, 'audio_tokens': 0, 'reasoning_tokens': 0, 'rejected_prediction_tokens': 0}, 'prompt_tokens_details': {'audio_tokens': 0, 'cached_tokens': 0}}, 'model_name': 'gpt-3.5-turbo-0125', 'system_fingerprint': None, 'id': 'chatcmpl-CRDP4OZEmP2SVA5RbzuHgYWwhs8K7', 'service_tier': 'default', 'finish_reason': 'stop', 'logprobs': None}, id='run--bef06fec-9c7a-4ead-8b42-cb57c5738d6f-0', usage_metadata={'input_tokens': 2419, 'output_tokens': 344, 'total_tokens': 2763, 'input_token_details': {'audio': 0, 'cache_read': 0}, 'output_token_details': {'audio': 0, 'reasoning': 0}})]}}\n",
            "\u001b[1m[values]\u001b[0m {'messages': [HumanMessage(content='\\nSystem Role: You are a detailed Financial Research Agent designed to analyze companies, securities, and markets with a structured workflow.\\n\\n**Your goal** For TGT, provide a ~50 word investment summary, based on extensive reserach.\\n\\nInclude  to improve your answers.\\n\\nNEVER INCLUDE YOUR THOUGHT PROCESS IN THE RESULTS.\\n\\n\\n**Core Functions**\\n\\n1. Planning:\\nDevelop and print out a plan for each given stock symbol. Include a plan for a multi-step research process that defines what data to collect (e.g., news, market data, filings), what tools to use, and how to verify results.\\n\\nExample steps: “Collect company overview → Analyze financials → Cross-check recent filings → Summarize.”\\n\\n2. Tool Use:\\nUse all of your tools by default to hit APIs and data sources dynamically, such as Yahoo Finance, SEC EDGAR, news APIs, and any specialist analyzers. Choose the right tools and calls autonomously based on the goal of each stage. Return structured findings.\\n\\nTOOL USAGE REQUIREMENTS:\\n- Refer to the memory for useful data.\\n- Use at least 4 different tools for each analysis\\n- Cross-reference information from multiple sources\\n- If a tool fails, try alternative tools for the same data\\n- Always explain your reasoning between tool calls\\n\\n3. Self-Reflection:\\nEvaluate your output’s completeness, correctness, and coherence at each stage. If key data (e.g., P/E, recent filings, or market indicators) appears missing or uncertain, perform iterative refinement using another reasoning pass or additional tool calls.\\n\\n4. Memory/Learning:\\nRetain useful context from prior analyses (observations, missing data, errors, patterns in company performance). Use this \"brief memory\" to improve future research quality and efficiency.\\n\\n\\n**Workflow Logic**\\n\\nFollow a defined sequence for every research request:\\n* Ingest → Preprocess → Classify → Extract → Summarize\\n\\n1. Ingest: Gather relevant news, filings, and metrics. Use the webpage visit tool on any URLS.\\n\\n2. Preprocess: Clean, standardize, and interpret results from multiple tools.\\n\\n3. Classify: Route data to the correct analysis path (earnings, news, or market).\\n\\n4. Extract: Pull core signals, events, or values.\\n\\n5. Summarize: Synthesize insights in your final output.\\n\\n6. Routing:\\n  * Choose appropriate specialist analyzers according to data type:\\n\\n  * NewsAnalyzer for press, sentiment, or event narratives.\\n\\n  * MarketAnalyzer for indices, performance data, and macro context.\\n\\n7. Evaluation: Review reasoning and completeness, recall tools again if needed.\\n\\n\\n**Final Report**\\nAt the end of each session, create a final summary report that contains:\\n\\nUpdated output from each tool as well as the date and time of the inquiry.\\n\\nDo not include any planning information in the report. \\n\\nInclude citations such as [1], along with a hyperlink at the bottom of the page for further review.\\n\\nRespond in clear, organized Markdown, including headings, bullet points, and labeled data sources for readability.\\n\\n**STOPPING RULE:** Once you have basic financials, recent news, and market context, conclude your analysis. Do not seek additional tools or data.\\n\\nBe thorough - this analysis will inform major investment decisions.\\n\\n', additional_kwargs={}, response_metadata={}, id='04f1db2b-cd8c-4747-890b-cbe66745b74d'), AIMessage(content='', additional_kwargs={'tool_calls': [{'id': 'call_9OsP7THKmlbWOpyprrFBMlSh', 'function': {'arguments': '{\"__arg1\": \"TGT\"}', 'name': 'YahooFinanceAPI'}, 'type': 'function'}, {'id': 'call_WgcFrBq7oET6cGpcpdMQPw0D', 'function': {'arguments': '{\"__arg1\": \"TGT\"}', 'name': 'SECEDGARAPI'}, 'type': 'function'}, {'id': 'call_G8fD2oWA8cUnCrtd8HkPGMnu', 'function': {'arguments': '{\"__arg1\": \"TGT\"}', 'name': 'NewsAPI'}, 'type': 'function'}, {'id': 'call_KtCsIjyc7fDl4qQC1zyZuc2v', 'function': {'arguments': '{\"__arg1\": \"TGT\"}', 'name': 'StockChart52Weeks'}, 'type': 'function'}], 'refusal': None}, response_metadata={'token_usage': {'completion_tokens': 93, 'prompt_tokens': 1869, 'total_tokens': 1962, 'completion_tokens_details': {'accepted_prediction_tokens': 0, 'audio_tokens': 0, 'reasoning_tokens': 0, 'rejected_prediction_tokens': 0}, 'prompt_tokens_details': {'audio_tokens': 0, 'cached_tokens': 0}}, 'model_name': 'gpt-3.5-turbo-0125', 'system_fingerprint': None, 'id': 'chatcmpl-CRDOyKYg8f9FxzBknQoi2RgMC6AnG', 'service_tier': 'default', 'finish_reason': 'tool_calls', 'logprobs': None}, id='run--7da0ff61-63c1-47fb-b0d2-5135e79676ba-0', tool_calls=[{'name': 'YahooFinanceAPI', 'args': {'__arg1': 'TGT'}, 'id': 'call_9OsP7THKmlbWOpyprrFBMlSh', 'type': 'tool_call'}, {'name': 'SECEDGARAPI', 'args': {'__arg1': 'TGT'}, 'id': 'call_WgcFrBq7oET6cGpcpdMQPw0D', 'type': 'tool_call'}, {'name': 'NewsAPI', 'args': {'__arg1': 'TGT'}, 'id': 'call_G8fD2oWA8cUnCrtd8HkPGMnu', 'type': 'tool_call'}, {'name': 'StockChart52Weeks', 'args': {'__arg1': 'TGT'}, 'id': 'call_KtCsIjyc7fDl4qQC1zyZuc2v', 'type': 'tool_call'}], usage_metadata={'input_tokens': 1869, 'output_tokens': 93, 'total_tokens': 1962, 'input_token_details': {'audio': 0, 'cache_read': 0}, 'output_token_details': {'audio': 0, 'reasoning': 0}}), ToolMessage(content='Company: Target Corporation (TGT)\\nSector: Consumer Defensive\\nPrice: $90.91\\nMarket Cap: 41309425664\\nP/E Ratio: 10.5955715\\n52-Week High: 158.97\\n52-Week Low: 85.36\\nDividend Yield: 5.02\\nBeta: 1.177\\nRevenue: 105640001536\\nProfit Margin: 0.03718\\n', name='YahooFinanceAPI', id='cbfbba9d-4165-4ec3-a912-cd7437936ee9', tool_call_id='call_9OsP7THKmlbWOpyprrFBMlSh'), ToolMessage(content='Latest filings with summaries:\\n8-K on 2025-10-09:\\nhttps://www.sec.gov/Archives/edgar/data/27419/000002741925000121/tgt-20251009.htm\\nSummary: No key XML findings found.\\n\\n4 on 2025-10-02:\\nhttps://www.sec.gov/Archives/edgar/data/27419/000194181625000004/xslF345X05/wk-form4_1759437603.xml\\nSummary: SEC FORM \\n            4 SEC Form 4 FORM 4 UNITED STATES SECURITIES AND EXCHANGE COMMISSION Washington, D.C. 20549 STATEMENT OF CHANGES IN BENEFICIAL OWNERSHIP Filed pursuant to Section 16(a) of the Securities Exchange Act of 1934 or Section 30(h) of the Investment Company Act of 1940 OMB APPROVAL OMB Number: 3235-0287 Estimated average burden hours per response: 0.5 Â\\xa0Â Check this box if no longer\\n\\n10-Q on 2025-08-29:\\nhttps://www.sec.gov/Archives/edgar/data/27419/000002741925000118/tgt-20250802.htm\\nSummary: No key XML findings found.\\n', name='SECEDGARAPI', id='90d4cb01-0987-457f-a358-973ca27a580f', tool_call_id='call_WgcFrBq7oET6cGpcpdMQPw0D'), ToolMessage(content='Walmart is the latest company to announce a partnership with OpenAI.\\nBest Buy could quietly emerge as the big retail winner if U.S.–China tariff relief holds.\\nWalmart is the latest company to announce a partnership with OpenAI.', name='NewsAPI', id='96417f5d-1335-4946-84c1-ead3b9ab306d', tool_call_id='call_G8fD2oWA8cUnCrtd8HkPGMnu'), ToolMessage(content='Stock chart saved as TGT_52week_chart.png', name='StockChart52Weeks', id='3fcc5824-5e69-4ddd-bebd-10554116e204', tool_call_id='call_KtCsIjyc7fDl4qQC1zyZuc2v'), AIMessage(content='## Investment Summary for Target Corporation (TGT)\\n\\n### Company Overview:\\n- **Sector:** Consumer Defensive\\n- **Price:** $90.91\\n- **Market Cap:** $41,309,425,664\\n- **P/E Ratio:** 10.60\\n- **Dividend Yield:** 5.02%\\n- **Beta:** 1.18\\n- **Revenue:** $105,640,001,536\\n- **Profit Margin:** 3.72%\\n\\n### Recent Filings:\\n- **8-K on 2025-10-09:** [Link to Filing](https://www.sec.gov/Archives/edgar/data/27419/000002741925000121/tgt-20251009.htm)\\n- **4 on 2025-10-02:** [Link to Filing](https://www.sec.gov/Archives/edgar/data/27419/000194181625000004/xslF345X05/wk-form4_1759437603.xml)\\n- **10-Q on 2025-08-29:** [Link to Filing](https://www.sec.gov/Archives/edgar/data/27419/000002741925000118/tgt-20250802.htm)\\n\\n### Recent News:\\n- Walmart partners with OpenAI.\\n- Best Buy could benefit from U.S.–China tariff relief.\\n- Walmart announces a partnership with OpenAI.\\n\\n### 52-Week Stock Price Chart:\\n- Stock chart saved as TGT_52week_chart.png\\n\\n[1] Data retrieved from Yahoo Finance, SEC EDGAR, News API, and StockChart52Weeks on the current date and time.', additional_kwargs={'refusal': None}, response_metadata={'token_usage': {'completion_tokens': 344, 'prompt_tokens': 2419, 'total_tokens': 2763, 'completion_tokens_details': {'accepted_prediction_tokens': 0, 'audio_tokens': 0, 'reasoning_tokens': 0, 'rejected_prediction_tokens': 0}, 'prompt_tokens_details': {'audio_tokens': 0, 'cached_tokens': 0}}, 'model_name': 'gpt-3.5-turbo-0125', 'system_fingerprint': None, 'id': 'chatcmpl-CRDP4OZEmP2SVA5RbzuHgYWwhs8K7', 'service_tier': 'default', 'finish_reason': 'stop', 'logprobs': None}, id='run--bef06fec-9c7a-4ead-8b42-cb57c5738d6f-0', usage_metadata={'input_tokens': 2419, 'output_tokens': 344, 'total_tokens': 2763, 'input_token_details': {'audio': 0, 'cache_read': 0}, 'output_token_details': {'audio': 0, 'reasoning': 0}})]}\n"
          ]
        }
      ]
    },
    {
      "cell_type": "code",
      "source": [
        "from IPython.display import Markdown, display\n",
        "\n",
        "def clean_answer (text):\n",
        "    msg = text[\"messages\"][-1]\n",
        "    return msg.content"
      ],
      "metadata": {
        "id": "PWuHDUNr30DI"
      },
      "execution_count": 88,
      "outputs": []
    },
    {
      "cell_type": "code",
      "source": [
        "display(Markdown(clean_answer(tools_output)))"
      ],
      "metadata": {
        "colab": {
          "base_uri": "https://localhost:8080/",
          "height": 508
        },
        "id": "PL6agIYD4GfE",
        "outputId": "b9a6bfe8-7eb9-420c-fe98-62df107b81ea"
      },
      "execution_count": 89,
      "outputs": [
        {
          "output_type": "display_data",
          "data": {
            "text/plain": [
              "<IPython.core.display.Markdown object>"
            ],
            "text/markdown": "## Investment Summary for Target Corporation (TGT)\n\n### Company Overview:\n- **Sector:** Consumer Defensive\n- **Price:** $90.91\n- **Market Cap:** $41,309,425,664\n- **P/E Ratio:** 10.60\n- **Dividend Yield:** 5.02%\n- **Beta:** 1.18\n- **Revenue:** $105,640,001,536\n- **Profit Margin:** 3.72%\n\n### Recent Filings:\n- **8-K on 2025-10-09:** [Link to Filing](https://www.sec.gov/Archives/edgar/data/27419/000002741925000121/tgt-20251009.htm)\n- **4 on 2025-10-02:** [Link to Filing](https://www.sec.gov/Archives/edgar/data/27419/000194181625000004/xslF345X05/wk-form4_1759437603.xml)\n- **10-Q on 2025-08-29:** [Link to Filing](https://www.sec.gov/Archives/edgar/data/27419/000002741925000118/tgt-20250802.htm)\n\n### Recent News:\n- Walmart partners with OpenAI.\n- Best Buy could benefit from U.S.–China tariff relief.\n- Walmart announces a partnership with OpenAI.\n\n### 52-Week Stock Price Chart:\n- Stock chart saved as TGT_52week_chart.png\n\n[1] Data retrieved from Yahoo Finance, SEC EDGAR, News API, and StockChart52Weeks on the current date and time."
          },
          "metadata": {}
        }
      ]
    },
    {
      "cell_type": "markdown",
      "metadata": {
        "id": "987QsT47jjIH"
      },
      "source": [
        "## Self Reflection & Evaluation Agent\n",
        "Evaluates output quality"
      ]
    },
    {
      "cell_type": "code",
      "execution_count": 92,
      "metadata": {
        "id": "hKhXB6THg4Ua"
      },
      "outputs": [],
      "source": [
        "#Define Self Evaluation agent\n",
        "\n",
        "EVAL_PROMPT = \"\"\"\n",
        "You are an expert evaluator. Your primary job is to give feedback on the analysis below, NOT to overwrite or revise it.\n",
        "\n",
        "Instructions:\n",
        "\n",
        "- Always display the full analysis/summary input *exactly as received* at the start of your answer, clearly labeled.\n",
        "- Provide your commentary (improvement, completeness, feedback) **separately after the full input**.\n",
        "- If human feedback is supplied, include your response to it at the end **without changing the original summary**.\n",
        "\n",
        "FORMAT STRICTLY LIKE THIS:\n",
        "---\n",
        "Original Analysis:\n",
        "{input}\n",
        "\n",
        "Evaluator Commentary:\n",
        "[Your bullet points: Completeness, Succinctness, Accuracy, Clarity, Human Feedback summary, Suggestions, etc.]\n",
        "\n",
        "---\n",
        "\n",
        "Never rewrite or summarize the original analysis. Only provide clear, constructive evaluator commentary after reproducing the input in its original form.\n",
        "\n",
        "--- Human Feedback ---\n",
        "{human_feedback}\n",
        "\n",
        "\n",
        "\"\"\"\n",
        "\n",
        "#Define agent\n",
        "evaluator_agent = create_react_agent(\n",
        "    model=llm_gemini,\n",
        "    tools = [],\n",
        "    prompt=EVAL_PROMPT,\n",
        "    debug=True\n",
        ")"
      ]
    },
    {
      "cell_type": "markdown",
      "metadata": {
        "id": "KOBnNHeJl3r-"
      },
      "source": [
        "## Optimization Loop"
      ]
    },
    {
      "cell_type": "code",
      "execution_count": 107,
      "metadata": {
        "id": "RSdS1bOg4dXt"
      },
      "outputs": [],
      "source": [
        "#This function runs the agents in an optimization kind of loop, to iterate based on feedback\n",
        "def optimization_loop(tools_agent,\n",
        "                      evaluator_agent,\n",
        "                      user_input,\n",
        "                      session_memory,\n",
        "                      PRINT_TOOL_MSGS=True\n",
        "                     ):\n",
        "    #Step 1: Run tools agent\n",
        "    print(\"Conducting research...\")\n",
        "    tools_output = tools_agent.invoke(user_input)\n",
        "\n",
        "    # clean print out the tool messages\n",
        "    if PRINT_TOOL_MSGS:\n",
        "        for msg in tools_output['messages']:\n",
        "            if msg.content:\n",
        "                print(f'{msg.content} |  tool {msg.name}\\n')\n",
        "\n",
        "    final_output = list(tools_output.values())[-1][-1].content\n",
        "    print(\"\\n--- Analysis Summary ---\")\n",
        "    print(final_output)\n",
        "\n",
        "    #Step 2: Ask user for feedback\n",
        "    human_feedback = input(\"\\nPlease enter your feedback (areas to improve, missing info, corrections):\\n\")\n",
        "\n",
        "    # grab memory if there is one.\n",
        "    stock_symbol = user_input\n",
        "    memory_context = query_memory(stock_symbol, session_memory)\n",
        "\n",
        "\n",
        "    evaluator_input = f\"\"\"\n",
        "                        {final_output}\n",
        "\n",
        "                        --- Human Feedback ---\n",
        "                        {human_feedback if human_feedback else \"no human feedback provided\"}\n",
        "\n",
        "                        --- Memory ---\n",
        "                        {memory_context}\n",
        "                        \"\"\"\n",
        "\n",
        "    #Step 3: Evaluate and revise summary using feedback\n",
        "    eval_payload = {\n",
        "        \"messages\": str(evaluator_input),\n",
        "    }\n",
        "    print(\"\\nRunning evaluator with feedback...\")\n",
        "    revised_output = evaluator_agent.invoke(eval_payload)\n",
        "    final_output = revised_output['messages'][-1].content\n",
        "    print(\"\\n--- Revised Summary ---\")\n",
        "    #print(revised_output)\n",
        "    print(revised_output)\n",
        "\n",
        "    #Optional: Loop for more feedback\n",
        "    while True:\n",
        "        more = input(\"\\nWould you like to refine further? (y/n): \")\n",
        "        if more.lower().startswith(\"y\"):\n",
        "            human_feedback = input(\"Enter any further feedback:\\n\")\n",
        "            eval_payload = {\n",
        "                            \"messages\": str(evaluator_input),\n",
        "                        }\n",
        "\n",
        "            revised_output = evaluator_agent.invoke(eval_payload)\n",
        "            final_output = revised_output['messages'][-1].content\n",
        "            print(\"\\n--- Revised Summary ---\")\n",
        "            print(final_output)\n",
        "        else:\n",
        "            break\n",
        "\n",
        "    user_question = as_text(user_input)\n",
        "    symbol = extract_symbol(user_question)\n",
        "    final_answer = as_text(final_output)   # Use your utility function\n",
        "\n",
        "    SESSION_MEMORY.remember(symbol, user_question, final_answer)\n",
        "\n",
        "    print(\"\\nWorkflow complete. Final output above.\")\n",
        "    return revised_output  #Return for pretty print\n"
      ]
    },
    {
      "cell_type": "markdown",
      "metadata": {
        "id": "n_CeRDyhjmUp"
      },
      "source": [
        "## Learning/Memory Agent\n",
        "Maintains memory across analysis runs"
      ]
    },
    {
      "cell_type": "code",
      "execution_count": 100,
      "metadata": {
        "id": "l_7UNagLGt60"
      },
      "outputs": [],
      "source": [
        "#MEMORY AGENT CELL 1\n",
        "#Session-scoped memory\n",
        "\n",
        "@dataclass\n",
        "class MemoryItem:\n",
        "    symbol: str\n",
        "    question: str\n",
        "    answer: str\n",
        "    created_at: str\n",
        "    meta: Dict[str, Any]\n",
        "\n",
        "class SessionMemory:\n",
        "    def __init__(self, max_items: int = 200, max_per_symbol: int = 10):\n",
        "        self._store: Dict[str, List[MemoryItem]] = {}\n",
        "        self.max_items = max_items\n",
        "        self.max_per_symbol = max_per_symbol\n",
        "\n",
        "    def remember(self, symbol: str, question: str, answer: str, **meta) -> None:\n",
        "        symbol = (symbol or \"GENERIC\").upper().strip()\n",
        "        item = MemoryItem(\n",
        "            symbol=symbol,\n",
        "            question=(question or \"\").strip(),\n",
        "            answer=(answer or \"\").strip(),\n",
        "            created_at=datetime.utcnow().isoformat(timespec=\"seconds\"),\n",
        "            meta=meta or {}\n",
        "        )\n",
        "        bucket = self._store.setdefault(symbol, [])\n",
        "        bucket.append(item)\n",
        "        if len(bucket) > self.max_per_symbol:\n",
        "            del bucket[0 : len(bucket) - self.max_per_symbol]\n",
        "        self._cap_global()\n",
        "\n",
        "    def recall(self, symbol: str, question: Optional[str] = None) -> Optional[str]:\n",
        "        symbol = (symbol or \"GENERIC\").upper().strip()\n",
        "        bucket = self._store.get(symbol, [])\n",
        "        if not bucket:\n",
        "            return None\n",
        "        if not question:\n",
        "            return bucket[-1].answer\n",
        "        q = (question or \"\").strip()\n",
        "        for item in reversed(bucket):\n",
        "            if item.question == q:\n",
        "                return item.answer\n",
        "        return None\n",
        "\n",
        "    def latest(self, symbol: str) -> Optional[MemoryItem]:\n",
        "        symbol = (symbol or \"GENERIC\").upper().strip()\n",
        "        bucket = self._store.get(symbol, [])\n",
        "        return bucket[-1] if bucket else None\n",
        "\n",
        "    def _cap_global(self):\n",
        "        all_items = []\n",
        "        for sym, bucket in self._store.items():\n",
        "            for it in bucket:\n",
        "                all_items.append((it.created_at, sym, it))\n",
        "        if len(all_items) <= self.max_items:\n",
        "            return\n",
        "        all_items.sort(key=lambda x: x[0])  # oldest first\n",
        "        to_drop = len(all_items) - self.max_items\n",
        "        cutoff = set(id(it) for _, _, it in all_items[:to_drop])\n",
        "        for sym in list(self._store.keys()):\n",
        "            self._store[sym] = [it for it in self._store[sym] if id(it) not in cutoff]\n",
        "\n",
        "\n",
        "\n",
        "def extract_symbol(text: str) -> str:\n",
        "    \"\"\"\n",
        "    Grab a likely ticker from the user_input like 'Analyze the SPY stock ticker'.\n",
        "    Simple heuristic: first ALL-CAPS token 1-5 chars (e.g., AAPL, MSFT, SPY).\n",
        "    Falls back to 'GENERIC' if none found.\n",
        "    \"\"\"\n",
        "    if not text:\n",
        "        return \"GENERIC\"\n",
        "    candidates = re.findall(r\"\\b[A-Z]{1,5}\\b\", text)\n",
        "    # Light filter for common English words\n",
        "    stop = {\"THE\",\"AND\",\"FOR\",\"WITH\",\"FROM\",\"THIS\",\"THAT\",\"YOUR\",\"HAVE\",\"HOLD\"}\n",
        "    for c in candidates:\n",
        "        if c not in stop:\n",
        "            return c\n",
        "    return \"GENERIC\"\n",
        "\n",
        "def as_text(x: Any) -> str:\n",
        "    \"\"\"\n",
        "    Normalize whatever comes back from planner/tools/evaluator/optimizer into a string.\n",
        "    Works with LangChain AgentExecutor outputs (dict), AIMessage, or raw str.\n",
        "    \"\"\"\n",
        "    try:\n",
        "        # AIMessage / ChatMessage\n",
        "        if hasattr(x, \"content\"):\n",
        "            return str(x.content)\n",
        "        # Agent-like dicts\n",
        "        if isinstance(x, dict):\n",
        "            if \"output\" in x and isinstance(x[\"output\"], str):\n",
        "                return x[\"output\"]\n",
        "            if \"messages\" in x and isinstance(x[\"messages\"], list):\n",
        "                return \"\\n\\n\".join(\n",
        "                    (m.content if hasattr(m, \"content\") else str(m))\n",
        "                    for m in x[\"messages\"]\n",
        "                )\n",
        "        # plain string\n",
        "        if isinstance(x, str):\n",
        "            return x\n",
        "        return str(x)\n",
        "    except Exception:\n",
        "        return str(x)\n",
        "\n",
        "\n",
        "def query_memory(stock_symbol, session_memory):\n",
        "    print('query memory stock symbol = ', stock_symbol)\n",
        "    if stock_symbol in session_memory._store:\n",
        "        recent_memory = session_memory._store.get(stock_symbol)[-1].answer\n",
        "        return recent_memory"
      ]
    },
    {
      "cell_type": "code",
      "execution_count": 95,
      "metadata": {
        "id": "7I5BN7U0EclH"
      },
      "outputs": [],
      "source": []
    },
    {
      "cell_type": "markdown",
      "metadata": {
        "id": "UPxekd7Rj2KW"
      },
      "source": [
        "## Execution Function, Set The Agent Free"
      ]
    },
    {
      "cell_type": "code",
      "execution_count": 96,
      "metadata": {
        "id": "qXxl2MaZEclH"
      },
      "outputs": [],
      "source": [
        "SESSION_MEMORY = SessionMemory()"
      ]
    },
    {
      "cell_type": "code",
      "execution_count": 108,
      "metadata": {
        "colab": {
          "base_uri": "https://localhost:8080/",
          "height": 1000
        },
        "id": "xRPTUlph4xdI",
        "outputId": "3b45ad92-7588-41ae-c30e-add7bc33194f",
        "scrolled": true
      },
      "outputs": [
        {
          "output_type": "stream",
          "name": "stdout",
          "text": [
            "Conducting research...\n",
            "\u001b[1m[values]\u001b[0m {'messages': [HumanMessage(content='\\nSystem Role: You are a detailed Financial Research Agent designed to analyze companies, securities, and markets with a structured workflow.\\n\\n**Your goal** For TGT, provide a ~50 word investment summary, based on extensive reserach.\\n\\nInclude  to improve your answers.\\n\\nNEVER INCLUDE YOUR THOUGHT PROCESS IN THE RESULTS.\\n\\n\\n**Core Functions**\\n\\n1. Planning:\\nDevelop and print out a plan for each given stock symbol. Include a plan for a multi-step research process that defines what data to collect (e.g., news, market data, filings), what tools to use, and how to verify results.\\n\\nExample steps: “Collect company overview → Analyze financials → Cross-check recent filings → Summarize.”\\n\\n2. Tool Use:\\nUse all of your tools by default to hit APIs and data sources dynamically, such as Yahoo Finance, SEC EDGAR, news APIs, and any specialist analyzers. Choose the right tools and calls autonomously based on the goal of each stage. Return structured findings.\\n\\nTOOL USAGE REQUIREMENTS:\\n- Refer to the memory for useful data.\\n- Use at least 4 different tools for each analysis\\n- Cross-reference information from multiple sources\\n- If a tool fails, try alternative tools for the same data\\n- Always explain your reasoning between tool calls\\n\\n3. Self-Reflection:\\nEvaluate your output’s completeness, correctness, and coherence at each stage. If key data (e.g., P/E, recent filings, or market indicators) appears missing or uncertain, perform iterative refinement using another reasoning pass or additional tool calls.\\n\\n4. Memory/Learning:\\nRetain useful context from prior analyses (observations, missing data, errors, patterns in company performance). Use this \"brief memory\" to improve future research quality and efficiency.\\n\\n\\n**Workflow Logic**\\n\\nFollow a defined sequence for every research request:\\n* Ingest → Preprocess → Classify → Extract → Summarize\\n\\n1. Ingest: Gather relevant news, filings, and metrics. Use the webpage visit tool on any URLS.\\n\\n2. Preprocess: Clean, standardize, and interpret results from multiple tools.\\n\\n3. Classify: Route data to the correct analysis path (earnings, news, or market).\\n\\n4. Extract: Pull core signals, events, or values.\\n\\n5. Summarize: Synthesize insights in your final output.\\n\\n6. Routing:\\n  * Choose appropriate specialist analyzers according to data type:\\n\\n  * NewsAnalyzer for press, sentiment, or event narratives.\\n\\n  * MarketAnalyzer for indices, performance data, and macro context.\\n\\n7. Evaluation: Review reasoning and completeness, recall tools again if needed.\\n\\n\\n**Final Report**\\nAt the end of each session, create a final summary report that contains:\\n\\nUpdated output from each tool as well as the date and time of the inquiry.\\n\\nDo not include any planning information in the report. \\n\\nInclude citations such as [1], along with a hyperlink at the bottom of the page for further review.\\n\\nRespond in clear, organized Markdown, including headings, bullet points, and labeled data sources for readability.\\n\\n**STOPPING RULE:** Once you have basic financials, recent news, and market context, conclude your analysis. Do not seek additional tools or data.\\n\\nBe thorough - this analysis will inform major investment decisions.\\n\\n', additional_kwargs={}, response_metadata={}, id='500668b9-49e6-411b-a77e-48e34eb53101')]}\n",
            "\u001b[1m[updates]\u001b[0m {'agent': {'messages': [AIMessage(content='', additional_kwargs={'tool_calls': [{'id': 'call_JJR5q3qD5Sn6XquH0eB3JQk9', 'function': {'arguments': '{\"__arg1\": \"TGT\"}', 'name': 'YahooFinanceAPI'}, 'type': 'function'}, {'id': 'call_aB2ZM4UwC0lUiAxREOuEmHxY', 'function': {'arguments': '{\"__arg1\": \"TGT\"}', 'name': 'SECEDGARAPI'}, 'type': 'function'}, {'id': 'call_sx5mjGuoOPJn6kk2obDCee8U', 'function': {'arguments': '{\"__arg1\": \"TGT\"}', 'name': 'NewsAPI'}, 'type': 'function'}, {'id': 'call_4cUvkqt9709PHj13fb5FjphB', 'function': {'arguments': '{\"__arg1\": \"TGT\"}', 'name': 'StockChart52Weeks'}, 'type': 'function'}], 'refusal': None}, response_metadata={'token_usage': {'completion_tokens': 93, 'prompt_tokens': 1869, 'total_tokens': 1962, 'completion_tokens_details': {'accepted_prediction_tokens': 0, 'audio_tokens': 0, 'reasoning_tokens': 0, 'rejected_prediction_tokens': 0}, 'prompt_tokens_details': {'audio_tokens': 0, 'cached_tokens': 0}}, 'model_name': 'gpt-3.5-turbo-0125', 'system_fingerprint': None, 'id': 'chatcmpl-CRDaLTJ5ByX3nCLZNczMFacJtuPTP', 'service_tier': 'default', 'finish_reason': 'tool_calls', 'logprobs': None}, id='run--e1112ce3-9092-4431-871d-5f582d163184-0', tool_calls=[{'name': 'YahooFinanceAPI', 'args': {'__arg1': 'TGT'}, 'id': 'call_JJR5q3qD5Sn6XquH0eB3JQk9', 'type': 'tool_call'}, {'name': 'SECEDGARAPI', 'args': {'__arg1': 'TGT'}, 'id': 'call_aB2ZM4UwC0lUiAxREOuEmHxY', 'type': 'tool_call'}, {'name': 'NewsAPI', 'args': {'__arg1': 'TGT'}, 'id': 'call_sx5mjGuoOPJn6kk2obDCee8U', 'type': 'tool_call'}, {'name': 'StockChart52Weeks', 'args': {'__arg1': 'TGT'}, 'id': 'call_4cUvkqt9709PHj13fb5FjphB', 'type': 'tool_call'}], usage_metadata={'input_tokens': 1869, 'output_tokens': 93, 'total_tokens': 1962, 'input_token_details': {'audio': 0, 'cache_read': 0}, 'output_token_details': {'audio': 0, 'reasoning': 0}})]}}\n",
            "\u001b[1m[values]\u001b[0m {'messages': [HumanMessage(content='\\nSystem Role: You are a detailed Financial Research Agent designed to analyze companies, securities, and markets with a structured workflow.\\n\\n**Your goal** For TGT, provide a ~50 word investment summary, based on extensive reserach.\\n\\nInclude  to improve your answers.\\n\\nNEVER INCLUDE YOUR THOUGHT PROCESS IN THE RESULTS.\\n\\n\\n**Core Functions**\\n\\n1. Planning:\\nDevelop and print out a plan for each given stock symbol. Include a plan for a multi-step research process that defines what data to collect (e.g., news, market data, filings), what tools to use, and how to verify results.\\n\\nExample steps: “Collect company overview → Analyze financials → Cross-check recent filings → Summarize.”\\n\\n2. Tool Use:\\nUse all of your tools by default to hit APIs and data sources dynamically, such as Yahoo Finance, SEC EDGAR, news APIs, and any specialist analyzers. Choose the right tools and calls autonomously based on the goal of each stage. Return structured findings.\\n\\nTOOL USAGE REQUIREMENTS:\\n- Refer to the memory for useful data.\\n- Use at least 4 different tools for each analysis\\n- Cross-reference information from multiple sources\\n- If a tool fails, try alternative tools for the same data\\n- Always explain your reasoning between tool calls\\n\\n3. Self-Reflection:\\nEvaluate your output’s completeness, correctness, and coherence at each stage. If key data (e.g., P/E, recent filings, or market indicators) appears missing or uncertain, perform iterative refinement using another reasoning pass or additional tool calls.\\n\\n4. Memory/Learning:\\nRetain useful context from prior analyses (observations, missing data, errors, patterns in company performance). Use this \"brief memory\" to improve future research quality and efficiency.\\n\\n\\n**Workflow Logic**\\n\\nFollow a defined sequence for every research request:\\n* Ingest → Preprocess → Classify → Extract → Summarize\\n\\n1. Ingest: Gather relevant news, filings, and metrics. Use the webpage visit tool on any URLS.\\n\\n2. Preprocess: Clean, standardize, and interpret results from multiple tools.\\n\\n3. Classify: Route data to the correct analysis path (earnings, news, or market).\\n\\n4. Extract: Pull core signals, events, or values.\\n\\n5. Summarize: Synthesize insights in your final output.\\n\\n6. Routing:\\n  * Choose appropriate specialist analyzers according to data type:\\n\\n  * NewsAnalyzer for press, sentiment, or event narratives.\\n\\n  * MarketAnalyzer for indices, performance data, and macro context.\\n\\n7. Evaluation: Review reasoning and completeness, recall tools again if needed.\\n\\n\\n**Final Report**\\nAt the end of each session, create a final summary report that contains:\\n\\nUpdated output from each tool as well as the date and time of the inquiry.\\n\\nDo not include any planning information in the report. \\n\\nInclude citations such as [1], along with a hyperlink at the bottom of the page for further review.\\n\\nRespond in clear, organized Markdown, including headings, bullet points, and labeled data sources for readability.\\n\\n**STOPPING RULE:** Once you have basic financials, recent news, and market context, conclude your analysis. Do not seek additional tools or data.\\n\\nBe thorough - this analysis will inform major investment decisions.\\n\\n', additional_kwargs={}, response_metadata={}, id='500668b9-49e6-411b-a77e-48e34eb53101'), AIMessage(content='', additional_kwargs={'tool_calls': [{'id': 'call_JJR5q3qD5Sn6XquH0eB3JQk9', 'function': {'arguments': '{\"__arg1\": \"TGT\"}', 'name': 'YahooFinanceAPI'}, 'type': 'function'}, {'id': 'call_aB2ZM4UwC0lUiAxREOuEmHxY', 'function': {'arguments': '{\"__arg1\": \"TGT\"}', 'name': 'SECEDGARAPI'}, 'type': 'function'}, {'id': 'call_sx5mjGuoOPJn6kk2obDCee8U', 'function': {'arguments': '{\"__arg1\": \"TGT\"}', 'name': 'NewsAPI'}, 'type': 'function'}, {'id': 'call_4cUvkqt9709PHj13fb5FjphB', 'function': {'arguments': '{\"__arg1\": \"TGT\"}', 'name': 'StockChart52Weeks'}, 'type': 'function'}], 'refusal': None}, response_metadata={'token_usage': {'completion_tokens': 93, 'prompt_tokens': 1869, 'total_tokens': 1962, 'completion_tokens_details': {'accepted_prediction_tokens': 0, 'audio_tokens': 0, 'reasoning_tokens': 0, 'rejected_prediction_tokens': 0}, 'prompt_tokens_details': {'audio_tokens': 0, 'cached_tokens': 0}}, 'model_name': 'gpt-3.5-turbo-0125', 'system_fingerprint': None, 'id': 'chatcmpl-CRDaLTJ5ByX3nCLZNczMFacJtuPTP', 'service_tier': 'default', 'finish_reason': 'tool_calls', 'logprobs': None}, id='run--e1112ce3-9092-4431-871d-5f582d163184-0', tool_calls=[{'name': 'YahooFinanceAPI', 'args': {'__arg1': 'TGT'}, 'id': 'call_JJR5q3qD5Sn6XquH0eB3JQk9', 'type': 'tool_call'}, {'name': 'SECEDGARAPI', 'args': {'__arg1': 'TGT'}, 'id': 'call_aB2ZM4UwC0lUiAxREOuEmHxY', 'type': 'tool_call'}, {'name': 'NewsAPI', 'args': {'__arg1': 'TGT'}, 'id': 'call_sx5mjGuoOPJn6kk2obDCee8U', 'type': 'tool_call'}, {'name': 'StockChart52Weeks', 'args': {'__arg1': 'TGT'}, 'id': 'call_4cUvkqt9709PHj13fb5FjphB', 'type': 'tool_call'}], usage_metadata={'input_tokens': 1869, 'output_tokens': 93, 'total_tokens': 1962, 'input_token_details': {'audio': 0, 'cache_read': 0}, 'output_token_details': {'audio': 0, 'reasoning': 0}})]}\n"
          ]
        },
        {
          "output_type": "stream",
          "name": "stderr",
          "text": [
            "/tmp/ipython-input-3553478582.py:18: FutureWarning: YF.download() has changed argument auto_adjust default to True\n",
            "  data = yf.download(symbol, start=start_date, end=end_date)\n",
            "[*********************100%***********************]  1 of 1 completed\n"
          ]
        },
        {
          "name": "stdout",
          "output_type": "stream",
          "text": [
            "\u001b[1m[updates]\u001b[0m {'tools': {'messages': [ToolMessage(content='Walmart is the latest company to announce a partnership with OpenAI.\\nBest Buy could quietly emerge as the big retail winner if U.S.–China tariff relief holds.\\nWalmart is the latest company to announce a partnership with OpenAI.', name='NewsAPI', tool_call_id='call_sx5mjGuoOPJn6kk2obDCee8U')]}}\n",
            "\u001b[1m[updates]\u001b[0m {'tools': {'messages': [ToolMessage(content='Company: Target Corporation (TGT)\\nSector: Consumer Defensive\\nPrice: $90.91\\nMarket Cap: 41309425664\\nP/E Ratio: 10.5955715\\n52-Week High: 158.97\\n52-Week Low: 85.36\\nDividend Yield: 5.02\\nBeta: 1.177\\nRevenue: 105640001536\\nProfit Margin: 0.03718\\n', name='YahooFinanceAPI', tool_call_id='call_JJR5q3qD5Sn6XquH0eB3JQk9')]}}\n",
            "\u001b[1m[updates]\u001b[0m {'tools': {'messages': [ToolMessage(content='Stock chart saved as TGT_52week_chart.png', name='StockChart52Weeks', tool_call_id='call_4cUvkqt9709PHj13fb5FjphB')]}}\n",
            "\u001b[1m[updates]\u001b[0m {'tools': {'messages': [ToolMessage(content='Latest filings with summaries:\\n8-K on 2025-10-09:\\nhttps://www.sec.gov/Archives/edgar/data/27419/000002741925000121/tgt-20251009.htm\\nSummary: No key XML findings found.\\n\\n4 on 2025-10-02:\\nhttps://www.sec.gov/Archives/edgar/data/27419/000194181625000004/xslF345X05/wk-form4_1759437603.xml\\nSummary: SEC FORM \\n            4 SEC Form 4 FORM 4 UNITED STATES SECURITIES AND EXCHANGE COMMISSION Washington, D.C. 20549 STATEMENT OF CHANGES IN BENEFICIAL OWNERSHIP Filed pursuant to Section 16(a) of the Securities Exchange Act of 1934 or Section 30(h) of the Investment Company Act of 1940 OMB APPROVAL OMB Number: 3235-0287 Estimated average burden hours per response: 0.5 Â\\xa0Â Check this box if no longer\\n\\n10-Q on 2025-08-29:\\nhttps://www.sec.gov/Archives/edgar/data/27419/000002741925000118/tgt-20250802.htm\\nSummary: No key XML findings found.\\n', name='SECEDGARAPI', tool_call_id='call_aB2ZM4UwC0lUiAxREOuEmHxY')]}}\n",
            "\u001b[1m[values]\u001b[0m {'messages': [HumanMessage(content='\\nSystem Role: You are a detailed Financial Research Agent designed to analyze companies, securities, and markets with a structured workflow.\\n\\n**Your goal** For TGT, provide a ~50 word investment summary, based on extensive reserach.\\n\\nInclude  to improve your answers.\\n\\nNEVER INCLUDE YOUR THOUGHT PROCESS IN THE RESULTS.\\n\\n\\n**Core Functions**\\n\\n1. Planning:\\nDevelop and print out a plan for each given stock symbol. Include a plan for a multi-step research process that defines what data to collect (e.g., news, market data, filings), what tools to use, and how to verify results.\\n\\nExample steps: “Collect company overview → Analyze financials → Cross-check recent filings → Summarize.”\\n\\n2. Tool Use:\\nUse all of your tools by default to hit APIs and data sources dynamically, such as Yahoo Finance, SEC EDGAR, news APIs, and any specialist analyzers. Choose the right tools and calls autonomously based on the goal of each stage. Return structured findings.\\n\\nTOOL USAGE REQUIREMENTS:\\n- Refer to the memory for useful data.\\n- Use at least 4 different tools for each analysis\\n- Cross-reference information from multiple sources\\n- If a tool fails, try alternative tools for the same data\\n- Always explain your reasoning between tool calls\\n\\n3. Self-Reflection:\\nEvaluate your output’s completeness, correctness, and coherence at each stage. If key data (e.g., P/E, recent filings, or market indicators) appears missing or uncertain, perform iterative refinement using another reasoning pass or additional tool calls.\\n\\n4. Memory/Learning:\\nRetain useful context from prior analyses (observations, missing data, errors, patterns in company performance). Use this \"brief memory\" to improve future research quality and efficiency.\\n\\n\\n**Workflow Logic**\\n\\nFollow a defined sequence for every research request:\\n* Ingest → Preprocess → Classify → Extract → Summarize\\n\\n1. Ingest: Gather relevant news, filings, and metrics. Use the webpage visit tool on any URLS.\\n\\n2. Preprocess: Clean, standardize, and interpret results from multiple tools.\\n\\n3. Classify: Route data to the correct analysis path (earnings, news, or market).\\n\\n4. Extract: Pull core signals, events, or values.\\n\\n5. Summarize: Synthesize insights in your final output.\\n\\n6. Routing:\\n  * Choose appropriate specialist analyzers according to data type:\\n\\n  * NewsAnalyzer for press, sentiment, or event narratives.\\n\\n  * MarketAnalyzer for indices, performance data, and macro context.\\n\\n7. Evaluation: Review reasoning and completeness, recall tools again if needed.\\n\\n\\n**Final Report**\\nAt the end of each session, create a final summary report that contains:\\n\\nUpdated output from each tool as well as the date and time of the inquiry.\\n\\nDo not include any planning information in the report. \\n\\nInclude citations such as [1], along with a hyperlink at the bottom of the page for further review.\\n\\nRespond in clear, organized Markdown, including headings, bullet points, and labeled data sources for readability.\\n\\n**STOPPING RULE:** Once you have basic financials, recent news, and market context, conclude your analysis. Do not seek additional tools or data.\\n\\nBe thorough - this analysis will inform major investment decisions.\\n\\n', additional_kwargs={}, response_metadata={}, id='500668b9-49e6-411b-a77e-48e34eb53101'), AIMessage(content='', additional_kwargs={'tool_calls': [{'id': 'call_JJR5q3qD5Sn6XquH0eB3JQk9', 'function': {'arguments': '{\"__arg1\": \"TGT\"}', 'name': 'YahooFinanceAPI'}, 'type': 'function'}, {'id': 'call_aB2ZM4UwC0lUiAxREOuEmHxY', 'function': {'arguments': '{\"__arg1\": \"TGT\"}', 'name': 'SECEDGARAPI'}, 'type': 'function'}, {'id': 'call_sx5mjGuoOPJn6kk2obDCee8U', 'function': {'arguments': '{\"__arg1\": \"TGT\"}', 'name': 'NewsAPI'}, 'type': 'function'}, {'id': 'call_4cUvkqt9709PHj13fb5FjphB', 'function': {'arguments': '{\"__arg1\": \"TGT\"}', 'name': 'StockChart52Weeks'}, 'type': 'function'}], 'refusal': None}, response_metadata={'token_usage': {'completion_tokens': 93, 'prompt_tokens': 1869, 'total_tokens': 1962, 'completion_tokens_details': {'accepted_prediction_tokens': 0, 'audio_tokens': 0, 'reasoning_tokens': 0, 'rejected_prediction_tokens': 0}, 'prompt_tokens_details': {'audio_tokens': 0, 'cached_tokens': 0}}, 'model_name': 'gpt-3.5-turbo-0125', 'system_fingerprint': None, 'id': 'chatcmpl-CRDaLTJ5ByX3nCLZNczMFacJtuPTP', 'service_tier': 'default', 'finish_reason': 'tool_calls', 'logprobs': None}, id='run--e1112ce3-9092-4431-871d-5f582d163184-0', tool_calls=[{'name': 'YahooFinanceAPI', 'args': {'__arg1': 'TGT'}, 'id': 'call_JJR5q3qD5Sn6XquH0eB3JQk9', 'type': 'tool_call'}, {'name': 'SECEDGARAPI', 'args': {'__arg1': 'TGT'}, 'id': 'call_aB2ZM4UwC0lUiAxREOuEmHxY', 'type': 'tool_call'}, {'name': 'NewsAPI', 'args': {'__arg1': 'TGT'}, 'id': 'call_sx5mjGuoOPJn6kk2obDCee8U', 'type': 'tool_call'}, {'name': 'StockChart52Weeks', 'args': {'__arg1': 'TGT'}, 'id': 'call_4cUvkqt9709PHj13fb5FjphB', 'type': 'tool_call'}], usage_metadata={'input_tokens': 1869, 'output_tokens': 93, 'total_tokens': 1962, 'input_token_details': {'audio': 0, 'cache_read': 0}, 'output_token_details': {'audio': 0, 'reasoning': 0}}), ToolMessage(content='Company: Target Corporation (TGT)\\nSector: Consumer Defensive\\nPrice: $90.91\\nMarket Cap: 41309425664\\nP/E Ratio: 10.5955715\\n52-Week High: 158.97\\n52-Week Low: 85.36\\nDividend Yield: 5.02\\nBeta: 1.177\\nRevenue: 105640001536\\nProfit Margin: 0.03718\\n', name='YahooFinanceAPI', id='c9cce346-1d75-4b56-a002-3e5aaf901e14', tool_call_id='call_JJR5q3qD5Sn6XquH0eB3JQk9'), ToolMessage(content='Latest filings with summaries:\\n8-K on 2025-10-09:\\nhttps://www.sec.gov/Archives/edgar/data/27419/000002741925000121/tgt-20251009.htm\\nSummary: No key XML findings found.\\n\\n4 on 2025-10-02:\\nhttps://www.sec.gov/Archives/edgar/data/27419/000194181625000004/xslF345X05/wk-form4_1759437603.xml\\nSummary: SEC FORM \\n            4 SEC Form 4 FORM 4 UNITED STATES SECURITIES AND EXCHANGE COMMISSION Washington, D.C. 20549 STATEMENT OF CHANGES IN BENEFICIAL OWNERSHIP Filed pursuant to Section 16(a) of the Securities Exchange Act of 1934 or Section 30(h) of the Investment Company Act of 1940 OMB APPROVAL OMB Number: 3235-0287 Estimated average burden hours per response: 0.5 Â\\xa0Â Check this box if no longer\\n\\n10-Q on 2025-08-29:\\nhttps://www.sec.gov/Archives/edgar/data/27419/000002741925000118/tgt-20250802.htm\\nSummary: No key XML findings found.\\n', name='SECEDGARAPI', id='f7c41f8f-365b-4d1a-a3a6-4474768bba2c', tool_call_id='call_aB2ZM4UwC0lUiAxREOuEmHxY'), ToolMessage(content='Walmart is the latest company to announce a partnership with OpenAI.\\nBest Buy could quietly emerge as the big retail winner if U.S.–China tariff relief holds.\\nWalmart is the latest company to announce a partnership with OpenAI.', name='NewsAPI', id='7fe152f8-efec-4d5c-b498-6126dd78d819', tool_call_id='call_sx5mjGuoOPJn6kk2obDCee8U'), ToolMessage(content='Stock chart saved as TGT_52week_chart.png', name='StockChart52Weeks', id='201039b9-1001-47c1-8a0c-9df8f11a67cc', tool_call_id='call_4cUvkqt9709PHj13fb5FjphB')]}\n",
            "\u001b[1m[updates]\u001b[0m {'agent': {'messages': [AIMessage(content='## Investment Summary for Target Corporation (TGT)\\n\\n### Financial Overview\\n- **Price:** $90.91\\n- **Market Cap:** $41.31 billion\\n- **P/E Ratio:** 10.60\\n- **Dividend Yield:** 5.02%\\n- **52-Week High:** $158.97\\n- **52-Week Low:** $85.36\\n- **Beta:** 1.18\\n- **Revenue:** $105.64 billion\\n- **Profit Margin:** 3.72%\\n\\n### Recent Filings\\n- **8-K on 2025-10-09:** [Link to Filing](https://www.sec.gov/Archives/edgar/data/27419/000002741925000121/tgt-20251009.htm)\\n- **4 on 2025-10-02:** [Link to Filing](https://www.sec.gov/Archives/edgar/data/27419/000194181625000004/xslF345X05/wk-form4_1759437603.xml)\\n- **10-Q on 2025-08-29:** [Link to Filing](https://www.sec.gov/Archives/edgar/data/27419/000002741925000118/tgt-20250802.htm)\\n\\n### Recent News\\n- Walmart partners with OpenAI.\\n- Best Buy could benefit from U.S.–China tariff relief.\\n- Walmart announces a partnership with OpenAI.\\n\\n### 52-Week Stock Price Chart\\n- Stock chart saved as TGT_52week_chart.png\\n\\n[1] Data retrieved from Yahoo Finance, SEC EDGAR, News API, and StockChart52Weeks on the date of inquiry.\\n\\nFor further details, refer to the [SEC Filings](https://www.sec.gov/edgar/searchedgar/companysearch.html).', additional_kwargs={'refusal': None}, response_metadata={'token_usage': {'completion_tokens': 381, 'prompt_tokens': 2419, 'total_tokens': 2800, 'completion_tokens_details': {'accepted_prediction_tokens': 0, 'audio_tokens': 0, 'reasoning_tokens': 0, 'rejected_prediction_tokens': 0}, 'prompt_tokens_details': {'audio_tokens': 0, 'cached_tokens': 0}}, 'model_name': 'gpt-3.5-turbo-0125', 'system_fingerprint': None, 'id': 'chatcmpl-CRDaNxDsiQ6RE2AWeL4pdPZ3cGaZP', 'service_tier': 'default', 'finish_reason': 'stop', 'logprobs': None}, id='run--bd0dd9e6-b278-4c9d-a2dc-4ce8d5a6dfd6-0', usage_metadata={'input_tokens': 2419, 'output_tokens': 381, 'total_tokens': 2800, 'input_token_details': {'audio': 0, 'cache_read': 0}, 'output_token_details': {'audio': 0, 'reasoning': 0}})]}}\n",
            "\u001b[1m[values]\u001b[0m {'messages': [HumanMessage(content='\\nSystem Role: You are a detailed Financial Research Agent designed to analyze companies, securities, and markets with a structured workflow.\\n\\n**Your goal** For TGT, provide a ~50 word investment summary, based on extensive reserach.\\n\\nInclude  to improve your answers.\\n\\nNEVER INCLUDE YOUR THOUGHT PROCESS IN THE RESULTS.\\n\\n\\n**Core Functions**\\n\\n1. Planning:\\nDevelop and print out a plan for each given stock symbol. Include a plan for a multi-step research process that defines what data to collect (e.g., news, market data, filings), what tools to use, and how to verify results.\\n\\nExample steps: “Collect company overview → Analyze financials → Cross-check recent filings → Summarize.”\\n\\n2. Tool Use:\\nUse all of your tools by default to hit APIs and data sources dynamically, such as Yahoo Finance, SEC EDGAR, news APIs, and any specialist analyzers. Choose the right tools and calls autonomously based on the goal of each stage. Return structured findings.\\n\\nTOOL USAGE REQUIREMENTS:\\n- Refer to the memory for useful data.\\n- Use at least 4 different tools for each analysis\\n- Cross-reference information from multiple sources\\n- If a tool fails, try alternative tools for the same data\\n- Always explain your reasoning between tool calls\\n\\n3. Self-Reflection:\\nEvaluate your output’s completeness, correctness, and coherence at each stage. If key data (e.g., P/E, recent filings, or market indicators) appears missing or uncertain, perform iterative refinement using another reasoning pass or additional tool calls.\\n\\n4. Memory/Learning:\\nRetain useful context from prior analyses (observations, missing data, errors, patterns in company performance). Use this \"brief memory\" to improve future research quality and efficiency.\\n\\n\\n**Workflow Logic**\\n\\nFollow a defined sequence for every research request:\\n* Ingest → Preprocess → Classify → Extract → Summarize\\n\\n1. Ingest: Gather relevant news, filings, and metrics. Use the webpage visit tool on any URLS.\\n\\n2. Preprocess: Clean, standardize, and interpret results from multiple tools.\\n\\n3. Classify: Route data to the correct analysis path (earnings, news, or market).\\n\\n4. Extract: Pull core signals, events, or values.\\n\\n5. Summarize: Synthesize insights in your final output.\\n\\n6. Routing:\\n  * Choose appropriate specialist analyzers according to data type:\\n\\n  * NewsAnalyzer for press, sentiment, or event narratives.\\n\\n  * MarketAnalyzer for indices, performance data, and macro context.\\n\\n7. Evaluation: Review reasoning and completeness, recall tools again if needed.\\n\\n\\n**Final Report**\\nAt the end of each session, create a final summary report that contains:\\n\\nUpdated output from each tool as well as the date and time of the inquiry.\\n\\nDo not include any planning information in the report. \\n\\nInclude citations such as [1], along with a hyperlink at the bottom of the page for further review.\\n\\nRespond in clear, organized Markdown, including headings, bullet points, and labeled data sources for readability.\\n\\n**STOPPING RULE:** Once you have basic financials, recent news, and market context, conclude your analysis. Do not seek additional tools or data.\\n\\nBe thorough - this analysis will inform major investment decisions.\\n\\n', additional_kwargs={}, response_metadata={}, id='500668b9-49e6-411b-a77e-48e34eb53101'), AIMessage(content='', additional_kwargs={'tool_calls': [{'id': 'call_JJR5q3qD5Sn6XquH0eB3JQk9', 'function': {'arguments': '{\"__arg1\": \"TGT\"}', 'name': 'YahooFinanceAPI'}, 'type': 'function'}, {'id': 'call_aB2ZM4UwC0lUiAxREOuEmHxY', 'function': {'arguments': '{\"__arg1\": \"TGT\"}', 'name': 'SECEDGARAPI'}, 'type': 'function'}, {'id': 'call_sx5mjGuoOPJn6kk2obDCee8U', 'function': {'arguments': '{\"__arg1\": \"TGT\"}', 'name': 'NewsAPI'}, 'type': 'function'}, {'id': 'call_4cUvkqt9709PHj13fb5FjphB', 'function': {'arguments': '{\"__arg1\": \"TGT\"}', 'name': 'StockChart52Weeks'}, 'type': 'function'}], 'refusal': None}, response_metadata={'token_usage': {'completion_tokens': 93, 'prompt_tokens': 1869, 'total_tokens': 1962, 'completion_tokens_details': {'accepted_prediction_tokens': 0, 'audio_tokens': 0, 'reasoning_tokens': 0, 'rejected_prediction_tokens': 0}, 'prompt_tokens_details': {'audio_tokens': 0, 'cached_tokens': 0}}, 'model_name': 'gpt-3.5-turbo-0125', 'system_fingerprint': None, 'id': 'chatcmpl-CRDaLTJ5ByX3nCLZNczMFacJtuPTP', 'service_tier': 'default', 'finish_reason': 'tool_calls', 'logprobs': None}, id='run--e1112ce3-9092-4431-871d-5f582d163184-0', tool_calls=[{'name': 'YahooFinanceAPI', 'args': {'__arg1': 'TGT'}, 'id': 'call_JJR5q3qD5Sn6XquH0eB3JQk9', 'type': 'tool_call'}, {'name': 'SECEDGARAPI', 'args': {'__arg1': 'TGT'}, 'id': 'call_aB2ZM4UwC0lUiAxREOuEmHxY', 'type': 'tool_call'}, {'name': 'NewsAPI', 'args': {'__arg1': 'TGT'}, 'id': 'call_sx5mjGuoOPJn6kk2obDCee8U', 'type': 'tool_call'}, {'name': 'StockChart52Weeks', 'args': {'__arg1': 'TGT'}, 'id': 'call_4cUvkqt9709PHj13fb5FjphB', 'type': 'tool_call'}], usage_metadata={'input_tokens': 1869, 'output_tokens': 93, 'total_tokens': 1962, 'input_token_details': {'audio': 0, 'cache_read': 0}, 'output_token_details': {'audio': 0, 'reasoning': 0}}), ToolMessage(content='Company: Target Corporation (TGT)\\nSector: Consumer Defensive\\nPrice: $90.91\\nMarket Cap: 41309425664\\nP/E Ratio: 10.5955715\\n52-Week High: 158.97\\n52-Week Low: 85.36\\nDividend Yield: 5.02\\nBeta: 1.177\\nRevenue: 105640001536\\nProfit Margin: 0.03718\\n', name='YahooFinanceAPI', id='c9cce346-1d75-4b56-a002-3e5aaf901e14', tool_call_id='call_JJR5q3qD5Sn6XquH0eB3JQk9'), ToolMessage(content='Latest filings with summaries:\\n8-K on 2025-10-09:\\nhttps://www.sec.gov/Archives/edgar/data/27419/000002741925000121/tgt-20251009.htm\\nSummary: No key XML findings found.\\n\\n4 on 2025-10-02:\\nhttps://www.sec.gov/Archives/edgar/data/27419/000194181625000004/xslF345X05/wk-form4_1759437603.xml\\nSummary: SEC FORM \\n            4 SEC Form 4 FORM 4 UNITED STATES SECURITIES AND EXCHANGE COMMISSION Washington, D.C. 20549 STATEMENT OF CHANGES IN BENEFICIAL OWNERSHIP Filed pursuant to Section 16(a) of the Securities Exchange Act of 1934 or Section 30(h) of the Investment Company Act of 1940 OMB APPROVAL OMB Number: 3235-0287 Estimated average burden hours per response: 0.5 Â\\xa0Â Check this box if no longer\\n\\n10-Q on 2025-08-29:\\nhttps://www.sec.gov/Archives/edgar/data/27419/000002741925000118/tgt-20250802.htm\\nSummary: No key XML findings found.\\n', name='SECEDGARAPI', id='f7c41f8f-365b-4d1a-a3a6-4474768bba2c', tool_call_id='call_aB2ZM4UwC0lUiAxREOuEmHxY'), ToolMessage(content='Walmart is the latest company to announce a partnership with OpenAI.\\nBest Buy could quietly emerge as the big retail winner if U.S.–China tariff relief holds.\\nWalmart is the latest company to announce a partnership with OpenAI.', name='NewsAPI', id='7fe152f8-efec-4d5c-b498-6126dd78d819', tool_call_id='call_sx5mjGuoOPJn6kk2obDCee8U'), ToolMessage(content='Stock chart saved as TGT_52week_chart.png', name='StockChart52Weeks', id='201039b9-1001-47c1-8a0c-9df8f11a67cc', tool_call_id='call_4cUvkqt9709PHj13fb5FjphB'), AIMessage(content='## Investment Summary for Target Corporation (TGT)\\n\\n### Financial Overview\\n- **Price:** $90.91\\n- **Market Cap:** $41.31 billion\\n- **P/E Ratio:** 10.60\\n- **Dividend Yield:** 5.02%\\n- **52-Week High:** $158.97\\n- **52-Week Low:** $85.36\\n- **Beta:** 1.18\\n- **Revenue:** $105.64 billion\\n- **Profit Margin:** 3.72%\\n\\n### Recent Filings\\n- **8-K on 2025-10-09:** [Link to Filing](https://www.sec.gov/Archives/edgar/data/27419/000002741925000121/tgt-20251009.htm)\\n- **4 on 2025-10-02:** [Link to Filing](https://www.sec.gov/Archives/edgar/data/27419/000194181625000004/xslF345X05/wk-form4_1759437603.xml)\\n- **10-Q on 2025-08-29:** [Link to Filing](https://www.sec.gov/Archives/edgar/data/27419/000002741925000118/tgt-20250802.htm)\\n\\n### Recent News\\n- Walmart partners with OpenAI.\\n- Best Buy could benefit from U.S.–China tariff relief.\\n- Walmart announces a partnership with OpenAI.\\n\\n### 52-Week Stock Price Chart\\n- Stock chart saved as TGT_52week_chart.png\\n\\n[1] Data retrieved from Yahoo Finance, SEC EDGAR, News API, and StockChart52Weeks on the date of inquiry.\\n\\nFor further details, refer to the [SEC Filings](https://www.sec.gov/edgar/searchedgar/companysearch.html).', additional_kwargs={'refusal': None}, response_metadata={'token_usage': {'completion_tokens': 381, 'prompt_tokens': 2419, 'total_tokens': 2800, 'completion_tokens_details': {'accepted_prediction_tokens': 0, 'audio_tokens': 0, 'reasoning_tokens': 0, 'rejected_prediction_tokens': 0}, 'prompt_tokens_details': {'audio_tokens': 0, 'cached_tokens': 0}}, 'model_name': 'gpt-3.5-turbo-0125', 'system_fingerprint': None, 'id': 'chatcmpl-CRDaNxDsiQ6RE2AWeL4pdPZ3cGaZP', 'service_tier': 'default', 'finish_reason': 'stop', 'logprobs': None}, id='run--bd0dd9e6-b278-4c9d-a2dc-4ce8d5a6dfd6-0', usage_metadata={'input_tokens': 2419, 'output_tokens': 381, 'total_tokens': 2800, 'input_token_details': {'audio': 0, 'cache_read': 0}, 'output_token_details': {'audio': 0, 'reasoning': 0}})]}\n",
            "\n",
            "System Role: You are a detailed Financial Research Agent designed to analyze companies, securities, and markets with a structured workflow.\n",
            "\n",
            "**Your goal** For TGT, provide a ~50 word investment summary, based on extensive reserach.\n",
            "\n",
            "Include  to improve your answers.\n",
            "\n",
            "NEVER INCLUDE YOUR THOUGHT PROCESS IN THE RESULTS.\n",
            "\n",
            "\n",
            "**Core Functions**\n",
            "\n",
            "1. Planning:\n",
            "Develop and print out a plan for each given stock symbol. Include a plan for a multi-step research process that defines what data to collect (e.g., news, market data, filings), what tools to use, and how to verify results.\n",
            "\n",
            "Example steps: “Collect company overview → Analyze financials → Cross-check recent filings → Summarize.”\n",
            "\n",
            "2. Tool Use:\n",
            "Use all of your tools by default to hit APIs and data sources dynamically, such as Yahoo Finance, SEC EDGAR, news APIs, and any specialist analyzers. Choose the right tools and calls autonomously based on the goal of each stage. Return structured findings.\n",
            "\n",
            "TOOL USAGE REQUIREMENTS:\n",
            "- Refer to the memory for useful data.\n",
            "- Use at least 4 different tools for each analysis\n",
            "- Cross-reference information from multiple sources\n",
            "- If a tool fails, try alternative tools for the same data\n",
            "- Always explain your reasoning between tool calls\n",
            "\n",
            "3. Self-Reflection:\n",
            "Evaluate your output’s completeness, correctness, and coherence at each stage. If key data (e.g., P/E, recent filings, or market indicators) appears missing or uncertain, perform iterative refinement using another reasoning pass or additional tool calls.\n",
            "\n",
            "4. Memory/Learning:\n",
            "Retain useful context from prior analyses (observations, missing data, errors, patterns in company performance). Use this \"brief memory\" to improve future research quality and efficiency.\n",
            "\n",
            "\n",
            "**Workflow Logic**\n",
            "\n",
            "Follow a defined sequence for every research request:\n",
            "* Ingest → Preprocess → Classify → Extract → Summarize\n",
            "\n",
            "1. Ingest: Gather relevant news, filings, and metrics. Use the webpage visit tool on any URLS.\n",
            "\n",
            "2. Preprocess: Clean, standardize, and interpret results from multiple tools.\n",
            "\n",
            "3. Classify: Route data to the correct analysis path (earnings, news, or market).\n",
            "\n",
            "4. Extract: Pull core signals, events, or values.\n",
            "\n",
            "5. Summarize: Synthesize insights in your final output.\n",
            "\n",
            "6. Routing:\n",
            "  * Choose appropriate specialist analyzers according to data type:\n",
            "\n",
            "  * NewsAnalyzer for press, sentiment, or event narratives.\n",
            "\n",
            "  * MarketAnalyzer for indices, performance data, and macro context.\n",
            "\n",
            "7. Evaluation: Review reasoning and completeness, recall tools again if needed.\n",
            "\n",
            "\n",
            "**Final Report**\n",
            "At the end of each session, create a final summary report that contains:\n",
            "\n",
            "Updated output from each tool as well as the date and time of the inquiry.\n",
            "\n",
            "Do not include any planning information in the report. \n",
            "\n",
            "Include citations such as [1], along with a hyperlink at the bottom of the page for further review.\n",
            "\n",
            "Respond in clear, organized Markdown, including headings, bullet points, and labeled data sources for readability.\n",
            "\n",
            "**STOPPING RULE:** Once you have basic financials, recent news, and market context, conclude your analysis. Do not seek additional tools or data.\n",
            "\n",
            "Be thorough - this analysis will inform major investment decisions.\n",
            "\n",
            " |  tool None\n",
            "\n",
            "Company: Target Corporation (TGT)\n",
            "Sector: Consumer Defensive\n",
            "Price: $90.91\n",
            "Market Cap: 41309425664\n",
            "P/E Ratio: 10.5955715\n",
            "52-Week High: 158.97\n",
            "52-Week Low: 85.36\n",
            "Dividend Yield: 5.02\n",
            "Beta: 1.177\n",
            "Revenue: 105640001536\n",
            "Profit Margin: 0.03718\n",
            " |  tool YahooFinanceAPI\n",
            "\n",
            "Latest filings with summaries:\n",
            "8-K on 2025-10-09:\n",
            "https://www.sec.gov/Archives/edgar/data/27419/000002741925000121/tgt-20251009.htm\n",
            "Summary: No key XML findings found.\n",
            "\n",
            "4 on 2025-10-02:\n",
            "https://www.sec.gov/Archives/edgar/data/27419/000194181625000004/xslF345X05/wk-form4_1759437603.xml\n",
            "Summary: SEC FORM \n",
            "            4 SEC Form 4 FORM 4 UNITED STATES SECURITIES AND EXCHANGE COMMISSION Washington, D.C. 20549 STATEMENT OF CHANGES IN BENEFICIAL OWNERSHIP Filed pursuant to Section 16(a) of the Securities Exchange Act of 1934 or Section 30(h) of the Investment Company Act of 1940 OMB APPROVAL OMB Number: 3235-0287 Estimated average burden hours per response: 0.5 Â Â Check this box if no longer\n",
            "\n",
            "10-Q on 2025-08-29:\n",
            "https://www.sec.gov/Archives/edgar/data/27419/000002741925000118/tgt-20250802.htm\n",
            "Summary: No key XML findings found.\n",
            " |  tool SECEDGARAPI\n",
            "\n",
            "Walmart is the latest company to announce a partnership with OpenAI.\n",
            "Best Buy could quietly emerge as the big retail winner if U.S.–China tariff relief holds.\n",
            "Walmart is the latest company to announce a partnership with OpenAI. |  tool NewsAPI\n",
            "\n",
            "Stock chart saved as TGT_52week_chart.png |  tool StockChart52Weeks\n",
            "\n",
            "## Investment Summary for Target Corporation (TGT)\n",
            "\n",
            "### Financial Overview\n",
            "- **Price:** $90.91\n",
            "- **Market Cap:** $41.31 billion\n",
            "- **P/E Ratio:** 10.60\n",
            "- **Dividend Yield:** 5.02%\n",
            "- **52-Week High:** $158.97\n",
            "- **52-Week Low:** $85.36\n",
            "- **Beta:** 1.18\n",
            "- **Revenue:** $105.64 billion\n",
            "- **Profit Margin:** 3.72%\n",
            "\n",
            "### Recent Filings\n",
            "- **8-K on 2025-10-09:** [Link to Filing](https://www.sec.gov/Archives/edgar/data/27419/000002741925000121/tgt-20251009.htm)\n",
            "- **4 on 2025-10-02:** [Link to Filing](https://www.sec.gov/Archives/edgar/data/27419/000194181625000004/xslF345X05/wk-form4_1759437603.xml)\n",
            "- **10-Q on 2025-08-29:** [Link to Filing](https://www.sec.gov/Archives/edgar/data/27419/000002741925000118/tgt-20250802.htm)\n",
            "\n",
            "### Recent News\n",
            "- Walmart partners with OpenAI.\n",
            "- Best Buy could benefit from U.S.–China tariff relief.\n",
            "- Walmart announces a partnership with OpenAI.\n",
            "\n",
            "### 52-Week Stock Price Chart\n",
            "- Stock chart saved as TGT_52week_chart.png\n",
            "\n",
            "[1] Data retrieved from Yahoo Finance, SEC EDGAR, News API, and StockChart52Weeks on the date of inquiry.\n",
            "\n",
            "For further details, refer to the [SEC Filings](https://www.sec.gov/edgar/searchedgar/companysearch.html). |  tool None\n",
            "\n",
            "\n",
            "--- Analysis Summary ---\n",
            "## Investment Summary for Target Corporation (TGT)\n",
            "\n",
            "### Financial Overview\n",
            "- **Price:** $90.91\n",
            "- **Market Cap:** $41.31 billion\n",
            "- **P/E Ratio:** 10.60\n",
            "- **Dividend Yield:** 5.02%\n",
            "- **52-Week High:** $158.97\n",
            "- **52-Week Low:** $85.36\n",
            "- **Beta:** 1.18\n",
            "- **Revenue:** $105.64 billion\n",
            "- **Profit Margin:** 3.72%\n",
            "\n",
            "### Recent Filings\n",
            "- **8-K on 2025-10-09:** [Link to Filing](https://www.sec.gov/Archives/edgar/data/27419/000002741925000121/tgt-20251009.htm)\n",
            "- **4 on 2025-10-02:** [Link to Filing](https://www.sec.gov/Archives/edgar/data/27419/000194181625000004/xslF345X05/wk-form4_1759437603.xml)\n",
            "- **10-Q on 2025-08-29:** [Link to Filing](https://www.sec.gov/Archives/edgar/data/27419/000002741925000118/tgt-20250802.htm)\n",
            "\n",
            "### Recent News\n",
            "- Walmart partners with OpenAI.\n",
            "- Best Buy could benefit from U.S.–China tariff relief.\n",
            "- Walmart announces a partnership with OpenAI.\n",
            "\n",
            "### 52-Week Stock Price Chart\n",
            "- Stock chart saved as TGT_52week_chart.png\n",
            "\n",
            "[1] Data retrieved from Yahoo Finance, SEC EDGAR, News API, and StockChart52Weeks on the date of inquiry.\n",
            "\n",
            "For further details, refer to the [SEC Filings](https://www.sec.gov/edgar/searchedgar/companysearch.html).\n",
            "\n",
            "Please enter your feedback (areas to improve, missing info, corrections):\n",
            "Use Tavily to search those listed URLS to get more information\n"
          ]
        },
        {
          "output_type": "error",
          "ename": "KeyError",
          "evalue": "'symbol'",
          "traceback": [
            "\u001b[0;31m---------------------------------------------------------------------------\u001b[0m",
            "\u001b[0;31mKeyError\u001b[0m                                  Traceback (most recent call last)",
            "\u001b[0;32m/tmp/ipython-input-23180890.py\u001b[0m in \u001b[0;36m<cell line: 0>\u001b[0;34m()\u001b[0m\n\u001b[1;32m      1\u001b[0m \u001b[0;31m#Execution function\u001b[0m\u001b[0;34m\u001b[0m\u001b[0;34m\u001b[0m\u001b[0m\n\u001b[0;32m----> 2\u001b[0;31m final_analysis = optimization_loop(tools_agent,\n\u001b[0m\u001b[1;32m      3\u001b[0m                                    \u001b[0mevaluator_agent\u001b[0m\u001b[0;34m,\u001b[0m\u001b[0;34m\u001b[0m\u001b[0;34m\u001b[0m\u001b[0m\n\u001b[1;32m      4\u001b[0m                                    {\n\u001b[1;32m      5\u001b[0m     \"messages\": [\n",
            "\u001b[0;32m/tmp/ipython-input-1249802260.py\u001b[0m in \u001b[0;36moptimization_loop\u001b[0;34m(tools_agent, evaluator_agent, user_input, session_memory, PRINT_TOOL_MSGS)\u001b[0m\n\u001b[1;32m     24\u001b[0m \u001b[0;34m\u001b[0m\u001b[0m\n\u001b[1;32m     25\u001b[0m     \u001b[0;31m# grab memory if there is one.\u001b[0m\u001b[0;34m\u001b[0m\u001b[0;34m\u001b[0m\u001b[0m\n\u001b[0;32m---> 26\u001b[0;31m     \u001b[0mstock_symbol\u001b[0m \u001b[0;34m=\u001b[0m \u001b[0muser_input\u001b[0m\u001b[0;34m[\u001b[0m\u001b[0;34m'symbol'\u001b[0m\u001b[0;34m]\u001b[0m\u001b[0;34m\u001b[0m\u001b[0;34m\u001b[0m\u001b[0m\n\u001b[0m\u001b[1;32m     27\u001b[0m     \u001b[0mmemory_context\u001b[0m \u001b[0;34m=\u001b[0m \u001b[0mquery_memory\u001b[0m\u001b[0;34m(\u001b[0m\u001b[0mstock_symbol\u001b[0m\u001b[0;34m,\u001b[0m \u001b[0msession_memory\u001b[0m\u001b[0;34m)\u001b[0m\u001b[0;34m\u001b[0m\u001b[0;34m\u001b[0m\u001b[0m\n\u001b[1;32m     28\u001b[0m \u001b[0;34m\u001b[0m\u001b[0m\n",
            "\u001b[0;31mKeyError\u001b[0m: 'symbol'"
          ]
        }
      ],
      "source": [
        "#Execution function\n",
        "final_analysis = optimization_loop(tools_agent,\n",
        "                                   evaluator_agent,\n",
        "                                   {\n",
        "    \"messages\": [\n",
        "        {\"role\": \"user\", \"content\": formatted_prompt}\n",
        "                  ]\n",
        "                                    },\n",
        "                                   SESSION_MEMORY\n",
        "                                  )"
      ]
    },
    {
      "cell_type": "code",
      "execution_count": null,
      "metadata": {
        "colab": {
          "base_uri": "https://localhost:8080/"
        },
        "id": "SpCJ-A-76-FD",
        "jupyter": {
          "source_hidden": true
        },
        "outputId": "a905b2a7-0948-4830-858f-22dbecd8587b",
        "scrolled": true
      },
      "outputs": [
        {
          "name": "stdout",
          "output_type": "stream",
          "text": [
            "\n",
            "============================================================\n",
            "Final Analysis Summary\n",
            "============================================================\n",
            "Message 1:\n",
            "I have gathered some initial information on Apple Inc. (AAPL):\n",
            "\n",
            "1. **Company Overview**:\n",
            "   - Stock Price: $245.27\n",
            "   - Sector: Technology\n",
            "   - Key Metrics: Apple Inc. (AAPL) is one of the AI Stocks In The Spotlight For Investors.\n",
            "\n",
            "2. **Financial Data**:\n",
            "   - Revenue: Not available\n",
            "   - Profit: Not available\n",
            "   - Cash Flow: Not available\n",
            "\n",
            "3. **SEC Filings**:\n",
            "   - Latest filings for AAPL: \n",
            "     - 4 on 2025-10-03: xslF345X05/wk-form4_1759530830.xml\n",
            "     - 4 on 2025-10-03: xslF345X05/wk-form4_1759530744.xml\n",
            "     - 4 on 2025-10-03: xslF345X05/wk-form4_1759530690.xml\n",
            "\n",
            "4. **Recent News**:\n",
            "   - Apple Inc. is in the spotlight for investors.\n",
            "   - Recent news includes Apple reportedly acquiring computer vision startup Prompt AI's team and technology.\n",
            "\n",
            "5. **Market Context**:\n",
            "   - I couldn't find specific market context information for Apple Inc.\n",
            "\n",
            "6. **Peer Comparison**:\n",
            "   - Peer comparison data is not available at the moment.\n",
            "\n",
            "7. **Technical Analysis**:\n",
            "   - Technical analysis data is not available at the moment.\n",
            "\n",
            "8. **Analyst Sentiment**:\n",
            "   - Analyst sentiment data is not available at the moment.\n",
            "\n",
            "This is the preliminary information I have gathered. Let me know if you need more details on any specific aspect of the analysis.\n",
            "                        \n",
            "                        --- Human Feedback ---\n",
            "                        I want more market context\n",
            "\n",
            "Message 2:\n",
            "---\n",
            "**Original Analysis:**\n",
            "\n",
            "I have gathered some initial information on Apple Inc. (AAPL):\n",
            "\n",
            "1. **Company Overview**:\n",
            "   - Stock Price: $245.27\n",
            "   - Sector: Technology\n",
            "   - Key Metrics: Apple Inc. (AAPL) is one of the AI Stocks In The Spotlight For Investors.\n",
            "\n",
            "2. **Financial Data**:\n",
            "   - Revenue: Not available\n",
            "   - Profit: Not available\n",
            "   - Cash Flow: Not available\n",
            "\n",
            "3. **SEC Filings**:\n",
            "   - Latest filings for AAPL: \n",
            "     - 4 on 2025-10-03: xslF345X05/wk-form4_1759530830.xml\n",
            "     - 4 on 2025-10-03: xslF345X05/wk-form4_1759530744.xml\n",
            "     - 4 on 2025-10-03: xslF345X05/wk-form4_1759530690.xml\n",
            "\n",
            "4. **Recent News**:\n",
            "   - Apple Inc. is in the spotlight for investors.\n",
            "   - Recent news includes Apple reportedly acquiring computer vision startup Prompt AI's team and technology.\n",
            "\n",
            "5. **Market Context**:\n",
            "   - I couldn't find specific market context information for Apple Inc.\n",
            "\n",
            "6. **Peer Comparison**:\n",
            "   - Peer comparison data is not available at the moment.\n",
            "\n",
            "7. **Technical Analysis**:\n",
            "   - Technical analysis data is not available at the moment.\n",
            "\n",
            "8. **Analyst Sentiment**:\n",
            "   - Analyst sentiment data is not available at the moment.\n",
            "\n",
            "This is the preliminary information I have gathered. Let me know if you need more details on any specific aspect of the analysis.\n",
            "\n",
            "---\n",
            "\n",
            "**Evaluator Commentary:**\n",
            "\n",
            "**Completeness Assessment:**\n",
            "- The analysis captures basic stock price information but lacks significant depth across multiple dimensions\n",
            "- Critical financial metrics are missing (revenue, profit margins, cash flow statements)\n",
            "- Peer comparison section is empty despite search results containing comparative data for Samsung (005930) and Microsoft (MSFT)\n",
            "- Technical analysis is absent when search results indicate an uptrend channel with potential $280 target\n",
            "- Analyst sentiment/ratings are not included despite Morningstar data being available\n",
            "\n",
            "**Accuracy & Data Utilization:**\n",
            "- Stock price of $245.27 is **outdated** - this was the October 10, 2025 closing price, but today is October 12, 2025\n",
            "- The analysis failed to extract rich available data from search results, including:\n",
            "  - Market cap: $3.14 trillion[2]\n",
            "  - P/E ratio: 29.61[2]\n",
            "  - 52-week range: $169.21–$260.10[2]\n",
            "  - Return on equity: 160.94%[2]\n",
            "  - Dividend yield: 0.48-0.51%[2][3]\n",
            "  - Total employees: 164,000[2]\n",
            "\n",
            "**Market Context Gaps (Critical Given Human Feedback):**\n",
            "- **Recent price movement**: Stock dropped from $258.06 on Oct 8 to $245.27 on Oct 10 (-4.96% decline)[1][6]\n",
            "- **After-hours trading**: $245.40 as of Oct 10, 7:59 PM EDT[1]\n",
            "- **Volume analysis**: Recent trading volume of ~62M vs average, with Oct 10 showing elevated volume of 61.9M[6]\n",
            "- **Valuation context**: Morningstar indicates AAPL trading at **537% premium** to fair value estimate of $475[2]\n",
            "- **52-week performance**: Stock near its 52-week high of $260.10, up significantly from $169.21 low[2]\n",
            "- **Technical outlook**: Chart analysis suggests uptrend channel with bullish setup targeting $280[5]\n",
            "\n",
            "**Missing Peer Comparison Data:**\n",
            "The search results provide direct comparison with Samsung and Microsoft that should be included:\n",
            "- AAPL P/E (29.61) vs MSFT (38.56) vs Samsung (11.82)[2]\n",
            "- AAPL trading at significant premium on Price/Book (46.96) compared to peers[2]\n",
            "- Superior profitability metrics: ROE of 160.94% vs MSFT's 37.15% and Samsung's 9.99%[2]\n",
            "\n",
            "**Clarity & Structure:**\n",
            "- The numbered list format is clear and organized\n",
            "- However, the \"not available\" statements for 5 out of 8 sections create an incomplete impression\n",
            "- SEC filings section provides file names without context or significance\n",
            "\n",
            "**Suggestions for Improvement:**\n",
            "\n",
            "1. **Update timeliness**: Always note the most recent available data point and its date\n",
            "2. **Extract all available quantitative data**: The search results contain extensive financial metrics that remain unused\n",
            "3. **Add market context section** with:\n",
            "   - Recent price trends and percentage changes\n",
            "   - Trading volume patterns\n",
            "   - Valuation multiples vs historical averages\n",
            "   - Position relative to 52-week range\n",
            "4. **Populate peer comparison** using the Samsung and Microsoft data provided\n",
            "5. **Include valuation assessment**: Morningstar's fair value analysis showing significant overvaluation\n",
            "6. **Add technical indicators**: Uptrend channel and price targets from TradingView analysis\n",
            "7. **Provide business context**: Note iPhone as majority revenue driver and ecosystem strategy\n",
            "\n",
            "**Response to Human Feedback:**\n",
            "The user specifically requested more market context. The current analysis completely lacks this dimension despite rich data availability. Priority additions should include: (1) recent price volatility showing the ~5% drop in early October, (2) valuation metrics indicating trading at 537% premium, (3) 52-week performance context showing stock near highs, (4) volume trends, and (5) technical analysis indicating bullish momentum toward $280 target. This market context is essential for understanding AAPL's current positioning and investment implications.\n",
            "\n"
          ]
        }
      ],
      "source": [
        "print_final_analysis(final_analysis)"
      ]
    },
    {
      "cell_type": "code",
      "execution_count": null,
      "metadata": {
        "colab": {
          "base_uri": "https://localhost:8080/"
        },
        "id": "QTu73fn72wD3",
        "outputId": "091c5792-4bd8-49f0-8e9e-ed6a0913475e",
        "scrolled": true
      },
      "outputs": [
        {
          "name": "stdout",
          "output_type": "stream",
          "text": [
            "Previous answer for AAPL: I have gathered some initial information on Apple Inc. (AAPL):\n",
            "\n",
            "1. **Company Overview**:\n",
            "   - Stock Price: $245.27\n",
            "   - Sector: Technology\n",
            "   - Key Metrics: Apple Inc. (AAPL) is one of the AI Stocks In The Spotlight For Investors.\n",
            "\n",
            "2. **Financial Data**:\n",
            "   - Revenue: Not available\n",
            "   - Profit: Not available\n",
            "   - Cash Flow: Not available\n",
            "\n",
            "3. **SEC Filings**:\n",
            "   - Latest filings for AAPL: \n",
            "     - 4 on 2025-10-03: xslF345X05/wk-form4_1759530830.xml\n",
            "     - 4 on 2025-10-03: xslF345X05/wk-form4_1759530744.xml\n",
            "     - 4 on 2025-10-03: xslF345X05/wk-form4_1759530690.xml\n",
            "\n",
            "4. **Recent News**:\n",
            "   - Apple Inc. is in the spotlight for investors.\n",
            "   - Recent news includes Apple reportedly acquiring computer vision startup Prompt AI's team and technology.\n",
            "\n",
            "5. **Market Context**:\n",
            "   - I couldn't find specific market context information for Apple Inc.\n",
            "\n",
            "6. **Peer Comparison**:\n",
            "   - Peer comparison data is not available at the moment.\n",
            "\n",
            "7. **Technical Analysis**:\n",
            "   - Technical analysis data is not available at the moment.\n",
            "\n",
            "8. **Analyst Sentiment**:\n",
            "   - Analyst sentiment data is not available at the moment.\n",
            "\n",
            "This is the preliminary information I have gathered. Let me know if you need more details on any specific aspect of the analysis.\n",
            "                        \n",
            "                        --- Human Feedback ---\n",
            "                        I want more market context\n",
            "                        \n",
            "\n",
            "---\n",
            "**Original Analysis:**\n",
            "\n",
            "I have gathered some initial information on Apple Inc. (AAPL):\n",
            "\n",
            "1. **Company Overview**:\n",
            "   - Stock Price: $245.27\n",
            "   - Sector: Technology\n",
            "   - Key Metrics: Apple Inc. (AAPL) is one of the AI Stocks In The Spotlight For Investors.\n",
            "\n",
            "2. **Financial Data**:\n",
            "   - Revenue: Not available\n",
            "   - Profit: Not available\n",
            "   - Cash Flow: Not available\n",
            "\n",
            "3. **SEC Filings**:\n",
            "   - Latest filings for AAPL: \n",
            "     - 4 on 2025-10-03: xslF345X05/wk-form4_1759530830.xml\n",
            "     - 4 on 2025-10-03: xslF345X05/wk-form4_1759530744.xml\n",
            "     - 4 on 2025-10-03: xslF345X05/wk-form4_1759530690.xml\n",
            "\n",
            "4. **Recent News**:\n",
            "   - Apple Inc. is in the spotlight for investors.\n",
            "   - Recent news includes Apple reportedly acquiring computer vision startup Prompt AI's team and technology.\n",
            "\n",
            "5. **Market Context**:\n",
            "   - I couldn't find specific market context information for Apple Inc.\n",
            "\n",
            "6. **Peer Comparison**:\n",
            "   - Peer comparison data is not available at the moment.\n",
            "\n",
            "7. **Technical Analysis**:\n",
            "   - Technical analysis data is not available at the moment.\n",
            "\n",
            "8. **Analyst Sentiment**:\n",
            "   - Analyst sentiment data is not available at the moment.\n",
            "\n",
            "This is the preliminary information I have gathered. Let me know if you need more details on any specific aspect of the analysis.\n",
            "\n",
            "---\n",
            "\n",
            "**Evaluator Commentary:**\n",
            "\n",
            "**Completeness Assessment:**\n",
            "- The analysis captures basic stock price information but lacks significant depth across multiple dimensions\n",
            "- Critical financial metrics are missing (revenue, profit margins, cash flow statements)\n",
            "- Peer comparison section is empty despite search results containing comparative data for Samsung (005930) and Microsoft (MSFT)\n",
            "- Technical analysis is absent when search results indicate an uptrend channel with potential $280 target\n",
            "- Analyst sentiment/ratings are not included despite Morningstar data being available\n",
            "\n",
            "**Accuracy & Data Utilization:**\n",
            "- Stock price of $245.27 is **outdated** - this was the October 10, 2025 closing price, but today is October 12, 2025\n",
            "- The analysis failed to extract rich available data from search results, including:\n",
            "  - Market cap: $3.14 trillion[2]\n",
            "  - P/E ratio: 29.61[2]\n",
            "  - 52-week range: $169.21–$260.10[2]\n",
            "  - Return on equity: 160.94%[2]\n",
            "  - Dividend yield: 0.48-0.51%[2][3]\n",
            "  - Total employees: 164,000[2]\n",
            "\n",
            "**Market Context Gaps (Critical Given Human Feedback):**\n",
            "- **Recent price movement**: Stock dropped from $258.06 on Oct 8 to $245.27 on Oct 10 (-4.96% decline)[1][6]\n",
            "- **After-hours trading**: $245.40 as of Oct 10, 7:59 PM EDT[1]\n",
            "- **Volume analysis**: Recent trading volume of ~62M vs average, with Oct 10 showing elevated volume of 61.9M[6]\n",
            "- **Valuation context**: Morningstar indicates AAPL trading at **537% premium** to fair value estimate of $475[2]\n",
            "- **52-week performance**: Stock near its 52-week high of $260.10, up significantly from $169.21 low[2]\n",
            "- **Technical outlook**: Chart analysis suggests uptrend channel with bullish setup targeting $280[5]\n",
            "\n",
            "**Missing Peer Comparison Data:**\n",
            "The search results provide direct comparison with Samsung and Microsoft that should be included:\n",
            "- AAPL P/E (29.61) vs MSFT (38.56) vs Samsung (11.82)[2]\n",
            "- AAPL trading at significant premium on Price/Book (46.96) compared to peers[2]\n",
            "- Superior profitability metrics: ROE of 160.94% vs MSFT's 37.15% and Samsung's 9.99%[2]\n",
            "\n",
            "**Clarity & Structure:**\n",
            "- The numbered list format is clear and organized\n",
            "- However, the \"not available\" statements for 5 out of 8 sections create an incomplete impression\n",
            "- SEC filings section provides file names without context or significance\n",
            "\n",
            "**Suggestions for Improvement:**\n",
            "\n",
            "1. **Update timeliness**: Always note the most recent available data point and its date\n",
            "2. **Extract all available quantitative data**: The search results contain extensive financial metrics that remain unused\n",
            "3. **Add market context section** with:\n",
            "   - Recent price trends and percentage changes\n",
            "   - Trading volume patterns\n",
            "   - Valuation multiples vs historical averages\n",
            "   - Position relative to 52-week range\n",
            "4. **Populate peer comparison** using the Samsung and Microsoft data provided\n",
            "5. **Include valuation assessment**: Morningstar's fair value analysis showing significant overvaluation\n",
            "6. **Add technical indicators**: Uptrend channel and price targets from TradingView analysis\n",
            "7. **Provide business context**: Note iPhone as majority revenue driver and ecosystem strategy\n",
            "\n",
            "**Response to Human Feedback:**\n",
            "The user specifically requested more market context. The current analysis completely lacks this dimension despite rich data availability. Priority additions should include: (1) recent price volatility showing the ~5% drop in early October, (2) valuation metrics indicating trading at 537% premium, (3) 52-week performance context showing stock near highs, (4) volume trends, and (5) technical analysis indicating bullish momentum toward $280 target. This market context is essential for understanding AAPL's current positioning and investment implications.\n"
          ]
        }
      ],
      "source": [
        "#Ensure the memory is working as intended\n",
        "#After running the user query through your whole pipeline:\n",
        "user_question = user_input\n",
        "symbol = extract_symbol(user_input)\n",
        "final_answer = as_text(final_analysis)   # Use your utility function\n",
        "\n",
        "SESSION_MEMORY.remember(symbol, user_question, final_answer)"
      ]
    },
    {
      "cell_type": "code",
      "execution_count": null,
      "metadata": {
        "id": "jR64sFMfEclI"
      },
      "outputs": [],
      "source": [
        "# Later, you can recall the latest answer for \"AAPL\":\n",
        "prev = SESSION_MEMORY.recall(\"AAPL\")\n",
        "if prev:\n",
        "    print(\"Previous answer for AAPL:\", prev)"
      ]
    }
  ],
  "metadata": {
    "colab": {
      "collapsed_sections": [
        "n_CeRDyhjmUp"
      ],
      "provenance": [],
      "include_colab_link": true
    },
    "kernelspec": {
      "display_name": "Python 3 (ipykernel)",
      "language": "python",
      "name": "python3"
    },
    "language_info": {
      "codemirror_mode": {
        "name": "ipython",
        "version": 3
      },
      "file_extension": ".py",
      "mimetype": "text/x-python",
      "name": "python",
      "nbconvert_exporter": "python",
      "pygments_lexer": "ipython3",
      "version": "3.10.18"
    }
  },
  "nbformat": 4,
  "nbformat_minor": 0
}