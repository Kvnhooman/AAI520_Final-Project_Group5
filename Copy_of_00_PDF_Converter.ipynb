{
 "cells": [
  {
   "cell_type": "markdown",
   "metadata": {
    "id": "U15zrvD_plw-"
   },
   "source": [
    "# .ipynb to PDF Converter\n",
    "\n",
    "Use this code to convert a CoLab .ipynb file into a PDF format."
   ]
  },
  {
   "cell_type": "code",
   "execution_count": null,
   "metadata": {
    "collapsed": true,
    "id": "D17nhXs7Nkfo",
    "jupyter": {
     "outputs_hidden": true
    }
   },
   "outputs": [],
   "source": [
    "!apt-get install --quiet texlive texlive-xetex texlive-latex-extra pandoc\n",
    "!pip install --quiet pypandoc"
   ]
  },
  {
   "cell_type": "code",
   "execution_count": null,
   "metadata": {
    "collapsed": true,
    "id": "50_j_Tpoeyyp",
    "jupyter": {
     "outputs_hidden": true
    }
   },
   "outputs": [],
   "source": [
    "# Mount google drive to this runnig session\n",
    "from google.colab import drive\n",
    "drive.mount('/content/drive', force_remount=True) #force remount to overide if already mounted"
   ]
  },
  {
   "cell_type": "code",
   "execution_count": null,
   "metadata": {
    "collapsed": true,
    "id": "XRV69jqliKGp",
    "jupyter": {
     "outputs_hidden": true
    }
   },
   "outputs": [],
   "source": [
    "#list contents of mounted drive to find file path if needed\n",
    "!ls \"/content/drive/My Drive/Colab Notebooks\""
   ]
  },
  {
   "cell_type": "code",
   "execution_count": null,
   "metadata": {
    "id": "6eTtAlaogUzD"
   },
   "outputs": [],
   "source": [
    "# Convert file directly to PDF format\n",
    "!jupyter nbconvert /content/drive/My\\ Drive/Colab\\ Notebooks/Fina_Resear_Financial_AI_Assistant.ipynb --to PDF\n"
   ]
  }
 ],
 "metadata": {
  "colab": {
   "provenance": []
  },
  "kernelspec": {
   "display_name": "Python 3 (ipykernel)",
   "language": "python",
   "name": "python3"
  },
  "language_info": {
   "codemirror_mode": {
    "name": "ipython",
    "version": 3
   },
   "file_extension": ".py",
   "mimetype": "text/x-python",
   "name": "python",
   "nbconvert_exporter": "python",
   "pygments_lexer": "ipython3",
   "version": "3.10.18"
  }
 },
 "nbformat": 4,
 "nbformat_minor": 4
}
