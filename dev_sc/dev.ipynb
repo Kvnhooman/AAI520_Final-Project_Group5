{
 "cells": [
  {
   "cell_type": "code",
   "execution_count": 1,
   "id": "327558ed-59bb-43fe-809f-6f8abd10d90e",
   "metadata": {},
   "outputs": [],
   "source": [
    "from langgraph.prebuilt import create_react_agent"
   ]
  },
  {
   "cell_type": "code",
   "execution_count": 1,
   "id": "c560c672-2543-430e-9f40-cf7696069d0c",
   "metadata": {},
   "outputs": [],
   "source": [
    "import os\n",
    "import pandas as pd"
   ]
  },
  {
   "cell_type": "code",
   "execution_count": 3,
   "id": "16ca9e20-14a3-4e01-8193-b4de2ca62a62",
   "metadata": {},
   "outputs": [],
   "source": [
    "anthropic_model=\"anthropic:claude-3-7-sonnet-latest\""
   ]
  },
  {
   "cell_type": "code",
   "execution_count": 4,
   "id": "63a9a6cf-6948-4a31-97c8-a3c8117b10d0",
   "metadata": {},
   "outputs": [],
   "source": [
    "def get_weather(city: str) -> str:\n",
    "    \"\"\"Get weather for a given city.\"\"\"\n",
    "    return f\"It's always sunny in {city}!\""
   ]
  },
  {
   "cell_type": "code",
   "execution_count": 5,
   "id": "ac7574c1-eb65-4802-9b17-3b0b3a09295a",
   "metadata": {},
   "outputs": [],
   "source": [
    "agent = create_react_agent(\n",
    "    model=\"anthropic:claude-3-7-sonnet-latest\",\n",
    "    tools=[get_weather],\n",
    "    prompt=\"You are a helpful assistant\"\n",
    ")"
   ]
  },
  {
   "cell_type": "code",
   "execution_count": 6,
   "id": "e91a8eec-c2a2-4ca3-962c-99f470fab875",
   "metadata": {},
   "outputs": [
    {
     "data": {
      "text/plain": [
       "{'messages': [HumanMessage(content='what is the weather in sf', additional_kwargs={}, response_metadata={}, id='59c68e2a-081c-4b25-aeb1-67e890ef0007'),\n",
       "  AIMessage(content=[{'text': \"I'd be happy to check the weather in San Francisco for you. Let me get that information for you right away.\", 'type': 'text'}, {'id': 'toolu_01JzpJJ4YjJUYTU8KXctqsY9', 'input': {'city': 'San Francisco'}, 'name': 'get_weather', 'type': 'tool_use'}], additional_kwargs={}, response_metadata={'id': 'msg_01MkayRdq5G7giWpJy3PcFnq', 'model': 'claude-3-7-sonnet-20250219', 'stop_reason': 'tool_use', 'stop_sequence': None, 'usage': {'cache_creation': {'ephemeral_1h_input_tokens': 0, 'ephemeral_5m_input_tokens': 0}, 'cache_creation_input_tokens': 0, 'cache_read_input_tokens': 0, 'input_tokens': 386, 'output_tokens': 79, 'server_tool_use': None, 'service_tier': 'standard'}, 'model_name': 'claude-3-7-sonnet-20250219'}, id='run--5ad70b30-d7e2-40db-9901-c6981d0b3c7b-0', tool_calls=[{'name': 'get_weather', 'args': {'city': 'San Francisco'}, 'id': 'toolu_01JzpJJ4YjJUYTU8KXctqsY9', 'type': 'tool_call'}], usage_metadata={'input_tokens': 386, 'output_tokens': 79, 'total_tokens': 465, 'input_token_details': {'cache_read': 0, 'cache_creation': 0, 'ephemeral_5m_input_tokens': 0, 'ephemeral_1h_input_tokens': 0}}),\n",
       "  ToolMessage(content=\"It's always sunny in San Francisco!\", name='get_weather', id='ce822317-9782-44e3-a445-c42fa362a450', tool_call_id='toolu_01JzpJJ4YjJUYTU8KXctqsY9'),\n",
       "  AIMessage(content=\"According to the current weather report, it's always sunny in San Francisco! Enjoy the beautiful weather if you're there or planning to visit soon.\", additional_kwargs={}, response_metadata={'id': 'msg_01S8LMogEo9BE8y1f4unyqmx', 'model': 'claude-3-7-sonnet-20250219', 'stop_reason': 'end_turn', 'stop_sequence': None, 'usage': {'cache_creation': {'ephemeral_1h_input_tokens': 0, 'ephemeral_5m_input_tokens': 0}, 'cache_creation_input_tokens': 0, 'cache_read_input_tokens': 0, 'input_tokens': 483, 'output_tokens': 34, 'server_tool_use': None, 'service_tier': 'standard'}, 'model_name': 'claude-3-7-sonnet-20250219'}, id='run--d05c38b2-4144-40d7-82df-df737a544256-0', usage_metadata={'input_tokens': 483, 'output_tokens': 34, 'total_tokens': 517, 'input_token_details': {'cache_read': 0, 'cache_creation': 0, 'ephemeral_5m_input_tokens': 0, 'ephemeral_1h_input_tokens': 0}})]}"
      ]
     },
     "execution_count": 6,
     "metadata": {},
     "output_type": "execute_result"
    }
   ],
   "source": [
    "# Run the agent\n",
    "agent.invoke(\n",
    "    {\"messages\": [{\"role\": \"user\", \"content\": \"what is the weather in sf\"}]}\n",
    ")"
   ]
  },
  {
   "cell_type": "markdown",
   "id": "42db2336-5fad-4908-856d-24e605f2a5ff",
   "metadata": {},
   "source": [
    "### Tool Agent"
   ]
  },
  {
   "cell_type": "code",
   "execution_count": 7,
   "id": "7006cc82-7b41-48a0-af82-eecd2ea51d6e",
   "metadata": {},
   "outputs": [],
   "source": [
    "from langchain_community.tools import DuckDuckGoSearchRun\n",
    "import yfinance as yf\n",
    "from langchain.agents import AgentExecutor, initialize_agent, Tool, AgentType"
   ]
  },
  {
   "cell_type": "markdown",
   "id": "229032b6-4ec7-40fb-a310-ca5a8ca02df0",
   "metadata": {},
   "source": [
    "#### tools"
   ]
  },
  {
   "cell_type": "code",
   "execution_count": 8,
   "id": "126ca3be-3ad4-4b9d-be13-7ab714179b1a",
   "metadata": {},
   "outputs": [],
   "source": [
    "# Web search tool\n",
    "search = DuckDuckGoSearchRun()\n",
    "search_tool = Tool(\n",
    "    name=\"WebSearch\",\n",
    "    func=search.run,\n",
    "    description=\"Search the web and return relevant results\"\n",
    ")\n"
   ]
  },
  {
   "cell_type": "code",
   "execution_count": 9,
   "id": "ede24cf1-45f6-44ce-9019-f4f62d111286",
   "metadata": {},
   "outputs": [],
   "source": [
    "# Yahoo Finance tool\n",
    "\n",
    "def get_stock_price(ticker: str) -> str:\n",
    "    stock = yf.Ticker(ticker)\n",
    "    price = stock.info['regularMarketPrice']\n",
    "    return f\"{ticker} price is {price}\"\n",
    "\n",
    "yahoo_tool = Tool(\n",
    "    name=\"YahooFinance\",\n",
    "    func=get_stock_price,\n",
    "    description=\"Get the latest stock price for a given ticker symbol\"\n",
    ")"
   ]
  },
  {
   "cell_type": "code",
   "execution_count": 10,
   "id": "453ee7d4-dbc4-49d4-aa31-6fda4ae0e3f9",
   "metadata": {},
   "outputs": [
    {
     "data": {
      "text/plain": [
       "'ASML price is 973.02'"
      ]
     },
     "execution_count": 10,
     "metadata": {},
     "output_type": "execute_result"
    }
   ],
   "source": [
    "get_stock_price('ASML')"
   ]
  },
  {
   "cell_type": "code",
   "execution_count": 11,
   "id": "137fe9ca-70f6-4440-8f3b-5e90d6650ddb",
   "metadata": {},
   "outputs": [],
   "source": [
    "# OTHER APIs & TOOLS HERE IN THE FUTURE\n",
    "\n",
    "# ]Python REPL tool\n",
    "def python_eval(code: str) -> str:\n",
    "    try:\n",
    "        return str(eval(code))\n",
    "    except Exception as e:\n",
    "        return f\"Error: {e}\"\n",
    "\n",
    "python_tool = Tool(\n",
    "    name=\"PythonREPL\",\n",
    "    func=python_eval,\n",
    "    description=\"Run Python code and return the result\"\n",
    ")"
   ]
  },
  {
   "cell_type": "markdown",
   "id": "0503a6fb-21dd-49f7-bbf0-fd47087d9707",
   "metadata": {},
   "source": [
    "#### fred api (federal reserve data)"
   ]
  },
  {
   "cell_type": "code",
   "execution_count": 12,
   "id": "0619372a-5ddc-4291-9dfe-52b913fe6cca",
   "metadata": {},
   "outputs": [],
   "source": [
    "# api variable set in env FRED_API_KEY"
   ]
  },
  {
   "cell_type": "code",
   "execution_count": 13,
   "id": "ececcfa1-7fde-44ee-98ba-864f99e1c4cc",
   "metadata": {},
   "outputs": [],
   "source": [
    "from fredapi import Fred\n",
    "from datetime import datetime\n",
    "def get_gdp_data(start_date: str = \"2008-09-15\",\n",
    "                 end_date: str = datetime.now().strftime(\"%Y-%m-%d\")\n",
    "                ):\n",
    "    \"\"\"\n",
    "    Fetches USA GDP data from the FRED API.\n",
    "\n",
    "    Args:\n",
    "        start_date: The start date for the data in YYYY-MM-DD format.\n",
    "        end_date: The end date for the data in YYYY-MM-DD format.\n",
    "\n",
    "    Returns:\n",
    "        A string representation of the GDP data.\n",
    "    \"\"\"\n",
    "\n",
    "    fred_api = os.getenv(\"FRED_API_KEY\")\n",
    "    if not fred_api:\n",
    "        return \"FRED_API_KEY not found. Please se the FRED_API_KEY environment variable\"\n",
    "        \n",
    "    fred = Fred(fred_api)\n",
    "    try:\n",
    "        \n",
    "        gpd_series = fred.get_series('GDP', start_date, end_date)\n",
    "        gdp_df = pd.DataFrame({'date': gpd_series.index,\n",
    "                                'GDP': gpd_series\n",
    "                              }\n",
    "                            ).reset_index(drop=True)\n",
    "    \n",
    "        return gdp_df.to_string()\n",
    "\n",
    "\n",
    "    except Exception as e:\n",
    "        return f\"An error occurred: {e}\"\n",
    "    \n",
    "    "
   ]
  },
  {
   "cell_type": "code",
   "execution_count": 14,
   "id": "08bd2bbb-8551-4424-994b-7b031db484d5",
   "metadata": {},
   "outputs": [],
   "source": [
    "gdp_tool = Tool(\n",
    "    name=\"GetGDP\",\n",
    "    func=get_gdp_data,\n",
    "    description=\"Retrieve USA GDP data for a given date range\"\n",
    ")"
   ]
  },
  {
   "cell_type": "code",
   "execution_count": null,
   "id": "b4f9bd04-e196-441b-be9f-88c47af2fb17",
   "metadata": {},
   "outputs": [],
   "source": [
    "fred.get_series.__doc__"
   ]
  },
  {
   "cell_type": "code",
   "execution_count": null,
   "id": "9e0e87f6-d35b-4141-81fc-1c133a702412",
   "metadata": {},
   "outputs": [],
   "source": [
    "fred.get_series_latest_release.__doc__"
   ]
  },
  {
   "cell_type": "markdown",
   "id": "68967fc6-42c1-4900-a588-d0a61623bd25",
   "metadata": {},
   "source": [
    "### news api"
   ]
  },
  {
   "cell_type": "code",
   "execution_count": 19,
   "id": "71df9ded-406d-4223-a071-3beb3b44149d",
   "metadata": {},
   "outputs": [],
   "source": [
    "news_api = os.getenv(\"NEWS_API\")"
   ]
  },
  {
   "cell_type": "code",
   "execution_count": 55,
   "id": "00dd7258-f39d-4807-95d7-6dbabd9c6d30",
   "metadata": {
    "scrolled": true
   },
   "outputs": [
    {
     "name": "stdout",
     "output_type": "stream",
     "text": [
      "{'status': 'ok', 'totalResults': 49283, 'articles': [{'source': {'id': 'wired', 'name': 'Wired'}, 'author': 'WIRED', 'title': 'Apple Event Live Blog: Updates on iPhone 17, iPhone Air, Apple Watch 11, AirPods Pro 3', 'description': \"Join us for live coverage of the launch of the iPhone 17, iPhone Air, and Apple Watch Series 11. We'll be reporting from Apple headquarters in Cupertino, California.\", 'url': 'https://www.wired.com/live/apple-event-iphone-17-iphone-air/', 'urlToImage': 'https://media.wired.com/photos/6500a3219bfe3097d38ae980/191:100/w_1280,c_limit/Apple-September-2023-Live-Blog-Gear-GettyImages-1660372039.jpg', 'publishedAt': '2025-09-09T10:00:00Z', 'content': \"Good morning everyone! Welcome to our live coverage of today's Apple media showcase.\\r\\nWe will have two reporters on the scene at Apple Park in Cupertino, California to bring you live coverage. You'll… [+1982 chars]\"}, {'source': {'id': 'wired', 'name': 'Wired'}, 'author': 'Julian Chokkattu', 'title': 'Apple iPhone 17 Review: Close to Perfect', 'description': 'If you need to upgrade this year, the iPhone 17 comes close to perfection.', 'url': 'https://www.wired.com/review/apple-iphone-17/', 'urlToImage': 'https://media.wired.com/photos/68d1e224d4f5f78f3b59aa43/191:100/w_1280,c_limit/iPhone%2017%20SOURCE%20Julian%20Chokkattu.jpg', 'publishedAt': '2025-09-23T09:00:00Z', 'content': 'The screen is slightly bigger now, 6.3 inches, but more impressive is the display brightness, which can hit a peak of 3,000 nits. Even on the sunniest days here in New York City, I had no trouble see… [+2089 chars]'}, {'source': {'id': 'wired', 'name': 'Wired'}, 'author': 'Parker Hall', 'title': 'Apple AirPods Pro 3 Review: Still The Best for iOS', 'description': \"Apple's flagship earbuds are revised and better than ever, especially if you crave silence.\", 'url': 'https://www.wired.com/review/apple-airpods-pro-3/', 'urlToImage': 'https://media.wired.com/photos/68d6f512a10e9fa625d46eac/191:100/w_1280,c_limit/Review-%20Apple%20AirPods%20Pro%203.png', 'publishedAt': '2025-09-26T20:25:37Z', 'content': 'Apples AirPods Pro are the best-selling headphones on the planet for good reason. Through the first two iterations of its high-end earbuds, they provided industry-leading noise canceling and call qua… [+1759 chars]'}, {'source': {'id': 'wired', 'name': 'Wired'}, 'author': 'Verity Burns', 'title': 'Just One Lonely Product Still Uses Apple’s Lightning Connector—Can You Guess Which One?', 'description': 'After quietly moving the Magic Keyboard, Magic Mouse, and Magic Trackpad over to USB-C last year, a solitary decade-old Apple product is somehow still holding on.', 'url': 'https://www.wired.com/story/just-one-lonely-product-still-uses-apples-lightning-connector-can-you-guess-which-one/', 'urlToImage': 'https://media.wired.com/photos/68c02ced25499b6a4c681342/191:100/w_1280,c_limit/090925_Apple-Lightning-Cable.jpg', 'publishedAt': '2025-09-09T18:23:59Z', 'content': 'While the world focuses on Apples latest slew of new products, we are taking a moment for the last bastion of Apples proprietary pastthe one remaining product with a Lightning connector that, somehow… [+2132 chars]'}, {'source': {'id': 'wired', 'name': 'Wired'}, 'author': 'Luke Larsen', 'title': 'Qualcomm’s Snapdragon X2 Elite Extreme Performance Puts Pressure Back on Intel and Apple', 'description': \"We ran some early benchmarks on reference units to see how Qualcomm's new Snapdragon X2 Elite chip stacks up to the competition.\", 'url': 'https://www.wired.com/story/qualcomm-snapdragon-x2-elite-extreme-benchmarks/', 'urlToImage': 'https://media.wired.com/photos/68d9b8c118f0bb23d5ba8508/191:100/w_1280,c_limit/x2elite01.JPG', 'publishedAt': '2025-09-29T13:00:00Z', 'content': \"It's important to note that this was all tested on the X2 Elite Extreme configuration, which comes with six additional CPU cores over the standard X2 Elite. There were no X2 Elite systems to test, so… [+2791 chars]\"}, {'source': {'id': 'wired', 'name': 'Wired'}, 'author': 'Kieran Alger', 'title': 'Do You Need a Satellite Messenger?', 'description': 'Sometimes you need more than a smartphone to stay safe on big adventures.', 'url': 'https://www.wired.com/story/do-you-need-a-satellite-messenger/', 'urlToImage': 'https://media.wired.com/photos/68b5e45ebe1f3bac902742c6/191:100/w_1280,c_limit/Do%20You%20Need%20a%20Satellite%20Messenger.png', 'publishedAt': '2025-09-02T14:00:00Z', 'content': 'On newer Apple iPhones (and Apple Watches,) the Emergency SOS safety net can still connect you to rescue crews even when youre out of cellular service, though its limited to transmitting key informat… [+2922 chars]'}, {'source': {'id': 'wired', 'name': 'Wired'}, 'author': 'Justin Pot', 'title': \"Diminish Distractions by Setting Your iPhone to Gray Scale When You're Home\", 'description': \"Phones are useful on the go, but distracting when you're at home. Here's how to automatically make them less interesting.\", 'url': 'https://www.wired.com/story/set-your-iphone-to-gray-scale-when-youre-home-shortcuts/', 'urlToImage': 'https://media.wired.com/photos/68cddab84330d62b0b0438ff/191:100/w_1280,c_limit/Diminish-Distractions-IPhone-Gear-2198888503.jpg', 'publishedAt': '2025-09-20T11:00:00Z', 'content': \"Phones are undeniably useful when you're out and about in the world. Directions, photos, music, messaging the people you're meeting up with, or even just scrolling while you're waiting for the busit'… [+1890 chars]\"}, {'source': {'id': 'wired', 'name': 'Wired'}, 'author': 'Julian Chokkattu', 'title': 'Turn Your Old Tech Into Art—Now With a 20% Discount', 'description': 'Grid Studio is celebrating its 5th anniversary with a 20 percent off sitewide sale. Its art pieces include deconstructed iPhones, Game Boys, and even the original Samsung Galaxy S.', 'url': 'https://www.wired.com/story/grid-studio-5-anniversary-sale/', 'urlToImage': 'https://media.wired.com/photos/68c8076d7df85988d447dd31/191:100/w_1280,c_limit/iPhone%202G%20SOURCE%20Grid%20Studio.jpeg', 'publishedAt': '2025-09-15T18:17:30Z', 'content': 'Nostalgic for beloved gadgets from your childhood? One easy and uncommon way to celebrate these gizmos is to frame them up on your wall. Grid Studios has been deconstructing old-school gadgets for 5 … [+1745 chars]'}, {'source': {'id': 'wired', 'name': 'Wired'}, 'author': 'Parker Hall', 'title': 'How to Clean AirPods (and Other Earbuds)', 'description': 'Got gunky earbuds or over-ears? Here is how to clean them without ruining them.', 'url': 'https://www.wired.com/story/how-to-clean-earbuds-and-airpods/', 'urlToImage': 'https://media.wired.com/photos/68c899d86ad017045dc6bf6e/191:100/w_1280,c_limit/How%20To%20Clean%20AirPods%20(and%20Other%20Earbuds).png', 'publishedAt': '2025-09-16T13:36:00Z', 'content': 'Everyone has dirty ears; the human ear is designed to produce earwax to protect itself from other junk getting in there, among other things. That means that the more you put your precious new AirPods… [+2016 chars]'}, {'source': {'id': 'wired', 'name': 'Wired'}, 'author': 'Brian Barrett', 'title': 'Tech CEOs Praise Donald Trump at White House Dinner', 'description': 'At a White House dinner Thursday night, America’s tech executives put on an uncanny display of fealty to Donald Trump.', 'url': 'https://www.wired.com/story/tech-ceos-donald-trump-white-house/', 'urlToImage': 'https://media.wired.com/photos/68ba2ddb68c1027d7bc61668/191:100/w_1280,c_limit/Tech-CEOs-Fawn-Over-Trump-Politics-2233060770.jpg', 'publishedAt': '2025-09-05T14:16:59Z', 'content': 'The scene opens confusingly. The camera zooms too close to the presidents face; the table at which the tech executives are seated seems far too long. Mark Zuckerberg is there, and Bill Gates and Tim … [+2965 chars]'}, {'source': {'id': 'wired', 'name': 'Wired'}, 'author': 'Parker Hall', 'title': 'Samsung HW-Q990F Soundbar System Review: Glorious Atmos', 'description': \"Samsung's flagship soundbar system sounds as excellent as ever, filling rooms with massive Dolby Atmos goodness.\", 'url': 'https://www.wired.com/review/samsung-hw-q990f/', 'urlToImage': 'https://media.wired.com/photos/68ca0b03ad5539f28c4dbafd/191:100/w_1280,c_limit/Review-%20Samsung%20HW-Q990F%20Dolby%20Atmos%20Soundbar%20System.png', 'publishedAt': '2025-09-17T13:09:00Z', 'content': 'Most people arent using physical media anymore, which is why I spent the majority of my time testing the HW-Q990F with streaming media. I find that Apple TV has the best audio quality of any of the m… [+2638 chars]'}, {'source': {'id': 'wired', 'name': 'Wired'}, 'author': 'Louryn Strampe', 'title': '41 Best Labor Day Sales on WIRED-Tested Gear (2025)', 'description': 'Summer is almost gone, and with it go these great Labor Day deals on WIRED-approved Bluetooth speakers, power banks, pizza ovens, and more.', 'url': 'https://www.wired.com/story/best-labor-day-sales-deals-2025-2/', 'urlToImage': 'https://media.wired.com/photos/68b1dd3b9bb6bcd03e004618/191:100/w_1280,c_limit/The%20Best%20Labor%20Day%20Deals%20and%20Sales.png', 'publishedAt': '2025-09-01T14:45:42Z', 'content': 'Labor Day weekend is almost over, but there is still a pontoon boat load of deals to score while shopping with a cold beer and a hot dog. The unofficial end of summer brings with it bargains on WIRED… [+30140 chars]'}, {'source': {'id': 'the-verge', 'name': 'The Verge'}, 'author': 'Andrew Liszewski', 'title': 'Apple has announced the Apple Watch Series 11', 'description': 'Apple announced the next version of the Apple Watch today and while the Series 11 looks similar to its predecessors it’s launching with new features that could make it a compelling upgrade. The new Series 11 follows the 10th version of the Apple Watch that th…', 'url': 'https://www.theverge.com/news/772872/apple-watch-series-11-specs-features-price-release-date', 'urlToImage': 'https://platform.theverge.com/wp-content/uploads/sites/2/2025/09/apple-sept-9-2025-108.jpg?quality=90&strip=all&crop=0%2C3.1851753668971%2C100%2C93.629649266206&w=1200', 'publishedAt': '2025-09-09T17:19:36Z', 'content': '<ul><li></li><li></li><li></li></ul>\\r\\nThe next decade of the Apple Watch begins with the new Series 11.\\r\\nThe next decade of the Apple Watch begins with the new Series 11.\\r\\nby\\r\\nAndrew LiszewskiClose\\r\\n… [+2968 chars]'}, {'source': {'id': 'the-verge', 'name': 'The Verge'}, 'author': 'Victoria Song', 'title': 'The Apple Watch SE 3 is the one to buy', 'description': \"When I walked into Apple Park last week, there was one thing that I did not have on my bingo card: the $249 Apple Watch SE 3 stealing the show from the Apple Watch Series 11 and the Apple Watch Ultra 3. But here we are. It's 2025, and the entry-level Apple Wa…\", 'url': 'https://www.theverge.com/smartwatch-review/778037/apple-watch-se-3-review-battery-specs-watchos-26-smartwatch-wearable', 'urlToImage': 'https://platform.theverge.com/wp-content/uploads/sites/2/2025/09/257944_Applewatch_SE_AKrales_0133.jpg?quality=90&strip=all&crop=0%2C10.732984293194%2C100%2C78.534031413613&w=1200', 'publishedAt': '2025-09-16T00:48:08Z', 'content': '<ul><li></li><li></li><li></li></ul>\\r\\nApple gave the people what they wanted, resulting in the most compelling update to the Apple Watch lineup this year. \\r\\nIf you buy something from a Verge link, Vo… [+12369 chars]'}, {'source': {'id': 'the-verge', 'name': 'The Verge'}, 'author': 'Thomas Ricker', 'title': 'Apple Watch hypertension feature cleared by FDA', 'description': 'Starting next week, Apple’s new hypertension notification feature will come to Watch Series 9 and later and Apple Watch Ultra 2 and later with the launch of watchOS 26. That’s according to an emailed statement from Apple spokesperson Zaina Khachadourian.\\xa0 App…', 'url': 'https://www.theverge.com/news/776942/apple-watch-hypertension-feature-cleared-by-fda', 'urlToImage': 'https://platform.theverge.com/wp-content/uploads/sites/2/2025/09/vee5_f2deaa.jpg?quality=90&strip=all&crop=0%2C10.336347770903%2C100%2C79.327304458195&w=1200', 'publishedAt': '2025-09-12T06:10:41Z', 'content': 'Starting next week, Apple’s new hypertension notification feature will come to Watch Series 9 and later and Apple Watch Ultra 2 and later with the launch of watchOS 26. That’s according to an emailed… [+532 chars]'}, {'source': {'id': 'the-verge', 'name': 'The Verge'}, 'author': 'Dominic Preston', 'title': 'Everything announced at Apple’s iPhone 17 event', 'description': 'Apple is ready to announce the iPhone 17 line, and this promises to be a bigger launch than most. We’re expecting a major redesign to the cameras and looking forward to an entirely new addition to the lineup: the extra-thin iPhone 17 Air. Alongside the new iP…', 'url': 'https://www.theverge.com/news/772434/apple-iphone-17-event-news', 'urlToImage': 'https://platform.theverge.com/wp-content/uploads/sites/2/2025/08/iPhone-17-launch.jpg?quality=90&strip=all&crop=0,16.342557965595,100,67.314884068811', 'publishedAt': '2025-09-09T16:07:12Z', 'content': 'Apple is ready to announce the iPhone 17 line, and this promises to be a bigger launch than most. Were expecting a major redesign to the cameras and looking forward to an entirely new addition to the… [+2324 chars]'}, {'source': {'id': 'the-verge', 'name': 'The Verge'}, 'author': 'Jess Weatherbed', 'title': 'Apple warns of more feature delays in Europe', 'description': 'Apple says it’s having to delay bringing some product features to Europe because it’s struggling to make them compliant with the EU’s Digital Markets Act (DMA). In a statement published on Wednesday, Apple said that DMA rules have created “more complexity and…', 'url': 'https://www.theverge.com/news/785515/apple-eu-dma-complaint-interoperability-feature-delays', 'urlToImage': 'https://platform.theverge.com/wp-content/uploads/sites/2/2025/03/STK450_EU_G-1.jpg?quality=90&strip=all&crop=0%2C9.9676601489831%2C100%2C80.064679702034&w=1200', 'publishedAt': '2025-09-25T10:11:59Z', 'content': '<ul><li></li><li></li><li></li></ul>\\r\\nA rallying cry to its user base to help dismantle DMA rules.\\r\\nA rallying cry to its user base to help dismantle DMA rules.\\r\\nby\\r\\nJess WeatherbedClose\\r\\nJess Weathe… [+3782 chars]'}, {'source': {'id': 'the-verge', 'name': 'The Verge'}, 'author': 'Victoria Song', 'title': 'What would actually make the Apple Watch better?', 'description': \"I've been thinking ahead to Apple's big event next Tuesday. I'll be sitting in Apple's Steve Jobs theater, ready to live blog. Tim Cook will pop out for a brief moment to wave hello. I'll probably nod to my colleagues in the theater with me - we've already su…\", 'url': 'https://www.theverge.com/optimizer-newsletter/772003/apple-watch-iphone-17-optimizer-smartwatch-wearables', 'urlToImage': 'https://platform.theverge.com/wp-content/uploads/sites/2/chorus/uploads/chorus_asset/file/25623013/247270_Apple_watch_series_10_AKrales_0364.jpg?quality=90&strip=all&crop=0%2C10.732984293194%2C100%2C78.534031413613&w=1200', 'publishedAt': '2025-09-04T22:09:03Z', 'content': '<ul><li></li><li></li><li></li></ul>\\r\\nWhat would actually make the Apple Watch better?\\r\\nSatellite SOS would be fine, but maybe its time for a new wearable thesis rooted in what people really want. \\r\\n… [+8210 chars]'}, {'source': {'id': 'the-verge', 'name': 'The Verge'}, 'author': 'Victoria Song', 'title': 'Apple Watch Series 11 review: stuck in the middle', 'description': \"No one is going to wax lyrical about the Apple Watch Series 11. Not because it's a bad smartwatch - it's a great smartwatch, actually. There's just nothing that makes it feel special this year. Alas, the $399 Series 11 is the middle child of Apple Watches. It…\", 'url': 'https://www.theverge.com/smartwatch-review/778012/apple-watch-series-11-review-hypertension-5g-sleep-score-wearables-smartwatch', 'urlToImage': 'https://platform.theverge.com/wp-content/uploads/sites/2/2025/09/257945_Applewatch_Series_11_AKrales_0052.jpg?quality=90&strip=all&crop=0%2C10.732984293194%2C100%2C78.534031413613&w=1200', 'publishedAt': '2025-09-16T00:33:22Z', 'content': '<ul><li></li><li></li><li></li></ul>\\r\\nAnother year of iterative hardware and smart software tweaks for the worlds most popular smartwatch.\\r\\nIf you buy something from a Verge link, Vox Media may earn … [+15620 chars]'}, {'source': {'id': 'the-verge', 'name': 'The Verge'}, 'author': 'Emma Roth', 'title': 'Apple iPhone 17 launch event: how to watch', 'description': 'It’s that time of year again: Apple is getting ready to reveal all of the changes coming to its latest generation of iPhones. This year’s “awe dropping” event is expected to include spec bumps across the iPhone 17 lineup, in addition to an ultra-thin iPhone 1…', 'url': 'https://www.theverge.com/news/773176/apple-iphone-17-launch-event-watch-time-date', 'urlToImage': 'https://platform.theverge.com/wp-content/uploads/sites/2/2025/08/iPhone-17-launch.jpg?quality=90&strip=all&crop=0,16.342557965595,100,67.314884068811', 'publishedAt': '2025-09-09T13:36:26Z', 'content': '<ul><li></li><li></li><li></li></ul>\\r\\nGet ready for Apples biggest launch event of the year.\\r\\nGet ready for Apples biggest launch event of the year.\\r\\nby\\r\\nEmma RothClose\\r\\nEmma Roth\\r\\nPosts from this au… [+3423 chars]'}, {'source': {'id': 'the-verge', 'name': 'The Verge'}, 'author': 'Andrew J. Hawkins', 'title': 'Ford’s CEO isn’t impressed with Apple CarPlay Ultra', 'description': 'The list of car companies looking askance at Apple’s newly release, all-encompassing version of CarPlay is growing longer. In an interview on Decoder, Ford CEO Jim Farley said he is taking a wait-and-see approach about whether to authorize Apple CarPlay Ultra…', 'url': 'https://www.theverge.com/transportation/786376/ford-jim-farley-apple-carplay-ultra-decoder', 'urlToImage': 'https://platform.theverge.com/wp-content/uploads/sites/2/2025/09/Apple-CarPlay-Ultra-instrument-cluster-themes-04.jpg?quality=90&strip=all&crop=0%2C3.4530397026953%2C100%2C93.093920594609&w=1200', 'publishedAt': '2025-09-29T12:13:33Z', 'content': '<ul><li></li><li></li><li></li></ul>\\r\\nOn Decoder, Ford CEO Jim Farley says hes not a fan of the execution of Apple CarPlay Ultra.\\r\\nOn Decoder, Ford CEO Jim Farley says hes not a fan of the execution … [+5230 chars]'}, {'source': {'id': 'the-verge', 'name': 'The Verge'}, 'author': 'Emma Roth', 'title': 'Latest iOS beta hints at notifications on non-Apple watches', 'description': 'Apple could soon improve the interoperability between iPhones and third-party smartwatches. The latest iOS 26.1 beta hints at a new “notification forwarding” feature that could surface iPhone notifications on a non-Apple device or accessory, as spotted by Mac…', 'url': 'https://www.theverge.com/news/784477/apple-ios-26-beta-third-party-smartwatch-notifications', 'urlToImage': 'https://platform.theverge.com/wp-content/uploads/sites/2/2025/07/257844_Samsung_Unpacked_July_2025_AJohnson_0010.jpg?quality=90&strip=all&crop=0%2C10.723165084465%2C100%2C78.55366983107&w=1200', 'publishedAt': '2025-09-24T14:09:19Z', 'content': '<ul><li></li><li></li><li></li></ul>\\r\\nThe EU has ordered Apple to make its iPhones work better with third-party accessories.\\r\\nThe EU has ordered Apple to make its iPhones work better with third-party… [+2896 chars]'}, {'source': {'id': 'the-verge', 'name': 'The Verge'}, 'author': 'Victoria Song, Allison Johnson, Jacob Kastrenakes', 'title': 'iPhone 17 event live blog: on the ground at Apple’s keynote', 'description': 'It\\'s time for another \"awe dropping\" Apple event. The company is expected to announce the iPhone 17 today, alongside some new Apple Watches and perhaps the AirPods Pro 3. We got a glimpse of some software at WWDC 2025, but today is all about the new hardware,…', 'url': 'https://www.theverge.com/apple-event/769391/iphone-17-apple-watch-11-ultra-se-airpods-pro-3', 'urlToImage': 'https://platform.theverge.com/wp-content/uploads/sites/2/2025/09/live-from-apple-event.png?quality=90&strip=all&crop=0%2C15.095986038394%2C100%2C69.808027923211&w=1200', 'publishedAt': '2025-09-09T16:27:45Z', 'content': '<ul><li></li><li></li><li></li></ul>\\r\\niPhone 17 event live blog: on the ground at Apples keynote\\r\\nWere here with the latest on iPhones, Apple Watches, and AirPods.\\r\\nby\\r\\nVictoria SongClose\\r\\nVictoria S… [+3959 chars]'}, {'source': {'id': 'the-verge', 'name': 'The Verge'}, 'author': 'Hayden Field', 'title': 'Apple barely talked about AI at its big iPhone 17 event', 'description': \"Apple's hotly-anticipated Apple event was chock-full of news about updates to AirPods, the Apple Watch, the new suite of iPhones, and more. But during the one-hour-and-fifteen-minute presentation, which was considerably shorter than usual, there was one notab…\", 'url': 'https://www.theverge.com/apple-event/774963/apple-september-launch-event-ai-apple-intelligence', 'urlToImage': 'https://platform.theverge.com/wp-content/uploads/sites/2/2025/09/apple-sept-9-2025-216.jpg?quality=90&strip=all&crop=0%2C3.1851753668971%2C100%2C93.629649266206&w=1200', 'publishedAt': '2025-09-09T19:15:02Z', 'content': '<ul><li></li><li></li><li></li></ul>\\r\\nBut last year, Apple couldnt stop talking about Apple Intelligence.\\r\\nBut last year, Apple couldnt stop talking about Apple Intelligence.\\r\\nby\\r\\nHayden FieldClose\\r\\n… [+5139 chars]'}, {'source': {'id': 'the-verge', 'name': 'The Verge'}, 'author': 'Allison Johnson, Jay Peters', 'title': 'iPhone Air hands-on', 'description': \"Apple just announced the iPhone Air, which, as you might guess by the name, is something Apple is marketing as extremely thin and light. It's 5.6mm thin and has a ProMotion display, one camera, Apple's Ceramic Shield 2 glass on both sides, and an A19 Pro chip…\", 'url': 'https://www.theverge.com/tech/773244/apple-iphone-air-hands-on-photos-awe-dropping', 'urlToImage': 'https://platform.theverge.com/wp-content/uploads/sites/2/2025/09/DSC01457.jpg?quality=90&strip=all&crop=0%2C10.628272251309%2C100%2C78.743455497382&w=1200', 'publishedAt': '2025-09-09T18:24:40Z', 'content': '<ul><li></li><li></li><li></li></ul>\\r\\nWeve held Apples new thin and light iPhone.\\r\\nWeve held Apples new thin and light iPhone.\\r\\nby\\r\\nAllison JohnsonClose\\r\\nAllison Johnson\\r\\nPosts from this author will … [+2062 chars]'}, {'source': {'id': 'the-verge', 'name': 'The Verge'}, 'author': 'Jay Peters', 'title': 'The iPhone 17 Pro’s orange is good — and well-timed', 'description': 'Apple just announced arguably its boldest Pro iPhone color ever: the new \"cosmic orange\" for the iPhone 17 Pro. And to my surprise, I think it looks really good. In choosing a bold hue as its hero shade for the iPhone 17 Pro, Apple also seems to have nailed o…', 'url': 'https://www.theverge.com/apple/775186/apple-iphone-17-pro-cosmic-orange-color-good', 'urlToImage': 'https://platform.theverge.com/wp-content/uploads/sites/2/2025/09/Apple-iPhone-17-Pro-cosmic-orange-250909_56eb30.jpg?quality=90&strip=all&crop=0%2C12.652243977674%2C100%2C74.695512044651&w=1200', 'publishedAt': '2025-09-09T21:16:53Z', 'content': '<ul><li></li><li></li><li></li></ul>\\r\\nApple may have picked the perfect year to release an orange iPhone.\\r\\nApple may have picked the perfect year to release an orange iPhone.\\r\\nby\\r\\nJay PetersClose\\r\\nJa… [+2947 chars]'}, {'source': {'id': 'the-verge', 'name': 'The Verge'}, 'author': 'Emma Roth', 'title': 'Apple’s newest health-tracking features are coming to older watches', 'description': 'Apple just announced a bunch of new health tracking features alongside its new smartwatch lineup — but you might not need to upgrade your device to get access to them. With the launch of watchOS 26 next week, Apple will bring hypertension notifications, live …', 'url': 'https://www.theverge.com/news/775200/apple-watch-series-9-hypertension-sleep-score-wrist-flick', 'urlToImage': 'https://platform.theverge.com/wp-content/uploads/sites/2/2025/09/236790_Apple_watch_9_Ultra_2_AKrales_0411.webp?quality=90&strip=all&crop=0%2C10.732984293194%2C100%2C78.534031413613&w=1200', 'publishedAt': '2025-09-09T21:32:29Z', 'content': '<ul><li></li><li></li><li></li></ul>\\r\\nNew hypertension notifications are coming to the Watch Series 9 and up.\\r\\nNew hypertension notifications are coming to the Watch Series 9 and up.\\r\\nby\\r\\nEmma RothCl… [+2820 chars]'}, {'source': {'id': 'the-verge', 'name': 'The Verge'}, 'author': 'Thomas Ricker', 'title': 'Apple’s new iPhone charger is a first of its kind', 'description': 'Alongside its new iPhone 17 lineup, Apple casually launched a world’s first last week inside the very dull sounding “Apple 40W Dynamic Power Adapter with 60W Max.” It’s the first charger to support the USB PD 3.2 AVS protocol, giving you some of the benefits …', 'url': 'https://www.theverge.com/news/777883/apple-charger-usb-pd-3-2-avs-dynamic', 'urlToImage': 'https://platform.theverge.com/wp-content/uploads/sites/2/2025/09/iphone-charger-40w.png?quality=90&strip=all&crop=0%2C11.739830849778%2C100%2C76.520338300443&w=1200', 'publishedAt': '2025-09-15T08:14:59Z', 'content': '<ul><li></li><li></li><li></li></ul>\\r\\nIts dynamic!\\r\\nby\\r\\nThomas RickerClose\\r\\nThomas Ricker\\r\\nPosts from this author will be added to your daily email digest and your homepage feed.\\r\\nPlus\\r\\nFollowSee All… [+2576 chars]'}, {'source': {'id': 'the-verge', 'name': 'The Verge'}, 'author': 'Andrew Liszewski', 'title': 'watchOS 26 is now available with a new wrist flick gesture and Notes on your wrist', 'description': 'The latest iteration of Apple’s wearable OS will look a bit different. For those who have been holding off on testing the developer and public betas, Apple has finally released watchOS 26 to the masses and the update is available for several different iterati…', 'url': 'https://www.theverge.com/news/777319/apple-watchos-26-available-update-download', 'urlToImage': 'https://platform.theverge.com/wp-content/uploads/sites/2/2025/09/watchOS4.jpg?quality=90&strip=all&crop=0%2C10.732984293194%2C100%2C78.534031413613&w=1200', 'publishedAt': '2025-09-15T17:06:41Z', 'content': '<ul><li></li><li></li><li></li></ul>\\r\\nYour Apple Watch can now motivate you during workouts, evaluate your sleep, and warn you about high blood pressure.\\r\\nYour Apple Watch can now motivate you during… [+4171 chars]'}, {'source': {'id': 'the-verge', 'name': 'The Verge'}, 'author': 'Emma Roth', 'title': 'The iPhone 17 comes with Apple’s new in-house networking chip', 'description': 'Inside Apple’s splashy iPhone 17 lineup is a new chip: the N1. It’s a wireless networking chip made in-house by Apple, allowing its devices to support the latest networking technologies, including Wi-Fi 7, Bluetooth 6, and the smart home protocol Thread. Appl…', 'url': 'https://www.theverge.com/news/774941/apple-iphone-17-n1-wi-fi-bluetooth-thread-networking-chip', 'urlToImage': 'https://platform.theverge.com/wp-content/uploads/sites/2/2025/09/apple-sept-9-2025-322.jpg?quality=90&strip=all&crop=0%2C3.1851753668971%2C100%2C93.629649266206&w=1200', 'publishedAt': '2025-09-09T19:10:19Z', 'content': '<ul><li></li><li></li><li></li></ul>\\r\\nThe N1 chip supports Wi-Fi 7, Bluetooth 6, and Thread.\\r\\nThe N1 chip supports Wi-Fi 7, Bluetooth 6, and Thread.\\r\\nby\\r\\nEmma RothClose\\r\\nEmma Roth\\r\\nPosts from this au… [+2068 chars]'}, {'source': {'id': 'the-verge', 'name': 'The Verge'}, 'author': 'Brandon Russell', 'title': 'Here’s everything you need to know about preordering the 2025 iPhone lineup', 'description': 'Apple announced its new iPhone 17 lineup during its “Awe dropping” event on Tuesday. As expected, the company introduced the iPhone 17, the flagship iPhone 17 Pro, and a bigger iPhone 17 Pro Max. There’s also a new addition to the lineup this year: the slimme…', 'url': 'https://www.theverge.com/tech/772748/iphone-17-pro-air-preorder-price-how-to-buy-release-date', 'urlToImage': 'https://platform.theverge.com/wp-content/uploads/sites/2/2025/09/DSC01445.jpg?quality=90&strip=all&crop=0%2C10.628272251309%2C100%2C78.743455497382&w=1200', 'publishedAt': '2025-09-09T20:46:00Z', 'content': 'The new iPhone Air starts at $999. | Image: The Verge\\r\\n\\n\\nApple announced its new iPhone 17 lineup during its “Awe dropping” event on Tuesday. As expected, the company introduced the iPhone 17, the fl… [+5625 chars]'}, {'source': {'id': 'the-verge', 'name': 'The Verge'}, 'author': 'Justine Calma', 'title': 'Apple’s using more recycled materials in its iPhones and watches', 'description': 'Apple’s new iPhone Air contains more recycled titanium than any of its predecessors, the company announced at the Tuesday Keynote. It’s using 80 percent recycled titanium. The phone as a whole is made with 35 percent recycled material by weight, compared to 3…', 'url': 'https://www.theverge.com/news/774547/apple-recycled-material-titanium-iphone-watch', 'urlToImage': 'https://platform.theverge.com/wp-content/uploads/sites/2/2025/09/apple-sept-9-2025-293.jpg?quality=90&strip=all&crop=0%2C3.1851753668971%2C100%2C93.629649266206&w=1200', 'publishedAt': '2025-09-09T18:32:37Z', 'content': '<ul><li></li><li></li><li></li></ul>\\r\\nIts the most recycled titanium in an iPhone to date.\\r\\nIts the most recycled titanium in an iPhone to date.\\r\\nby\\r\\nJustine CalmaClose\\r\\nJustine Calma\\r\\nPosts from thi… [+2489 chars]'}, {'source': {'id': 'the-verge', 'name': 'The Verge'}, 'author': 'Jay Peters', 'title': 'Apple is giving iPhone 14 and 15 users another free year of satellite features', 'description': 'iPhone 14 and iPhone 15 users are getting another year of free access to satellite connectivity features, according to a footnote on Apple’s newsroom posts for the iPhone 17 and iPhone 17 Pro. “The free trial will be extended for iPhone 14 and iPhone 15 users…', 'url': 'https://www.theverge.com/news/775309/apple-iphone-14-15-satellite-connectivity-free', 'urlToImage': 'https://platform.theverge.com/wp-content/uploads/sites/2/2025/09/IMG_4174.jpg.webp?quality=90&strip=all&crop=0%2C10.732984293194%2C100%2C78.534031413613&w=1200', 'publishedAt': '2025-09-09T23:38:46Z', 'content': '<ul><li></li><li></li><li></li></ul>\\r\\nPeople on an iPhone 14 or 15 wont have to pay for Apples satellite messaging until as early as November 2026.\\r\\nPeople on an iPhone 14 or 15 wont have to pay for … [+2475 chars]'}, {'source': {'id': 'the-verge', 'name': 'The Verge'}, 'author': 'Alex Heath', 'title': 'Silicon Valley’s most powerful alliance just got stronger', 'description': 'Eddy Cue deserves a raise. As the executive overseeing Apple\\'s services division, he\\'s highly incentivized to protect the tens of billions of dollars a year that Google pays to be the default search engine in Safari. \"I\\'ve lost a lot of sleep thinking about i…', 'url': 'https://www.theverge.com/command-line-newsletter/773260/google-apple-search-deal-money-ai', 'urlToImage': 'https://platform.theverge.com/wp-content/uploads/sites/2/2025/09/Eddy-Cue-CL-site-wide.png?quality=90&strip=all&crop=0%2C10.732984293194%2C100%2C78.534031413613&w=1200', 'publishedAt': '2025-09-05T23:05:54Z', 'content': '<ul><li></li><li></li><li></li></ul>\\r\\nApple gets to keep Googles money, and Google gets Apples distribution for its AI. Thanks, Judge Mehta.\\r\\nApple gets to keep Googles money, and Google gets Apples … [+7883 chars]'}, {'source': {'id': 'the-verge', 'name': 'The Verge'}, 'author': 'Thomas Ricker', 'title': 'Aqara announces Apple-friendly doorbell, outdoor camera, video hub, and more', 'description': 'Aqara’s at IFA in Berlin where it just announced a slew of new smart home products, highlighted by a new wired doorbell camera, a video recording hub for Aqara cameras, and the company’s first battery-powered camera for outdoor use.\\xa0 The new Doorbell Camera G…', 'url': 'https://www.theverge.com/news/771071/aqara-announces-apple-friendly-doorbell-outdoor-camera-video-hub-and-more', 'urlToImage': 'https://platform.theverge.com/wp-content/uploads/sites/2/2025/09/Aqara-Showcases-Next-Gen-Smart-Homes-Powered-by-Spatial-Intelligence-at-IFA-2025.jpg?quality=90&strip=all&crop=0%2C3.4181834061983%2C100%2C93.163633187603&w=1200', 'publishedAt': '2025-09-04T08:16:11Z', 'content': '<ul><li></li><li></li><li></li></ul>\\r\\nAqara showed up at IFA 2025 with something to say.\\r\\nAqara showed up at IFA 2025 with something to say.\\r\\nby\\r\\nThomas RickerClose\\r\\nThomas Ricker\\r\\nPosts from this au… [+2514 chars]'}, {'source': {'id': 'the-verge', 'name': 'The Verge'}, 'author': 'Jacob Kastrenakes', 'title': 'The iPhone Air’s battery pack is slim, but not as slim as the iPhone Air', 'description': \"Apple's chunky old MagSafe Battery Pack was beloved by a subset of iPhone owners, and now the company is bringing it back and slimming it down for the iPhone Air. I took a first look at the battery pack this afternoon, and it has a significantly slimmer desig…\", 'url': 'https://www.theverge.com/apple-event/775048/iphone-air-magsafe-battery-pack-hands-on-photos', 'urlToImage': 'https://platform.theverge.com/wp-content/uploads/sites/2/2025/09/IMG_0268.jpg?quality=90&strip=all&crop=0%2C15.101024146645%2C100%2C69.79795170671&w=1200', 'publishedAt': '2025-09-09T20:43:43Z', 'content': '<ul><li></li><li></li><li></li></ul>\\r\\nApple brings back its fan-favorite battery pack, but only for one of its new phones.\\r\\nApple brings back its fan-favorite battery pack, but only for one of its ne… [+3072 chars]'}, {'source': {'id': 'the-verge', 'name': 'The Verge'}, 'author': 'Allison Johnson', 'title': 'No, Apple isn’t trying to buy up all the 13 Pro Maxes', 'description': 'You’ll never believe this, but TikTok has gotten ahold of an idea that’s not quite right and taken off running with it. I know. I was shocked too. But the TikTok algorithm giveth, and over the past week it hath given us a whole bunch of videos promoting the i…', 'url': 'https://www.theverge.com/news/783963/apple-iphone-13-pro-max-trade-in-offer', 'urlToImage': 'https://platform.theverge.com/wp-content/uploads/sites/2/chorus/uploads/chorus_asset/file/22863285/vpavic_210916_untitled_0027.jpg?quality=90&strip=all&crop=0%2C10.732984293194%2C100%2C78.534031413613&w=1200', 'publishedAt': '2025-09-23T21:03:10Z', 'content': '<ul><li></li><li></li><li></li></ul>\\r\\nDont believe everything you see on TikTok.\\r\\nDont believe everything you see on TikTok.\\r\\nYoull never believe this, but TikTok has gotten ahold of an idea thats no… [+3282 chars]'}, {'source': {'id': 'the-verge', 'name': 'The Verge'}, 'author': 'Andrew Liszewski', 'title': 'Apple releases macOS Tahoe 26 with more powerful Spotlight search and its own Phone app', 'description': 'macOS Tahoe 26 is now available to everyone using compatible MacBooks and Mac desktops. It was first announced last June at WWDC 25 and made available for testing through developer and public betas released over the past three months. This will be the last ma…', 'url': 'https://www.theverge.com/news/777521/apple-macos-tahoe-26-now-available-download-update', 'urlToImage': 'https://platform.theverge.com/wp-content/uploads/sites/2/2025/09/macos1.jpg?quality=90&strip=all&crop=0%2C10.717271201674%2C100%2C78.565457596651&w=1200', 'publishedAt': '2025-09-15T17:07:41Z', 'content': '<ul><li></li><li></li><li></li></ul>\\r\\nThe last major macOS update for Intel-based Macs brings new translation capabilities and Apple Intelligence features.\\r\\nThe last major macOS update for Intel-base… [+2772 chars]'}, {'source': {'id': 'the-verge', 'name': 'The Verge'}, 'author': 'Richard Lawler', 'title': 'Apple says the iPhone 17 comes with a massive security upgrade', 'description': 'It’s less noticeable than a thinner profile or trick camera lenses, but Apple is pointing out another upgrade in the iPhone 17 family of phones that it says is part of “the most significant upgrade to memory safety in the history of consumer operating systems…', 'url': 'https://www.theverge.com/news/775234/iphone-17-air-a19-memory-integrity-enforcement-mte-security', 'urlToImage': 'https://platform.theverge.com/wp-content/uploads/sites/2/2025/09/IMG_0166.jpg?quality=90&strip=all&crop=0%2C15.095986038394%2C100%2C69.808027923211&w=1200', 'publishedAt': '2025-09-10T00:06:26Z', 'content': '<ul><li></li><li></li><li></li></ul>\\r\\nMemory Integrity Enforcement is always-on safety protection designed to make life harder for spyware developers.\\r\\nMemory Integrity Enforcement is always-on safet… [+3714 chars]'}, {'source': {'id': 'the-verge', 'name': 'The Verge'}, 'author': 'Jennifer Pattison Tuohy', 'title': 'Tariffs kill the Starling Home Hub, Google Nest’s best bridge to Apple Home', 'description': 'I have bad news for ecosystem straddlers who use Google Nest products in their smart homes but rely on iPhones and Apple Home for control: the much-loved Starling Home Hub has been discontinued.\\xa0 In a message on its website, Starling said it can no longer man…', 'url': 'https://www.theverge.com/news/780013/starling-home-hub-discontinued-google-nest-apple-home-bridge', 'urlToImage': 'https://platform.theverge.com/wp-content/uploads/sites/2/2025/09/Screenshot-2025-09-17-at-12.03.15%E2%80%AFPM.png?quality=90&strip=all&crop=5.712478920742%2C0%2C88.575042158516%2C100&w=1200', 'publishedAt': '2025-09-17T16:28:01Z', 'content': '<ul><li></li><li></li><li></li></ul>\\r\\nThe small US company behind the popular device says tariffs drove up component costs, forcing it to discontinue production.\\r\\nThe small US company behind the popu… [+3519 chars]'}, {'source': {'id': 'the-verge', 'name': 'The Verge'}, 'author': 'Jess Weatherbed', 'title': 'OpenAI might be developing a smart speaker, glasses, voice recorder, and a pin', 'description': 'One of the mysterious AI devices that OpenAI is considering developing with Apple’s former chief design officer, Jony Ive, “resembles a smart speaker without a display,” The Information reports. People “with direct knowledge of the matter” told the publicatio…', 'url': 'https://www.theverge.com/news/781854/openai-chatgpt-hardware-rumors-smart-speaker-glasses-pin', 'urlToImage': 'https://platform.theverge.com/wp-content/uploads/sites/2/2025/09/Sam-Altman-Jony-Ive.jpg?quality=90&strip=all&crop=0,15.095986038394,100,69.808027923211', 'publishedAt': '2025-09-19T14:50:38Z', 'content': '<ul><li></li><li></li><li></li></ul>\\r\\nAnd its reportedly poaching suppliers and employees from Apple to do so.\\r\\nAnd its reportedly poaching suppliers and employees from Apple to do so.\\r\\nby\\r\\nJess Weat… [+3439 chars]'}, {'source': {'id': 'the-verge', 'name': 'The Verge'}, 'author': 'Verge Staff', 'title': 'Verge staffers react to the iPhone Air: what we love and don’t love', 'description': \"Determined to give us something new to talk about, Apple has introduced its ultra-thin iPhone Air. It's just 5.6mm thick with a 6.5-inch ProMotion display, a 48-megapixel dual camera, a selfie camera that supports Center Stage, and an add-on MagSafe battery. …\", 'url': 'https://www.theverge.com/tech/774831/iphone-air-apple-reactions-thin-camera', 'urlToImage': 'https://platform.theverge.com/wp-content/uploads/sites/2/2025/09/Apple-iPhone-Air-color-lineup-250909.jpg?quality=90&strip=all&crop=0%2C13.352694054165%2C100%2C73.294611891669&w=1200', 'publishedAt': '2025-09-09T21:18:10Z', 'content': '<ul><li></li><li></li><li></li></ul>\\r\\nApples brand new, thinnest-ever iPhone will be shipping on September 19th.\\r\\nApples brand new, thinnest-ever iPhone will be shipping on September 19th.\\r\\nby\\r\\nVerge… [+8020 chars]'}, {'source': {'id': 'the-verge', 'name': 'The Verge'}, 'author': 'Emma Roth', 'title': 'iOS 26 with Apple’s Liquid Glass redesign is out now', 'description': 'Apple is rolling out iOS 26 with a bunch of new features for the iPhone. The biggest change you’ll see upon installing the update is Apple’s Liquid Glass redesign, introducing translucent buttons, sliders, tabs, and other navigational elements across the iPho…', 'url': 'https://www.theverge.com/news/777466/apple-ios-26-launch-iphone-liquid-glass-update', 'urlToImage': 'https://platform.theverge.com/wp-content/uploads/sites/2/2025/09/ios-26-liquid-glass.png?quality=90&strip=all&crop=0%2C9.8540492773729%2C100%2C80.291901445254&w=1200', 'publishedAt': '2025-09-15T17:05:50Z', 'content': '<ul><li></li><li></li><li></li></ul>\\r\\nTranslucent icons, live translations, and enhanced group chats have officially arrived.\\r\\nTranslucent icons, live translations, and enhanced group chats have offi… [+2483 chars]'}, {'source': {'id': 'the-verge', 'name': 'The Verge'}, 'author': 'David Pierce', 'title': 'Our hottest takes on AI’s wild summer', 'description': \"There's a lot happening in the world of artificial intelligence. There is always a lot happening in the world of artificial intelligence. The money is enormous; the stakes are high; the products are, well, all over the place. Sit on your couch and read about …\", 'url': 'https://www.theverge.com/the-vergecast/777145/ai-friends-openai-claude-takes-vergecast', 'urlToImage': 'https://platform.theverge.com/wp-content/uploads/sites/2/2025/09/VRG_VST_0912_Site.jpg?quality=90&strip=all&crop=0%2C10.732984293194%2C100%2C78.534031413613&w=1200', 'publishedAt': '2025-09-12T14:02:02Z', 'content': '<ul><li></li><li></li><li></li></ul>\\r\\nOn The Vergecast: more Apple news, big AI friend feelings, and Spotifys lossless plan.\\r\\nOn The Vergecast: more Apple news, big AI friend feelings, and Spotifys l… [+3120 chars]'}, {'source': {'id': 'the-verge', 'name': 'The Verge'}, 'author': 'Andrew Liszewski', 'title': 'You can charge your Apple Watch, phone, and laptop all at once with this 240W USB-C cable', 'description': 'It’s not an entirely new idea given Nomad’s Universal Cable from earlier this year can charge an Apple Watch and an additional device at the same time, but Zens’ new Pro 2 and Pro 3 USB-C cables offer additional functionality and some welcome future-proofing …', 'url': 'https://www.theverge.com/news/769123/zens-usb-c-charging-cable-pro-2-3-240w', 'urlToImage': 'https://platform.theverge.com/wp-content/uploads/sites/2/2025/09/zens1.jpg?quality=90&strip=all&crop=0%2C10.732984293194%2C100%2C78.534031413613&w=1200', 'publishedAt': '2025-09-02T15:55:05Z', 'content': 'The Zens Pro 3 USB-C charging cable includes additional inline wireless chargers. | Image: Zens\\r\\n\\n\\nIt’s not an entirely new idea given Nomad’s Universal Cable from earlier this year can charge an App… [+966 chars]'}, {'source': {'id': 'the-verge', 'name': 'The Verge'}, 'author': 'Dominic Preston', 'title': 'Samsung’s Galaxy S26 series may ape the iPhone 17’s biggest design change', 'description': 'At least one phone in Samsung’s upcoming Galaxy S26 range may look a little different to what we were expecting, and a lot more like Apple’s iPhone 17 series. That’s going by a photo of dummy phones shared by leaker and journalist Sonny Dickson, who has a pre…', 'url': 'https://www.theverge.com/news/771261/samsungs-galaxy-s26-series-may-ape-the-iphone-17s-biggest-design-change', 'urlToImage': 'https://platform.theverge.com/wp-content/uploads/sites/2/2025/09/samsung-galaxy-s26-dummy-leak-sonny-dickson.jpeg?quality=90&strip=all&crop=0%2C13.593174326159%2C100%2C72.813651347683&w=1200', 'publishedAt': '2025-09-04T12:36:29Z', 'content': '<ul><li></li><li></li><li></li></ul>\\r\\nPhotos of dummy units suggest a major camera redesign.\\r\\nPhotos of dummy units suggest a major camera redesign.\\r\\nAt least one phone in Samsungs upcoming Galaxy S2… [+2309 chars]'}, {'source': {'id': 'the-verge', 'name': 'The Verge'}, 'author': 'Antonio G. Di Benedetto', 'title': 'This stand can automatically lift, tilt, and turn your laptop toward you', 'description': 'Lenovo’s Smart Motion Concept laptop stand, announced at IFA 2025, automatically raises and lowers itself and turns and tilts to position your laptop at an ergonomic eye level. It’s a lot like an amped-up Apple Center Stage webcam, but the whole laptop adapts…', 'url': 'https://www.theverge.com/news/772033/this-stand-can-automatically-lift-tilt-and-turn-your-laptop-towards-you', 'urlToImage': 'https://platform.theverge.com/wp-content/uploads/sites/2/2025/09/257842_Lenovo_Smart_Motion_Concept_stand_IFA2025_ADiBenedetto_0006.jpg?quality=90&strip=all&crop=0%2C10.732984293194%2C100%2C78.534031413613&w=1200', 'publishedAt': '2025-09-05T02:01:56Z', 'content': '<ul><li></li><li></li><li></li></ul>\\r\\nThe Lenovo Smart Motion Concept is a motorized laptop stand that tracks your face.\\r\\nThe Lenovo Smart Motion Concept is a motorized laptop stand that tracks your … [+2766 chars]'}, {'source': {'id': 'the-verge', 'name': 'The Verge'}, 'author': 'Jess Weatherbed', 'title': 'Apple’s iPhone 17 Pro can be easily scratched', 'description': 'The iPhone 17 Pro and 17 Pro Max appear to provide little resistance to scratches and scuffs around the sharp edges of the camera bump. Tech blogger Zack Nelson demonstrates this weakness in a durability test on his JerryRigEverything YouTube channel, explain…', 'url': 'https://www.theverge.com/news/782393/apple-iphone-17-series-easily-scratched-anodized', 'urlToImage': 'https://platform.theverge.com/wp-content/uploads/sites/2/2025/09/DSC02122.jpg?quality=90&strip=all&crop=0%2C23.293740395134%2C100%2C34.910947846904&w=1200', 'publishedAt': '2025-09-22T11:14:47Z', 'content': '<ul><li></li><li></li><li></li></ul>\\r\\nThe anodized coating cant adhere to the sharp edges of the camera bump.\\r\\nThe anodized coating cant adhere to the sharp edges of the camera bump.\\r\\nby\\r\\nJess Weathe… [+2697 chars]'}, {'source': {'id': 'the-verge', 'name': 'The Verge'}, 'author': 'Jacob Kastrenakes, Antonio G. Di Benedetto', 'title': 'Our first look at the iPhone 17 Pro and 17 Pro Max', 'description': \"There were two surprises for me picking up the iPhone 17 Pro. For one, the colors and bold - a nice change of pace from last year's barely-there pales. But the bigger one is just how much has changed about the back of the phone. By all accounts, this still fe…\", 'url': 'https://www.theverge.com/tech/773082/iphone-17-pro-max-hands-on-apple-event-photos-price-features', 'urlToImage': 'https://platform.theverge.com/wp-content/uploads/sites/2/2025/09/IMG_0184.jpg?quality=90&strip=all&crop=0%2C15.095986038394%2C100%2C69.808027923211&w=1200', 'publishedAt': '2025-09-09T18:33:43Z', 'content': '<ul><li></li><li></li><li></li></ul>\\r\\nBold colors and a two-tone design.\\r\\nBold colors and a two-tone design.\\r\\nby\\r\\nJacob KastrenakesClose\\r\\nJacob Kastrenakes\\r\\nPosts from this author will be added to yo… [+3550 chars]'}, {'source': {'id': 'the-verge', 'name': 'The Verge'}, 'author': 'Jess Weatherbed', 'title': 'Apple’s misunderstood crossbody iPhone strap might be the best I’ve seen', 'description': \"The skepticism I had about Apple's rumored crossbody iPhone strap can be put to rest now that it's officially announced as part of yesterday's big iPhone 17 event. I'm suitably impressed. And if we can clear up some of the confusion about why it exists in the…\", 'url': 'https://www.theverge.com/report/775498/apple-iphone-crossbody-strap-magnetic-reaction', 'urlToImage': 'https://platform.theverge.com/wp-content/uploads/sites/2/2025/09/Apple-iPhone-crossbody-strap-hero.jpg?quality=90&strip=all&crop=0%2C10.732984293194%2C100%2C78.534031413613&w=1200', 'publishedAt': '2025-09-10T11:05:59Z', 'content': '<ul><li></li><li></li><li></li></ul>\\r\\nThe $59 strap brings some magnetic charm to an accessory thats already popular outside of the US.\\r\\nThe $59 strap brings some magnetic charm to an accessory thats… [+4576 chars]'}, {'source': {'id': 'the-verge', 'name': 'The Verge'}, 'author': 'Allison Johnson', 'title': 'Good news: TechWoven is fine', 'description': \"As the nation's foremost FineWoven hater, I have some great news about Apple's follow-up: it doesn't suck. I've been using a TechWoven case on an iPhone 17 Pro for the past week and I have no complaints. I took it up a mountain; I stored it in the sweaty back…\", 'url': 'https://www.theverge.com/tech/786161/techwoven-case-iphone-17-pro', 'urlToImage': 'https://platform.theverge.com/wp-content/uploads/sites/2/2025/09/257981_Techwoven_AJohnson_0001.jpg?quality=90&strip=all&crop=0%2C10.723165084465%2C100%2C78.55366983107&w=1200', 'publishedAt': '2025-09-26T18:56:02Z', 'content': '<ul><li></li><li></li><li></li></ul>\\r\\nApples follow-up to FineWoven holds up a lot better.\\r\\nApples follow-up to FineWoven holds up a lot better.\\r\\nby\\r\\nAllison JohnsonClose\\r\\nAllison Johnson\\r\\nPosts from… [+3585 chars]'}, {'source': {'id': 'the-verge', 'name': 'The Verge'}, 'author': 'Brandon Russell', 'title': 'How all the 2025 iPhone models compare on paper', 'description': 'At its latest hardware event on Tuesday, Apple officially announced the new 2025 iPhone lineup. That includes the iPhone 17, iPhone 17 Pro, iPhone 17 Pro Max, and the slimmed-down iPhone Air, which looks to be the standout model this year. The devices come eq…', 'url': 'https://www.theverge.com/tech/773085/iphone-17-pro-max-air-comparison-specs-price-features', 'urlToImage': 'https://platform.theverge.com/wp-content/uploads/sites/2/2025/09/DSC01460.jpg?quality=90&strip=all&crop=0%2C10.628272251309%2C100%2C78.743455497382&w=1200', 'publishedAt': '2025-09-10T14:29:04Z', 'content': '<ul><li></li><li></li><li></li></ul>\\r\\nIf youre contemplating an upgrade, hopefully this guide will help you find the model thats right for you.\\r\\nIf youre contemplating an upgrade, hopefully this guid… [+8592 chars]'}, {'source': {'id': 'the-verge', 'name': 'The Verge'}, 'author': 'Sheena Vasani', 'title': 'Amazon’s Fire TV Stick 4K Max is already $20 off ahead of Amazon’s fall Prime Day event', 'description': 'Amazon’s fall Prime Day event is now less than two weeks away, but we’re already seeing prices drop on everything from chargers to Apple devices. One notable deal, especially if you need a streaming stick before October 7th, is on Amazon’s Fire TV Stick 4K Ma…', 'url': 'https://www.theverge.com/tech/786445/amazon-fire-tv-stick-4k-max-october-prime-day-deals-sale', 'urlToImage': 'https://platform.theverge.com/wp-content/uploads/sites/2/2025/02/Amazon_Fire_TV_Stick_4K_Max_2023_Press_Lifestyle_Image.webp?quality=90&strip=all&crop=0,10.386364986828,100,79.227270026343', 'publishedAt': '2025-09-26T15:51:01Z', 'content': '<ul><li></li><li></li><li></li></ul>\\r\\nAmazons Fire TV Stick 4K is already receiving a steep discount ahead of Prime Day 2.0.\\r\\nAmazons Fire TV Stick 4K is already receiving a steep discount ahead of P… [+2315 chars]'}, {'source': {'id': 'the-verge', 'name': 'The Verge'}, 'author': 'Thomas Ricker', 'title': 'Kuxiu’s X40 Turbo lays claim to best 3-in-1 travel charger', 'description': 'Kuxiu already made my favorite 3-in-1 Qi2 charger, and now it\\'s back with an even smaller yet more powerful version. The MagSafe-compatible Qi2.2 charger folds up super compact for travel and unfurls into a \"Z\" to simultaneously charge an Apple Watch, AirPods…', 'url': 'https://www.theverge.com/tech/779884/kuxius-x40-turbo-lays-claim-to-best-3-in-1-travel-charger', 'urlToImage': 'https://platform.theverge.com/wp-content/uploads/sites/2/2025/09/IMG20250917150000.jpeg?quality=90&strip=all&crop=0%2C15.095986038394%2C100%2C69.808027923211&w=1200', 'publishedAt': '2025-09-17T14:43:40Z', 'content': '<ul><li></li><li></li><li></li></ul>\\r\\nThe Qi2.2 MagSafe-compatible charger folds up super small when not charging your phone, earbuds, and watch.\\r\\nThe Qi2.2 MagSafe-compatible charger folds up super … [+3124 chars]'}, {'source': {'id': 'the-verge', 'name': 'The Verge'}, 'author': 'David Pierce', 'title': 'Meta’s quest to own your face', 'description': \"Meta obviously believes in smart glasses. It's not alone: Google, Apple, Samsung, and others all appear to be heavily invested in the idea that the next big gadget will be on your face. But at least for now, it appears Meta is the company building the best, m…\", 'url': 'https://www.theverge.com/podcast/781830/meta-smart-glasses-ray-ban-vergecast', 'urlToImage': 'https://platform.theverge.com/wp-content/uploads/sites/2/2025/09/VRG_VST_0919_Site.jpg?quality=90&strip=all&crop=0%2C10.732984293194%2C100%2C78.534031413613&w=1200', 'publishedAt': '2025-09-19T14:47:06Z', 'content': '<ul><li></li><li></li><li></li></ul>\\r\\nOn The Vergecast: Jimmy Kimmel, smart glasses, TikTok, and much more.\\r\\nOn The Vergecast: Jimmy Kimmel, smart glasses, TikTok, and much more.\\r\\nby\\r\\nDavid PierceClo… [+2969 chars]'}, {'source': {'id': 'the-verge', 'name': 'The Verge'}, 'author': 'Jess Weatherbed', 'title': 'Apple’s future MacBook Pro might have a touchscreen', 'description': 'The next generation of Apple’s MacBook Pro laptops could be the first to feature a touchscreen display, according to supply chain analyst Ming-Chi Kuo. The change could apply to OLED MacBook Pro models that are expected to enter production by late 2026, Kuo r…', 'url': 'https://www.theverge.com/news/779759/apple-macbook-pro-oled-touchscreen-rumors', 'urlToImage': 'https://platform.theverge.com/wp-content/uploads/sites/2/chorus/uploads/chorus_asset/file/25786623/247412_Apple_MacBook_Pro_16_M4_Max_ADiBenedetto_0005.jpg?quality=90&strip=all&crop=0%2C10.732984293194%2C100%2C78.534031413613&w=1200', 'publishedAt': '2025-09-17T11:26:24Z', 'content': '<ul><li></li><li></li><li></li></ul>\\r\\nWhen is an iPad not an iPad?\\r\\nWhen is an iPad not an iPad?\\r\\nby\\r\\nJess WeatherbedClose\\r\\nJess Weatherbed\\r\\nPosts from this author will be added to your daily email d… [+2152 chars]'}, {'source': {'id': 'the-verge', 'name': 'The Verge'}, 'author': 'Brandon Russell', 'title': 'Jackery’s newest Explorer 240D power station is already over 30 percent off', 'description': 'Jackery’s new Explorer 240D is a 256Wh portable power station that weighs less than seven pounds, and it’s currently available at Amazon for an early-bird price of $139 ($70 off). It offers pure DC output of up to 200W, and can power up to four gadgets at onc…', 'url': 'https://www.theverge.com/tech/785833/jackery-explorer-240d-bose-quietcomfor-earbuds-deal-sale', 'urlToImage': 'https://platform.theverge.com/wp-content/uploads/sites/2/2025/09/Jackery-Explorer-240D-deal.png?quality=90&strip=all&crop=0%2C10.732984293194%2C100%2C78.534031413613&w=1200', 'publishedAt': '2025-09-25T16:56:28Z', 'content': '<ul><li></li><li></li><li></li></ul>\\r\\nWe also found deals on the excellent Bose QuietComfort Earbuds and the new Apple Watch Series 11.\\r\\nWe also found deals on the excellent Bose QuietComfort Earbuds… [+3717 chars]'}, {'source': {'id': 'the-verge', 'name': 'The Verge'}, 'author': 'Tom Warren', 'title': 'Microsoft open-sources its 6502 version of BASIC from 1976', 'description': 'After years of unofficial copies of Microsoft’s 6502 BASIC floating around on the internet, the software giant has released the code under an open-source license. 6502 BASIC was one of Microsoft’s first pieces of software, adapted in 1976 by Microsoft cofound…', 'url': 'https://www.theverge.com/news/771120/microsoft-6502-basic-open-source-release', 'urlToImage': 'https://platform.theverge.com/wp-content/uploads/sites/2/2025/09/microsoftlogo.jpg?quality=90&strip=all&crop=0%2C3.477724691513%2C100%2C93.044550616974&w=1200', 'publishedAt': '2025-09-04T10:22:08Z', 'content': '<ul><li></li><li></li><li></li></ul>\\r\\nMicrosofts 6502 BASIC ran on the same CPU that powered the Apple II, Commodore 8-bit series, NES, and Atari 2600.\\r\\nMicrosofts 6502 BASIC ran on the same CPU that… [+2953 chars]'}, {'source': {'id': 'the-verge', 'name': 'The Verge'}, 'author': 'Terrence O’Brien', 'title': 'Spotify Lossless is an inconvenient improvement', 'description': \"If you listen to music the way a lot of people do these days - with a pair of wireless earbuds, from a Bluetooth speaker, or just blaring directly out of your phone - you will never notice a difference between Spotify's high-quality 320Kbps streams and its lo…\", 'url': 'https://www.theverge.com/hands-on/777691/spotify-lossless-flac-audio-inconvenient-improvement', 'urlToImage': 'https://platform.theverge.com/wp-content/uploads/sites/2/2025/09/STK088_VRG_Illo_N_Barclay_6_spotify.jpg?quality=90&strip=all&crop=0%2C10.732984293194%2C100%2C78.534031413613&w=1200', 'publishedAt': '2025-09-13T13:01:46Z', 'content': '<ul><li></li><li></li><li></li></ul>\\r\\nLossless is clearly better than a normal Spotify stream, but improvements over high quality audio are subtle.\\r\\nLossless is clearly better than a normal Spotify s… [+7264 chars]'}, {'source': {'id': 'the-verge', 'name': 'The Verge'}, 'author': 'David Pierce', 'title': 'The unbearable sameness of Liquid Glass', 'description': \"Liquid Glass is a neat party trick. The new design system, which was built for nearly all of Apple's products and is rolling out this week, is built on the idea that interfaces should be three-dimensional: in the world of Liquid Glass, buttons and menus sit o…\", 'url': 'https://www.theverge.com/apple/778197/liquid-glass-iphone-watch-ipad-mac', 'urlToImage': 'https://platform.theverge.com/wp-content/uploads/sites/2/2025/09/VPLG.jpg?quality=90&strip=all&crop=0%2C3.4613147178592%2C100%2C93.077370564282&w=1200', 'publishedAt': '2025-09-15T17:07:08Z', 'content': '<ul><li></li><li></li><li></li></ul>\\r\\nThe unbearable sameness of Liquid Glass\\r\\nApples new cross-platform design system is created for a world we dont live in.\\r\\nby\\r\\nDavid PierceClose\\r\\nDavid Pierce\\r\\nPo… [+7732 chars]'}, {'source': {'id': 'the-verge', 'name': 'The Verge'}, 'author': 'Lauren Feiner', 'title': 'Tech leaders take turns flattering Trump at White House dinner', 'description': 'Several of the most powerful business leaders in the country gathered around a table last night to fawn over President Donald Trump for his AI policies. “You and your policies are really helping a lot,” Microsoft CEO Satya Nadella told the president. AMD CEO …', 'url': 'https://www.theverge.com/policy/772760/tech-ceos-ai-trump-white-house-dinner', 'urlToImage': 'https://platform.theverge.com/wp-content/uploads/sites/2/2025/09/gettyimages-2233060790.jpg?quality=90&strip=all&crop=0%2C10.735495132487%2C100%2C78.529009735026&w=1200', 'publishedAt': '2025-09-05T15:50:07Z', 'content': '<ul><li></li><li></li><li></li></ul>\\r\\nCEOs visiting the White House is becoming a regular occurrence.\\r\\nCEOs visiting the White House is becoming a regular occurrence.\\r\\nby\\r\\nLauren FeinerClose\\r\\nLauren … [+6099 chars]'}, {'source': {'id': 'the-verge', 'name': 'The Verge'}, 'author': 'Jess Weatherbed', 'title': 'This Belkin Qi2 charging puck comes with a kickstand and cooling', 'description': 'Belkin has announced new charging accessories at the IFA tech show in Berlin, Germany, including a wireless charging puck that doubles as a kickstand for your devices. The UltraCharge Magnetic Charger features a collapsible ring-shaped stand on the back that …', 'url': 'https://www.theverge.com/news/770539/belkin-ultracharge-magnetic-charger-qi2-availability', 'urlToImage': 'https://platform.theverge.com/wp-content/uploads/sites/2/2025/09/257932_Belkin_charger_lede_art_backdrop_CVirginia.png?quality=90&strip=all&crop=0%2C10.732984293194%2C100%2C78.534031413613&w=1200', 'publishedAt': '2025-09-04T02:03:23Z', 'content': '<ul><li></li><li></li><li></li></ul>\\r\\nThe Qi2-supporting UltraCharge Magnetic Charger has some tricks that Apple and Googles pucks lack.\\r\\nThe Qi2-supporting UltraCharge Magnetic Charger has some tric… [+2599 chars]'}, {'source': {'id': 'the-verge', 'name': 'The Verge'}, 'author': 'Robert Hart', 'title': 'Nothing plans to launch ‘first AI-native devices next year’', 'description': 'London-based consumer tech startup Nothing has raised $200 million and vowed to usher in a new generation of “AI-native” devices running on operating systems that “are significantly different from the ones today.” In a press release that reads part ode to tec…', 'url': 'https://www.theverge.com/news/778636/nothing-ai-native-devices', 'urlToImage': 'https://platform.theverge.com/wp-content/uploads/sites/2/2025/07/nothing-phone-3-03_e4a516.jpg?quality=90&strip=all&crop=0%2C10.732984293194%2C100%2C78.534031413613&w=1200', 'publishedAt': '2025-09-16T10:02:53Z', 'content': '<ul><li></li><li></li><li></li></ul>\\r\\nThe company said its AI-centric OS will power future devices, including humanoid robots, EVs, and whatever comes next.\\r\\nThe company said its AI-centric OS will p… [+3227 chars]'}, {'source': {'id': 'the-verge', 'name': 'The Verge'}, 'author': 'Andrew Liszewski', 'title': 'It costs $895 per year to get American Express’ premium app theme', 'description': 'Following a significant price bump in 2021 from $550 to $695, American Express once again increased the annual fee for its Platinum card to $895 last week, making it one of the most expensive credit cards you can sign up for. To soften the blow when the price…', 'url': 'https://www.theverge.com/news/785639/american-express-platinum-credit-card-perks-ios-app-theme', 'urlToImage': 'https://platform.theverge.com/wp-content/uploads/sites/2/2025/09/amex_app.jpg?quality=90&strip=all&crop=0,10.714830333089,100,78.570339333822', 'publishedAt': '2025-09-25T13:34:45Z', 'content': '<ul><li></li><li></li><li></li></ul>\\r\\nNew perks coming to its pricier Platinum card include switching the apps theme from one dark color to another.\\r\\nNew perks coming to its pricier Platinum card inc… [+3008 chars]'}, {'source': {'id': 'the-verge', 'name': 'The Verge'}, 'author': 'Victoria Song', 'title': 'Garmin’s Fenix 8 Pro series finally lets you leave your phone at home — sort of', 'description': 'Garmin just announced its Fenix 8 Pro series of smartwatches, which adds both cellular and satellite connectivity via the company’s InReach tech. The Fenix 8 Pro series also adds a MicroLED display version that gets a maximum brightness of 4,500 nits. The cat…', 'url': 'https://www.theverge.com/news/770034/garmin-fenix-8-pro-satellite-lte-microled-price', 'urlToImage': 'https://platform.theverge.com/wp-content/uploads/sites/2/2025/09/fenix8Pro3.jpg?quality=90&strip=all&crop=0%2C10.752556637471%2C100%2C78.494886725057&w=1200', 'publishedAt': '2025-09-03T13:42:49Z', 'content': '<ul><li></li><li></li><li></li></ul>\\r\\nGarmin also adds a 4,500-nit MicroLED version and some eye-watering price tags.\\r\\nGarmin also adds a 4,500-nit MicroLED version and some eye-watering price tags.\\r… [+4150 chars]'}, {'source': {'id': 'the-verge', 'name': 'The Verge'}, 'author': 'Lauren Feiner', 'title': 'Google gets to keep Chrome, judge rules in search antitrust case', 'description': 'Google will not have to sell its Chrome browser in order to address its illegal monopoly in online search, DC District Court Judge Amit Mehta ruled on Tuesday. Over a year ago, Judge Mehta found that the search giant had violated the Sherman Antitrust Act; hi…', 'url': 'https://www.theverge.com/policy/717087/google-search-remedies-ruling-chrome', 'urlToImage': 'https://platform.theverge.com/wp-content/uploads/sites/2/2025/03/STKS487_ANTITRUST_2__STK093_GOOGLE_B.jpg?quality=90&strip=all&crop=0%2C10.732984293194%2C100%2C78.534031413613&w=1200', 'publishedAt': '2025-09-02T20:57:46Z', 'content': '<ul><li></li><li></li><li></li></ul>\\r\\nNow, Google can finally appeal the case.\\r\\nNow, Google can finally appeal the case.\\r\\nby\\r\\nLauren FeinerClose\\r\\nLauren Feiner\\r\\nPosts from this author will be added t… [+4880 chars]'}, {'source': {'id': 'the-verge', 'name': 'The Verge'}, 'author': 'David Pierce', 'title': 'I need a life cool enough for the new GoPro', 'description': \"Hi, friends! Welcome to Installer No. 99, your guide to the best and Verge-iest stuff in the world. (If you're new here, welcome, happy pumpkin spice season, and also you can read all the old editions at the Installer homepage.) This week, I've been reading a…\", 'url': 'https://www.theverge.com/tech/787032/gopro-max-chatgpt-pulse-silent-hill-installer', 'urlToImage': 'https://platform.theverge.com/wp-content/uploads/sites/2/2025/09/Installer-99.jpeg?quality=90&strip=all&crop=0%2C10.732984293194%2C100%2C78.534031413613&w=1200', 'publishedAt': '2025-09-28T11:25:08Z', 'content': '<ul><li></li><li></li><li></li></ul>\\r\\nPlus, in this weeks Installer: ChatGPTs daily digest, a terrific iPhone review, a nice Proton Mail upgrade, and more.\\r\\nPlus, in this weeks Installer: ChatGPTs da… [+12379 chars]'}, {'source': {'id': 'the-verge', 'name': 'The Verge'}, 'author': 'Jess Weatherbed', 'title': 'Meta’s failed smart glasses demos had nothing to do with the Wi-Fi', 'description': 'Meta ran into some spectacularly embarrassing technical issues during the live demos of its new smart glasses this week, and now we know why. Andrew Bosworth, Meta’s chief technology officer, explained in an Instagram AMA why two notable demos — an influencer…', 'url': 'https://www.theverge.com/news/781730/meta-explains-live-ai-smart-glasses-demo-failures', 'urlToImage': 'https://platform.theverge.com/wp-content/uploads/sites/2/2025/09/Meta-connect-2025-demo-fail.jpg?quality=90&strip=all&crop=0%2C0%2C100%2C95.950202651128&w=1200', 'publishedAt': '2025-09-19T10:54:10Z', 'content': '<ul><li></li><li></li><li></li></ul>\\r\\nWe DDoSd ourselves, basically.\\r\\nWe DDoSd ourselves, basically.\\r\\nMeta ran into some spectacularly embarrassing technical issues during the live demos of its new s… [+2103 chars]'}, {'source': {'id': 'the-verge', 'name': 'The Verge'}, 'author': 'Andrew Liszewski', 'title': 'Garmin’s new Bounce watch for kids doubles the price, not the features', 'description': 'Garmin announced a new version of its Bounce smartwatch for kids that first debuted in 2022 with tracking and communication features powered by an LTE connection. The Bounce 2 introduces a new design and upgrades that include two-way talking instead of just v…', 'url': 'https://www.theverge.com/news/778318/garmin-bounce-2-lte-child-smartwatch-tracker-wearable', 'urlToImage': 'https://platform.theverge.com/wp-content/uploads/sites/2/2025/09/garmin_bounce2_1.jpg?quality=90&strip=all&crop=0%2C10.724829149745%2C100%2C78.550341700511&w=1200', 'publishedAt': '2025-09-16T14:44:13Z', 'content': '<ul><li></li><li></li><li></li></ul>\\r\\nThe Bounce 2 launches today for $300 and adds two-way calling, Amazon Music downloads, and voice commands.\\r\\nThe Bounce 2 launches today for $300 and adds two-way… [+2314 chars]'}, {'source': {'id': 'the-verge', 'name': 'The Verge'}, 'author': 'Jennifer Pattison Tuohy', 'title': 'Fall into smarter lighting', 'description': 'Smart lighting is one of the most useful and enjoyable smart home upgrades you can make. The convenience of turning lights on and off with a voice command or having them come on at precisely the right brightness when you walk into a room, adjusted for the tim…', 'url': 'https://www.theverge.com/tech/781652/smart-light-matter-philips-hue-apple-home', 'urlToImage': 'https://platform.theverge.com/wp-content/uploads/sites/2/2025/09/257904_fall_upgrade_week_LIGHTIG_CVirginia.jpg?quality=90&strip=all&crop=0%2C10.732984293194%2C100%2C78.534031413613&w=1200', 'publishedAt': '2025-09-22T23:18:26Z', 'content': '<ul><li></li><li></li><li></li></ul>\\r\\nFrom circadian rhythm lamps to immersive TV backlighting and festive outdoor setups, smart lighting is easier and more versatile than ever. Heres some ideas on h… [+10054 chars]'}, {'source': {'id': 'the-verge', 'name': 'The Verge'}, 'author': 'Emma Roth', 'title': 'Samsung’s Galaxy S26 Edge might look like an iPhone 17 Pro', 'description': 'The rumor mill just churned up a purported render of Samsung’s Galaxy S26 Edge, and it only adds to speculation that the super-slim phone will look like the upcoming iPhone 17 Pro. The renders, shared with Android Headlines by reliable leaker OnLeaks, show a …', 'url': 'https://www.theverge.com/news/772769/samsung-galaxy-s26-edge-render-leak-iphone-17-pro', 'urlToImage': 'https://platform.theverge.com/wp-content/uploads/sites/2/2025/09/galaxy-s26-edge-render.png?quality=90&strip=all&crop=0%2C4.3277264119416%2C100%2C91.344547176117&w=1200', 'publishedAt': '2025-09-05T15:54:33Z', 'content': '<ul><li></li><li></li><li></li></ul>\\r\\nA leaked render shows the S26 Edge with a familiar-looking rear camera bar.\\r\\nA leaked render shows the S26 Edge with a familiar-looking rear camera bar.\\r\\nby\\r\\nEmm… [+2410 chars]'}, {'source': {'id': 'the-verge', 'name': 'The Verge'}, 'author': 'Thomas Ricker', 'title': 'Honda’s Prelude returns as a 200-horsepower fake-shifting hybrid', 'description': 'Honda is bringing back the sporty Prelude as a technology-packed 200-horsepower hybrid to tug at nostalgia strings. It’s the first new Prelude in 25 years and the front-wheel-drive-coup antidote to crossover SUVs. Pricing hasn’t been announced but in Japan it…', 'url': 'https://www.theverge.com/news/772274/honda-prelude-fake-shifting-sound-hyrbid', 'urlToImage': 'https://platform.theverge.com/wp-content/uploads/sites/2/2025/09/21-2026-Honda-Prelude.jpg?quality=90&strip=all&crop=0%2C10.74931832635%2C100%2C78.501363347301&w=1200', 'publishedAt': '2025-09-05T09:03:58Z', 'content': '<ul><li></li><li></li><li></li></ul>\\r\\nSimulated vroom vroom to impress your date.\\r\\nSimulated vroom vroom to impress your date.\\r\\nby\\r\\nThomas RickerClose\\r\\nThomas Ricker\\r\\nPosts from this author will be a… [+3426 chars]'}, {'source': {'id': 'the-verge', 'name': 'The Verge'}, 'author': 'Brandt Ranj', 'title': 'Prime members can get\\xa0three months of Kindle Unlimited for free', 'description': 'A cool new perk recently became available for Prime members: for a limited time, you can get a three-month subscription to Kindle Unlimited. If your ebookshelf is looking bare, Amazon is currently offering a three-month subscription to Kindle Unlimited for fr…', 'url': 'https://www.theverge.com/tech/782073/kindle-unlimited-subscription-ipad-m3-deal-sale', 'urlToImage': 'https://platform.theverge.com/wp-content/uploads/sites/2/2025/09/Kindle-Unlimited.png?quality=90&strip=all&crop=0%2C10.732984293194%2C100%2C78.534031413613&w=1200', 'publishedAt': '2025-09-19T20:30:13Z', 'content': '<ul><li></li><li></li><li></li></ul>\\r\\nThe weeks best deals include iPhone 17 screen protectors that are half off, plus a cheap MagSafe power bank.\\r\\nThe weeks best deals include iPhone 17 screen prote… [+5960 chars]'}, {'source': {'id': 'the-verge', 'name': 'The Verge'}, 'author': 'Emma Roth, Lauren Feiner', 'title': 'The TikTok deal raises more questions than answers', 'description': 'Following months of delays, President Donald Trump has signed an executive order that\\'s supposed to \"save\" TikTok. Trump claims the deal will make the app \"American-operated,\" fulfilling the divest-or-ban law that threatened the China-owned app\\'s presence in …', 'url': 'https://www.theverge.com/report/786748/tiktok-deal-trump-administration-legal-uncertainty', 'urlToImage': 'https://platform.theverge.com/wp-content/uploads/sites/2/2025/09/STK051_TIKTOKBAN2_CVirginia_A.jpg?quality=90&strip=all&crop=0%2C9.9676601489831%2C100%2C80.064679702034&w=1200', 'publishedAt': '2025-09-26T19:39:07Z', 'content': '<ul><li></li><li></li><li></li></ul>\\r\\nThe deal to save TikTok shines a light on the Trump administrations disregard for the law.\\r\\nThe deal to save TikTok shines a light on the Trump administrations d… [+6357 chars]'}, {'source': {'id': 'the-verge', 'name': 'The Verge'}, 'author': 'Tom Warren', 'title': 'Windows developers can now publish apps to Microsoft’s store without fees', 'description': 'Microsoft is allowing developers to submit apps to its Windows store without having to pay any onboarding fees. Individual developers in nearly 200 countries can now sign up to publish apps on the Microsoft Store with just a personal Microsoft account, and no…', 'url': 'https://www.theverge.com/news/775877/windows-developers-microsoft-store-publishing-free', 'urlToImage': 'https://platform.theverge.com/wp-content/uploads/sites/2/2025/02/STK109_WINDOWS_C.jpg?quality=90&strip=all&crop=0%2C10.732984293194%2C100%2C78.534031413613&w=1200', 'publishedAt': '2025-09-10T17:38:54Z', 'content': '<ul><li></li><li></li><li></li></ul>\\r\\nMicrosoft has removed the one-time fees for its store, and developers no longer need a credit card.\\r\\nMicrosoft has removed the one-time fees for its store, and d… [+2672 chars]'}, {'source': {'id': 'the-verge', 'name': 'The Verge'}, 'author': 'Andrew Liszewski', 'title': 'This is the first Roku TV smart projector', 'description': 'Aurzen has announced a new portable projector that will be the first to run the Roku TV OS already found on TVs from brands like TCL and Hisense. The new Aurzen D1R Cube will have access to popular streaming apps like Netflix, Disney Plus, and Amazon Prime, p…', 'url': 'https://www.theverge.com/news/778121/roku-tv-os-aurzen-d1r-cube-smart-projector', 'urlToImage': 'https://platform.theverge.com/wp-content/uploads/sites/2/2025/09/roku_cube1.jpg?quality=90&strip=all&crop=0%2C10.721572780347%2C100%2C78.556854439307&w=1200', 'publishedAt': '2025-09-15T15:54:52Z', 'content': '<ul><li></li><li></li><li></li></ul>\\r\\nYou wont need a streaming dongle to use Roku TV on Aurzens new $170 all-in-one projector.\\r\\nYou wont need a streaming dongle to use Roku TV on Aurzens new $170 al… [+3484 chars]'}, {'source': {'id': 'the-verge', 'name': 'The Verge'}, 'author': 'Brandon Russell', 'title': 'Amazon’s next Prime Day sale is happening on October 7th', 'description': 'Amazon has announced its fall Prime Big Deal Days event. It starts at 12:01AM PT / 3:01AM ET on Tuesday, October 7th, and runs through Wednesday, October 8th. Of course, we’ll bring you all the best deals on Verge-approved gadgets once they become available. …', 'url': 'https://www.theverge.com/news/774151/amazon-october-prime-day-fall-dates-2025', 'urlToImage': 'https://platform.theverge.com/wp-content/uploads/sites/2/chorus/uploads/chorus_asset/file/24980065/236765_Prime_Big_Deal_Days_LPham_2.jpg?quality=90&strip=all&crop=0%2C10.732984293194%2C100%2C78.534031413613&w=1200', 'publishedAt': '2025-09-16T04:28:23Z', 'content': '<ul><li></li><li></li><li></li></ul>\\r\\nThe event jumpstarts the holiday shopping season, giving Prime members two days to save on TVs, headphones, and more.\\r\\nThe event jumpstarts the holiday shopping … [+3435 chars]'}, {'source': {'id': 'the-verge', 'name': 'The Verge'}, 'author': 'Terrence O’Brien', 'title': 'Trump announces skilled worker visas will now cost $100,000', 'description': 'All the fawning by tech CEOs wasn’t enough to convince Donald Trump to back off his crusade against immigrants. Yesterday the president announced that the government would be adding a $100,000-a-year fee on all H-1B visas in an effort to discourage their use.…', 'url': 'https://www.theverge.com/news/782251/trump-h-1b-skilled-worker-visas-cost-100000', 'urlToImage': 'https://platform.theverge.com/wp-content/uploads/sites/2/2025/01/gettyimages-2194990747.jpg?quality=90&strip=all&crop=0%2C10.736864816537%2C100%2C78.526270366927&w=1200', 'publishedAt': '2025-09-20T17:20:52Z', 'content': '<ul><li></li><li></li><li></li></ul>\\r\\nThe H-1B program frequently used by Amazon, Google, and Microsoft is being targeted by the president.\\r\\nThe H-1B program frequently used by Amazon, Google, and Mi… [+3411 chars]'}, {'source': {'id': 'the-verge', 'name': 'The Verge'}, 'author': 'David Pierce', 'title': 'YouTube wants you to go live', 'description': 'YouTube is the most powerful platform in entertainment, and as such it has outsize influence on what kind of entertainment people make and watch. When YouTube adds a mid-video ad break, videos get longer to accommodate it. When YouTube tells podcasters to mak…', 'url': 'https://www.theverge.com/podcast/783282/youtube-livestream-ai-ads-vergecast', 'urlToImage': 'https://platform.theverge.com/wp-content/uploads/sites/2/2025/09/VRG_VST_0923_SITE.jpg?quality=90&strip=all&crop=0%2C10.732984293194%2C100%2C78.534031413613&w=1200', 'publishedAt': '2025-09-23T13:39:47Z', 'content': '<ul><li></li><li></li><li></li></ul>\\r\\nOn The Vergecast: YouTubes content strategy, a grand theory of phone calls, and how we talk about AI.\\r\\nOn The Vergecast: YouTubes content strategy, a grand theor… [+2862 chars]'}, {'source': {'id': 'the-verge', 'name': 'The Verge'}, 'author': 'Dominic Preston', 'title': 'Xiaomi’s retro handheld phone case is the best, and worst, way to game', 'description': 'Have you ever thought your favorite mobile games would be improved by awkward ergonomics, a dreadful D-pad, and a couple of camera lenses blocking a third of the screen? Then oh boy, does Xiaomi have the phone for you. Today it announced its flagship 17 serie…', 'url': 'https://www.theverge.com/news/785720/xiaomi-retro-handheld-phone-case-17-pro-gaming', 'urlToImage': 'https://platform.theverge.com/wp-content/uploads/sites/2/2025/09/xiaomi-17-pro-game-boy-case.jpg?quality=90&strip=all&crop=0,10.752375412061,100,78.495249175877', 'publishedAt': '2025-09-25T15:26:06Z', 'content': '<ul><li></li><li></li><li></li></ul>\\r\\nIdeal for any game that doesnt require you to actually see the whole screen.\\r\\nIdeal for any game that doesnt require you to actually see the whole screen.\\r\\nHave … [+3042 chars]'}, {'source': {'id': 'the-verge', 'name': 'The Verge'}, 'author': 'Andrew J. Hawkins', 'title': 'BMW’s iX3 is a ‘new class’ of EV that packs a lot of range and computing power', 'description': 'For years, BMW has been teasing its forthcoming next-generation “Neue Klasse” electric vehicle platform, complete with better batteries, better range, and an all-new “superbrain” with enhanced computing power. Today, the German automaker finally revealed the …', 'url': 'https://www.theverge.com/news/770351/bmw-ix3-neue-klasse-ev-range-specs-price', 'urlToImage': 'https://platform.theverge.com/wp-content/uploads/sites/2/2025/09/P90615617_highRes.jpg?quality=90&strip=all&crop=0%2C10.732984293194%2C100%2C78.534031413613&w=1200', 'publishedAt': '2025-09-04T22:05:43Z', 'content': '<ul><li></li><li></li><li></li></ul>\\r\\nBMWs iX3 is a new class of EV that packs a lot of range and computing power\\r\\nIts also BMWs fist EV to be built on its Neue Klasse platform with lightning-fast ch… [+7893 chars]'}, {'source': {'id': 'the-verge', 'name': 'The Verge'}, 'author': 'Cameron Faulkner', 'title': 'The Backbone Pro controller is $20 off for a limited time', 'description': 'If you’ve ever thought “it’d sure be nice to have just one controller to use between my phone, tablet, and TV,” then the Backbone Pro might be made for you. Backbone’s newest gamepad has the same phone-hugging design as its 2020 predecessor, but comes with a …', 'url': 'https://www.theverge.com/tech/768973/backbone-pro-bluetooth-gaming-controller-intel-battlefield-6-deal-sale', 'urlToImage': 'https://platform.theverge.com/wp-content/uploads/sites/2/2025/09/bbpmain.png?quality=90&strip=all&crop=0%2C10.732984293194%2C100%2C78.534031413613&w=1200', 'publishedAt': '2025-09-02T14:42:53Z', 'content': '<ul><li></li><li></li><li></li></ul>\\r\\nOther deals include Intels Arc B580 GPU that includes Battlefield 6, and half off an AllTrails Plus annual sub.\\r\\nOther deals include Intels Arc B580 GPU that inc… [+5162 chars]'}, {'source': {'id': 'the-verge', 'name': 'The Verge'}, 'author': 'Brandon Russell', 'title': 'Samsung’s ultra-thin Galaxy S25 Edge is $400 off right now', 'description': 'If you’ve ever wished your phone didn’t protrude so much while in your pocket, then the Samsung Galaxy S25 Edge might be made for you. Samsung’s ultra-slim Android phone features the same 6.7-inch OLED display as the Galaxy S25 Plus, but the device’s 5.8mm th…', 'url': 'https://www.theverge.com/tech/771869/samsung-galaxy-s25-edge-8bitdo-pro-3-controller-deal-sale', 'urlToImage': 'https://platform.theverge.com/wp-content/uploads/sites/2/2025/06/257789_Samsung_Galaxy_S25_Edge_review_AJohnson_0003.jpg?quality=90&strip=all&crop=0%2C10.723165084465%2C100%2C78.55366983107&w=1200', 'publishedAt': '2025-09-04T19:55:19Z', 'content': '<ul><li></li><li></li><li></li></ul>\\r\\nPlus, we found deals on 8BitDos new Pro 3 wireless controller and a Lego Mario &amp; Yoshi set.\\r\\nPlus, we found deals on 8BitDos new Pro 3 wireless controller an… [+3956 chars]'}, {'source': {'id': 'the-verge', 'name': 'The Verge'}, 'author': 'Brandon Russell', 'title': 'Sony’s InZone Buds are great for gaming, and right now they’re cheaper than ever', 'description': 'A quality pair of headphones can make a huge difference in your gaming experience, and Sony’s InZone Buds are among the best wireless gaming earbuds available. They’re currently $143.98 ($86 off) at GameStop, dropping them to a new all-time low price. The Ver…', 'url': 'https://www.theverge.com/tech/776630/sony-inzone-buds-samsung-music-frame-deal-sale', 'urlToImage': 'https://platform.theverge.com/wp-content/uploads/sites/2/2025/09/Sony-InZone-Buds-deal.png?quality=90&strip=all&crop=0%2C10.732984293194%2C100%2C78.534031413613&w=1200', 'publishedAt': '2025-09-11T20:08:31Z', 'content': '<ul><li></li><li></li><li></li></ul>\\r\\nWe also found deals on Samsungs Music Frame and the Teenage Mutant Ninja Turtles Trilogy in 4K.\\r\\nWe also found deals on Samsungs Music Frame and the Teenage Muta… [+4468 chars]'}, {'source': {'id': 'the-verge', 'name': 'The Verge'}, 'author': 'Cameron Faulkner', 'title': '8BitDo’s wireless N64-inspired controller is 30 percent off', 'description': 'Look, delays happen. The Analogue 3D, a console made to display N64 games in 4K, has had its release window pushed multiple times. That frustrated me for a while because I wanted to get my hands on 8BitDo’s slick 64 Bluetooth controller that was made to go al…', 'url': 'https://www.theverge.com/tech/779829/8bitdo-n64-wireless-controller-mission-impossible-rent-deal-sale', 'urlToImage': 'https://platform.theverge.com/wp-content/uploads/sites/2/2025/09/8bitdo64wireless.png?quality=90&strip=all&crop=0%2C10.732984293194%2C100%2C78.534031413613&w=1200', 'publishedAt': '2025-09-17T15:09:25Z', 'content': '<ul><li></li><li></li><li></li></ul>\\r\\nOther deals include a sweet 360-degree iPad stand under $10, and a cheaper way to watch the latest Mission: Impossible.\\r\\nOther deals include a sweet 360-degree i… [+4302 chars]'}, {'source': {'id': 'the-verge', 'name': 'The Verge'}, 'author': 'Dominic Preston', 'title': 'Xiaomi’s 15T and 15T Pro are impressive phones that are about to be outdated', 'description': \"Xiaomi just announced the 15T and 15T Pro, a pair of near-flagship phones that would be more exciting if they hadn't arrived less than 24 hours before the company is set to unveil its next set of flagships. Odd release schedule aside, the 15T handsets have a …\", 'url': 'https://www.theverge.com/tech/784514/xiaomi-15t-pro-release-price-specs-cameras', 'urlToImage': 'https://platform.theverge.com/wp-content/uploads/sites/2/2025/09/xiaomi-15t-pro-5.jpg?quality=90&strip=all&crop=0%2C10.741906587151%2C100%2C78.516186825698&w=1200', 'publishedAt': '2025-09-24T13:34:16Z', 'content': '<ul><li></li><li></li><li></li></ul>\\r\\nMeet Xiaomis new flagships, about to become Xiaomis old flagships.\\r\\nMeet Xiaomis new flagships, about to become Xiaomis old flagships.\\r\\nXiaomi just announced the… [+4713 chars]'}, {'source': {'id': 'the-verge', 'name': 'The Verge'}, 'author': 'Emma Roth', 'title': 'Disney sure picked a terrible time to raise prices', 'description': \"Disney is in a tangled web of its own making. In just one week, the entertainment giant managed to anger both sides of the political spectrum, and then topped it all off with a Disney Plus price hike that made just about everyone mad. Now, Disney's facing cri…\", 'url': 'https://www.theverge.com/report/784594/disney-jimmy-kimmel-backlash-price-hikes', 'urlToImage': 'https://platform.theverge.com/wp-content/uploads/sites/2/2025/04/STK157_Disney.jpeg?quality=90&strip=all&crop=0%2C10.732984293194%2C100%2C78.534031413613&w=1200', 'publishedAt': '2025-09-24T14:14:51Z', 'content': '<ul><li></li><li></li><li></li></ul>\\r\\nThe left and right are already frustrated with Disney and now its raising the price of its streaming service.\\r\\nThe left and right are already frustrated with Dis… [+5435 chars]'}, {'source': {'id': 'the-verge', 'name': 'The Verge'}, 'author': 'Emma Roth', 'title': 'AT&T’s AI call-screening tool uses your call history to filter out spam', 'description': 'AT&T is testing an AI-powered assistant designed to screen phone calls for you. The mobile carrier is bringing the feature to a select group of customers this year, and likens it to a “digital receptionist” that can identify and filter out robocallers based o…', 'url': 'https://www.theverge.com/news/778518/att-ai-call-screening-digital-receptionist', 'urlToImage': 'https://platform.theverge.com/wp-content/uploads/sites/2/2025/09/STK158_ATT_01.jpg?quality=90&strip=all&crop=0%2C10.732984293194%2C100%2C78.534031413613&w=1200', 'publishedAt': '2025-09-15T22:55:09Z', 'content': '<ul><li></li><li></li><li></li></ul>\\r\\nThe network-based assistant will automatically screen calls from unknown numbers.\\r\\nThe network-based assistant will automatically screen calls from unknown numbe… [+3562 chars]'}, {'source': {'id': 'the-verge', 'name': 'The Verge'}, 'author': 'Andrew Liszewski', 'title': 'The best stuff announced at IFA so far', 'description': 'The doors to IFA 2025 at Messe Berlin don’t officially open to the public until tomorrow, but several companies have already announced new gadgets, tech, features, and upgrades as Europe’s largest consumer tech show gets underway. There’s a lot of news to sta…', 'url': 'https://www.theverge.com/news/769573/ifa-2025-smart-home-lights-power-bank-robot-vacuum-ai-headphones', 'urlToImage': 'https://platform.theverge.com/wp-content/uploads/sites/2/2025/09/gettyimages-2231726775.jpg?quality=90&strip=all&crop=0%2C15.095986038394%2C100%2C69.808027923211&w=1200', 'publishedAt': '2025-09-04T15:49:44Z', 'content': '<ul><li></li><li></li><li></li></ul>\\r\\nA stair-climbing lift for robovacs, the return of wired earbuds, and wireless charging orbs.\\r\\nA stair-climbing lift for robovacs, the return of wired earbuds, an… [+7448 chars]'}, {'source': {'id': 'the-verge', 'name': 'The Verge'}, 'author': 'Jennifer Pattison Tuohy', 'title': 'First look: Dyson’s Spot+Scrub Ai robot seeks out stains', 'description': \"The Dyson Spot+Scrub Ai Robot is the company's first combination robot vacuum and mop. It debuted at Dyson's Berlin store during the IFA tech show this week and is a follow-up to the company's 360 VisNav robot vacuum, which launched in 2023. Featuring a new r…\", 'url': 'https://www.theverge.com/ifa-berlin/772423/dyson-spot-scrub-ai-robot-vacuum-mop-multifunction-dock-first-look', 'urlToImage': 'https://platform.theverge.com/wp-content/uploads/sites/2/2025/09/IMG_6285.jpeg?quality=90&strip=all&crop=0%2C3.4776831355865%2C100%2C93.044633728827&w=1200', 'publishedAt': '2025-09-06T06:30:47Z', 'content': '<ul><li></li><li></li><li></li></ul>\\r\\nDysons first robot vacuum and mop is big but not particularly bold.\\r\\nDysons first robot vacuum and mop is big but not particularly bold.\\r\\nThe Dyson Spot+Scrub Ai… [+7186 chars]'}, {'source': {'id': 'the-verge', 'name': 'The Verge'}, 'author': 'Brandon Russell', 'title': 'Here are 25 great deals you can snag ahead of Amazon’s fall Prime Day event', 'description': 'Amazon recently announced that its fall Prime Day sale — once again dubbed Prime Big Deal Days — will kick off on Tuesday, October 7th, and run through October 8th. While you have a few weeks to get your wishlist in order, the retailer isn’t waiting for the m…', 'url': 'https://www.theverge.com/tech/783008/amazon-october-prime-day-sale-best-early-deals-2025', 'urlToImage': 'https://platform.theverge.com/wp-content/uploads/sites/2/chorus/uploads/chorus_asset/file/25640459/DSC_0133.jpg?quality=90&strip=all&crop=0%2C10.732984293194%2C100%2C78.534031413613&w=1200', 'publishedAt': '2025-09-23T19:19:12Z', 'content': 'Google’s Pixel Buds Pro 2 are currently $50 off.\\r\\n\\n\\nAmazon recently announced that its fall Prime Day sale — once again dubbed Prime Big Deal Days — will kick off on Tuesday, October 7th, and run thr… [+11928 chars]'}, {'source': {'id': 'the-verge', 'name': 'The Verge'}, 'author': 'Tom Warren', 'title': 'Microsoft’s AI CEO on the future of the browser', 'description': 'The AI browser wars are heating up. Google has Gemini in Chrome, Perplexity is building its Comet AI browser, and The Browser Company just got acquired by Atlassian for $610 million. Now, Microsoft wants to be part of the AI browser conversation. I sat down w…', 'url': 'https://www.theverge.com/tech/783795/microsoft-ai-ceo-mustafa-suleyman-future-of-browser-interview-notepad', 'urlToImage': 'https://platform.theverge.com/wp-content/uploads/sites/2/2025/09/gettyimages-2207890426.jpg?quality=90&strip=all&crop=0%2C10.732984293194%2C100%2C78.534031413613&w=1200', 'publishedAt': '2025-09-23T18:37:04Z', 'content': '<ul><li></li><li></li><li></li></ul>\\r\\nMicrosoft isnt building a new AI browser, but it wants Copilot to browse the web for you.\\r\\nMicrosoft isnt building a new AI browser, but it wants Copilot to brow… [+11322 chars]'}, {'source': {'id': 'the-verge', 'name': 'The Verge'}, 'author': 'Ben Shimkus', 'title': 'When this EV maker collapsed, its customers became the car company', 'description': 'Cristian Fleming paid around $70,000 for his dream car, a Fisker Ocean. He was drawn to the new EV\\'s 350-mile range, eco-friendly image, and quirky features like \"California Modes,\" which rolls down nearly every window at once. \"I\\'ve always bought my cars bec…', 'url': 'https://www.theverge.com/transportation/785872/fisker-ocean-ownership-association-software-recall', 'urlToImage': 'https://platform.theverge.com/wp-content/uploads/sites/2/2025/09/257969_fiskers_ocean_CVirginia2.jpg?quality=90&strip=all&crop=0%2C10.732984293194%2C100%2C78.534031413613&w=1200', 'publishedAt': '2025-09-25T19:46:38Z', 'content': '<ul><li></li><li></li><li></li></ul>\\r\\nWhen this EV maker collapsed, its customers became the car company\\r\\nFisker Ocean owners are fighting to keep their EVs alive after the companys bankruptcy.\\r\\nby\\r\\n… [+6990 chars]'}, {'source': {'id': 'the-verge', 'name': 'The Verge'}, 'author': 'Lauren Feiner', 'title': 'Republicans pledge censorship crackdown to avenge Charlie Kirk’s death', 'description': \"In the wake of right-wing activist Charlie Kirk's fatal shooting, some political figures are threatening a crackdown on free speech - a cause Kirk claimed to fight for. Members of Congress, the State Department, and President Donald Trump have all attacked pe…\", 'url': 'https://www.theverge.com/policy/776840/charlie-kirk-death-social-media-jawboning', 'urlToImage': 'https://platform.theverge.com/wp-content/uploads/sites/2/2025/09/gettyimages-2234095376.jpg?quality=90&strip=all&crop=0%2C10.737892056687%2C100%2C78.524215886627&w=1200', 'publishedAt': '2025-09-11T22:15:39Z', 'content': '<ul><li></li><li></li><li></li></ul>\\r\\nOne lawmaker called for posters who belittled Kirks assassination to be banned for life.\\r\\nOne lawmaker called for posters who belittled Kirks assassination to be… [+7289 chars]'}, {'source': {'id': 'the-verge', 'name': 'The Verge'}, 'author': 'Sheena Vasani', 'title': 'The 20 best Labor Day deals you can grab for $100 or less', 'description': 'Labor Day weekend has finally arrived, and after a week of early discounts trickling in, the sales are now in full swing. From big-screen OLED TVs and outdoor gear to back-to-school essentials like the latest MacBook Air, we rounded up a guide of almost 100 d…', 'url': 'https://www.theverge.com/tech/767824/best-labor-day-sales-cheap-tech-deals-under-100-2025', 'urlToImage': 'https://platform.theverge.com/wp-content/uploads/sites/2/chorus/uploads/chorus_asset/file/25623451/DSCF0036.jpg?quality=90&strip=all&crop=0%2C10.732984293194%2C100%2C78.534031413613&w=1200', 'publishedAt': '2025-08-30T14:37:17Z', 'content': 'Labor Day weekend has finally arrived, and after a week of early discounts trickling in, the sales are now in full swing. From big-screen OLED TVs and outdoor gear to back-to-school essentials like t… [+8976 chars]'}, {'source': {'id': 'the-verge', 'name': 'The Verge'}, 'author': 'Cameron Faulkner', 'title': 'Upgrade your everyday carry setup with these 22 picks', 'description': 'What we carry says a lot about what’s important to us, who we are, and who we aspire to be. This fall, it’s worth examining what you bring with you every day and thinking about how you could refine it. Perhaps you carry too much, and a utility pouch that’s ju…', 'url': 'https://www.theverge.com/tech/771373/everyday-carry-edc-gift-guide', 'urlToImage': 'https://platform.theverge.com/wp-content/uploads/sites/2/2025/09/257904_fall_upgrade_week_EDC_CVirginia.jpg?quality=90&strip=all&crop=0%2C10.732984293194%2C100%2C78.534031413613&w=1200', 'publishedAt': '2025-09-16T22:01:31Z', 'content': 'What we carry says a lot about what’s important to us, who we are, and who we aspire to be. This fall, it’s worth examining what you bring with you every day and thinking about how you could refine i… [+7907 chars]'}, {'source': {'id': 'the-verge', 'name': 'The Verge'}, 'author': 'Victoria Song', 'title': 'I’ve got a bone to pick with ‘getting credit’ from your fitness tracker', 'description': \"This is Optimizer, a weekly newsletter sent every Friday from Verge senior reviewer Victoria Song that dissects and discusses the latest phones, smartwatches, apps, and other gizmos that swear they're going to change your life. Optimizer arrives in our subscr…\", 'url': 'https://www.theverge.com/column/786346/optimizer-wearables-fitness-tracking-health-anxiety-paranoia', 'urlToImage': 'https://platform.theverge.com/wp-content/uploads/sites/2/2025/09/257944_Applewatch_SE_AKrales_0006.jpg?quality=90&strip=all&crop=0%2C10.732984293194%2C100%2C78.534031413613&w=1200', 'publishedAt': '2025-09-26T13:31:14Z', 'content': '<ul><li></li><li></li><li></li></ul>\\r\\nIve got a bone to pick with getting credit from your fitness tracker\\r\\nIts a very thin line between helpful monitoring and health paranoia.\\r\\nby\\r\\nVictoria SongClos… [+8788 chars]'}, {'source': {'id': None, 'name': 'Gizmodo.com'}, 'author': 'Matt Novak', 'title': 'Apple Planning AI-Powered Web Search for Siri Next Year: Report', 'description': \"Apple is considering a custom-built version of Google's Gemini.\", 'url': 'https://gizmodo.com/apple-planning-ai-powered-web-search-for-siri-next-year-report-2000653179', 'urlToImage': 'https://gizmodo.com/app/uploads/2025/09/tim-cook-june-16-2025-1200x675.jpg', 'publishedAt': '2025-09-03T22:25:11Z', 'content': 'Apple is planning to launch a new AI-powered web search tool for Siri next year, according to a new report from Bloomberg, as it seeks to compete with competitors who’ve invested heavily in AI. Detai… [+2284 chars]'}, {'source': {'id': None, 'name': 'Gizmodo.com'}, 'author': 'James Pero', 'title': 'This Electric Shaver Is Made From Aircraft-Grade Aluminium, Because Why Not?', 'description': \"If Apple made an electric razor, it'd probably look exactly like the Laifen T1 Pro.\", 'url': 'https://gizmodo.com/this-electric-shaver-is-made-from-aircraft-grade-aluminium-because-why-not-2000653713', 'urlToImage': 'https://gizmodo.com/app/uploads/2025/09/t1prolaifen-1200x675.jpg', 'publishedAt': '2025-09-04T18:04:35Z', 'content': 'Nothing says “premium” like aerospace-grade aluminum alloy, am I right? I guess. I don’t know, it sounds fancy and it\\xa0looks\\xa0fancy, too, which makes Laifen’s new electric shaver, the T1 Pro, the swank… [+2053 chars]'}, {'source': {'id': None, 'name': 'Gizmodo.com'}, 'author': 'Raymond Wong', 'title': 'Apple Watch Ultra 3 Review: Biggest Is Best, Except If It’s Not', 'description': 'The Apple Watch Ultra 3 has the most features of any Apple smartwatch, but you may not need to buy it if you want two of its best features.', 'url': 'https://gizmodo.com/apple-watch-ultra-3-review-biggest-is-best-except-if-its-not-2000663354', 'urlToImage': 'https://gizmodo.com/app/uploads/2025/09/apple-watch-ultra-3-review-10-1200x675.jpg', 'publishedAt': '2025-09-24T23:00:56Z', 'content': 'This past April marked the 10-year anniversary of the Apple Watch. Those early aluminum, stainless steel, andyes18k gold models launched without a clear idea of what they were for. Apple wanted its s… [+13704 chars]'}]}\n"
     ]
    }
   ],
   "source": [
    "import requests\n",
    "url = ('https://newsapi.org/v2/everything?'\n",
    "       'q=Apple&'\n",
    "       'sortBy=popularity&'\n",
    "       #'from=2025-09-30&'\n",
    "       f'apiKey={news_api}')\n",
    "response = requests.get(url)\n",
    "print (response.json())"
   ]
  },
  {
   "cell_type": "code",
   "execution_count": 28,
   "id": "c404604c-5041-49fc-b104-ef8133ec2098",
   "metadata": {},
   "outputs": [],
   "source": []
  },
  {
   "cell_type": "code",
   "execution_count": null,
   "id": "a4adbd2f-7088-426b-a2e9-de74f7ff46b7",
   "metadata": {},
   "outputs": [],
   "source": [
    "resp_dic"
   ]
  },
  {
   "cell_type": "code",
   "execution_count": null,
   "id": "915b141c-dc9b-4601-b378-eb49219c9b15",
   "metadata": {},
   "outputs": [],
   "source": []
  },
  {
   "cell_type": "code",
   "execution_count": 32,
   "id": "cff6fa09-91a2-44e3-bf1e-eba845fcb5de",
   "metadata": {},
   "outputs": [],
   "source": [
    "news_descript = []\n",
    "for i, art in enumerate(resp_dic['articles']):\n",
    "    if i < 3:\n",
    "        news_descript.append(art['description'])"
   ]
  },
  {
   "cell_type": "code",
   "execution_count": 33,
   "id": "ca6caad2-ff7f-445e-8ec9-fb946d02f9e1",
   "metadata": {},
   "outputs": [
    {
     "data": {
      "text/plain": [
       "[\"The US president has talked up prospects of an agreement, but Netanyahu said it was not finalised - and Hamas say they haven't been sent the proposal.\",\n",
       " 'Two vets say numbers of Soay sheep need to be reduced to prevent animals from starving in winter.',\n",
       " '\"Emma has so little experience of real life she\\'s ignorant of how ignorant she is,\" Rowling writes.']"
      ]
     },
     "execution_count": 33,
     "metadata": {},
     "output_type": "execute_result"
    }
   ],
   "source": [
    "news_descript"
   ]
  },
  {
   "cell_type": "code",
   "execution_count": 36,
   "id": "556f9aed-271c-4747-bab1-1b97560a4923",
   "metadata": {},
   "outputs": [],
   "source": [
    "from datetime import datetime"
   ]
  },
  {
   "cell_type": "code",
   "execution_count": 40,
   "id": "2057028b-0751-4487-86d5-fa4f7d523f14",
   "metadata": {},
   "outputs": [
    {
     "data": {
      "text/plain": [
       "'2025-09-30'"
      ]
     },
     "execution_count": 40,
     "metadata": {},
     "output_type": "execute_result"
    }
   ],
   "source": [
    "datetime.now().strftime('%Y-%m-%d')"
   ]
  },
  {
   "cell_type": "code",
   "execution_count": null,
   "id": "2cda9624-5e2c-43bd-ab65-657006e420f4",
   "metadata": {},
   "outputs": [],
   "source": []
  },
  {
   "cell_type": "code",
   "execution_count": 59,
   "id": "60b5adb5-b90b-4bf7-bb9b-eced6d604929",
   "metadata": {},
   "outputs": [],
   "source": [
    "def get_company_news(company_name:str):\n",
    "    #today_date: str = datetime.now().strftime('%Y-%m-%d')\n",
    "    \n",
    "    url = ('https://newsapi.org/v2/everything?'\n",
    "           f'q={company_name}&'\n",
    "           #f'from={today_date}&'\n",
    "           'sortBy=popularity&'\n",
    "           f'apiKey={news_api}')\n",
    "    response = requests.get(url)\n",
    "    resp_dic = response.json()\n",
    "\n",
    "    n_articles = 5\n",
    "    news_descript = []\n",
    "    for i, art in enumerate(resp_dic['articles']):\n",
    "        if i < n_articles:\n",
    "            news_descript.append(art['description'])\n",
    "\n",
    "    return news_descript"
   ]
  },
  {
   "cell_type": "code",
   "execution_count": 60,
   "id": "546e1e04-6db2-4c31-9b30-a8066c6cef3e",
   "metadata": {},
   "outputs": [
    {
     "data": {
      "text/plain": [
       "[\"Join us for live coverage of the launch of the iPhone 17, iPhone Air, and Apple Watch Series 11. We'll be reporting from Apple headquarters in Cupertino, California.\",\n",
       " 'If you need to upgrade this year, the iPhone 17 comes close to perfection.',\n",
       " \"Apple's flagship earbuds are revised and better than ever, especially if you crave silence.\",\n",
       " 'After quietly moving the Magic Keyboard, Magic Mouse, and Magic Trackpad over to USB-C last year, a solitary decade-old Apple product is somehow still holding on.',\n",
       " \"We ran some early benchmarks on reference units to see how Qualcomm's new Snapdragon X2 Elite chip stacks up to the competition.\"]"
      ]
     },
     "execution_count": 60,
     "metadata": {},
     "output_type": "execute_result"
    }
   ],
   "source": [
    "get_company_news('Apple')"
   ]
  },
  {
   "cell_type": "code",
   "execution_count": 61,
   "id": "53ce590d-ba0b-4b7c-805a-b0cedbad63ce",
   "metadata": {},
   "outputs": [],
   "source": [
    "news_tool = Tool(\n",
    "    name=\"GetNews\",\n",
    "    func=get_company_news,\n",
    "    description=\"Retrieve general news about a company today\"\n",
    ")"
   ]
  },
  {
   "cell_type": "code",
   "execution_count": 62,
   "id": "29f0451f-0272-4e2c-bada-a8321cceaa53",
   "metadata": {},
   "outputs": [],
   "source": [
    "#dir(fred)"
   ]
  },
  {
   "cell_type": "code",
   "execution_count": 63,
   "id": "51907b72-9465-4c5c-9c44-95226b0dcf5d",
   "metadata": {},
   "outputs": [],
   "source": [
    "from langchain.prompts import ChatPromptTemplate, MessagesPlaceholder\n",
    "\n",
    "REACT_TOOL_PROMPT = ChatPromptTemplate.from_messages([\n",
    "    (\"system\", \"\"\"You are an expert analyst and researcher. Using ONLY the tools provided, follow these steps carefully:\n",
    "1. Perform any pre-processing or data gathering needed.\n",
    "2. Use the appropriate tool(s) to answer or analyze the user's request.\n",
    "3. Chain tools or aggregate intermediate results if needed.\n",
    "4. Summarize your findings in a concise and useful way.\n",
    "\n",
    "Reminder: Do NOT make up information—use only direct tool outputs.\n",
    "\"\"\"),\n",
    "    MessagesPlaceholder(\"messages\"),  # \n",
    "    MessagesPlaceholder(\"agent_scratchpad\", optional=True),\n",
    "])"
   ]
  },
  {
   "cell_type": "code",
   "execution_count": 64,
   "id": "fdb66e03-db7b-46a5-b7c8-f5734641e22b",
   "metadata": {},
   "outputs": [],
   "source": [
    "\n",
    "# Tool execution agent\n",
    "\n",
    "\n",
    "tools = [search_tool, yahoo_tool, python_tool, gdp_tool, news_tool]  # Pass tools above to pecialist list here\n",
    "\n",
    "# Create tool\n",
    "\n",
    "tools_executor = create_react_agent(\n",
    "    model=anthropic_model,\n",
    "    tools=tools,\n",
    "    prompt=REACT_TOOL_PROMPT\n",
    ")"
   ]
  },
  {
   "cell_type": "code",
   "execution_count": 66,
   "id": "dd8df8a2-81f8-4a95-8e47-34a6cf1df1e0",
   "metadata": {
    "scrolled": true
   },
   "outputs": [],
   "source": [
    "content = tools_executor.invoke({\n",
    "    \"messages\": [\n",
    "        {\"role\": \"user\", \"content\": \"Has news about Apple been good?\"}\n",
    "    ]\n",
    "})"
   ]
  },
  {
   "cell_type": "code",
   "execution_count": 67,
   "id": "c33a4c27-7950-4a46-aeb3-3cacbc3e2bea",
   "metadata": {
    "scrolled": true
   },
   "outputs": [
    {
     "data": {
      "text/plain": [
       "{'messages': [HumanMessage(content='Has news about Apple been good?', additional_kwargs={}, response_metadata={}, id='a4f654e9-6949-4d1b-b7e0-4228b1254552'),\n",
       "  AIMessage(content=[{'text': \"I'll help you analyze recent news about Apple to determine if it's been generally positive, negative, or mixed. Let me gather the latest information.\", 'type': 'text'}, {'id': 'toolu_017ZnnRj4ft3ZWtkYVee57Tg', 'input': {'__arg1': 'Apple'}, 'name': 'GetNews', 'type': 'tool_use'}], additional_kwargs={}, response_metadata={'id': 'msg_011XwyDmr1pYTaRumZonJzFD', 'model': 'claude-3-7-sonnet-20250219', 'stop_reason': 'tool_use', 'stop_sequence': None, 'usage': {'cache_creation': {'ephemeral_1h_input_tokens': 0, 'ephemeral_5m_input_tokens': 0}, 'cache_creation_input_tokens': 0, 'cache_read_input_tokens': 0, 'input_tokens': 765, 'output_tokens': 85, 'server_tool_use': None, 'service_tier': 'standard'}, 'model_name': 'claude-3-7-sonnet-20250219'}, id='run--f5da4567-ff69-4471-82c4-82c606af31e8-0', tool_calls=[{'name': 'GetNews', 'args': {'__arg1': 'Apple'}, 'id': 'toolu_017ZnnRj4ft3ZWtkYVee57Tg', 'type': 'tool_call'}], usage_metadata={'input_tokens': 765, 'output_tokens': 85, 'total_tokens': 850, 'input_token_details': {'cache_read': 0, 'cache_creation': 0, 'ephemeral_5m_input_tokens': 0, 'ephemeral_1h_input_tokens': 0}}),\n",
       "  ToolMessage(content='[\"Join us for live coverage of the launch of the iPhone 17, iPhone Air, and Apple Watch Series 11. We\\'ll be reporting from Apple headquarters in Cupertino, California.\", \"If you need to upgrade this year, the iPhone 17 comes close to perfection.\", \"Apple\\'s flagship earbuds are revised and better than ever, especially if you crave silence.\", \"After quietly moving the Magic Keyboard, Magic Mouse, and Magic Trackpad over to USB-C last year, a solitary decade-old Apple product is somehow still holding on.\", \"We ran some early benchmarks on reference units to see how Qualcomm\\'s new Snapdragon X2 Elite chip stacks up to the competition.\"]', name='GetNews', id='a6576684-dd5b-4430-9787-3dc0fc0de6bd', tool_call_id='toolu_017ZnnRj4ft3ZWtkYVee57Tg'),\n",
       "  AIMessage(content=[{'text': \"Let me also check Apple's recent stock performance to get a more complete picture:\", 'type': 'text'}, {'id': 'toolu_014rm6YKLob9yAFb4jJm1Toy', 'input': {'__arg1': 'AAPL'}, 'name': 'YahooFinance', 'type': 'tool_use'}], additional_kwargs={}, response_metadata={'id': 'msg_01S1pXL3RNBKXt6dcX2seoKX', 'model': 'claude-3-7-sonnet-20250219', 'stop_reason': 'tool_use', 'stop_sequence': None, 'usage': {'cache_creation': {'ephemeral_1h_input_tokens': 0, 'ephemeral_5m_input_tokens': 0}, 'cache_creation_input_tokens': 0, 'cache_read_input_tokens': 0, 'input_tokens': 1017, 'output_tokens': 78, 'server_tool_use': None, 'service_tier': 'standard'}, 'model_name': 'claude-3-7-sonnet-20250219'}, id='run--42a2cf71-e12e-46dd-a857-91b5c1f7766d-0', tool_calls=[{'name': 'YahooFinance', 'args': {'__arg1': 'AAPL'}, 'id': 'toolu_014rm6YKLob9yAFb4jJm1Toy', 'type': 'tool_call'}], usage_metadata={'input_tokens': 1017, 'output_tokens': 78, 'total_tokens': 1095, 'input_token_details': {'cache_read': 0, 'cache_creation': 0, 'ephemeral_5m_input_tokens': 0, 'ephemeral_1h_input_tokens': 0}}),\n",
       "  ToolMessage(content='AAPL price is 254.93', name='YahooFinance', id='201fe7b5-3dde-4bf3-9ec6-55795494beb0', tool_call_id='toolu_014rm6YKLob9yAFb4jJm1Toy'),\n",
       "  AIMessage(content=[{'text': \"Let me search for some broader context about Apple's recent performance:\", 'type': 'text'}, {'id': 'toolu_01UhcfpxQYuRJAJZ5AibmkQj', 'input': {'__arg1': 'Apple recent performance news 2023 2024'}, 'name': 'WebSearch', 'type': 'tool_use'}], additional_kwargs={}, response_metadata={'id': 'msg_01AcaxoS51DgzST8rPD5VGbW', 'model': 'claude-3-7-sonnet-20250219', 'stop_reason': 'tool_use', 'stop_sequence': None, 'usage': {'cache_creation': {'ephemeral_1h_input_tokens': 0, 'ephemeral_5m_input_tokens': 0}, 'cache_creation_input_tokens': 0, 'cache_read_input_tokens': 0, 'input_tokens': 1116, 'output_tokens': 78, 'server_tool_use': None, 'service_tier': 'standard'}, 'model_name': 'claude-3-7-sonnet-20250219'}, id='run--04ab1fe4-8f19-451f-a396-90ada2455e07-0', tool_calls=[{'name': 'WebSearch', 'args': {'__arg1': 'Apple recent performance news 2023 2024'}, 'id': 'toolu_01UhcfpxQYuRJAJZ5AibmkQj', 'type': 'tool_call'}], usage_metadata={'input_tokens': 1116, 'output_tokens': 78, 'total_tokens': 1194, 'input_token_details': {'cache_read': 0, 'cache_creation': 0, 'ephemeral_5m_input_tokens': 0, 'ephemeral_1h_input_tokens': 0}}),\n",
       "  ToolMessage(content=\"Oct 31, 2024 — Apple today announced financial results for its fiscal 2024 fourth quarter ended September 28, 2024 . The Company posted quarterly revenue of $94.9 billion, up ... Dec 29, 2023 · Apple 's stock rallied in 2023 , but its performance was outshined by all of its mega-cap tech peers, as the company suffered four straight quarters of declining revenue. Nov 4, 2024 · Apple Meets Expectations Revenue was in line with analyst estimates. Earnings per share (EPS) was also in line with analyst expectations. May 15, 2025 · Apple Inc.' s financial performance for March 2024 shows mixed results, with declining revenue and operational cash flow but strong profitability and market confidence. Sep 19, 2024 · Apple has maintained its position as a leader in the IT sector due to its focus on consumer satisfaction, research, and environmental responsibility. With around 161,000 full-time employees worldwide, Apple continues to push boundaries in design, technology, and sustainability.\", name='WebSearch', id='8802b647-e2c3-4dc3-996b-6c155dd8f5cd', tool_call_id='toolu_01UhcfpxQYuRJAJZ5AibmkQj'),\n",
       "  AIMessage(content='Based on the information gathered, here\\'s an analysis of recent Apple news:\\n\\n## Recent Apple News Analysis\\n\\n**Product Launches and Updates:**\\n- Apple has recently launched or is launching new products including the iPhone 17, iPhone Air, and Apple Watch Series 11\\n- Reviews appear positive, with mentions that the \"iPhone 17 comes close to perfection\" and that Apple\\'s earbuds are \"revised and better than ever\"\\n- Apple continues its transition to USB-C, though apparently one older product still uses the previous connector\\n\\n**Financial Performance:**\\n- Current stock price is $254.93\\n- In its fiscal 2024 fourth quarter (ended September 28, 2024), Apple posted quarterly revenue of $94.9 billion\\n- Apple met analyst expectations for both revenue and earnings per share in a recent reporting period\\n- Earlier data shows mixed results with \"declining revenue and operational cash flow but strong profitability and market confidence\"\\n- In 2023, Apple\\'s stock rallied but was outperformed by other mega-cap tech companies, with four straight quarters of declining revenue\\n\\n**Corporate Strengths:**\\n- Apple maintains its leadership in the IT sector\\n- The company employs around 161,000 full-time employees globally\\n- Strengths cited include consumer satisfaction, research, and environmental responsibility\\n\\n**Summary:**\\nThe news about Apple appears mixed to moderately positive. Product reviews and launches seem favorable, with new devices receiving positive initial reception. Financial performance shows some challenges with revenue growth in recent history, but the company continues to meet expectations and maintain market confidence. The company appears to be in a stable position with continuing innovation in its product lineup.', additional_kwargs={}, response_metadata={'id': 'msg_017wC1K6e4nynsSHcgGUYZug', 'model': 'claude-3-7-sonnet-20250219', 'stop_reason': 'end_turn', 'stop_sequence': None, 'usage': {'cache_creation': {'ephemeral_1h_input_tokens': 0, 'ephemeral_5m_input_tokens': 0}, 'cache_creation_input_tokens': 0, 'cache_read_input_tokens': 0, 'input_tokens': 1441, 'output_tokens': 358, 'server_tool_use': None, 'service_tier': 'standard'}, 'model_name': 'claude-3-7-sonnet-20250219'}, id='run--0a3c6684-30f1-4d7b-808f-656cce8bde0b-0', usage_metadata={'input_tokens': 1441, 'output_tokens': 358, 'total_tokens': 1799, 'input_token_details': {'cache_read': 0, 'cache_creation': 0, 'ephemeral_5m_input_tokens': 0, 'ephemeral_1h_input_tokens': 0}})]}"
      ]
     },
     "execution_count": 67,
     "metadata": {},
     "output_type": "execute_result"
    }
   ],
   "source": [
    "content"
   ]
  },
  {
   "cell_type": "code",
   "execution_count": null,
   "id": "07788c55-d1c2-492c-a4ba-277c55920228",
   "metadata": {},
   "outputs": [],
   "source": []
  }
 ],
 "metadata": {
  "kernelspec": {
   "display_name": "Python 3 (ipykernel)",
   "language": "python",
   "name": "python3"
  },
  "language_info": {
   "codemirror_mode": {
    "name": "ipython",
    "version": 3
   },
   "file_extension": ".py",
   "mimetype": "text/x-python",
   "name": "python",
   "nbconvert_exporter": "python",
   "pygments_lexer": "ipython3",
   "version": "3.10.18"
  }
 },
 "nbformat": 4,
 "nbformat_minor": 5
}
