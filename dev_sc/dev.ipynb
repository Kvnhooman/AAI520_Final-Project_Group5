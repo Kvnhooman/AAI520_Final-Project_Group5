{
 "cells": [
  {
   "cell_type": "code",
   "execution_count": 1,
   "id": "327558ed-59bb-43fe-809f-6f8abd10d90e",
   "metadata": {},
   "outputs": [],
   "source": [
    "from langgraph.prebuilt import create_react_agent"
   ]
  },
  {
   "cell_type": "code",
   "execution_count": 33,
   "id": "c560c672-2543-430e-9f40-cf7696069d0c",
   "metadata": {},
   "outputs": [],
   "source": [
    "import os\n",
    "import pandas as pd"
   ]
  },
  {
   "cell_type": "code",
   "execution_count": 3,
   "id": "16ca9e20-14a3-4e01-8193-b4de2ca62a62",
   "metadata": {},
   "outputs": [],
   "source": [
    "anthropic_model=\"anthropic:claude-3-7-sonnet-latest\""
   ]
  },
  {
   "cell_type": "code",
   "execution_count": 4,
   "id": "63a9a6cf-6948-4a31-97c8-a3c8117b10d0",
   "metadata": {},
   "outputs": [],
   "source": [
    "def get_weather(city: str) -> str:\n",
    "    \"\"\"Get weather for a given city.\"\"\"\n",
    "    return f\"It's always sunny in {city}!\""
   ]
  },
  {
   "cell_type": "code",
   "execution_count": 5,
   "id": "ac7574c1-eb65-4802-9b17-3b0b3a09295a",
   "metadata": {},
   "outputs": [],
   "source": [
    "agent = create_react_agent(\n",
    "    model=\"anthropic:claude-3-7-sonnet-latest\",\n",
    "    tools=[get_weather],\n",
    "    prompt=\"You are a helpful assistant\"\n",
    ")"
   ]
  },
  {
   "cell_type": "code",
   "execution_count": 6,
   "id": "e91a8eec-c2a2-4ca3-962c-99f470fab875",
   "metadata": {},
   "outputs": [
    {
     "data": {
      "text/plain": [
       "{'messages': [HumanMessage(content='what is the weather in sf', additional_kwargs={}, response_metadata={}, id='cdcf7bef-3e28-4a66-9158-def39c3ae39a'),\n",
       "  AIMessage(content=[{'text': \"I'd be happy to check the weather in San Francisco for you. Let me do that now.\", 'type': 'text'}, {'id': 'toolu_01Vu3z2c35qJPKnNZWVwP6TH', 'input': {'city': 'San Francisco'}, 'name': 'get_weather', 'type': 'tool_use'}], additional_kwargs={}, response_metadata={'id': 'msg_01NU8T811eYQH7xPXPDaHFUG', 'model': 'claude-3-7-sonnet-20250219', 'stop_reason': 'tool_use', 'stop_sequence': None, 'usage': {'cache_creation': {'ephemeral_1h_input_tokens': 0, 'ephemeral_5m_input_tokens': 0}, 'cache_creation_input_tokens': 0, 'cache_read_input_tokens': 0, 'input_tokens': 386, 'output_tokens': 75, 'server_tool_use': None, 'service_tier': 'standard'}, 'model_name': 'claude-3-7-sonnet-20250219'}, id='run--906261a2-1af5-486d-8dd9-c516845dfcb0-0', tool_calls=[{'name': 'get_weather', 'args': {'city': 'San Francisco'}, 'id': 'toolu_01Vu3z2c35qJPKnNZWVwP6TH', 'type': 'tool_call'}], usage_metadata={'input_tokens': 386, 'output_tokens': 75, 'total_tokens': 461, 'input_token_details': {'cache_read': 0, 'cache_creation': 0, 'ephemeral_5m_input_tokens': 0, 'ephemeral_1h_input_tokens': 0}}),\n",
       "  ToolMessage(content=\"It's always sunny in San Francisco!\", name='get_weather', id='d4d5c468-3868-4552-89bc-c9f3552b1b9d', tool_call_id='toolu_01Vu3z2c35qJPKnNZWVwP6TH'),\n",
       "  AIMessage(content=\"According to the current information, it's always sunny in San Francisco! This is a bit of a simplistic response, as San Francisco actually has quite variable weather with fog being common, especially in the summer months. But for today, it appears to be sunny.\", additional_kwargs={}, response_metadata={'id': 'msg_01FotbC5NeaeN93MRorxsU3F', 'model': 'claude-3-7-sonnet-20250219', 'stop_reason': 'end_turn', 'stop_sequence': None, 'usage': {'cache_creation': {'ephemeral_1h_input_tokens': 0, 'ephemeral_5m_input_tokens': 0}, 'cache_creation_input_tokens': 0, 'cache_read_input_tokens': 0, 'input_tokens': 479, 'output_tokens': 57, 'server_tool_use': None, 'service_tier': 'standard'}, 'model_name': 'claude-3-7-sonnet-20250219'}, id='run--f834a78c-99c8-4d97-97cf-2bd55804e5d1-0', usage_metadata={'input_tokens': 479, 'output_tokens': 57, 'total_tokens': 536, 'input_token_details': {'cache_read': 0, 'cache_creation': 0, 'ephemeral_5m_input_tokens': 0, 'ephemeral_1h_input_tokens': 0}})]}"
      ]
     },
     "execution_count": 6,
     "metadata": {},
     "output_type": "execute_result"
    }
   ],
   "source": [
    "# Run the agent\n",
    "agent.invoke(\n",
    "    {\"messages\": [{\"role\": \"user\", \"content\": \"what is the weather in sf\"}]}\n",
    ")"
   ]
  },
  {
   "cell_type": "markdown",
   "id": "42db2336-5fad-4908-856d-24e605f2a5ff",
   "metadata": {},
   "source": [
    "### Tool Agent"
   ]
  },
  {
   "cell_type": "code",
   "execution_count": 7,
   "id": "7006cc82-7b41-48a0-af82-eecd2ea51d6e",
   "metadata": {},
   "outputs": [],
   "source": [
    "from langchain_community.tools import DuckDuckGoSearchRun\n",
    "import yfinance as yf\n",
    "from langchain.agents import AgentExecutor, initialize_agent, Tool, AgentType"
   ]
  },
  {
   "cell_type": "markdown",
   "id": "229032b6-4ec7-40fb-a310-ca5a8ca02df0",
   "metadata": {},
   "source": [
    "#### tools"
   ]
  },
  {
   "cell_type": "code",
   "execution_count": 8,
   "id": "126ca3be-3ad4-4b9d-be13-7ab714179b1a",
   "metadata": {},
   "outputs": [],
   "source": [
    "# Web search tool\n",
    "search = DuckDuckGoSearchRun()\n",
    "search_tool = Tool(\n",
    "    name=\"WebSearch\",\n",
    "    func=search.run,\n",
    "    description=\"Search the web and return relevant results\"\n",
    ")\n"
   ]
  },
  {
   "cell_type": "code",
   "execution_count": 9,
   "id": "ede24cf1-45f6-44ce-9019-f4f62d111286",
   "metadata": {},
   "outputs": [],
   "source": [
    "# Yahoo Finance tool\n",
    "\n",
    "def get_stock_price(ticker: str) -> str:\n",
    "    stock = yf.Ticker(ticker)\n",
    "    price = stock.info['regularMarketPrice']\n",
    "    return f\"{ticker} price is {price}\"\n",
    "\n",
    "yahoo_tool = Tool(\n",
    "    name=\"YahooFinance\",\n",
    "    func=get_stock_price,\n",
    "    description=\"Get the latest stock price for a given ticker symbol\"\n",
    ")"
   ]
  },
  {
   "cell_type": "code",
   "execution_count": 10,
   "id": "453ee7d4-dbc4-49d4-aa31-6fda4ae0e3f9",
   "metadata": {},
   "outputs": [
    {
     "data": {
      "text/plain": [
       "'ASML price is 946.94'"
      ]
     },
     "execution_count": 10,
     "metadata": {},
     "output_type": "execute_result"
    }
   ],
   "source": [
    "get_stock_price('ASML')"
   ]
  },
  {
   "cell_type": "code",
   "execution_count": 11,
   "id": "137fe9ca-70f6-4440-8f3b-5e90d6650ddb",
   "metadata": {},
   "outputs": [],
   "source": [
    "# OTHER APIs & TOOLS HERE IN THE FUTURE\n",
    "\n",
    "# ]Python REPL tool\n",
    "def python_eval(code: str) -> str:\n",
    "    try:\n",
    "        return str(eval(code))\n",
    "    except Exception as e:\n",
    "        return f\"Error: {e}\"\n",
    "\n",
    "python_tool = Tool(\n",
    "    name=\"PythonREPL\",\n",
    "    func=python_eval,\n",
    "    description=\"Run Python code and return the result\"\n",
    ")"
   ]
  },
  {
   "cell_type": "markdown",
   "id": "0503a6fb-21dd-49f7-bbf0-fd47087d9707",
   "metadata": {},
   "source": [
    "#### fred api (federal reserve data)"
   ]
  },
  {
   "cell_type": "code",
   "execution_count": 12,
   "id": "0619372a-5ddc-4291-9dfe-52b913fe6cca",
   "metadata": {},
   "outputs": [],
   "source": [
    "# api variable set in env FRED_API_KEY"
   ]
  },
  {
   "cell_type": "code",
   "execution_count": 51,
   "id": "ececcfa1-7fde-44ee-98ba-864f99e1c4cc",
   "metadata": {},
   "outputs": [],
   "source": [
    "from fredapi import Fred\n",
    "from datetime import datetime\n",
    "def get_gdp_data(start_date: str = \"2008-09-15\",\n",
    "                 end_date: str = datetime.now().strftime(\"%Y-%m-%d\")\n",
    "                ):\n",
    "    \"\"\"\n",
    "    Fetches USA GDP data from the FRED API.\n",
    "\n",
    "    Args:\n",
    "        start_date: The start date for the data in YYYY-MM-DD format.\n",
    "        end_date: The end date for the data in YYYY-MM-DD format.\n",
    "\n",
    "    Returns:\n",
    "        A string representation of the GDP data.\n",
    "    \"\"\"\n",
    "\n",
    "    fred_api = os.getenv(\"FRED_API_KEY\")\n",
    "    if not fred_api:\n",
    "        return \"FRED_API_KEY not found. Please se the FRED_API_KEY environment variable\"\n",
    "        \n",
    "    fred = Fred(fred_api)\n",
    "    try:\n",
    "        \n",
    "        gpd_series = fred.get_series('GDP', start_date, end_data)\n",
    "        gdp_df = pd.DataFrame({'date': gpd_series.index,\n",
    "                                'GDP': gpd_series}\n",
    "                            ).reset_index(drop=True)\n",
    "    \n",
    "        return gdp_df.to_string()\n",
    "\n",
    "\n",
    "    except Exception as e:\n",
    "        return f\"An error occurred: {e}\"\n",
    "    \n",
    "    "
   ]
  },
  {
   "cell_type": "code",
   "execution_count": 52,
   "id": "08bd2bbb-8551-4424-994b-7b031db484d5",
   "metadata": {},
   "outputs": [],
   "source": [
    "gdp_tool = Tool(\n",
    "    name=\"GetGDP\",\n",
    "    func=get_gdp_data,\n",
    "    description=\"Retrieve USA GDP data for a given date range\"\n",
    ")"
   ]
  },
  {
   "cell_type": "code",
   "execution_count": 43,
   "id": "728cd94f-ecf8-4961-827b-f1a4244ea9dd",
   "metadata": {},
   "outputs": [],
   "source": [
    "series = fred.get_series('GDP')"
   ]
  },
  {
   "cell_type": "code",
   "execution_count": 44,
   "id": "9748a242-b874-4914-8315-590923e23d7e",
   "metadata": {},
   "outputs": [
    {
     "data": {
      "text/plain": [
       "DatetimeIndex(['1946-01-01', '1946-04-01', '1946-07-01', '1946-10-01',\n",
       "               '1947-01-01', '1947-04-01', '1947-07-01', '1947-10-01',\n",
       "               '1948-01-01', '1948-04-01',\n",
       "               ...\n",
       "               '2023-01-01', '2023-04-01', '2023-07-01', '2023-10-01',\n",
       "               '2024-01-01', '2024-04-01', '2024-07-01', '2024-10-01',\n",
       "               '2025-01-01', '2025-04-01'],\n",
       "              dtype='datetime64[ns]', length=318, freq=None)"
      ]
     },
     "execution_count": 44,
     "metadata": {},
     "output_type": "execute_result"
    }
   ],
   "source": [
    "series.index"
   ]
  },
  {
   "cell_type": "code",
   "execution_count": 46,
   "id": "225456e9-eebb-4724-bd42-4ce280ec814e",
   "metadata": {},
   "outputs": [
    {
     "data": {
      "text/html": [
       "<div>\n",
       "<style scoped>\n",
       "    .dataframe tbody tr th:only-of-type {\n",
       "        vertical-align: middle;\n",
       "    }\n",
       "\n",
       "    .dataframe tbody tr th {\n",
       "        vertical-align: top;\n",
       "    }\n",
       "\n",
       "    .dataframe thead th {\n",
       "        text-align: right;\n",
       "    }\n",
       "</style>\n",
       "<table border=\"1\" class=\"dataframe\">\n",
       "  <thead>\n",
       "    <tr style=\"text-align: right;\">\n",
       "      <th></th>\n",
       "      <th>date</th>\n",
       "      <th>GDP</th>\n",
       "    </tr>\n",
       "  </thead>\n",
       "  <tbody>\n",
       "    <tr>\n",
       "      <th>0</th>\n",
       "      <td>1946-01-01</td>\n",
       "      <td>NaN</td>\n",
       "    </tr>\n",
       "    <tr>\n",
       "      <th>1</th>\n",
       "      <td>1946-04-01</td>\n",
       "      <td>NaN</td>\n",
       "    </tr>\n",
       "    <tr>\n",
       "      <th>2</th>\n",
       "      <td>1946-07-01</td>\n",
       "      <td>NaN</td>\n",
       "    </tr>\n",
       "    <tr>\n",
       "      <th>3</th>\n",
       "      <td>1946-10-01</td>\n",
       "      <td>NaN</td>\n",
       "    </tr>\n",
       "    <tr>\n",
       "      <th>4</th>\n",
       "      <td>1947-01-01</td>\n",
       "      <td>243.164</td>\n",
       "    </tr>\n",
       "    <tr>\n",
       "      <th>...</th>\n",
       "      <td>...</td>\n",
       "      <td>...</td>\n",
       "    </tr>\n",
       "    <tr>\n",
       "      <th>313</th>\n",
       "      <td>2024-04-01</td>\n",
       "      <td>29147.044</td>\n",
       "    </tr>\n",
       "    <tr>\n",
       "      <th>314</th>\n",
       "      <td>2024-07-01</td>\n",
       "      <td>29511.664</td>\n",
       "    </tr>\n",
       "    <tr>\n",
       "      <th>315</th>\n",
       "      <td>2024-10-01</td>\n",
       "      <td>29825.182</td>\n",
       "    </tr>\n",
       "    <tr>\n",
       "      <th>316</th>\n",
       "      <td>2025-01-01</td>\n",
       "      <td>30042.113</td>\n",
       "    </tr>\n",
       "    <tr>\n",
       "      <th>317</th>\n",
       "      <td>2025-04-01</td>\n",
       "      <td>30485.729</td>\n",
       "    </tr>\n",
       "  </tbody>\n",
       "</table>\n",
       "<p>318 rows × 2 columns</p>\n",
       "</div>"
      ],
      "text/plain": [
       "          date        GDP\n",
       "0   1946-01-01        NaN\n",
       "1   1946-04-01        NaN\n",
       "2   1946-07-01        NaN\n",
       "3   1946-10-01        NaN\n",
       "4   1947-01-01    243.164\n",
       "..         ...        ...\n",
       "313 2024-04-01  29147.044\n",
       "314 2024-07-01  29511.664\n",
       "315 2024-10-01  29825.182\n",
       "316 2025-01-01  30042.113\n",
       "317 2025-04-01  30485.729\n",
       "\n",
       "[318 rows x 2 columns]"
      ]
     },
     "execution_count": 46,
     "metadata": {},
     "output_type": "execute_result"
    }
   ],
   "source": [
    "pd.DataFrame({'date': series.index,\n",
    "                'GDP': series}\n",
    "            ).reset_index(drop=True)"
   ]
  },
  {
   "cell_type": "code",
   "execution_count": 36,
   "id": "7d9cda44-e3e5-44e0-9cde-25bfff45194a",
   "metadata": {},
   "outputs": [],
   "source": [
    "df = pd.DataFrame(fred.get_series('GDP'))\n",
    "df.index = pd.to_datetime(df.index).strftime(\"%Y-%m-%d\")"
   ]
  },
  {
   "cell_type": "code",
   "execution_count": 41,
   "id": "078b28e2-4b1d-4b11-9f55-e31bdb5c091c",
   "metadata": {},
   "outputs": [
    {
     "data": {
      "text/html": [
       "<div>\n",
       "<style scoped>\n",
       "    .dataframe tbody tr th:only-of-type {\n",
       "        vertical-align: middle;\n",
       "    }\n",
       "\n",
       "    .dataframe tbody tr th {\n",
       "        vertical-align: top;\n",
       "    }\n",
       "\n",
       "    .dataframe thead th {\n",
       "        text-align: right;\n",
       "    }\n",
       "</style>\n",
       "<table border=\"1\" class=\"dataframe\">\n",
       "  <thead>\n",
       "    <tr style=\"text-align: right;\">\n",
       "      <th></th>\n",
       "      <th>date</th>\n",
       "      <th>0</th>\n",
       "    </tr>\n",
       "  </thead>\n",
       "  <tbody>\n",
       "    <tr>\n",
       "      <th>0</th>\n",
       "      <td>1946-01-01</td>\n",
       "      <td>NaN</td>\n",
       "    </tr>\n",
       "    <tr>\n",
       "      <th>1</th>\n",
       "      <td>1946-04-01</td>\n",
       "      <td>NaN</td>\n",
       "    </tr>\n",
       "    <tr>\n",
       "      <th>2</th>\n",
       "      <td>1946-07-01</td>\n",
       "      <td>NaN</td>\n",
       "    </tr>\n",
       "    <tr>\n",
       "      <th>3</th>\n",
       "      <td>1946-10-01</td>\n",
       "      <td>NaN</td>\n",
       "    </tr>\n",
       "    <tr>\n",
       "      <th>4</th>\n",
       "      <td>1947-01-01</td>\n",
       "      <td>243.164</td>\n",
       "    </tr>\n",
       "    <tr>\n",
       "      <th>...</th>\n",
       "      <td>...</td>\n",
       "      <td>...</td>\n",
       "    </tr>\n",
       "    <tr>\n",
       "      <th>313</th>\n",
       "      <td>2024-04-01</td>\n",
       "      <td>29147.044</td>\n",
       "    </tr>\n",
       "    <tr>\n",
       "      <th>314</th>\n",
       "      <td>2024-07-01</td>\n",
       "      <td>29511.664</td>\n",
       "    </tr>\n",
       "    <tr>\n",
       "      <th>315</th>\n",
       "      <td>2024-10-01</td>\n",
       "      <td>29825.182</td>\n",
       "    </tr>\n",
       "    <tr>\n",
       "      <th>316</th>\n",
       "      <td>2025-01-01</td>\n",
       "      <td>30042.113</td>\n",
       "    </tr>\n",
       "    <tr>\n",
       "      <th>317</th>\n",
       "      <td>2025-04-01</td>\n",
       "      <td>30485.729</td>\n",
       "    </tr>\n",
       "  </tbody>\n",
       "</table>\n",
       "<p>318 rows × 2 columns</p>\n",
       "</div>"
      ],
      "text/plain": [
       "           date          0\n",
       "0    1946-01-01        NaN\n",
       "1    1946-04-01        NaN\n",
       "2    1946-07-01        NaN\n",
       "3    1946-10-01        NaN\n",
       "4    1947-01-01    243.164\n",
       "..          ...        ...\n",
       "313  2024-04-01  29147.044\n",
       "314  2024-07-01  29511.664\n",
       "315  2024-10-01  29825.182\n",
       "316  2025-01-01  30042.113\n",
       "317  2025-04-01  30485.729\n",
       "\n",
       "[318 rows x 2 columns]"
      ]
     },
     "execution_count": 41,
     "metadata": {},
     "output_type": "execute_result"
    }
   ],
   "source": [
    "df.reset_index(names='date')"
   ]
  },
  {
   "cell_type": "code",
   "execution_count": 28,
   "id": "b4f9bd04-e196-441b-be9f-88c47af2fb17",
   "metadata": {},
   "outputs": [
    {
     "data": {
      "text/plain": [
       "\"\\n        Get data for a Fred series id. This fetches the latest known data, and is equivalent to get_series_latest_release()\\n\\n        Parameters\\n        ----------\\n        series_id : str\\n            Fred series id such as 'CPIAUCSL'\\n        observation_start : datetime or datetime-like str such as '7/1/2014', optional\\n            earliest observation date\\n        observation_end : datetime or datetime-like str such as '7/1/2014', optional\\n            latest observation date\\n        kwargs : additional parameters\\n            Any additional parameters supported by FRED. You can see https://api.stlouisfed.org/docs/fred/series_observations.html for the full list\\n\\n        Returns\\n        -------\\n        data : Series\\n            a Series where each index is the observation date and the value is the data for the Fred series\\n        \""
      ]
     },
     "execution_count": 28,
     "metadata": {},
     "output_type": "execute_result"
    }
   ],
   "source": [
    "fred.get_series.__doc__"
   ]
  },
  {
   "cell_type": "code",
   "execution_count": 29,
   "id": "9e0e87f6-d35b-4141-81fc-1c133a702412",
   "metadata": {},
   "outputs": [
    {
     "data": {
      "text/plain": [
       "\"\\n        Get data for a Fred series id. This fetches the latest known data, and is equivalent to get_series()\\n\\n        Parameters\\n        ----------\\n        series_id : str\\n            Fred series id such as 'CPIAUCSL'\\n\\n        Returns\\n        -------\\n        info : Series\\n            a Series where each index is the observation date and the value is the data for the Fred series\\n        \""
      ]
     },
     "execution_count": 29,
     "metadata": {},
     "output_type": "execute_result"
    }
   ],
   "source": [
    "fred.get_series_latest_release.__doc__"
   ]
  },
  {
   "cell_type": "code",
   "execution_count": 17,
   "id": "29f0451f-0272-4e2c-bada-a8321cceaa53",
   "metadata": {},
   "outputs": [],
   "source": [
    "#dir(fred)"
   ]
  },
  {
   "cell_type": "code",
   "execution_count": 38,
   "id": "51907b72-9465-4c5c-9c44-95226b0dcf5d",
   "metadata": {},
   "outputs": [],
   "source": [
    "from langchain.prompts import ChatPromptTemplate, MessagesPlaceholder\n",
    "\n",
    "REACT_TOOL_PROMPT = ChatPromptTemplate.from_messages([\n",
    "    (\"system\", \"\"\"You are an expert analyst and researcher. Using ONLY the tools provided, follow these steps carefully:\n",
    "1. Perform any pre-processing or data gathering needed.\n",
    "2. Use the appropriate tool(s) to answer or analyze the user's request.\n",
    "3. Chain tools or aggregate intermediate results if needed.\n",
    "4. Summarize your findings in a concise and useful way.\n",
    "\n",
    "Reminder: Do NOT make up information—use only direct tool outputs.\n",
    "\"\"\"),\n",
    "    MessagesPlaceholder(\"messages\"),  # \n",
    "    MessagesPlaceholder(\"agent_scratchpad\", optional=True),\n",
    "])"
   ]
  },
  {
   "cell_type": "code",
   "execution_count": 39,
   "id": "fdb66e03-db7b-46a5-b7c8-f5734641e22b",
   "metadata": {},
   "outputs": [],
   "source": [
    "\n",
    "# Tool execution agent\n",
    "\n",
    "\n",
    "tools = [search_tool, yahoo_tool, python_tool, gdp_tool]  # Pass tools above to pecialist list here\n",
    "\n",
    "# Create tool\n",
    "\n",
    "tools_executor = create_react_agent(\n",
    "    model=anthropic_model,\n",
    "    tools=tools,\n",
    "    prompt=REACT_TOOL_PROMPT\n",
    ")"
   ]
  },
  {
   "cell_type": "code",
   "execution_count": 41,
   "id": "dd8df8a2-81f8-4a95-8e47-34a6cf1df1e0",
   "metadata": {},
   "outputs": [
    {
     "data": {
      "text/plain": [
       "{'messages': [HumanMessage(content='what is the price of ASML', additional_kwargs={}, response_metadata={}, id='d492f4f3-c960-46e2-93da-1632f56550c3'),\n",
       "  AIMessage(content=[{'text': \"I'll check the current stock price of ASML for you using the YahooFinance tool.\", 'type': 'text'}, {'id': 'toolu_01YbfJVPrPsiMbFdKTovWdfW', 'input': {'__arg1': 'ASML'}, 'name': 'YahooFinance', 'type': 'tool_use'}], additional_kwargs={}, response_metadata={'id': 'msg_01PEnPUjxX6kpDWJXtcWzWm4', 'model': 'claude-3-7-sonnet-20250219', 'stop_reason': 'tool_use', 'stop_sequence': None, 'usage': {'cache_creation': {'ephemeral_1h_input_tokens': 0, 'ephemeral_5m_input_tokens': 0}, 'cache_creation_input_tokens': 0, 'cache_read_input_tokens': 0, 'input_tokens': 631, 'output_tokens': 82, 'server_tool_use': None, 'service_tier': 'standard'}, 'model_name': 'claude-3-7-sonnet-20250219'}, id='run--827f7a97-425a-4d9f-8309-e7c723bbfd97-0', tool_calls=[{'name': 'YahooFinance', 'args': {'__arg1': 'ASML'}, 'id': 'toolu_01YbfJVPrPsiMbFdKTovWdfW', 'type': 'tool_call'}], usage_metadata={'input_tokens': 631, 'output_tokens': 82, 'total_tokens': 713, 'input_token_details': {'cache_read': 0, 'cache_creation': 0, 'ephemeral_5m_input_tokens': 0, 'ephemeral_1h_input_tokens': 0}}),\n",
       "  ToolMessage(content='ASML price is 955.305', name='YahooFinance', id='c028b890-eba0-410c-a856-4ca55963fdb7', tool_call_id='toolu_01YbfJVPrPsiMbFdKTovWdfW'),\n",
       "  AIMessage(content='The current price of ASML Holding N.V. (ASML) is $955.31 per share.\\n\\nWould you like me to provide any additional information about ASML, such as recent performance or company details?', additional_kwargs={}, response_metadata={'id': 'msg_01EXP5dNopw1ESLiyLGFpCXJ', 'model': 'claude-3-7-sonnet-20250219', 'stop_reason': 'end_turn', 'stop_sequence': None, 'usage': {'cache_creation': {'ephemeral_1h_input_tokens': 0, 'ephemeral_5m_input_tokens': 0}, 'cache_creation_input_tokens': 0, 'cache_read_input_tokens': 0, 'input_tokens': 733, 'output_tokens': 54, 'server_tool_use': None, 'service_tier': 'standard'}, 'model_name': 'claude-3-7-sonnet-20250219'}, id='run--63cba3c1-7ffc-4dcf-90ec-bb8c7c0a45dc-0', usage_metadata={'input_tokens': 733, 'output_tokens': 54, 'total_tokens': 787, 'input_token_details': {'cache_read': 0, 'cache_creation': 0, 'ephemeral_5m_input_tokens': 0, 'ephemeral_1h_input_tokens': 0}})]}"
      ]
     },
     "execution_count": 41,
     "metadata": {},
     "output_type": "execute_result"
    }
   ],
   "source": [
    "tools_executor.invoke({\n",
    "    \"messages\": [\n",
    "        {\"role\": \"user\", \"content\": \"what is the price of ASML\"}\n",
    "    ]\n",
    "})"
   ]
  },
  {
   "cell_type": "code",
   "execution_count": null,
   "id": "c33a4c27-7950-4a46-aeb3-3cacbc3e2bea",
   "metadata": {},
   "outputs": [],
   "source": []
  }
 ],
 "metadata": {
  "kernelspec": {
   "display_name": "Python 3 (ipykernel)",
   "language": "python",
   "name": "python3"
  },
  "language_info": {
   "codemirror_mode": {
    "name": "ipython",
    "version": 3
   },
   "file_extension": ".py",
   "mimetype": "text/x-python",
   "name": "python",
   "nbconvert_exporter": "python",
   "pygments_lexer": "ipython3",
   "version": "3.10.18"
  }
 },
 "nbformat": 4,
 "nbformat_minor": 5
}
