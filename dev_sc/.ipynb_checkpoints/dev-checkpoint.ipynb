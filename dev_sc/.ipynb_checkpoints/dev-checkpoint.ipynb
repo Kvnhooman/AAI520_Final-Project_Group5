{
 "cells": [
  {
   "cell_type": "code",
   "execution_count": 20,
   "id": "327558ed-59bb-43fe-809f-6f8abd10d90e",
   "metadata": {},
   "outputs": [],
   "source": [
    "from langgraph.prebuilt import create_react_agent"
   ]
  },
  {
   "cell_type": "code",
   "execution_count": 42,
   "id": "c560c672-2543-430e-9f40-cf7696069d0c",
   "metadata": {},
   "outputs": [],
   "source": [
    "import os\n",
    "#print(os.getenv(\"ANTHROPIC_API_KEY\"))"
   ]
  },
  {
   "cell_type": "code",
   "execution_count": 18,
   "id": "16ca9e20-14a3-4e01-8193-b4de2ca62a62",
   "metadata": {},
   "outputs": [],
   "source": [
    "anthropic_model=\"anthropic:claude-3-7-sonnet-latest\""
   ]
  },
  {
   "cell_type": "code",
   "execution_count": 3,
   "id": "63a9a6cf-6948-4a31-97c8-a3c8117b10d0",
   "metadata": {},
   "outputs": [],
   "source": [
    "def get_weather(city: str) -> str:\n",
    "    \"\"\"Get weather for a given city.\"\"\"\n",
    "    return f\"It's always sunny in {city}!\""
   ]
  },
  {
   "cell_type": "code",
   "execution_count": 4,
   "id": "ac7574c1-eb65-4802-9b17-3b0b3a09295a",
   "metadata": {},
   "outputs": [],
   "source": [
    "agent = create_react_agent(\n",
    "    model=\"anthropic:claude-3-7-sonnet-latest\",\n",
    "    tools=[get_weather],\n",
    "    prompt=\"You are a helpful assistant\"\n",
    ")"
   ]
  },
  {
   "cell_type": "code",
   "execution_count": 6,
   "id": "e91a8eec-c2a2-4ca3-962c-99f470fab875",
   "metadata": {},
   "outputs": [
    {
     "data": {
      "text/plain": [
       "{'messages': [HumanMessage(content='what is the weather in sf', additional_kwargs={}, response_metadata={}, id='9e8f0aa8-8877-4ad3-aac1-9a509c39cc26'),\n",
       "  AIMessage(content=[{'text': \"I'll get the weather information for San Francisco for you. Let me check that for you right away.\", 'type': 'text'}, {'id': 'toolu_01HqPL6qwSaDZ5PXBFc9Gh74', 'input': {'city': 'San Francisco'}, 'name': 'get_weather', 'type': 'tool_use'}], additional_kwargs={}, response_metadata={'id': 'msg_017r3xf57TCcAEmcbTLfUKvk', 'model': 'claude-3-7-sonnet-20250219', 'stop_reason': 'tool_use', 'stop_sequence': None, 'usage': {'cache_creation': {'ephemeral_1h_input_tokens': 0, 'ephemeral_5m_input_tokens': 0}, 'cache_creation_input_tokens': 0, 'cache_read_input_tokens': 0, 'input_tokens': 386, 'output_tokens': 76, 'server_tool_use': None, 'service_tier': 'standard'}, 'model_name': 'claude-3-7-sonnet-20250219'}, id='run--2336d562-c9e3-40cc-a2c1-d22f4ee12c7c-0', tool_calls=[{'name': 'get_weather', 'args': {'city': 'San Francisco'}, 'id': 'toolu_01HqPL6qwSaDZ5PXBFc9Gh74', 'type': 'tool_call'}], usage_metadata={'input_tokens': 386, 'output_tokens': 76, 'total_tokens': 462, 'input_token_details': {'cache_read': 0, 'cache_creation': 0, 'ephemeral_5m_input_tokens': 0, 'ephemeral_1h_input_tokens': 0}}),\n",
       "  ToolMessage(content=\"It's always sunny in San Francisco!\", name='get_weather', id='387e8899-9721-4272-8dc7-53684ad246d2', tool_call_id='toolu_01HqPL6qwSaDZ5PXBFc9Gh74'),\n",
       "  AIMessage(content='The current weather in San Francisco is sunny! According to the data, \"It\\'s always sunny in San Francisco!\"', additional_kwargs={}, response_metadata={'id': 'msg_015T7PBdhLnwowxNSbJ6J8Ti', 'model': 'claude-3-7-sonnet-20250219', 'stop_reason': 'end_turn', 'stop_sequence': None, 'usage': {'cache_creation': {'ephemeral_1h_input_tokens': 0, 'ephemeral_5m_input_tokens': 0}, 'cache_creation_input_tokens': 0, 'cache_read_input_tokens': 0, 'input_tokens': 480, 'output_tokens': 27, 'server_tool_use': None, 'service_tier': 'standard'}, 'model_name': 'claude-3-7-sonnet-20250219'}, id='run--e90f8287-ae0a-4ab7-9964-471aba467b09-0', usage_metadata={'input_tokens': 480, 'output_tokens': 27, 'total_tokens': 507, 'input_token_details': {'cache_read': 0, 'cache_creation': 0, 'ephemeral_5m_input_tokens': 0, 'ephemeral_1h_input_tokens': 0}})]}"
      ]
     },
     "execution_count": 6,
     "metadata": {},
     "output_type": "execute_result"
    }
   ],
   "source": [
    "# Run the agent\n",
    "agent.invoke(\n",
    "    {\"messages\": [{\"role\": \"user\", \"content\": \"what is the weather in sf\"}]}\n",
    ")"
   ]
  },
  {
   "cell_type": "markdown",
   "id": "42db2336-5fad-4908-856d-24e605f2a5ff",
   "metadata": {},
   "source": [
    "### Tool Agent"
   ]
  },
  {
   "cell_type": "code",
   "execution_count": 12,
   "id": "7006cc82-7b41-48a0-af82-eecd2ea51d6e",
   "metadata": {},
   "outputs": [],
   "source": [
    "from langchain_community.tools import DuckDuckGoSearchRun\n",
    "import yfinance as yf\n",
    "from langchain.agents import AgentExecutor, initialize_agent, Tool, AgentType"
   ]
  },
  {
   "cell_type": "code",
   "execution_count": 27,
   "id": "126ca3be-3ad4-4b9d-be13-7ab714179b1a",
   "metadata": {},
   "outputs": [],
   "source": [
    "# Web search tool\n",
    "search = DuckDuckGoSearchRun()\n",
    "search_tool = Tool(\n",
    "    name=\"WebSearch\",\n",
    "    func=search.run,\n",
    "    description=\"Search the web and return relevant results\"\n",
    ")\n"
   ]
  },
  {
   "cell_type": "code",
   "execution_count": 28,
   "id": "ede24cf1-45f6-44ce-9019-f4f62d111286",
   "metadata": {},
   "outputs": [],
   "source": [
    "# Yahoo Finance tool\n",
    "\n",
    "def get_stock_price(ticker: str) -> str:\n",
    "    stock = yf.Ticker(ticker)\n",
    "    price = stock.info['regularMarketPrice']\n",
    "    return f\"{ticker} price is {price}\"\n",
    "\n",
    "yahoo_tool = Tool(\n",
    "    name=\"YahooFinance\",\n",
    "    func=get_stock_price,\n",
    "    description=\"Get the latest stock price for a given ticker symbol\"\n",
    ")"
   ]
  },
  {
   "cell_type": "code",
   "execution_count": 16,
   "id": "453ee7d4-dbc4-49d4-aa31-6fda4ae0e3f9",
   "metadata": {},
   "outputs": [
    {
     "data": {
      "text/plain": [
       "'ASML price is 953.87'"
      ]
     },
     "execution_count": 16,
     "metadata": {},
     "output_type": "execute_result"
    }
   ],
   "source": [
    "get_stock_price('ASML')"
   ]
  },
  {
   "cell_type": "code",
   "execution_count": 29,
   "id": "137fe9ca-70f6-4440-8f3b-5e90d6650ddb",
   "metadata": {},
   "outputs": [],
   "source": [
    "# OTHER APIs & TOOLS HERE IN THE FUTURE\n",
    "\n",
    "# ]Python REPL tool\n",
    "def python_eval(code: str) -> str:\n",
    "    try:\n",
    "        return str(eval(code))\n",
    "    except Exception as e:\n",
    "        return f\"Error: {e}\"\n",
    "\n",
    "python_tool = Tool(\n",
    "    name=\"PythonREPL\",\n",
    "    func=python_eval,\n",
    "    description=\"Run Python code and return the result\"\n",
    ")"
   ]
  },
  {
   "cell_type": "code",
   "execution_count": 38,
   "id": "51907b72-9465-4c5c-9c44-95226b0dcf5d",
   "metadata": {},
   "outputs": [],
   "source": [
    "from langchain.prompts import ChatPromptTemplate, MessagesPlaceholder\n",
    "\n",
    "REACT_TOOL_PROMPT = ChatPromptTemplate.from_messages([\n",
    "    (\"system\", \"\"\"You are an expert analyst and researcher. Using ONLY the tools provided, follow these steps carefully:\n",
    "1. Perform any pre-processing or data gathering needed.\n",
    "2. Use the appropriate tool(s) to answer or analyze the user's request.\n",
    "3. Chain tools or aggregate intermediate results if needed.\n",
    "4. Summarize your findings in a concise and useful way.\n",
    "\n",
    "Reminder: Do NOT make up information—use only direct tool outputs.\n",
    "\"\"\"),\n",
    "    MessagesPlaceholder(\"messages\"),  # \n",
    "    MessagesPlaceholder(\"agent_scratchpad\", optional=True),\n",
    "])"
   ]
  },
  {
   "cell_type": "code",
   "execution_count": 39,
   "id": "fdb66e03-db7b-46a5-b7c8-f5734641e22b",
   "metadata": {},
   "outputs": [],
   "source": [
    "\n",
    "# Tool execution agent\n",
    "\n",
    "# REACT_TOOL_PROMPT = \"\"\"\n",
    "# You are an expert analyst and researcher. Using ONLY the tools provided, thoughtfully follow these steps:\n",
    "\n",
    "# 1. Perform any pre-processing or data gathering needed.\n",
    "# 2. Use the appropriate tool(s) to answer or analyze the user's request.\n",
    "# 3. (If analysis requires multiple steps) Chain tools or aggregate intermediate results.\n",
    "# 4. Summarize your findings in a concise and useful way for the end user.\n",
    "\n",
    "# At each stage, state your Thought, Action, Action Input, and Observation as needed.\n",
    "\n",
    "# Reminder: Do NOT make up information—use only direct tool outputs.\n",
    "\n",
    "# Final Answer: A succinct, well-organized summary of findings appropriate for the user.\n",
    "# Question: {input}\n",
    "# {agent_scratchpad}\n",
    "# \"\"\"\n",
    "\n",
    "tools = [search_tool, yahoo_tool, python_tool]  # Pass tools above to pecialist list here\n",
    "\n",
    "# Create tool\n",
    "\n",
    "tools_executor = create_react_agent(\n",
    "    model=anthropic_model,\n",
    "    tools=tools,\n",
    "    prompt=REACT_TOOL_PROMPT\n",
    ")"
   ]
  },
  {
   "cell_type": "code",
   "execution_count": 41,
   "id": "dd8df8a2-81f8-4a95-8e47-34a6cf1df1e0",
   "metadata": {},
   "outputs": [
    {
     "data": {
      "text/plain": [
       "{'messages': [HumanMessage(content='what is the price of ASML', additional_kwargs={}, response_metadata={}, id='d492f4f3-c960-46e2-93da-1632f56550c3'),\n",
       "  AIMessage(content=[{'text': \"I'll check the current stock price of ASML for you using the YahooFinance tool.\", 'type': 'text'}, {'id': 'toolu_01YbfJVPrPsiMbFdKTovWdfW', 'input': {'__arg1': 'ASML'}, 'name': 'YahooFinance', 'type': 'tool_use'}], additional_kwargs={}, response_metadata={'id': 'msg_01PEnPUjxX6kpDWJXtcWzWm4', 'model': 'claude-3-7-sonnet-20250219', 'stop_reason': 'tool_use', 'stop_sequence': None, 'usage': {'cache_creation': {'ephemeral_1h_input_tokens': 0, 'ephemeral_5m_input_tokens': 0}, 'cache_creation_input_tokens': 0, 'cache_read_input_tokens': 0, 'input_tokens': 631, 'output_tokens': 82, 'server_tool_use': None, 'service_tier': 'standard'}, 'model_name': 'claude-3-7-sonnet-20250219'}, id='run--827f7a97-425a-4d9f-8309-e7c723bbfd97-0', tool_calls=[{'name': 'YahooFinance', 'args': {'__arg1': 'ASML'}, 'id': 'toolu_01YbfJVPrPsiMbFdKTovWdfW', 'type': 'tool_call'}], usage_metadata={'input_tokens': 631, 'output_tokens': 82, 'total_tokens': 713, 'input_token_details': {'cache_read': 0, 'cache_creation': 0, 'ephemeral_5m_input_tokens': 0, 'ephemeral_1h_input_tokens': 0}}),\n",
       "  ToolMessage(content='ASML price is 955.305', name='YahooFinance', id='c028b890-eba0-410c-a856-4ca55963fdb7', tool_call_id='toolu_01YbfJVPrPsiMbFdKTovWdfW'),\n",
       "  AIMessage(content='The current price of ASML Holding N.V. (ASML) is $955.31 per share.\\n\\nWould you like me to provide any additional information about ASML, such as recent performance or company details?', additional_kwargs={}, response_metadata={'id': 'msg_01EXP5dNopw1ESLiyLGFpCXJ', 'model': 'claude-3-7-sonnet-20250219', 'stop_reason': 'end_turn', 'stop_sequence': None, 'usage': {'cache_creation': {'ephemeral_1h_input_tokens': 0, 'ephemeral_5m_input_tokens': 0}, 'cache_creation_input_tokens': 0, 'cache_read_input_tokens': 0, 'input_tokens': 733, 'output_tokens': 54, 'server_tool_use': None, 'service_tier': 'standard'}, 'model_name': 'claude-3-7-sonnet-20250219'}, id='run--63cba3c1-7ffc-4dcf-90ec-bb8c7c0a45dc-0', usage_metadata={'input_tokens': 733, 'output_tokens': 54, 'total_tokens': 787, 'input_token_details': {'cache_read': 0, 'cache_creation': 0, 'ephemeral_5m_input_tokens': 0, 'ephemeral_1h_input_tokens': 0}})]}"
      ]
     },
     "execution_count": 41,
     "metadata": {},
     "output_type": "execute_result"
    }
   ],
   "source": [
    "tools_executor.invoke({\n",
    "    \"messages\": [\n",
    "        {\"role\": \"user\", \"content\": \"what is the price of ASML\"}\n",
    "    ]\n",
    "})"
   ]
  },
  {
   "cell_type": "code",
   "execution_count": null,
   "id": "c33a4c27-7950-4a46-aeb3-3cacbc3e2bea",
   "metadata": {},
   "outputs": [],
   "source": []
  }
 ],
 "metadata": {
  "kernelspec": {
   "display_name": "Python 3 (ipykernel)",
   "language": "python",
   "name": "python3"
  },
  "language_info": {
   "codemirror_mode": {
    "name": "ipython",
    "version": 3
   },
   "file_extension": ".py",
   "mimetype": "text/x-python",
   "name": "python",
   "nbconvert_exporter": "python",
   "pygments_lexer": "ipython3",
   "version": "3.10.18"
  }
 },
 "nbformat": 4,
 "nbformat_minor": 5
}
