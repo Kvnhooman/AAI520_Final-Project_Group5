{
  "nbformat": 4,
  "nbformat_minor": 0,
  "metadata": {
    "colab": {
      "provenance": []
    },
    "kernelspec": {
      "name": "python3",
      "display_name": "Python 3"
    },
    "language_info": {
      "name": "python"
    }
  },
  "cells": [
    {
      "cell_type": "markdown",
      "source": [
        "# .ipynb to PDF Converter\n",
        "\n",
        "Use this code to convert a CoLab .ipynb file into a PDF format."
      ],
      "metadata": {
        "id": "U15zrvD_plw-"
      }
    },
    {
      "cell_type": "code",
      "source": [
        "!apt-get install --quiet texlive texlive-xetex texlive-latex-extra pandoc\n",
        "!pip install --quiet pypandoc"
      ],
      "metadata": {
        "id": "D17nhXs7Nkfo",
        "collapsed": true
      },
      "execution_count": null,
      "outputs": []
    },
    {
      "cell_type": "code",
      "source": [
        "# Mount google drive to this runnig session\n",
        "from google.colab import drive\n",
        "drive.mount('/content/drive', force_remount=True) #force remount to overide if already mounted"
      ],
      "metadata": {
        "collapsed": true,
        "id": "50_j_Tpoeyyp"
      },
      "execution_count": null,
      "outputs": []
    },
    {
      "cell_type": "code",
      "source": [
        "#list contents of mounted drive to find file path if needed\n",
        "!ls \"/content/drive/My Drive/Colab Notebooks\""
      ],
      "metadata": {
        "collapsed": true,
        "id": "XRV69jqliKGp"
      },
      "execution_count": null,
      "outputs": []
    },
    {
      "cell_type": "code",
      "source": [
        "# Convert file directly to PDF format\n",
        "!jupyter nbconvert /content/drive/My\\ Drive/Colab\\ Notebooks/Fina_Resear_Financial_AI_Assistant.ipynb --to PDF\n"
      ],
      "metadata": {
        "id": "6eTtAlaogUzD"
      },
      "execution_count": null,
      "outputs": []
    }
  ]
}